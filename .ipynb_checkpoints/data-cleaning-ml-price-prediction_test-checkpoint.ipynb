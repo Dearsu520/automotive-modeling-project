{
 "cells": [
  {
   "cell_type": "markdown",
   "metadata": {
    "papermill": {
     "duration": 0.083918,
     "end_time": "2021-01-09T10:27:56.933869",
     "exception": false,
     "start_time": "2021-01-09T10:27:56.849951",
     "status": "completed"
    },
    "tags": []
   },
   "source": [
    "# Data Preparation"
   ]
  },
  {
   "cell_type": "markdown",
   "metadata": {
    "papermill": {
     "duration": 0.081853,
     "end_time": "2021-01-09T10:27:57.097077",
     "exception": false,
     "start_time": "2021-01-09T10:27:57.015224",
     "status": "completed"
    },
    "tags": []
   },
   "source": [
    "## Imports"
   ]
  },
  {
   "cell_type": "code",
   "execution_count": 46,
   "metadata": {
    "execution": {
     "iopub.execute_input": "2021-01-09T10:27:57.262825Z",
     "iopub.status.busy": "2021-01-09T10:27:57.261808Z",
     "iopub.status.idle": "2021-01-09T10:27:59.840079Z",
     "shell.execute_reply": "2021-01-09T10:27:59.840731Z"
    },
    "papermill": {
     "duration": 2.663111,
     "end_time": "2021-01-09T10:27:59.840915",
     "exception": false,
     "start_time": "2021-01-09T10:27:57.177804",
     "status": "completed"
    },
    "tags": []
   },
   "outputs": [
    {
     "ename": "ImportError",
     "evalue": "cannot import name 'mean_absolute_percentage_error' from 'sklearn.metrics' (C:\\Users\\ang24\\anaconda3\\lib\\site-packages\\sklearn\\metrics\\__init__.py)",
     "output_type": "error",
     "traceback": [
      "\u001b[1;31m---------------------------------------------------------------------------\u001b[0m",
      "\u001b[1;31mImportError\u001b[0m                               Traceback (most recent call last)",
      "\u001b[1;32m<ipython-input-46-50596eed8064>\u001b[0m in \u001b[0;36m<module>\u001b[1;34m\u001b[0m\n\u001b[0;32m     16\u001b[0m \u001b[1;32mfrom\u001b[0m \u001b[0msklearn\u001b[0m\u001b[1;33m.\u001b[0m\u001b[0mmetrics\u001b[0m \u001b[1;32mimport\u001b[0m \u001b[0mr2_score\u001b[0m\u001b[1;33m\u001b[0m\u001b[1;33m\u001b[0m\u001b[0m\n\u001b[0;32m     17\u001b[0m \u001b[1;32mfrom\u001b[0m \u001b[0msklearn\u001b[0m\u001b[1;33m.\u001b[0m\u001b[0mmetrics\u001b[0m \u001b[1;32mimport\u001b[0m \u001b[0mmean_absolute_error\u001b[0m\u001b[1;33m\u001b[0m\u001b[1;33m\u001b[0m\u001b[0m\n\u001b[1;32m---> 18\u001b[1;33m \u001b[1;32mfrom\u001b[0m \u001b[0msklearn\u001b[0m\u001b[1;33m.\u001b[0m\u001b[0mmetrics\u001b[0m \u001b[1;32mimport\u001b[0m \u001b[0mmean_absolute_percentage_error\u001b[0m\u001b[1;33m\u001b[0m\u001b[1;33m\u001b[0m\u001b[0m\n\u001b[0m\u001b[0;32m     19\u001b[0m \u001b[1;32mfrom\u001b[0m \u001b[0msklearn\u001b[0m\u001b[1;33m.\u001b[0m\u001b[0mmetrics\u001b[0m \u001b[1;32mimport\u001b[0m \u001b[0mmean_squared_error\u001b[0m\u001b[1;33m\u001b[0m\u001b[1;33m\u001b[0m\u001b[0m\n\u001b[0;32m     20\u001b[0m \u001b[1;32mfrom\u001b[0m \u001b[0msklearn\u001b[0m\u001b[1;33m.\u001b[0m\u001b[0mpreprocessing\u001b[0m \u001b[1;32mimport\u001b[0m \u001b[0mStandardScaler\u001b[0m\u001b[1;33m\u001b[0m\u001b[1;33m\u001b[0m\u001b[0m\n",
      "\u001b[1;31mImportError\u001b[0m: cannot import name 'mean_absolute_percentage_error' from 'sklearn.metrics' (C:\\Users\\ang24\\anaconda3\\lib\\site-packages\\sklearn\\metrics\\__init__.py)"
     ]
    }
   ],
   "source": [
    "import pandas as pd\n",
    "import numpy as np\n",
    "import matplotlib.pyplot as plt\n",
    "%matplotlib inline \n",
    "\n",
    "from shapely.geometry import Point\n",
    "import geopandas as gpd\n",
    "from geopandas import GeoDataFrame\n",
    "\n",
    "import sklearn\n",
    "from sklearn.linear_model import LinearRegression\n",
    "from sklearn.ensemble import RandomForestRegressor\n",
    "from sklearn.ensemble import GradientBoostingRegressor\n",
    "from sklearn.neural_network import MLPRegressor\n",
    "from sklearn.model_selection import train_test_split\n",
    "from sklearn.metrics import r2_score\n",
    "from sklearn.metrics import mean_absolute_error\n",
    "#from sklearn.metrics import mean_absolute_percentage_error\n",
    "from sklearn.metrics import mean_squared_error\n",
    "from sklearn.preprocessing import StandardScaler\n",
    "from sklearn.preprocessing import MinMaxScaler\n",
    "from sklearn.model_selection import cross_val_score\n",
    "from sklearn.cluster import KMeans"
   ]
  },
  {
   "cell_type": "code",
   "execution_count": 48,
   "metadata": {},
   "outputs": [],
   "source": [
    "def mean_absolute_percentage_error(y_true, y_pred,\n",
    "                                   sample_weight=None,\n",
    "                                   multioutput='uniform_average'):\n",
    "    \"\"\"Mean absolute percentage error regression loss.\n",
    "    Note here that we do not represent the output as a percentage in range\n",
    "    [0, 100]. Instead, we represent it in range [0, 1/eps]. Read more in the\n",
    "    :ref:`User Guide <mean_absolute_percentage_error>`.\n",
    "    .. versionadded:: 0.24\n",
    "    Parameters\n",
    "    ----------\n",
    "    y_true : array-like of shape (n_samples,) or (n_samples, n_outputs)\n",
    "        Ground truth (correct) target values.\n",
    "    y_pred : array-like of shape (n_samples,) or (n_samples, n_outputs)\n",
    "        Estimated target values.\n",
    "    sample_weight : array-like of shape (n_samples,), default=None\n",
    "        Sample weights.\n",
    "    multioutput : {'raw_values', 'uniform_average'} or array-like\n",
    "        Defines aggregating of multiple output values.\n",
    "        Array-like value defines weights used to average errors.\n",
    "        If input is list then the shape must be (n_outputs,).\n",
    "        'raw_values' :\n",
    "            Returns a full set of errors in case of multioutput input.\n",
    "        'uniform_average' :\n",
    "            Errors of all outputs are averaged with uniform weight.\n",
    "    Returns\n",
    "    -------\n",
    "    loss : float or ndarray of floats in the range [0, 1/eps]\n",
    "        If multioutput is 'raw_values', then mean absolute percentage error\n",
    "        is returned for each output separately.\n",
    "        If multioutput is 'uniform_average' or an ndarray of weights, then the\n",
    "        weighted average of all output errors is returned.\n",
    "        MAPE output is non-negative floating point. The best value is 0.0.\n",
    "        But note the fact that bad predictions can lead to arbitarily large\n",
    "        MAPE values, especially if some y_true values are very close to zero.\n",
    "        Note that we return a large value instead of `inf` when y_true is zero.\n",
    "    Examples\n",
    "    --------\n",
    "    >>> from sklearn.metrics import mean_absolute_percentage_error\n",
    "    >>> y_true = [3, -0.5, 2, 7]\n",
    "    >>> y_pred = [2.5, 0.0, 2, 8]\n",
    "    >>> mean_absolute_percentage_error(y_true, y_pred)\n",
    "    0.3273...\n",
    "    >>> y_true = [[0.5, 1], [-1, 1], [7, -6]]\n",
    "    >>> y_pred = [[0, 2], [-1, 2], [8, -5]]\n",
    "    >>> mean_absolute_percentage_error(y_true, y_pred)\n",
    "    0.5515...\n",
    "    >>> mean_absolute_percentage_error(y_true, y_pred, multioutput=[0.3, 0.7])\n",
    "    0.6198...\n",
    "    \"\"\"\n",
    "    y_type, y_true, y_pred, multioutput = _check_reg_targets(\n",
    "        y_true, y_pred, multioutput)\n",
    "    check_consistent_length(y_true, y_pred, sample_weight)\n",
    "    epsilon = np.finfo(np.float64).eps\n",
    "    mape = np.abs(y_pred - y_true) / np.maximum(np.abs(y_true), epsilon)\n",
    "    output_errors = np.average(mape,\n",
    "                               weights=sample_weight, axis=0)\n",
    "    if isinstance(multioutput, str):\n",
    "        if multioutput == 'raw_values':\n",
    "            return output_errors\n",
    "        elif multioutput == 'uniform_average':\n",
    "            # pass None as weights to np.average: uniform mean\n",
    "            multioutput = None\n",
    "\n",
    "    return np.average(output_errors, weights=multioutput)"
   ]
  },
  {
   "cell_type": "code",
   "execution_count": 3,
   "metadata": {
    "execution": {
     "iopub.execute_input": "2021-01-09T10:28:00.008882Z",
     "iopub.status.busy": "2021-01-09T10:28:00.008200Z",
     "iopub.status.idle": "2021-01-09T10:28:00.051697Z",
     "shell.execute_reply": "2021-01-09T10:28:00.052507Z"
    },
    "papermill": {
     "duration": 0.128617,
     "end_time": "2021-01-09T10:28:00.052678",
     "exception": false,
     "start_time": "2021-01-09T10:27:59.924061",
     "status": "completed"
    },
    "tags": []
   },
   "outputs": [],
   "source": [
    "df = pd.read_csv('Data/vehicles.csv')"
   ]
  },
  {
   "cell_type": "markdown",
   "metadata": {
    "papermill": {
     "duration": 0.091839,
     "end_time": "2021-01-09T10:28:00.257763",
     "exception": false,
     "start_time": "2021-01-09T10:28:00.165924",
     "status": "completed"
    },
    "tags": []
   },
   "source": [
    "## Data Exploration"
   ]
  },
  {
   "cell_type": "code",
   "execution_count": 3,
   "metadata": {
    "execution": {
     "iopub.execute_input": "2021-01-09T10:28:00.435562Z",
     "iopub.status.busy": "2021-01-09T10:28:00.434868Z",
     "iopub.status.idle": "2021-01-09T10:28:00.438911Z",
     "shell.execute_reply": "2021-01-09T10:28:00.439457Z"
    },
    "papermill": {
     "duration": 0.099999,
     "end_time": "2021-01-09T10:28:00.439618",
     "exception": false,
     "start_time": "2021-01-09T10:28:00.339619",
     "status": "completed"
    },
    "scrolled": true,
    "tags": []
   },
   "outputs": [
    {
     "ename": "NameError",
     "evalue": "name 'df' is not defined",
     "output_type": "error",
     "traceback": [
      "\u001b[0;31m---------------------------------------------------------------------------\u001b[0m",
      "\u001b[0;31mNameError\u001b[0m                                 Traceback (most recent call last)",
      "\u001b[0;32m<ipython-input-3-c42a15b2c7cf>\u001b[0m in \u001b[0;36m<module>\u001b[0;34m\u001b[0m\n\u001b[0;32m----> 1\u001b[0;31m \u001b[0mdf\u001b[0m\u001b[0;34m.\u001b[0m\u001b[0mhead\u001b[0m\u001b[0;34m(\u001b[0m\u001b[0;34m)\u001b[0m\u001b[0;34m\u001b[0m\u001b[0;34m\u001b[0m\u001b[0m\n\u001b[0m",
      "\u001b[0;31mNameError\u001b[0m: name 'df' is not defined"
     ]
    }
   ],
   "source": [
    "df.head()"
   ]
  },
  {
   "cell_type": "code",
   "execution_count": 4,
   "metadata": {
    "execution": {
     "iopub.execute_input": "2021-01-09T10:28:00.609904Z",
     "iopub.status.busy": "2021-01-09T10:28:00.609273Z",
     "iopub.status.idle": "2021-01-09T10:28:00.623817Z",
     "shell.execute_reply": "2021-01-09T10:28:00.624306Z"
    },
    "papermill": {
     "duration": 0.101306,
     "end_time": "2021-01-09T10:28:00.624451",
     "exception": false,
     "start_time": "2021-01-09T10:28:00.523145",
     "status": "completed"
    },
    "scrolled": false,
    "tags": []
   },
   "outputs": [
    {
     "ename": "NameError",
     "evalue": "name 'df' is not defined",
     "output_type": "error",
     "traceback": [
      "\u001b[0;31m---------------------------------------------------------------------------\u001b[0m",
      "\u001b[0;31mNameError\u001b[0m                                 Traceback (most recent call last)",
      "\u001b[0;32m<ipython-input-4-b666bf274d0a>\u001b[0m in \u001b[0;36m<module>\u001b[0;34m\u001b[0m\n\u001b[0;32m----> 1\u001b[0;31m \u001b[0mdf\u001b[0m\u001b[0;34m.\u001b[0m\u001b[0mcolumns\u001b[0m\u001b[0;34m\u001b[0m\u001b[0;34m\u001b[0m\u001b[0m\n\u001b[0m",
      "\u001b[0;31mNameError\u001b[0m: name 'df' is not defined"
     ]
    }
   ],
   "source": [
    "df.columns"
   ]
  },
  {
   "cell_type": "code",
   "execution_count": 5,
   "metadata": {
    "execution": {
     "iopub.execute_input": "2021-01-09T10:28:00.818251Z",
     "iopub.status.busy": "2021-01-09T10:28:00.817171Z",
     "iopub.status.idle": "2021-01-09T10:28:00.821129Z",
     "shell.execute_reply": "2021-01-09T10:28:00.821627Z"
    },
    "papermill": {
     "duration": 0.114193,
     "end_time": "2021-01-09T10:28:00.821776",
     "exception": false,
     "start_time": "2021-01-09T10:28:00.707583",
     "status": "completed"
    },
    "tags": []
   },
   "outputs": [
    {
     "ename": "NameError",
     "evalue": "name 'df' is not defined",
     "output_type": "error",
     "traceback": [
      "\u001b[0;31m---------------------------------------------------------------------------\u001b[0m",
      "\u001b[0;31mNameError\u001b[0m                                 Traceback (most recent call last)",
      "\u001b[0;32m<ipython-input-5-633337079cd0>\u001b[0m in \u001b[0;36m<module>\u001b[0;34m\u001b[0m\n\u001b[0;32m----> 1\u001b[0;31m \u001b[0mdf\u001b[0m\u001b[0;34m.\u001b[0m\u001b[0mshape\u001b[0m\u001b[0;34m\u001b[0m\u001b[0;34m\u001b[0m\u001b[0m\n\u001b[0m",
      "\u001b[0;31mNameError\u001b[0m: name 'df' is not defined"
     ]
    }
   ],
   "source": [
    "df.shape"
   ]
  },
  {
   "cell_type": "code",
   "execution_count": 4,
   "metadata": {
    "execution": {
     "iopub.execute_input": "2021-01-09T10:28:00.993285Z",
     "iopub.status.busy": "2021-01-09T10:28:00.992315Z",
     "iopub.status.idle": "2021-01-09T10:28:01.013357Z",
     "shell.execute_reply": "2021-01-09T10:28:01.012672Z"
    },
    "papermill": {
     "duration": 0.107676,
     "end_time": "2021-01-09T10:28:01.013469",
     "exception": false,
     "start_time": "2021-01-09T10:28:00.905793",
     "status": "completed"
    },
    "scrolled": false,
    "tags": []
   },
   "outputs": [
    {
     "data": {
      "text/plain": [
       "<BarContainer object of 43 artists>"
      ]
     },
     "execution_count": 4,
     "metadata": {},
     "output_type": "execute_result"
    },
    {
     "data": {
      "image/png": "[encoded data removed]",
      "text/plain": [
       "<Figure size 1080x720 with 1 Axes>"
      ]
     },
     "metadata": {
      "needs_background": "light"
     },
     "output_type": "display_data"
    }
   ],
   "source": [
    "x = (df.groupby(['manufacturer'],as_index = False).count().sort_values('price', ascending = False))['manufacturer'].tolist()\n",
    "y = (df.groupby(['manufacturer'],as_index = False).count().sort_values('price', ascending = False))['price'].tolist()\n",
    "fig = plt.figure(figsize=(15,10))\n",
    "plt.xticks(rotation = 90)\n",
    "plt.bar(x, y, width=1)"
   ]
  },
  {
   "cell_type": "code",
   "execution_count": 5,
   "metadata": {
    "execution": {
     "iopub.execute_input": "2021-01-09T10:28:01.200813Z",
     "iopub.status.busy": "2021-01-09T10:28:01.199946Z",
     "iopub.status.idle": "2021-01-09T10:28:01.203397Z",
     "shell.execute_reply": "2021-01-09T10:28:01.203941Z"
    },
    "papermill": {
     "duration": 0.105386,
     "end_time": "2021-01-09T10:28:01.204088",
     "exception": false,
     "start_time": "2021-01-09T10:28:01.098702",
     "status": "completed"
    },
    "scrolled": true,
    "tags": []
   },
   "outputs": [
    {
     "name": "stdout",
     "output_type": "stream",
     "text": [
      "[nan 'blue' 'red' 'silver' 'black' 'white' 'grey' 'orange' 'green'\n",
      " 'yellow' 'custom' 'brown' 'purple']\n",
      "['good' 'excellent' nan 'like new' 'fair' 'salvage' 'new']\n",
      "['other' 'sedan' 'SUV' 'pickup' 'coupe' 'van' nan 'truck' 'mini-van'\n",
      " 'wagon' 'convertible' 'hatchback' 'bus' 'offroad']\n",
      "['gas' 'diesel' 'other' 'hybrid' nan 'electric']\n",
      "['8 cylinders' '4 cylinders' '6 cylinders' nan '10 cylinders' 'other'\n",
      " '5 cylinders' '3 cylinders' '12 cylinders']\n",
      "['clean' 'lien' 'missing' 'salvage' 'rebuilt' nan 'parts only']\n",
      "['other' 'sedan' 'SUV' 'pickup' 'coupe' 'van' nan 'truck' 'mini-van'\n",
      " 'wagon' 'convertible' 'hatchback' 'bus' 'offroad']\n",
      "['rwd' 'fwd' nan '4wd']\n",
      "['other' 'automatic' 'manual' nan]\n"
     ]
    }
   ],
   "source": [
    "#Information about the categorical variables\n",
    "\n",
    "print(df[\"paint_color\"].unique())\n",
    "print(df[\"condition\"].unique())\n",
    "print(df[\"type\"].unique())\n",
    "print(df[\"fuel\"].unique())\n",
    "print(df[\"cylinders\"].unique())\n",
    "print(df[\"title_status\"].unique())\n",
    "print(df[\"type\"].unique())\n",
    "print(df[\"drive\"].unique())\n",
    "print(df[\"transmission\"].unique())"
   ]
  },
  {
   "cell_type": "code",
   "execution_count": 6,
   "metadata": {
    "execution": {
     "iopub.execute_input": "2021-01-09T10:28:01.378529Z",
     "iopub.status.busy": "2021-01-09T10:28:01.377904Z",
     "iopub.status.idle": "2021-01-09T10:28:01.391235Z",
     "shell.execute_reply": "2021-01-09T10:28:01.391765Z"
    },
    "papermill": {
     "duration": 0.101295,
     "end_time": "2021-01-09T10:28:01.391926",
     "exception": false,
     "start_time": "2021-01-09T10:28:01.290631",
     "status": "completed"
    },
    "scrolled": true,
    "tags": []
   },
   "outputs": [
    {
     "data": {
      "text/plain": [
       "size            321348\n",
       "condition       192940\n",
       "VIN             187549\n",
       "cylinders       171140\n",
       "paint_color     140843\n",
       "drive           134188\n",
       "type            112738\n",
       "odometer         55303\n",
       "manufacturer     18220\n",
       "lat               7448\n",
       "long              7448\n",
       "model             4846\n",
       "fuel              3237\n",
       "title_status      2577\n",
       "transmission      2442\n",
       "year              1050\n",
       "description         70\n",
       "posting_date        28\n",
       "image_url           28\n",
       "state                0\n",
       "price                0\n",
       "region_url           0\n",
       "region               0\n",
       "url                  0\n",
       "id                   0\n",
       "Unnamed: 0           0\n",
       "dtype: int64"
      ]
     },
     "execution_count": 6,
     "metadata": {},
     "output_type": "execute_result"
    }
   ],
   "source": [
    "df.isnull().sum().sort_values(ascending = False)"
   ]
  },
  {
   "cell_type": "code",
   "execution_count": 7,
   "metadata": {
    "execution": {
     "iopub.execute_input": "2021-01-09T10:28:01.567617Z",
     "iopub.status.busy": "2021-01-09T10:28:01.566942Z",
     "iopub.status.idle": "2021-01-09T10:28:01.584385Z",
     "shell.execute_reply": "2021-01-09T10:28:01.584945Z"
    },
    "papermill": {
     "duration": 0.106839,
     "end_time": "2021-01-09T10:28:01.585087",
     "exception": false,
     "start_time": "2021-01-09T10:28:01.478248",
     "status": "completed"
    },
    "scrolled": true,
    "tags": []
   },
   "outputs": [
    {
     "data": {
      "image/png": "[encoded data removed]",
      "text/plain": [
       "<Figure size 720x432 with 1 Axes>"
      ]
     },
     "metadata": {
      "needs_background": "light"
     },
     "output_type": "display_data"
    }
   ],
   "source": [
    "#a lot of locations that don't make sense (i.e. on Antarctica or in the ocean) \n",
    "#User can drop a pin anywhere in the world => lat & long values are unreliable\n",
    "#Use 'state' and/or 'region' instead of lat & long for location\n",
    "\n",
    "geometry = [Point(xy) for xy in zip(df['long'], df['lat'])]\n",
    "gdf = GeoDataFrame(df, geometry=geometry)   \n",
    "\n",
    "world = gpd.read_file(gpd.datasets.get_path('naturalearth_lowres'))\n",
    "gdf.plot(ax=world.plot(figsize=(10, 6)), marker='o', color='red', markersize=5);"
   ]
  },
  {
   "cell_type": "markdown",
   "metadata": {
    "papermill": {
     "duration": 0.086315,
     "end_time": "2021-01-09T10:28:01.757530",
     "exception": false,
     "start_time": "2021-01-09T10:28:01.671215",
     "status": "completed"
    },
    "tags": []
   },
   "source": [
    "## Data Cleaning"
   ]
  },
  {
   "cell_type": "markdown",
   "metadata": {
    "papermill": {
     "duration": 0.086738,
     "end_time": "2021-01-09T10:28:01.931557",
     "exception": false,
     "start_time": "2021-01-09T10:28:01.844819",
     "status": "completed"
    },
    "tags": []
   },
   "source": [
    "### Dropping columns/instances"
   ]
  },
  {
   "cell_type": "code",
   "execution_count": 8,
   "metadata": {
    "execution": {
     "iopub.execute_input": "2021-01-09T10:28:02.108710Z",
     "iopub.status.busy": "2021-01-09T10:28:02.108049Z",
     "iopub.status.idle": "2021-01-09T10:28:02.124332Z",
     "shell.execute_reply": "2021-01-09T10:28:02.124881Z"
    },
    "papermill": {
     "duration": 0.107098,
     "end_time": "2021-01-09T10:28:02.125046",
     "exception": false,
     "start_time": "2021-01-09T10:28:02.017948",
     "status": "completed"
    },
    "tags": []
   },
   "outputs": [
    {
     "data": {
      "text/html": [
       "<div>\n",
       "<style scoped>\n",
       "    .dataframe tbody tr th:only-of-type {\n",
       "        vertical-align: middle;\n",
       "    }\n",
       "\n",
       "    .dataframe tbody tr th {\n",
       "        vertical-align: top;\n",
       "    }\n",
       "\n",
       "    .dataframe thead th {\n",
       "        text-align: right;\n",
       "    }\n",
       "</style>\n",
       "<table border=\"1\" class=\"dataframe\">\n",
       "  <thead>\n",
       "    <tr style=\"text-align: right;\">\n",
       "      <th></th>\n",
       "      <th>region</th>\n",
       "      <th>price</th>\n",
       "      <th>year</th>\n",
       "      <th>manufacturer</th>\n",
       "      <th>model</th>\n",
       "      <th>condition</th>\n",
       "      <th>cylinders</th>\n",
       "      <th>fuel</th>\n",
       "      <th>odometer</th>\n",
       "      <th>title_status</th>\n",
       "      <th>transmission</th>\n",
       "      <th>drive</th>\n",
       "      <th>size</th>\n",
       "      <th>type</th>\n",
       "      <th>paint_color</th>\n",
       "      <th>state</th>\n",
       "    </tr>\n",
       "  </thead>\n",
       "  <tbody>\n",
       "    <tr>\n",
       "      <th>0</th>\n",
       "      <td>auburn</td>\n",
       "      <td>35990</td>\n",
       "      <td>2010.0</td>\n",
       "      <td>chevrolet</td>\n",
       "      <td>corvette grand sport</td>\n",
       "      <td>good</td>\n",
       "      <td>8 cylinders</td>\n",
       "      <td>gas</td>\n",
       "      <td>32742.0</td>\n",
       "      <td>clean</td>\n",
       "      <td>other</td>\n",
       "      <td>rwd</td>\n",
       "      <td>NaN</td>\n",
       "      <td>other</td>\n",
       "      <td>NaN</td>\n",
       "      <td>al</td>\n",
       "    </tr>\n",
       "    <tr>\n",
       "      <th>1</th>\n",
       "      <td>auburn</td>\n",
       "      <td>7500</td>\n",
       "      <td>2014.0</td>\n",
       "      <td>hyundai</td>\n",
       "      <td>sonata</td>\n",
       "      <td>excellent</td>\n",
       "      <td>4 cylinders</td>\n",
       "      <td>gas</td>\n",
       "      <td>93600.0</td>\n",
       "      <td>clean</td>\n",
       "      <td>automatic</td>\n",
       "      <td>fwd</td>\n",
       "      <td>NaN</td>\n",
       "      <td>sedan</td>\n",
       "      <td>NaN</td>\n",
       "      <td>al</td>\n",
       "    </tr>\n",
       "    <tr>\n",
       "      <th>2</th>\n",
       "      <td>auburn</td>\n",
       "      <td>4900</td>\n",
       "      <td>2006.0</td>\n",
       "      <td>bmw</td>\n",
       "      <td>x3 3.0i</td>\n",
       "      <td>good</td>\n",
       "      <td>6 cylinders</td>\n",
       "      <td>gas</td>\n",
       "      <td>87046.0</td>\n",
       "      <td>clean</td>\n",
       "      <td>automatic</td>\n",
       "      <td>NaN</td>\n",
       "      <td>NaN</td>\n",
       "      <td>SUV</td>\n",
       "      <td>blue</td>\n",
       "      <td>al</td>\n",
       "    </tr>\n",
       "    <tr>\n",
       "      <th>3</th>\n",
       "      <td>auburn</td>\n",
       "      <td>2000</td>\n",
       "      <td>1974.0</td>\n",
       "      <td>chevrolet</td>\n",
       "      <td>c-10</td>\n",
       "      <td>good</td>\n",
       "      <td>4 cylinders</td>\n",
       "      <td>gas</td>\n",
       "      <td>190000.0</td>\n",
       "      <td>clean</td>\n",
       "      <td>automatic</td>\n",
       "      <td>rwd</td>\n",
       "      <td>full-size</td>\n",
       "      <td>pickup</td>\n",
       "      <td>blue</td>\n",
       "      <td>al</td>\n",
       "    </tr>\n",
       "    <tr>\n",
       "      <th>4</th>\n",
       "      <td>auburn</td>\n",
       "      <td>19500</td>\n",
       "      <td>2005.0</td>\n",
       "      <td>ford</td>\n",
       "      <td>f350 lariat</td>\n",
       "      <td>excellent</td>\n",
       "      <td>8 cylinders</td>\n",
       "      <td>diesel</td>\n",
       "      <td>116000.0</td>\n",
       "      <td>lien</td>\n",
       "      <td>automatic</td>\n",
       "      <td>4wd</td>\n",
       "      <td>full-size</td>\n",
       "      <td>pickup</td>\n",
       "      <td>blue</td>\n",
       "      <td>al</td>\n",
       "    </tr>\n",
       "  </tbody>\n",
       "</table>\n",
       "</div>"
      ],
      "text/plain": [
       "   region  price    year manufacturer                 model  condition  \\\n",
       "0  auburn  35990  2010.0    chevrolet  corvette grand sport       good   \n",
       "1  auburn   7500  2014.0      hyundai                sonata  excellent   \n",
       "2  auburn   4900  2006.0          bmw               x3 3.0i       good   \n",
       "3  auburn   2000  1974.0    chevrolet                  c-10       good   \n",
       "4  auburn  19500  2005.0         ford           f350 lariat  excellent   \n",
       "\n",
       "     cylinders    fuel  odometer title_status transmission drive       size  \\\n",
       "0  8 cylinders     gas   32742.0        clean        other   rwd        NaN   \n",
       "1  4 cylinders     gas   93600.0        clean    automatic   fwd        NaN   \n",
       "2  6 cylinders     gas   87046.0        clean    automatic   NaN        NaN   \n",
       "3  4 cylinders     gas  190000.0        clean    automatic   rwd  full-size   \n",
       "4  8 cylinders  diesel  116000.0         lien    automatic   4wd  full-size   \n",
       "\n",
       "     type paint_color state  \n",
       "0   other         NaN    al  \n",
       "1   sedan         NaN    al  \n",
       "2     SUV        blue    al  \n",
       "3  pickup        blue    al  \n",
       "4  pickup        blue    al  "
      ]
     },
     "execution_count": 8,
     "metadata": {},
     "output_type": "execute_result"
    }
   ],
   "source": [
    "#drop columns that don't add any value to our analysis\n",
    "\n",
    "df.drop(['Unnamed: 0', 'id', 'url', 'region_url', 'lat', 'long', 'VIN', 'image_url',\n",
    "         'description', 'geometry', 'posting_date'], axis = 1, inplace = True)\n",
    "df.head()"
   ]
  },
  {
   "cell_type": "code",
   "execution_count": 9,
   "metadata": {
    "execution": {
     "iopub.execute_input": "2021-01-09T10:28:02.304740Z",
     "iopub.status.busy": "2021-01-09T10:28:02.304039Z",
     "iopub.status.idle": "2021-01-09T10:28:02.317813Z",
     "shell.execute_reply": "2021-01-09T10:28:02.317267Z"
    },
    "papermill": {
     "duration": 0.105409,
     "end_time": "2021-01-09T10:28:02.317921",
     "exception": false,
     "start_time": "2021-01-09T10:28:02.212512",
     "status": "completed"
    },
    "tags": []
   },
   "outputs": [
    {
     "data": {
      "text/plain": [
       "(458213, 16)"
      ]
     },
     "execution_count": 9,
     "metadata": {},
     "output_type": "execute_result"
    }
   ],
   "source": [
    "df.shape"
   ]
  },
  {
   "cell_type": "code",
   "execution_count": 10,
   "metadata": {
    "execution": {
     "iopub.execute_input": "2021-01-09T10:28:02.509431Z",
     "iopub.status.busy": "2021-01-09T10:28:02.508782Z",
     "iopub.status.idle": "2021-01-09T10:28:02.512065Z",
     "shell.execute_reply": "2021-01-09T10:28:02.512628Z"
    },
    "papermill": {
     "duration": 0.107692,
     "end_time": "2021-01-09T10:28:02.512773",
     "exception": false,
     "start_time": "2021-01-09T10:28:02.405081",
     "status": "completed"
    },
    "tags": []
   },
   "outputs": [
    {
     "data": {
      "text/plain": [
       "(442203, 16)"
      ]
     },
     "execution_count": 10,
     "metadata": {},
     "output_type": "execute_result"
    }
   ],
   "source": [
    "#keep only 'clean' cars & missing values\n",
    "#missing, parts only, etc. cars don't fit the goal of our analysis\n",
    "\n",
    "df = df[((df['title_status'] != 'missing') & (df['title_status'] != 'parts only') \n",
    "    & (df['title_status'] != 'salvage') & (df['title_status'] != 'rebuilt')\n",
    "   & (df['title_status'] != 'lien'))]\n",
    "df.shape"
   ]
  },
  {
   "cell_type": "code",
   "execution_count": 11,
   "metadata": {
    "execution": {
     "iopub.execute_input": "2021-01-09T10:28:02.691473Z",
     "iopub.status.busy": "2021-01-09T10:28:02.690795Z",
     "iopub.status.idle": "2021-01-09T10:28:02.706516Z",
     "shell.execute_reply": "2021-01-09T10:28:02.707202Z"
    },
    "papermill": {
     "duration": 0.1066,
     "end_time": "2021-01-09T10:28:02.707358",
     "exception": false,
     "start_time": "2021-01-09T10:28:02.600758",
     "status": "completed"
    },
    "tags": []
   },
   "outputs": [
    {
     "data": {
      "text/plain": [
       "(405701, 16)"
      ]
     },
     "execution_count": 11,
     "metadata": {},
     "output_type": "execute_result"
    }
   ],
   "source": [
    "#delete unrealistically over-/underpriced cars (over $500k or under $100)\n",
    "#sometimes prices are $0 or $123456789 because the owner wants to agree on the price in person\n",
    "\n",
    "df = df[((df['price'] < 500000) & (df['price'] > 100))]\n",
    "df.shape"
   ]
  },
  {
   "cell_type": "code",
   "execution_count": 12,
   "metadata": {
    "execution": {
     "iopub.execute_input": "2021-01-09T10:28:02.887345Z",
     "iopub.status.busy": "2021-01-09T10:28:02.886635Z",
     "iopub.status.idle": "2021-01-09T10:28:02.907301Z",
     "shell.execute_reply": "2021-01-09T10:28:02.906693Z"
    },
    "papermill": {
     "duration": 0.11182,
     "end_time": "2021-01-09T10:28:02.907481",
     "exception": false,
     "start_time": "2021-01-09T10:28:02.795661",
     "status": "completed"
    },
    "tags": []
   },
   "outputs": [
    {
     "data": {
      "text/plain": [
       "<matplotlib.lines.Line2D at 0x232eb5c87c0>"
      ]
     },
     "execution_count": 12,
     "metadata": {},
     "output_type": "execute_result"
    },
    {
     "data": {
      "image/png": "[encoded data removed]",
      "text/plain": [
       "<Figure size 720x360 with 1 Axes>"
      ]
     },
     "metadata": {
      "needs_background": "light"
     },
     "output_type": "display_data"
    }
   ],
   "source": [
    "starting_year = 1960\n",
    "x = (df.groupby(['year'],as_index = False).count())['year'].tolist()\n",
    "y = (df.groupby(['year'],as_index = False).count())['price'].tolist()\n",
    "fig = plt.figure(figsize=(10,5))\n",
    "plt.bar(x, y, width=1)\n",
    "plt.axvline(starting_year, color = 'red')"
   ]
  },
  {
   "cell_type": "code",
   "execution_count": 13,
   "metadata": {
    "execution": {
     "iopub.execute_input": "2021-01-09T10:28:03.101918Z",
     "iopub.status.busy": "2021-01-09T10:28:03.101267Z",
     "iopub.status.idle": "2021-01-09T10:28:03.104656Z",
     "shell.execute_reply": "2021-01-09T10:28:03.105177Z"
    },
    "papermill": {
     "duration": 0.107485,
     "end_time": "2021-01-09T10:28:03.105327",
     "exception": false,
     "start_time": "2021-01-09T10:28:02.997842",
     "status": "completed"
    },
    "tags": []
   },
   "outputs": [
    {
     "data": {
      "text/plain": [
       "(402751, 16)"
      ]
     },
     "execution_count": 13,
     "metadata": {},
     "output_type": "execute_result"
    }
   ],
   "source": [
    "#delete cars built before 1960 (outliers)\n",
    "\n",
    "df = df[df['year'] > 1960]\n",
    "df.shape"
   ]
  },
  {
   "cell_type": "code",
   "execution_count": 14,
   "metadata": {
    "execution": {
     "iopub.execute_input": "2021-01-09T10:28:03.288357Z",
     "iopub.status.busy": "2021-01-09T10:28:03.287674Z",
     "iopub.status.idle": "2021-01-09T10:28:03.304296Z",
     "shell.execute_reply": "2021-01-09T10:28:03.304940Z"
    },
    "papermill": {
     "duration": 0.109663,
     "end_time": "2021-01-09T10:28:03.305088",
     "exception": false,
     "start_time": "2021-01-09T10:28:03.195425",
     "status": "completed"
    },
    "tags": []
   },
   "outputs": [
    {
     "name": "stdout",
     "output_type": "stream",
     "text": [
      "the top 1% mileage is 272000.0 miles\n"
     ]
    },
    {
     "data": {
      "text/plain": [
       "(354615, 16)"
      ]
     },
     "execution_count": 14,
     "metadata": {},
     "output_type": "execute_result"
    }
   ],
   "source": [
    "#delete top 1% of odometer values (outliers)\n",
    "\n",
    "top1 = np.nanpercentile(df['odometer'], 99)\n",
    "print('the top 1% mileage is', top1, 'miles')\n",
    "df = df[df['odometer'] < top1]\n",
    "df.shape"
   ]
  },
  {
   "cell_type": "code",
   "execution_count": 15,
   "metadata": {
    "execution": {
     "iopub.execute_input": "2021-01-09T10:28:03.491223Z",
     "iopub.status.busy": "2021-01-09T10:28:03.490529Z",
     "iopub.status.idle": "2021-01-09T10:28:03.505989Z",
     "shell.execute_reply": "2021-01-09T10:28:03.506569Z"
    },
    "papermill": {
     "duration": 0.110063,
     "end_time": "2021-01-09T10:28:03.506735",
     "exception": false,
     "start_time": "2021-01-09T10:28:03.396672",
     "status": "completed"
    },
    "tags": []
   },
   "outputs": [
    {
     "data": {
      "text/plain": [
       "(354615, 15)"
      ]
     },
     "execution_count": 15,
     "metadata": {},
     "output_type": "execute_result"
    }
   ],
   "source": [
    "#size is perfect multicollinear with car model => drop size column\n",
    "\n",
    "df.drop('size', axis = 1, inplace = True)\n",
    "df.shape"
   ]
  },
  {
   "cell_type": "code",
   "execution_count": 16,
   "metadata": {
    "execution": {
     "iopub.execute_input": "2021-01-09T10:28:03.693121Z",
     "iopub.status.busy": "2021-01-09T10:28:03.692433Z",
     "iopub.status.idle": "2021-01-09T10:28:03.709150Z",
     "shell.execute_reply": "2021-01-09T10:28:03.709724Z"
    },
    "papermill": {
     "duration": 0.111778,
     "end_time": "2021-01-09T10:28:03.709872",
     "exception": false,
     "start_time": "2021-01-09T10:28:03.598094",
     "status": "completed"
    },
    "tags": []
   },
   "outputs": [
    {
     "data": {
      "text/plain": [
       "(349990, 15)"
      ]
     },
     "execution_count": 16,
     "metadata": {},
     "output_type": "execute_result"
    }
   ],
   "source": [
    "#delete unknown fuel, transmission and title_status instances\n",
    "\n",
    "df.dropna(subset = ['fuel', 'transmission', 'title_status'], axis = 0, inplace = True)\n",
    "df.shape"
   ]
  },
  {
   "cell_type": "code",
   "execution_count": 17,
   "metadata": {
    "execution": {
     "iopub.execute_input": "2021-01-09T10:28:03.902679Z",
     "iopub.status.busy": "2021-01-09T10:28:03.901982Z",
     "iopub.status.idle": "2021-01-09T10:28:03.917317Z",
     "shell.execute_reply": "2021-01-09T10:28:03.917913Z"
    },
    "papermill": {
     "duration": 0.115831,
     "end_time": "2021-01-09T10:28:03.918068",
     "exception": false,
     "start_time": "2021-01-09T10:28:03.802237",
     "status": "completed"
    },
    "tags": []
   },
   "outputs": [
    {
     "data": {
      "text/plain": [
       "(340030, 15)"
      ]
     },
     "execution_count": 17,
     "metadata": {},
     "output_type": "execute_result"
    }
   ],
   "source": [
    "#delete all instances with unknown manufacturer\n",
    "\n",
    "df = df[~df['manufacturer'].isnull()]\n",
    "df.shape"
   ]
  },
  {
   "cell_type": "code",
   "execution_count": 18,
   "metadata": {
    "execution": {
     "iopub.execute_input": "2021-01-09T10:28:04.107321Z",
     "iopub.status.busy": "2021-01-09T10:28:04.106705Z",
     "iopub.status.idle": "2021-01-09T10:28:04.122009Z",
     "shell.execute_reply": "2021-01-09T10:28:04.122700Z"
    },
    "papermill": {
     "duration": 0.111265,
     "end_time": "2021-01-09T10:28:04.122849",
     "exception": false,
     "start_time": "2021-01-09T10:28:04.011584",
     "status": "completed"
    },
    "tags": []
   },
   "outputs": [
    {
     "data": {
      "text/plain": [
       "(337757, 15)"
      ]
     },
     "execution_count": 18,
     "metadata": {},
     "output_type": "execute_result"
    }
   ],
   "source": [
    "#delete all instances with unknown model\n",
    "\n",
    "df = df[~df['model'].isnull()]\n",
    "df.shape"
   ]
  },
  {
   "cell_type": "markdown",
   "metadata": {
    "papermill": {
     "duration": 0.093276,
     "end_time": "2021-01-09T10:28:04.308078",
     "exception": false,
     "start_time": "2021-01-09T10:28:04.214802",
     "status": "completed"
    },
    "tags": []
   },
   "source": [
    "### Replacing missing values with placeholders "
   ]
  },
  {
   "cell_type": "code",
   "execution_count": 20,
   "metadata": {
    "execution": {
     "iopub.execute_input": "2021-01-09T10:28:04.499520Z",
     "iopub.status.busy": "2021-01-09T10:28:04.498799Z",
     "iopub.status.idle": "2021-01-09T10:28:04.513835Z",
     "shell.execute_reply": "2021-01-09T10:28:04.514421Z"
    },
    "papermill": {
     "duration": 0.114244,
     "end_time": "2021-01-09T10:28:04.514612",
     "exception": false,
     "start_time": "2021-01-09T10:28:04.400368",
     "status": "completed"
    },
    "tags": []
   },
   "outputs": [
    {
     "data": {
      "text/plain": [
       "array(['good', 'excellent', 'not specified', 'like new', 'new', 'salvage',\n",
       "       'fair'], dtype=object)"
      ]
     },
     "execution_count": 20,
     "metadata": {},
     "output_type": "execute_result"
    }
   ],
   "source": [
    "#replace missing condition values with 'not specified'\n",
    "\n",
    "df['condition'].fillna('not specified', inplace = True)\n",
    "df['condition'].unique()"
   ]
  },
  {
   "cell_type": "code",
   "execution_count": 21,
   "metadata": {
    "execution": {
     "iopub.execute_input": "2021-01-09T10:28:04.707294Z",
     "iopub.status.busy": "2021-01-09T10:28:04.706682Z",
     "iopub.status.idle": "2021-01-09T10:28:04.724205Z",
     "shell.execute_reply": "2021-01-09T10:28:04.723577Z"
    },
    "papermill": {
     "duration": 0.115129,
     "end_time": "2021-01-09T10:28:04.724331",
     "exception": false,
     "start_time": "2021-01-09T10:28:04.609202",
     "status": "completed"
    },
    "tags": []
   },
   "outputs": [
    {
     "data": {
      "text/plain": [
       "array(['unknown', 'blue', 'red', 'silver', 'black', 'white', 'grey',\n",
       "       'orange', 'green', 'custom', 'yellow', 'brown', 'purple'],\n",
       "      dtype=object)"
      ]
     },
     "execution_count": 21,
     "metadata": {},
     "output_type": "execute_result"
    }
   ],
   "source": [
    "#replace missing color with 'unknown'\n",
    "\n",
    "df['paint_color'].fillna('unknown', inplace = True)\n",
    "df['paint_color'].unique()"
   ]
  },
  {
   "cell_type": "markdown",
   "metadata": {
    "papermill": {
     "duration": 0.095016,
     "end_time": "2021-01-09T10:28:04.914232",
     "exception": false,
     "start_time": "2021-01-09T10:28:04.819216",
     "status": "completed"
    },
    "tags": []
   },
   "source": [
    "### Cleaning car model values and reducing the number of categories"
   ]
  },
  {
   "cell_type": "code",
   "execution_count": 24,
   "metadata": {
    "execution": {
     "iopub.execute_input": "2021-01-09T10:28:05.127884Z",
     "iopub.status.busy": "2021-01-09T10:28:05.115982Z",
     "iopub.status.idle": "2021-01-09T10:28:05.133083Z",
     "shell.execute_reply": "2021-01-09T10:28:05.132498Z"
    },
    "papermill": {
     "duration": 0.124629,
     "end_time": "2021-01-09T10:28:05.133205",
     "exception": false,
     "start_time": "2021-01-09T10:28:05.008576",
     "status": "completed"
    },
    "scrolled": false,
    "tags": []
   },
   "outputs": [
    {
     "name": "stdout",
     "output_type": "stream",
     "text": [
      "total car models:  2803\n",
      "remaining car models:  292\n",
      "decreasing  89.58 % of the number of car models\n",
      "\n",
      "total instances:  337757\n",
      "remaining instances:  309211\n",
      "removing  8.45 % of the instances\n"
     ]
    }
   ],
   "source": [
    "#first word is most important for 'model': many car model categories refer to the same model but are written differently \n",
    "#(i.e. 'f150 good condition' and 'F - 150 four wheel drive' refer to the same model: f150)\n",
    "#=> keep only first word and remove spaces, special characters, uppercase letters, etc.\n",
    "\n",
    "#delete instances with a model that appears less than 150 times => reduce amount of categories by omitting uncommon types\n",
    "\n",
    "model_list = df['model'].tolist()\n",
    "model_list = map(str, model_list)\n",
    "model_list = [x.lower().strip() for x in model_list]\n",
    "my_list = [car_model.split()[0] for car_model in model_list]\n",
    "my_list = [x.replace(' ', '').replace('-', '').replace('/', '') for x in my_list]\n",
    "\n",
    "df['car_model'] = my_list\n",
    "df['car_model'] = df['manufacturer'] + \" \" + df['car_model']\n",
    "\n",
    "new_car_models = (df.groupby(['car_model'], as_index= False).count())[['manufacturer', 'car_model', 'price']]\n",
    "new_car_models = new_car_models.rename(columns={'price': 'count'})\n",
    "only_common_models = new_car_models[new_car_models['count'] > 150]\n",
    "\n",
    "print('total car models: ', len(new_car_models['count']))\n",
    "print('remaining car models: ', len(only_common_models['count']))\n",
    "print('decreasing ', round((1-len(only_common_models['count'])/len(new_car_models['count'])) * 100, 2),'% of the number of car models')\n",
    "print()\n",
    "print('total instances: ', len(df['price']))\n",
    "print('remaining instances: ', sum(only_common_models['count']))\n",
    "print('removing ', round((1-sum(only_common_models['count'])/len(df['price'])) * 100, 2),'% of the instances')"
   ]
  },
  {
   "cell_type": "code",
   "execution_count": 25,
   "metadata": {
    "execution": {
     "iopub.execute_input": "2021-01-09T10:28:05.343820Z",
     "iopub.status.busy": "2021-01-09T10:28:05.342944Z",
     "iopub.status.idle": "2021-01-09T10:28:05.348219Z",
     "shell.execute_reply": "2021-01-09T10:28:05.347551Z"
    },
    "papermill": {
     "duration": 0.121122,
     "end_time": "2021-01-09T10:28:05.348360",
     "exception": false,
     "start_time": "2021-01-09T10:28:05.227238",
     "status": "completed"
    },
    "scrolled": false,
    "tags": []
   },
   "outputs": [
    {
     "data": {
      "text/plain": [
       "<matplotlib.legend.Legend at 0x233714904f0>"
      ]
     },
     "execution_count": 25,
     "metadata": {},
     "output_type": "execute_result"
    },
    {
     "data": {
      "image/png": "[encoded data removed]",
      "text/plain": [
       "<Figure size 504x504 with 1 Axes>"
      ]
     },
     "metadata": {
      "needs_background": "light"
     },
     "output_type": "display_data"
    }
   ],
   "source": [
    "#150 seems like the reasonable choice w.r.t. trade-off reducing categories vs keeping enough data\n",
    "\n",
    "removed_models_list = []\n",
    "removed_instances_list = []\n",
    "\n",
    "for i in range(0,1000):\n",
    "    only_common_models_v2 = new_car_models[new_car_models['count']>i]\n",
    "    models_removed = 1-len(only_common_models_v2['count'])/len(new_car_models['count'])\n",
    "    instances_removed = 1-sum(only_common_models_v2['count'])/len(df['price'])\n",
    "    \n",
    "    removed_models_list.append(models_removed)\n",
    "    removed_instances_list.append(instances_removed)\n",
    "\n",
    "fig = plt.figure(figsize=(7,7))\n",
    "plt.plot(removed_models_list, label = 'Percentage of unqiue models removed')\n",
    "plt.plot(removed_instances_list, label = 'Percentage of instances removed')\n",
    "plt.axvline(150 , color = 'red', label = 'Cut-off')\n",
    "plt.ylabel('Percentage Remaining')\n",
    "plt.xlabel('Car model frequency cut-off')\n",
    "plt.legend()"
   ]
  },
  {
   "cell_type": "code",
   "execution_count": 28,
   "metadata": {
    "execution": {
     "iopub.execute_input": "2021-01-09T10:28:05.556734Z",
     "iopub.status.busy": "2021-01-09T10:28:05.555988Z",
     "iopub.status.idle": "2021-01-09T10:28:05.560513Z",
     "shell.execute_reply": "2021-01-09T10:28:05.559876Z"
    },
    "papermill": {
     "duration": 0.118305,
     "end_time": "2021-01-09T10:28:05.560639",
     "exception": false,
     "start_time": "2021-01-09T10:28:05.442334",
     "status": "completed"
    },
    "tags": []
   },
   "outputs": [
    {
     "ename": "KeyError",
     "evalue": "\"['model'] not found in axis\"",
     "output_type": "error",
     "traceback": [
      "\u001b[1;31m---------------------------------------------------------------------------\u001b[0m",
      "\u001b[1;31mKeyError\u001b[0m                                  Traceback (most recent call last)",
      "\u001b[1;32m<ipython-input-28-b383546f3917>\u001b[0m in \u001b[0;36m<module>\u001b[1;34m\u001b[0m\n\u001b[0;32m      2\u001b[0m \u001b[1;33m\u001b[0m\u001b[0m\n\u001b[0;32m      3\u001b[0m \u001b[0mdf\u001b[0m \u001b[1;33m=\u001b[0m \u001b[0mdf\u001b[0m\u001b[1;33m[\u001b[0m\u001b[0mdf\u001b[0m\u001b[1;33m[\u001b[0m\u001b[1;34m'car_model'\u001b[0m\u001b[1;33m]\u001b[0m\u001b[1;33m.\u001b[0m\u001b[0misin\u001b[0m\u001b[1;33m(\u001b[0m\u001b[0monly_common_models\u001b[0m\u001b[1;33m[\u001b[0m\u001b[1;34m'car_model'\u001b[0m\u001b[1;33m]\u001b[0m\u001b[1;33m.\u001b[0m\u001b[0mtolist\u001b[0m\u001b[1;33m(\u001b[0m\u001b[1;33m)\u001b[0m\u001b[1;33m)\u001b[0m\u001b[1;33m]\u001b[0m\u001b[1;33m\u001b[0m\u001b[1;33m\u001b[0m\u001b[0m\n\u001b[1;32m----> 4\u001b[1;33m \u001b[0mdf\u001b[0m\u001b[1;33m.\u001b[0m\u001b[0mdrop\u001b[0m\u001b[1;33m(\u001b[0m\u001b[1;34m'model'\u001b[0m\u001b[1;33m,\u001b[0m \u001b[0maxis\u001b[0m \u001b[1;33m=\u001b[0m \u001b[1;36m1\u001b[0m\u001b[1;33m,\u001b[0m \u001b[0minplace\u001b[0m \u001b[1;33m=\u001b[0m \u001b[1;32mTrue\u001b[0m\u001b[1;33m)\u001b[0m\u001b[1;33m\u001b[0m\u001b[1;33m\u001b[0m\u001b[0m\n\u001b[0m\u001b[0;32m      5\u001b[0m \u001b[0mdf\u001b[0m\u001b[1;33m.\u001b[0m\u001b[0mshape\u001b[0m\u001b[1;33m\u001b[0m\u001b[1;33m\u001b[0m\u001b[0m\n",
      "\u001b[1;32m~\\anaconda3\\lib\\site-packages\\pandas\\core\\frame.py\u001b[0m in \u001b[0;36mdrop\u001b[1;34m(self, labels, axis, index, columns, level, inplace, errors)\u001b[0m\n\u001b[0;32m   3988\u001b[0m                 \u001b[0mweight\u001b[0m  \u001b[1;36m1.0\u001b[0m     \u001b[1;36m0.8\u001b[0m\u001b[1;33m\u001b[0m\u001b[1;33m\u001b[0m\u001b[0m\n\u001b[0;32m   3989\u001b[0m         \"\"\"\n\u001b[1;32m-> 3990\u001b[1;33m         return super().drop(\n\u001b[0m\u001b[0;32m   3991\u001b[0m             \u001b[0mlabels\u001b[0m\u001b[1;33m=\u001b[0m\u001b[0mlabels\u001b[0m\u001b[1;33m,\u001b[0m\u001b[1;33m\u001b[0m\u001b[1;33m\u001b[0m\u001b[0m\n\u001b[0;32m   3992\u001b[0m             \u001b[0maxis\u001b[0m\u001b[1;33m=\u001b[0m\u001b[0maxis\u001b[0m\u001b[1;33m,\u001b[0m\u001b[1;33m\u001b[0m\u001b[1;33m\u001b[0m\u001b[0m\n",
      "\u001b[1;32m~\\anaconda3\\lib\\site-packages\\pandas\\core\\generic.py\u001b[0m in \u001b[0;36mdrop\u001b[1;34m(self, labels, axis, index, columns, level, inplace, errors)\u001b[0m\n\u001b[0;32m   3934\u001b[0m         \u001b[1;32mfor\u001b[0m \u001b[0maxis\u001b[0m\u001b[1;33m,\u001b[0m \u001b[0mlabels\u001b[0m \u001b[1;32min\u001b[0m \u001b[0maxes\u001b[0m\u001b[1;33m.\u001b[0m\u001b[0mitems\u001b[0m\u001b[1;33m(\u001b[0m\u001b[1;33m)\u001b[0m\u001b[1;33m:\u001b[0m\u001b[1;33m\u001b[0m\u001b[1;33m\u001b[0m\u001b[0m\n\u001b[0;32m   3935\u001b[0m             \u001b[1;32mif\u001b[0m \u001b[0mlabels\u001b[0m \u001b[1;32mis\u001b[0m \u001b[1;32mnot\u001b[0m \u001b[1;32mNone\u001b[0m\u001b[1;33m:\u001b[0m\u001b[1;33m\u001b[0m\u001b[1;33m\u001b[0m\u001b[0m\n\u001b[1;32m-> 3936\u001b[1;33m                 \u001b[0mobj\u001b[0m \u001b[1;33m=\u001b[0m \u001b[0mobj\u001b[0m\u001b[1;33m.\u001b[0m\u001b[0m_drop_axis\u001b[0m\u001b[1;33m(\u001b[0m\u001b[0mlabels\u001b[0m\u001b[1;33m,\u001b[0m \u001b[0maxis\u001b[0m\u001b[1;33m,\u001b[0m \u001b[0mlevel\u001b[0m\u001b[1;33m=\u001b[0m\u001b[0mlevel\u001b[0m\u001b[1;33m,\u001b[0m \u001b[0merrors\u001b[0m\u001b[1;33m=\u001b[0m\u001b[0merrors\u001b[0m\u001b[1;33m)\u001b[0m\u001b[1;33m\u001b[0m\u001b[1;33m\u001b[0m\u001b[0m\n\u001b[0m\u001b[0;32m   3937\u001b[0m \u001b[1;33m\u001b[0m\u001b[0m\n\u001b[0;32m   3938\u001b[0m         \u001b[1;32mif\u001b[0m \u001b[0minplace\u001b[0m\u001b[1;33m:\u001b[0m\u001b[1;33m\u001b[0m\u001b[1;33m\u001b[0m\u001b[0m\n",
      "\u001b[1;32m~\\anaconda3\\lib\\site-packages\\pandas\\core\\generic.py\u001b[0m in \u001b[0;36m_drop_axis\u001b[1;34m(self, labels, axis, level, errors)\u001b[0m\n\u001b[0;32m   3968\u001b[0m                 \u001b[0mnew_axis\u001b[0m \u001b[1;33m=\u001b[0m \u001b[0maxis\u001b[0m\u001b[1;33m.\u001b[0m\u001b[0mdrop\u001b[0m\u001b[1;33m(\u001b[0m\u001b[0mlabels\u001b[0m\u001b[1;33m,\u001b[0m \u001b[0mlevel\u001b[0m\u001b[1;33m=\u001b[0m\u001b[0mlevel\u001b[0m\u001b[1;33m,\u001b[0m \u001b[0merrors\u001b[0m\u001b[1;33m=\u001b[0m\u001b[0merrors\u001b[0m\u001b[1;33m)\u001b[0m\u001b[1;33m\u001b[0m\u001b[1;33m\u001b[0m\u001b[0m\n\u001b[0;32m   3969\u001b[0m             \u001b[1;32melse\u001b[0m\u001b[1;33m:\u001b[0m\u001b[1;33m\u001b[0m\u001b[1;33m\u001b[0m\u001b[0m\n\u001b[1;32m-> 3970\u001b[1;33m                 \u001b[0mnew_axis\u001b[0m \u001b[1;33m=\u001b[0m \u001b[0maxis\u001b[0m\u001b[1;33m.\u001b[0m\u001b[0mdrop\u001b[0m\u001b[1;33m(\u001b[0m\u001b[0mlabels\u001b[0m\u001b[1;33m,\u001b[0m \u001b[0merrors\u001b[0m\u001b[1;33m=\u001b[0m\u001b[0merrors\u001b[0m\u001b[1;33m)\u001b[0m\u001b[1;33m\u001b[0m\u001b[1;33m\u001b[0m\u001b[0m\n\u001b[0m\u001b[0;32m   3971\u001b[0m             \u001b[0mresult\u001b[0m \u001b[1;33m=\u001b[0m \u001b[0mself\u001b[0m\u001b[1;33m.\u001b[0m\u001b[0mreindex\u001b[0m\u001b[1;33m(\u001b[0m\u001b[1;33m**\u001b[0m\u001b[1;33m{\u001b[0m\u001b[0maxis_name\u001b[0m\u001b[1;33m:\u001b[0m \u001b[0mnew_axis\u001b[0m\u001b[1;33m}\u001b[0m\u001b[1;33m)\u001b[0m\u001b[1;33m\u001b[0m\u001b[1;33m\u001b[0m\u001b[0m\n\u001b[0;32m   3972\u001b[0m \u001b[1;33m\u001b[0m\u001b[0m\n",
      "\u001b[1;32m~\\anaconda3\\lib\\site-packages\\pandas\\core\\indexes\\base.py\u001b[0m in \u001b[0;36mdrop\u001b[1;34m(self, labels, errors)\u001b[0m\n\u001b[0;32m   5016\u001b[0m         \u001b[1;32mif\u001b[0m \u001b[0mmask\u001b[0m\u001b[1;33m.\u001b[0m\u001b[0many\u001b[0m\u001b[1;33m(\u001b[0m\u001b[1;33m)\u001b[0m\u001b[1;33m:\u001b[0m\u001b[1;33m\u001b[0m\u001b[1;33m\u001b[0m\u001b[0m\n\u001b[0;32m   5017\u001b[0m             \u001b[1;32mif\u001b[0m \u001b[0merrors\u001b[0m \u001b[1;33m!=\u001b[0m \u001b[1;34m\"ignore\"\u001b[0m\u001b[1;33m:\u001b[0m\u001b[1;33m\u001b[0m\u001b[1;33m\u001b[0m\u001b[0m\n\u001b[1;32m-> 5018\u001b[1;33m                 \u001b[1;32mraise\u001b[0m \u001b[0mKeyError\u001b[0m\u001b[1;33m(\u001b[0m\u001b[1;34mf\"{labels[mask]} not found in axis\"\u001b[0m\u001b[1;33m)\u001b[0m\u001b[1;33m\u001b[0m\u001b[1;33m\u001b[0m\u001b[0m\n\u001b[0m\u001b[0;32m   5019\u001b[0m             \u001b[0mindexer\u001b[0m \u001b[1;33m=\u001b[0m \u001b[0mindexer\u001b[0m\u001b[1;33m[\u001b[0m\u001b[1;33m~\u001b[0m\u001b[0mmask\u001b[0m\u001b[1;33m]\u001b[0m\u001b[1;33m\u001b[0m\u001b[1;33m\u001b[0m\u001b[0m\n\u001b[0;32m   5020\u001b[0m         \u001b[1;32mreturn\u001b[0m \u001b[0mself\u001b[0m\u001b[1;33m.\u001b[0m\u001b[0mdelete\u001b[0m\u001b[1;33m(\u001b[0m\u001b[0mindexer\u001b[0m\u001b[1;33m)\u001b[0m\u001b[1;33m\u001b[0m\u001b[1;33m\u001b[0m\u001b[0m\n",
      "\u001b[1;31mKeyError\u001b[0m: \"['model'] not found in axis\""
     ]
    }
   ],
   "source": [
    "#committing car model cleaning to original dataframe\n",
    "\n",
    "df = df[df['car_model'].isin(only_common_models['car_model'].tolist())]\n",
    "df.drop('model', axis = 1, inplace = True)\n",
    "df.shape"
   ]
  },
  {
   "cell_type": "code",
   "execution_count": 29,
   "metadata": {
    "execution": {
     "iopub.execute_input": "2021-01-09T10:28:05.766485Z",
     "iopub.status.busy": "2021-01-09T10:28:05.765610Z",
     "iopub.status.idle": "2021-01-09T10:28:05.770478Z",
     "shell.execute_reply": "2021-01-09T10:28:05.769931Z"
    },
    "papermill": {
     "duration": 0.114841,
     "end_time": "2021-01-09T10:28:05.770588",
     "exception": false,
     "start_time": "2021-01-09T10:28:05.655747",
     "status": "completed"
    },
    "tags": []
   },
   "outputs": [
    {
     "data": {
      "text/html": [
       "<div>\n",
       "<style scoped>\n",
       "    .dataframe tbody tr th:only-of-type {\n",
       "        vertical-align: middle;\n",
       "    }\n",
       "\n",
       "    .dataframe tbody tr th {\n",
       "        vertical-align: top;\n",
       "    }\n",
       "\n",
       "    .dataframe thead th {\n",
       "        text-align: right;\n",
       "    }\n",
       "</style>\n",
       "<table border=\"1\" class=\"dataframe\">\n",
       "  <thead>\n",
       "    <tr style=\"text-align: right;\">\n",
       "      <th></th>\n",
       "      <th>region</th>\n",
       "      <th>price</th>\n",
       "      <th>year</th>\n",
       "      <th>manufacturer</th>\n",
       "      <th>condition</th>\n",
       "      <th>cylinders</th>\n",
       "      <th>fuel</th>\n",
       "      <th>odometer</th>\n",
       "      <th>title_status</th>\n",
       "      <th>transmission</th>\n",
       "      <th>drive</th>\n",
       "      <th>type</th>\n",
       "      <th>paint_color</th>\n",
       "      <th>state</th>\n",
       "      <th>car_model</th>\n",
       "    </tr>\n",
       "  </thead>\n",
       "  <tbody>\n",
       "    <tr>\n",
       "      <th>0</th>\n",
       "      <td>auburn</td>\n",
       "      <td>35990</td>\n",
       "      <td>2010.0</td>\n",
       "      <td>chevrolet</td>\n",
       "      <td>good</td>\n",
       "      <td>8 cylinders</td>\n",
       "      <td>gas</td>\n",
       "      <td>32742.0</td>\n",
       "      <td>clean</td>\n",
       "      <td>other</td>\n",
       "      <td>rwd</td>\n",
       "      <td>other</td>\n",
       "      <td>unknown</td>\n",
       "      <td>al</td>\n",
       "      <td>chevrolet corvette</td>\n",
       "    </tr>\n",
       "    <tr>\n",
       "      <th>1</th>\n",
       "      <td>auburn</td>\n",
       "      <td>7500</td>\n",
       "      <td>2014.0</td>\n",
       "      <td>hyundai</td>\n",
       "      <td>excellent</td>\n",
       "      <td>4 cylinders</td>\n",
       "      <td>gas</td>\n",
       "      <td>93600.0</td>\n",
       "      <td>clean</td>\n",
       "      <td>automatic</td>\n",
       "      <td>fwd</td>\n",
       "      <td>sedan</td>\n",
       "      <td>unknown</td>\n",
       "      <td>al</td>\n",
       "      <td>hyundai sonata</td>\n",
       "    </tr>\n",
       "    <tr>\n",
       "      <th>2</th>\n",
       "      <td>auburn</td>\n",
       "      <td>4900</td>\n",
       "      <td>2006.0</td>\n",
       "      <td>bmw</td>\n",
       "      <td>good</td>\n",
       "      <td>6 cylinders</td>\n",
       "      <td>gas</td>\n",
       "      <td>87046.0</td>\n",
       "      <td>clean</td>\n",
       "      <td>automatic</td>\n",
       "      <td>NaN</td>\n",
       "      <td>SUV</td>\n",
       "      <td>blue</td>\n",
       "      <td>al</td>\n",
       "      <td>bmw x3</td>\n",
       "    </tr>\n",
       "    <tr>\n",
       "      <th>5</th>\n",
       "      <td>auburn</td>\n",
       "      <td>29590</td>\n",
       "      <td>2016.0</td>\n",
       "      <td>toyota</td>\n",
       "      <td>good</td>\n",
       "      <td>6 cylinders</td>\n",
       "      <td>gas</td>\n",
       "      <td>33290.0</td>\n",
       "      <td>clean</td>\n",
       "      <td>other</td>\n",
       "      <td>NaN</td>\n",
       "      <td>pickup</td>\n",
       "      <td>red</td>\n",
       "      <td>al</td>\n",
       "      <td>toyota tacoma</td>\n",
       "    </tr>\n",
       "    <tr>\n",
       "      <th>6</th>\n",
       "      <td>auburn</td>\n",
       "      <td>39990</td>\n",
       "      <td>2012.0</td>\n",
       "      <td>ford</td>\n",
       "      <td>good</td>\n",
       "      <td>8 cylinders</td>\n",
       "      <td>gas</td>\n",
       "      <td>9692.0</td>\n",
       "      <td>clean</td>\n",
       "      <td>other</td>\n",
       "      <td>rwd</td>\n",
       "      <td>coupe</td>\n",
       "      <td>blue</td>\n",
       "      <td>al</td>\n",
       "      <td>ford mustang</td>\n",
       "    </tr>\n",
       "  </tbody>\n",
       "</table>\n",
       "</div>"
      ],
      "text/plain": [
       "   region  price    year manufacturer  condition    cylinders fuel  odometer  \\\n",
       "0  auburn  35990  2010.0    chevrolet       good  8 cylinders  gas   32742.0   \n",
       "1  auburn   7500  2014.0      hyundai  excellent  4 cylinders  gas   93600.0   \n",
       "2  auburn   4900  2006.0          bmw       good  6 cylinders  gas   87046.0   \n",
       "5  auburn  29590  2016.0       toyota       good  6 cylinders  gas   33290.0   \n",
       "6  auburn  39990  2012.0         ford       good  8 cylinders  gas    9692.0   \n",
       "\n",
       "  title_status transmission drive    type paint_color state  \\\n",
       "0        clean        other   rwd   other     unknown    al   \n",
       "1        clean    automatic   fwd   sedan     unknown    al   \n",
       "2        clean    automatic   NaN     SUV        blue    al   \n",
       "5        clean        other   NaN  pickup         red    al   \n",
       "6        clean        other   rwd   coupe        blue    al   \n",
       "\n",
       "            car_model  \n",
       "0  chevrolet corvette  \n",
       "1      hyundai sonata  \n",
       "2              bmw x3  \n",
       "5       toyota tacoma  \n",
       "6        ford mustang  "
      ]
     },
     "execution_count": 29,
     "metadata": {},
     "output_type": "execute_result"
    }
   ],
   "source": [
    "df.head()"
   ]
  },
  {
   "cell_type": "markdown",
   "metadata": {
    "papermill": {
     "duration": 0.0959,
     "end_time": "2021-01-09T10:28:05.963023",
     "exception": false,
     "start_time": "2021-01-09T10:28:05.867123",
     "status": "completed"
    },
    "tags": []
   },
   "source": [
    "### Replacing missing values with reasonable proxies"
   ]
  },
  {
   "cell_type": "code",
   "execution_count": 30,
   "metadata": {
    "execution": {
     "iopub.execute_input": "2021-01-09T10:28:06.258789Z",
     "iopub.status.busy": "2021-01-09T10:28:06.258001Z",
     "iopub.status.idle": "2021-01-09T10:28:06.264458Z",
     "shell.execute_reply": "2021-01-09T10:28:06.263946Z"
    },
    "papermill": {
     "duration": 0.203587,
     "end_time": "2021-01-09T10:28:06.264570",
     "exception": false,
     "start_time": "2021-01-09T10:28:06.060983",
     "status": "completed"
    },
    "tags": []
   },
   "outputs": [
    {
     "name": "stderr",
     "output_type": "stream",
     "text": [
      "<ipython-input-30-61fb40e5a7cb>:19: SettingWithCopyWarning: \n",
      "A value is trying to be set on a copy of a slice from a DataFrame.\n",
      "Try using .loc[row_indexer,col_indexer] = value instead\n",
      "\n",
      "See the caveats in the documentation: https://pandas.pydata.org/pandas-docs/stable/user_guide/indexing.html#returning-a-view-versus-a-copy\n",
      "  df['cylinders'] = li\n"
     ]
    },
    {
     "data": {
      "text/plain": [
       "array(['8 cylinders', '4 cylinders', '6 cylinders', '10 cylinders',\n",
       "       '5 cylinders', '3 cylinders', '7 cylinders', '12 cylinders'],\n",
       "      dtype=object)"
      ]
     },
     "execution_count": 30,
     "metadata": {},
     "output_type": "execute_result"
    }
   ],
   "source": [
    "#replace missing number of cylinders with median of car model & delete 'other'\n",
    "\n",
    "df = df[df['cylinders'] != 'other']\n",
    "dftest = df.copy()\n",
    "test = df[df['cylinders'].notnull()].copy()\n",
    "test['cylinders'] = [int(cyl.split()[0]) for cyl in test['cylinders']]\n",
    "med = test.groupby('car_model')['cylinders'].median()\n",
    "merged = pd.merge(dftest, med, on = 'car_model', how = 'left')\n",
    "merged['cylinders_y'].fillna(med.median(), inplace = True)\n",
    "merged['cylinders_x'].fillna(merged['cylinders_y'], inplace = True)\n",
    "\n",
    "li = []\n",
    "for cyl in merged['cylinders_x']:\n",
    "    if type(cyl) == str:\n",
    "        li.append(cyl)\n",
    "    else:\n",
    "        li.append(str(int(cyl)) + \" cylinders\")\n",
    "\n",
    "df['cylinders'] = li\n",
    "df['cylinders'].unique()"
   ]
  },
  {
   "cell_type": "code",
   "execution_count": 31,
   "metadata": {
    "execution": {
     "iopub.execute_input": "2021-01-09T10:28:06.464102Z",
     "iopub.status.busy": "2021-01-09T10:28:06.463414Z",
     "iopub.status.idle": "2021-01-09T10:28:06.479233Z",
     "shell.execute_reply": "2021-01-09T10:28:06.478545Z"
    },
    "papermill": {
     "duration": 0.119203,
     "end_time": "2021-01-09T10:28:06.479342",
     "exception": false,
     "start_time": "2021-01-09T10:28:06.360139",
     "status": "completed"
    },
    "tags": []
   },
   "outputs": [
    {
     "name": "stderr",
     "output_type": "stream",
     "text": [
      "<ipython-input-31-a5ca647b7fc4>:9: SettingWithCopyWarning: \n",
      "A value is trying to be set on a copy of a slice from a DataFrame.\n",
      "Try using .loc[row_indexer,col_indexer] = value instead\n",
      "\n",
      "See the caveats in the documentation: https://pandas.pydata.org/pandas-docs/stable/user_guide/indexing.html#returning-a-view-versus-a-copy\n",
      "  df['drive'] = merged['drive_x'].tolist()\n"
     ]
    },
    {
     "data": {
      "text/plain": [
       "array(['rwd', 'fwd', '4wd'], dtype=object)"
      ]
     },
     "execution_count": 31,
     "metadata": {},
     "output_type": "execute_result"
    }
   ],
   "source": [
    "#replace drive with mode drive of car model\n",
    "\n",
    "dftest = df.copy()\n",
    "test = df[df['drive'].notnull()].copy()\n",
    "mode = test.groupby('car_model')['drive'].agg(pd.Series.mode)\n",
    "merged = pd.merge(dftest, mode, on = 'car_model', how = 'left')\n",
    "merged['drive_x'].fillna(merged['drive_y'], inplace = True)\n",
    "\n",
    "df['drive'] = merged['drive_x'].tolist()\n",
    "df['drive'].unique()"
   ]
  },
  {
   "cell_type": "code",
   "execution_count": 32,
   "metadata": {
    "execution": {
     "iopub.execute_input": "2021-01-09T10:28:06.692033Z",
     "iopub.status.busy": "2021-01-09T10:28:06.683060Z",
     "iopub.status.idle": "2021-01-09T10:28:06.698263Z",
     "shell.execute_reply": "2021-01-09T10:28:06.698854Z"
    },
    "papermill": {
     "duration": 0.122333,
     "end_time": "2021-01-09T10:28:06.699010",
     "exception": false,
     "start_time": "2021-01-09T10:28:06.576677",
     "status": "completed"
    },
    "tags": []
   },
   "outputs": [
    {
     "name": "stderr",
     "output_type": "stream",
     "text": [
      "<ipython-input-32-28df1ba0a29f>:12: SettingWithCopyWarning: \n",
      "A value is trying to be set on a copy of a slice from a DataFrame.\n",
      "Try using .loc[row_indexer,col_indexer] = value instead\n",
      "\n",
      "See the caveats in the documentation: https://pandas.pydata.org/pandas-docs/stable/user_guide/indexing.html#returning-a-view-versus-a-copy\n",
      "  df['type'] = merged['type_x'].tolist()\n"
     ]
    },
    {
     "data": {
      "text/plain": [
       "array(['other', 'sedan', 'SUV', 'pickup', 'coupe', 'van', 'mini-van',\n",
       "       'wagon', 'convertible', 'hatchback', 'truck', 'offroad', 'bus'],\n",
       "      dtype=object)"
      ]
     },
     "execution_count": 32,
     "metadata": {},
     "output_type": "execute_result"
    }
   ],
   "source": [
    "#replace type with mode type of car model\n",
    "\n",
    "dftest = df.copy()\n",
    "test = df[df['type'].notnull()].copy()\n",
    "mode = test.groupby('car_model')['type'].agg(pd.Series.mode)\n",
    "for i in mode.index:\n",
    "    if type(mode[i]) != str:\n",
    "        mode[i] = mode[i][0]\n",
    "merged = pd.merge(dftest, mode, on = 'car_model', how = 'left')\n",
    "merged['type_x'].fillna(merged['type_y'], inplace = True)\n",
    "\n",
    "df['type'] = merged['type_x'].tolist()\n",
    "df['type'].unique()"
   ]
  },
  {
   "cell_type": "code",
   "execution_count": 33,
   "metadata": {
    "execution": {
     "iopub.execute_input": "2021-01-09T10:28:06.898314Z",
     "iopub.status.busy": "2021-01-09T10:28:06.897627Z",
     "iopub.status.idle": "2021-01-09T10:28:06.912130Z",
     "shell.execute_reply": "2021-01-09T10:28:06.912723Z"
    },
    "papermill": {
     "duration": 0.116071,
     "end_time": "2021-01-09T10:28:06.912872",
     "exception": false,
     "start_time": "2021-01-09T10:28:06.796801",
     "status": "completed"
    },
    "tags": []
   },
   "outputs": [
    {
     "data": {
      "text/plain": [
       "region          0\n",
       "price           0\n",
       "year            0\n",
       "manufacturer    0\n",
       "condition       0\n",
       "cylinders       0\n",
       "fuel            0\n",
       "odometer        0\n",
       "title_status    0\n",
       "transmission    0\n",
       "drive           0\n",
       "type            0\n",
       "paint_color     0\n",
       "state           0\n",
       "car_model       0\n",
       "dtype: int64"
      ]
     },
     "execution_count": 33,
     "metadata": {},
     "output_type": "execute_result"
    }
   ],
   "source": [
    "#all the missing values are handled\n",
    "\n",
    "df.isnull().sum()"
   ]
  },
  {
   "cell_type": "markdown",
   "metadata": {
    "papermill": {
     "duration": 0.098177,
     "end_time": "2021-01-09T10:28:07.109348",
     "exception": false,
     "start_time": "2021-01-09T10:28:07.011171",
     "status": "completed"
    },
    "tags": []
   },
   "source": [
    "### Handling price outliers"
   ]
  },
  {
   "cell_type": "code",
   "execution_count": 34,
   "metadata": {
    "execution": {
     "iopub.execute_input": "2021-01-09T10:28:07.311419Z",
     "iopub.status.busy": "2021-01-09T10:28:07.310788Z",
     "iopub.status.idle": "2021-01-09T10:28:07.329182Z",
     "shell.execute_reply": "2021-01-09T10:28:07.328486Z"
    },
    "papermill": {
     "duration": 0.119642,
     "end_time": "2021-01-09T10:28:07.329299",
     "exception": false,
     "start_time": "2021-01-09T10:28:07.209657",
     "status": "completed"
    },
    "tags": []
   },
   "outputs": [
    {
     "data": {
      "text/plain": [
       "(307422, 15)"
      ]
     },
     "execution_count": 34,
     "metadata": {},
     "output_type": "execute_result"
    }
   ],
   "source": [
    "#get rid of overpriced cars: overpriced = more than 3 times the average for this model\n",
    "\n",
    "df = df[df['price'] < (3 * df.groupby('car_model')['price'].transform('mean'))]\n",
    "df.shape"
   ]
  },
  {
   "cell_type": "markdown",
   "metadata": {
    "papermill": {
     "duration": 0.098797,
     "end_time": "2021-01-09T10:28:07.526426",
     "exception": false,
     "start_time": "2021-01-09T10:28:07.427629",
     "status": "completed"
    },
    "tags": []
   },
   "source": [
    "### Dropping columns with redundant information"
   ]
  },
  {
   "cell_type": "code",
   "execution_count": 36,
   "metadata": {
    "execution": {
     "iopub.execute_input": "2021-01-09T10:28:07.785808Z",
     "iopub.status.busy": "2021-01-09T10:28:07.785075Z",
     "iopub.status.idle": "2021-01-09T10:28:07.788968Z",
     "shell.execute_reply": "2021-01-09T10:28:07.789517Z"
    },
    "papermill": {
     "duration": 0.120169,
     "end_time": "2021-01-09T10:28:07.789695",
     "exception": false,
     "start_time": "2021-01-09T10:28:07.669526",
     "status": "completed"
    },
    "tags": []
   },
   "outputs": [
    {
     "ename": "KeyError",
     "evalue": "\"['title_status'] not found in axis\"",
     "output_type": "error",
     "traceback": [
      "\u001b[1;31m---------------------------------------------------------------------------\u001b[0m",
      "\u001b[1;31mKeyError\u001b[0m                                  Traceback (most recent call last)",
      "\u001b[1;32m<ipython-input-36-f65d3423b06e>\u001b[0m in \u001b[0;36m<module>\u001b[1;34m\u001b[0m\n\u001b[0;32m      1\u001b[0m \u001b[1;31m#get rid of 'title_status' since it is 'clean' for every instance\u001b[0m\u001b[1;33m\u001b[0m\u001b[1;33m\u001b[0m\u001b[1;33m\u001b[0m\u001b[0m\n\u001b[0;32m      2\u001b[0m \u001b[1;33m\u001b[0m\u001b[0m\n\u001b[1;32m----> 3\u001b[1;33m \u001b[0mdf\u001b[0m\u001b[1;33m.\u001b[0m\u001b[0mdrop\u001b[0m\u001b[1;33m(\u001b[0m\u001b[1;34m'title_status'\u001b[0m\u001b[1;33m,\u001b[0m \u001b[0maxis\u001b[0m \u001b[1;33m=\u001b[0m \u001b[1;36m1\u001b[0m\u001b[1;33m,\u001b[0m \u001b[0minplace\u001b[0m \u001b[1;33m=\u001b[0m \u001b[1;32mTrue\u001b[0m\u001b[1;33m)\u001b[0m\u001b[1;33m\u001b[0m\u001b[1;33m\u001b[0m\u001b[0m\n\u001b[0m\u001b[0;32m      4\u001b[0m \u001b[0mdf\u001b[0m\u001b[1;33m.\u001b[0m\u001b[0mshape\u001b[0m\u001b[1;33m\u001b[0m\u001b[1;33m\u001b[0m\u001b[0m\n",
      "\u001b[1;32m~\\anaconda3\\lib\\site-packages\\pandas\\core\\frame.py\u001b[0m in \u001b[0;36mdrop\u001b[1;34m(self, labels, axis, index, columns, level, inplace, errors)\u001b[0m\n\u001b[0;32m   3988\u001b[0m                 \u001b[0mweight\u001b[0m  \u001b[1;36m1.0\u001b[0m     \u001b[1;36m0.8\u001b[0m\u001b[1;33m\u001b[0m\u001b[1;33m\u001b[0m\u001b[0m\n\u001b[0;32m   3989\u001b[0m         \"\"\"\n\u001b[1;32m-> 3990\u001b[1;33m         return super().drop(\n\u001b[0m\u001b[0;32m   3991\u001b[0m             \u001b[0mlabels\u001b[0m\u001b[1;33m=\u001b[0m\u001b[0mlabels\u001b[0m\u001b[1;33m,\u001b[0m\u001b[1;33m\u001b[0m\u001b[1;33m\u001b[0m\u001b[0m\n\u001b[0;32m   3992\u001b[0m             \u001b[0maxis\u001b[0m\u001b[1;33m=\u001b[0m\u001b[0maxis\u001b[0m\u001b[1;33m,\u001b[0m\u001b[1;33m\u001b[0m\u001b[1;33m\u001b[0m\u001b[0m\n",
      "\u001b[1;32m~\\anaconda3\\lib\\site-packages\\pandas\\core\\generic.py\u001b[0m in \u001b[0;36mdrop\u001b[1;34m(self, labels, axis, index, columns, level, inplace, errors)\u001b[0m\n\u001b[0;32m   3934\u001b[0m         \u001b[1;32mfor\u001b[0m \u001b[0maxis\u001b[0m\u001b[1;33m,\u001b[0m \u001b[0mlabels\u001b[0m \u001b[1;32min\u001b[0m \u001b[0maxes\u001b[0m\u001b[1;33m.\u001b[0m\u001b[0mitems\u001b[0m\u001b[1;33m(\u001b[0m\u001b[1;33m)\u001b[0m\u001b[1;33m:\u001b[0m\u001b[1;33m\u001b[0m\u001b[1;33m\u001b[0m\u001b[0m\n\u001b[0;32m   3935\u001b[0m             \u001b[1;32mif\u001b[0m \u001b[0mlabels\u001b[0m \u001b[1;32mis\u001b[0m \u001b[1;32mnot\u001b[0m \u001b[1;32mNone\u001b[0m\u001b[1;33m:\u001b[0m\u001b[1;33m\u001b[0m\u001b[1;33m\u001b[0m\u001b[0m\n\u001b[1;32m-> 3936\u001b[1;33m                 \u001b[0mobj\u001b[0m \u001b[1;33m=\u001b[0m \u001b[0mobj\u001b[0m\u001b[1;33m.\u001b[0m\u001b[0m_drop_axis\u001b[0m\u001b[1;33m(\u001b[0m\u001b[0mlabels\u001b[0m\u001b[1;33m,\u001b[0m \u001b[0maxis\u001b[0m\u001b[1;33m,\u001b[0m \u001b[0mlevel\u001b[0m\u001b[1;33m=\u001b[0m\u001b[0mlevel\u001b[0m\u001b[1;33m,\u001b[0m \u001b[0merrors\u001b[0m\u001b[1;33m=\u001b[0m\u001b[0merrors\u001b[0m\u001b[1;33m)\u001b[0m\u001b[1;33m\u001b[0m\u001b[1;33m\u001b[0m\u001b[0m\n\u001b[0m\u001b[0;32m   3937\u001b[0m \u001b[1;33m\u001b[0m\u001b[0m\n\u001b[0;32m   3938\u001b[0m         \u001b[1;32mif\u001b[0m \u001b[0minplace\u001b[0m\u001b[1;33m:\u001b[0m\u001b[1;33m\u001b[0m\u001b[1;33m\u001b[0m\u001b[0m\n",
      "\u001b[1;32m~\\anaconda3\\lib\\site-packages\\pandas\\core\\generic.py\u001b[0m in \u001b[0;36m_drop_axis\u001b[1;34m(self, labels, axis, level, errors)\u001b[0m\n\u001b[0;32m   3968\u001b[0m                 \u001b[0mnew_axis\u001b[0m \u001b[1;33m=\u001b[0m \u001b[0maxis\u001b[0m\u001b[1;33m.\u001b[0m\u001b[0mdrop\u001b[0m\u001b[1;33m(\u001b[0m\u001b[0mlabels\u001b[0m\u001b[1;33m,\u001b[0m \u001b[0mlevel\u001b[0m\u001b[1;33m=\u001b[0m\u001b[0mlevel\u001b[0m\u001b[1;33m,\u001b[0m \u001b[0merrors\u001b[0m\u001b[1;33m=\u001b[0m\u001b[0merrors\u001b[0m\u001b[1;33m)\u001b[0m\u001b[1;33m\u001b[0m\u001b[1;33m\u001b[0m\u001b[0m\n\u001b[0;32m   3969\u001b[0m             \u001b[1;32melse\u001b[0m\u001b[1;33m:\u001b[0m\u001b[1;33m\u001b[0m\u001b[1;33m\u001b[0m\u001b[0m\n\u001b[1;32m-> 3970\u001b[1;33m                 \u001b[0mnew_axis\u001b[0m \u001b[1;33m=\u001b[0m \u001b[0maxis\u001b[0m\u001b[1;33m.\u001b[0m\u001b[0mdrop\u001b[0m\u001b[1;33m(\u001b[0m\u001b[0mlabels\u001b[0m\u001b[1;33m,\u001b[0m \u001b[0merrors\u001b[0m\u001b[1;33m=\u001b[0m\u001b[0merrors\u001b[0m\u001b[1;33m)\u001b[0m\u001b[1;33m\u001b[0m\u001b[1;33m\u001b[0m\u001b[0m\n\u001b[0m\u001b[0;32m   3971\u001b[0m             \u001b[0mresult\u001b[0m \u001b[1;33m=\u001b[0m \u001b[0mself\u001b[0m\u001b[1;33m.\u001b[0m\u001b[0mreindex\u001b[0m\u001b[1;33m(\u001b[0m\u001b[1;33m**\u001b[0m\u001b[1;33m{\u001b[0m\u001b[0maxis_name\u001b[0m\u001b[1;33m:\u001b[0m \u001b[0mnew_axis\u001b[0m\u001b[1;33m}\u001b[0m\u001b[1;33m)\u001b[0m\u001b[1;33m\u001b[0m\u001b[1;33m\u001b[0m\u001b[0m\n\u001b[0;32m   3972\u001b[0m \u001b[1;33m\u001b[0m\u001b[0m\n",
      "\u001b[1;32m~\\anaconda3\\lib\\site-packages\\pandas\\core\\indexes\\base.py\u001b[0m in \u001b[0;36mdrop\u001b[1;34m(self, labels, errors)\u001b[0m\n\u001b[0;32m   5016\u001b[0m         \u001b[1;32mif\u001b[0m \u001b[0mmask\u001b[0m\u001b[1;33m.\u001b[0m\u001b[0many\u001b[0m\u001b[1;33m(\u001b[0m\u001b[1;33m)\u001b[0m\u001b[1;33m:\u001b[0m\u001b[1;33m\u001b[0m\u001b[1;33m\u001b[0m\u001b[0m\n\u001b[0;32m   5017\u001b[0m             \u001b[1;32mif\u001b[0m \u001b[0merrors\u001b[0m \u001b[1;33m!=\u001b[0m \u001b[1;34m\"ignore\"\u001b[0m\u001b[1;33m:\u001b[0m\u001b[1;33m\u001b[0m\u001b[1;33m\u001b[0m\u001b[0m\n\u001b[1;32m-> 5018\u001b[1;33m                 \u001b[1;32mraise\u001b[0m \u001b[0mKeyError\u001b[0m\u001b[1;33m(\u001b[0m\u001b[1;34mf\"{labels[mask]} not found in axis\"\u001b[0m\u001b[1;33m)\u001b[0m\u001b[1;33m\u001b[0m\u001b[1;33m\u001b[0m\u001b[0m\n\u001b[0m\u001b[0;32m   5019\u001b[0m             \u001b[0mindexer\u001b[0m \u001b[1;33m=\u001b[0m \u001b[0mindexer\u001b[0m\u001b[1;33m[\u001b[0m\u001b[1;33m~\u001b[0m\u001b[0mmask\u001b[0m\u001b[1;33m]\u001b[0m\u001b[1;33m\u001b[0m\u001b[1;33m\u001b[0m\u001b[0m\n\u001b[0;32m   5020\u001b[0m         \u001b[1;32mreturn\u001b[0m \u001b[0mself\u001b[0m\u001b[1;33m.\u001b[0m\u001b[0mdelete\u001b[0m\u001b[1;33m(\u001b[0m\u001b[0mindexer\u001b[0m\u001b[1;33m)\u001b[0m\u001b[1;33m\u001b[0m\u001b[1;33m\u001b[0m\u001b[0m\n",
      "\u001b[1;31mKeyError\u001b[0m: \"['title_status'] not found in axis\""
     ]
    }
   ],
   "source": [
    "#get rid of 'title_status' since it is 'clean' for every instance\n",
    "\n",
    "df.drop('title_status', axis = 1, inplace = True)\n",
    "df.shape"
   ]
  },
  {
   "cell_type": "code",
   "execution_count": 37,
   "metadata": {
    "execution": {
     "iopub.execute_input": "2021-01-09T10:28:07.991272Z",
     "iopub.status.busy": "2021-01-09T10:28:07.990556Z",
     "iopub.status.idle": "2021-01-09T10:28:08.006908Z",
     "shell.execute_reply": "2021-01-09T10:28:08.007425Z"
    },
    "papermill": {
     "duration": 0.118776,
     "end_time": "2021-01-09T10:28:08.007584",
     "exception": false,
     "start_time": "2021-01-09T10:28:07.888808",
     "status": "completed"
    },
    "tags": []
   },
   "outputs": [
    {
     "data": {
      "text/plain": [
       "(307422, 13)"
      ]
     },
     "execution_count": 37,
     "metadata": {},
     "output_type": "execute_result"
    }
   ],
   "source": [
    "#region & state contain same information (certain region is always in the same state)\n",
    "\n",
    "df.drop('region', axis = 1, inplace = True)\n",
    "df.shape"
   ]
  },
  {
   "cell_type": "markdown",
   "metadata": {
    "papermill": {
     "duration": 0.099444,
     "end_time": "2021-01-09T10:28:08.211471",
     "exception": false,
     "start_time": "2021-01-09T10:28:08.112027",
     "status": "completed"
    },
    "tags": []
   },
   "source": [
    "### Making a backup and saving the data"
   ]
  },
  {
   "cell_type": "code",
   "execution_count": 38,
   "metadata": {
    "execution": {
     "iopub.execute_input": "2021-01-09T10:28:08.416790Z",
     "iopub.status.busy": "2021-01-09T10:28:08.416092Z",
     "iopub.status.idle": "2021-01-09T10:28:08.431819Z",
     "shell.execute_reply": "2021-01-09T10:28:08.432363Z"
    },
    "papermill": {
     "duration": 0.120012,
     "end_time": "2021-01-09T10:28:08.432522",
     "exception": false,
     "start_time": "2021-01-09T10:28:08.312510",
     "status": "completed"
    },
    "tags": []
   },
   "outputs": [],
   "source": [
    "clean = df.copy()"
   ]
  },
  {
   "cell_type": "code",
   "execution_count": 39,
   "metadata": {
    "execution": {
     "iopub.execute_input": "2021-01-09T10:28:08.639924Z",
     "iopub.status.busy": "2021-01-09T10:28:08.639218Z",
     "iopub.status.idle": "2021-01-09T10:28:08.654524Z",
     "shell.execute_reply": "2021-01-09T10:28:08.655079Z"
    },
    "papermill": {
     "duration": 0.119782,
     "end_time": "2021-01-09T10:28:08.655267",
     "exception": false,
     "start_time": "2021-01-09T10:28:08.535485",
     "status": "completed"
    },
    "tags": []
   },
   "outputs": [],
   "source": [
    "df.to_csv('clean.csv', index = False)"
   ]
  },
  {
   "cell_type": "markdown",
   "metadata": {
    "papermill": {
     "duration": 0.102147,
     "end_time": "2021-01-09T10:28:08.860306",
     "exception": false,
     "start_time": "2021-01-09T10:28:08.758159",
     "status": "completed"
    },
    "tags": []
   },
   "source": [
    "## Feature Engineering/Selection"
   ]
  },
  {
   "cell_type": "markdown",
   "metadata": {
    "papermill": {
     "duration": 0.101413,
     "end_time": "2021-01-09T10:28:09.064361",
     "exception": false,
     "start_time": "2021-01-09T10:28:08.962948",
     "status": "completed"
    },
    "tags": []
   },
   "source": [
    "### Creating modeling and k-fold cross validation functions"
   ]
  },
  {
   "cell_type": "code",
   "execution_count": 40,
   "metadata": {
    "execution": {
     "iopub.execute_input": "2021-01-09T10:28:09.283198Z",
     "iopub.status.busy": "2021-01-09T10:28:09.282467Z",
     "iopub.status.idle": "2021-01-09T10:28:09.285818Z",
     "shell.execute_reply": "2021-01-09T10:28:09.285103Z"
    },
    "papermill": {
     "duration": 0.11988,
     "end_time": "2021-01-09T10:28:09.285943",
     "exception": false,
     "start_time": "2021-01-09T10:28:09.166063",
     "status": "completed"
    },
    "tags": []
   },
   "outputs": [],
   "source": [
    "#creates model as defined in 'reg' and returns test & train evaluation metrics\n",
    "#default is 80/20 train-test split: industry standard\n",
    "\n",
    "def updateModel(datafr, test_percentage = 0.2, seed = 7):\n",
    "    \n",
    "    #train-test split\n",
    "    X = datafr.drop('price', axis = 1)\n",
    "    y = datafr['price']\n",
    "    X_train, X_test, y_train, y_test = train_test_split(X, y, test_size = test_percentage, random_state = seed)\n",
    "    X_train = pd.get_dummies(X_train, drop_first = True)\n",
    "    X_test = pd.get_dummies(X_test, drop_first = True)\n",
    "    \n",
    "    #feature scaling\n",
    "    sc = StandardScaler()\n",
    "    X_train = sc.fit_transform(X_train)\n",
    "    X_test = sc.transform(X_test)\n",
    "    \n",
    "    #making model + predicting\n",
    "    reg.fit(X_train, y_train)\n",
    "    y_pred_test = reg.predict(X_test)\n",
    "    y_pred_train = reg.predict(X_train)\n",
    "    \n",
    "    #computing test & train metrics\n",
    "    test_metrics = {'r2': round(r2_score(y_test, y_pred_test) * 100, 2),\n",
    "           'mae': round(mean_absolute_error(y_test, y_pred_test), 2),\n",
    "           'mse': round(mean_squared_error(y_test, y_pred_test), 2),\n",
    "           'mape': round(mean_absolute_percentage_error(y_test, y_pred_test) * 100, 2)\n",
    "           }\n",
    "    train_metrics = {'r2': round(r2_score(y_train, y_pred_train) * 100, 2),\n",
    "           'mae': round(mean_absolute_error(y_train, y_pred_train), 2),\n",
    "           'mse': round(mean_squared_error(y_train, y_pred_train), 2),\n",
    "           'mape': round(mean_absolute_percentage_error(y_train, y_pred_train) * 100, 2)\n",
    "           }\n",
    "    \n",
    "    return {'test_metrics': test_metrics,\n",
    "            'train_metrics': train_metrics}"
   ]
  },
  {
   "cell_type": "code",
   "execution_count": 41,
   "metadata": {
    "execution": {
     "iopub.execute_input": "2021-01-09T10:28:09.496901Z",
     "iopub.status.busy": "2021-01-09T10:28:09.496015Z",
     "iopub.status.idle": "2021-01-09T10:28:09.499428Z",
     "shell.execute_reply": "2021-01-09T10:28:09.498744Z"
    },
    "papermill": {
     "duration": 0.111577,
     "end_time": "2021-01-09T10:28:09.499543",
     "exception": false,
     "start_time": "2021-01-09T10:28:09.387966",
     "status": "completed"
    },
    "tags": []
   },
   "outputs": [],
   "source": [
    "#creates model as defined in 'reg' and returns k fold cross validation metrics\n",
    "#default is 5-fold CV: industry standard & default scoring is MAE because of easy interpretation\n",
    "\n",
    "def get_kCVscores(datafr, k = 5, scoring = 'neg_mean_absolute_error'):\n",
    "    X = datafr.drop('price', axis = 1)\n",
    "    X = pd.get_dummies(X, drop_first = True)\n",
    "    y = datafr['price']\n",
    "    return (cross_val_score(reg, X, y, cv = k, scoring = scoring) * (-1))"
   ]
  },
  {
   "cell_type": "code",
   "execution_count": 42,
   "metadata": {
    "execution": {
     "iopub.execute_input": "2021-01-09T10:28:09.711849Z",
     "iopub.status.busy": "2021-01-09T10:28:09.711021Z",
     "iopub.status.idle": "2021-01-09T10:28:09.714357Z",
     "shell.execute_reply": "2021-01-09T10:28:09.713805Z"
    },
    "papermill": {
     "duration": 0.111168,
     "end_time": "2021-01-09T10:28:09.714470",
     "exception": false,
     "start_time": "2021-01-09T10:28:09.603302",
     "status": "completed"
    },
    "tags": []
   },
   "outputs": [],
   "source": [
    "#K-means clustering function\n",
    "def k_means_clustering(datafr, k):\n",
    "    df_to_return = datafr.copy()\n",
    "    df_with_dummies = pd.get_dummies(datafr, drop_first = True)\n",
    "    km = KMeans(n_clusters = k)\n",
    "    df_to_return['cluster'] = km.fit_predict(df_with_dummies)\n",
    "    \n",
    "    return df_to_return"
   ]
  },
  {
   "cell_type": "markdown",
   "metadata": {
    "papermill": {
     "duration": 0.101753,
     "end_time": "2021-01-09T10:28:09.918802",
     "exception": false,
     "start_time": "2021-01-09T10:28:09.817049",
     "status": "completed"
    },
    "tags": []
   },
   "source": [
    "### Baseline Linear Regression before feature engineering"
   ]
  },
  {
   "cell_type": "code",
   "execution_count": 43,
   "metadata": {
    "execution": {
     "iopub.execute_input": "2021-01-09T10:28:10.130803Z",
     "iopub.status.busy": "2021-01-09T10:28:10.129765Z",
     "iopub.status.idle": "2021-01-09T10:28:10.133681Z",
     "shell.execute_reply": "2021-01-09T10:28:10.133080Z"
    },
    "papermill": {
     "duration": 0.113391,
     "end_time": "2021-01-09T10:28:10.133795",
     "exception": false,
     "start_time": "2021-01-09T10:28:10.020404",
     "status": "completed"
    },
    "tags": []
   },
   "outputs": [],
   "source": [
    "reg = LinearRegression()"
   ]
  },
  {
   "cell_type": "code",
   "execution_count": 50,
   "metadata": {},
   "outputs": [],
   "source": [
    "def _check_reg_targets(y_true, y_pred, multioutput, dtype=\"numeric\"):\n",
    "    \"\"\"Check that y_true and y_pred belong to the same regression task.\n",
    "    Parameters\n",
    "    ----------\n",
    "    y_true : array-like\n",
    "    y_pred : array-like\n",
    "    multioutput : array-like or string in ['raw_values', uniform_average',\n",
    "        'variance_weighted'] or None\n",
    "        None is accepted due to backward compatibility of r2_score().\n",
    "    Returns\n",
    "    -------\n",
    "    type_true : one of {'continuous', continuous-multioutput'}\n",
    "        The type of the true target data, as output by\n",
    "        'utils.multiclass.type_of_target'.\n",
    "    y_true : array-like of shape (n_samples, n_outputs)\n",
    "        Ground truth (correct) target values.\n",
    "    y_pred : array-like of shape (n_samples, n_outputs)\n",
    "        Estimated target values.\n",
    "    multioutput : array-like of shape (n_outputs) or string in ['raw_values',\n",
    "        uniform_average', 'variance_weighted'] or None\n",
    "        Custom output weights if ``multioutput`` is array-like or\n",
    "        just the corresponding argument if ``multioutput`` is a\n",
    "        correct keyword.\n",
    "    dtype : str or list, default=\"numeric\"\n",
    "        the dtype argument passed to check_array.\n",
    "    \"\"\"\n",
    "    check_consistent_length(y_true, y_pred)\n",
    "    y_true = check_array(y_true, ensure_2d=False, dtype=dtype)\n",
    "    y_pred = check_array(y_pred, ensure_2d=False, dtype=dtype)\n",
    "\n",
    "    if y_true.ndim == 1:\n",
    "        y_true = y_true.reshape((-1, 1))\n",
    "\n",
    "    if y_pred.ndim == 1:\n",
    "        y_pred = y_pred.reshape((-1, 1))\n",
    "\n",
    "    if y_true.shape[1] != y_pred.shape[1]:\n",
    "        raise ValueError(\"y_true and y_pred have different number of output \"\n",
    "                         \"({0}!={1})\".format(y_true.shape[1], y_pred.shape[1]))\n",
    "\n",
    "    n_outputs = y_true.shape[1]\n",
    "    allowed_multioutput_str = ('raw_values', 'uniform_average',\n",
    "                               'variance_weighted')\n",
    "    if isinstance(multioutput, str):\n",
    "        if multioutput not in allowed_multioutput_str:\n",
    "            raise ValueError(\"Allowed 'multioutput' string values are {}. \"\n",
    "                             \"You provided multioutput={!r}\".format(\n",
    "                                 allowed_multioutput_str,\n",
    "                                 multioutput))\n",
    "    elif multioutput is not None:\n",
    "        multioutput = check_array(multioutput, ensure_2d=False)\n",
    "        if n_outputs == 1:\n",
    "            raise ValueError(\"Custom weights are useful only in \"\n",
    "                             \"multi-output cases.\")\n",
    "        elif n_outputs != len(multioutput):\n",
    "            raise ValueError((\"There must be equally many custom weights \"\n",
    "                              \"(%d) as outputs (%d).\") %\n",
    "                             (len(multioutput), n_outputs))\n",
    "    y_type = 'continuous' if n_outputs == 1 else 'continuous-multioutput'\n",
    "\n",
    "    return y_type, y_true, y_pred, multioutput\n"
   ]
  },
  {
   "cell_type": "code",
   "execution_count": 55,
   "metadata": {},
   "outputs": [],
   "source": [
    "\n",
    "from sklearn.utils.validation import (check_array, check_consistent_length,\n",
    "                                _num_samples)"
   ]
  },
  {
   "cell_type": "code",
   "execution_count": 56,
   "metadata": {
    "execution": {
     "iopub.execute_input": "2021-01-09T10:28:10.358204Z",
     "iopub.status.busy": "2021-01-09T10:28:10.348864Z",
     "iopub.status.idle": "2021-01-09T10:28:10.365051Z",
     "shell.execute_reply": "2021-01-09T10:28:10.364342Z"
    },
    "papermill": {
     "duration": 0.128019,
     "end_time": "2021-01-09T10:28:10.365169",
     "exception": false,
     "start_time": "2021-01-09T10:28:10.237150",
     "status": "completed"
    },
    "tags": []
   },
   "outputs": [
    {
     "name": "stdout",
     "output_type": "stream",
     "text": [
      "test performance: {'r2': 73.95, 'mae': 4128.78, 'mse': 41380776.7, 'mape': 156.12}\n",
      "initial test performance: {'r2': 73.95, 'mae': 4128.78, 'mse': 41380776.7, 'mape': 156.12}\n",
      "\n",
      "train performance: {'r2': 73.64, 'mae': 4138.43, 'mse': 42034353.94, 'mape': 159.79}\n",
      "initial train performance: {'r2': 73.64, 'mae': 4138.43, 'mse': 42034353.94, 'mape': 159.79}\n",
      "\n",
      "change in test MAE: 0.0 %\n"
     ]
    }
   ],
   "source": [
    "#initial linear regression model\n",
    "\n",
    "init_metrics = updateModel(df)\n",
    "def print_metrics(metrics):\n",
    "    print('test performance:', metrics['test_metrics'])\n",
    "    print('initial test performance:', init_metrics['test_metrics'])\n",
    "    print()\n",
    "    print('train performance:', metrics['train_metrics'])\n",
    "    print('initial train performance:', init_metrics['train_metrics'])\n",
    "    print()\n",
    "    print('change in test MAE:', round((init_metrics['test_metrics']['mae'] - metrics['test_metrics']['mae']) / \n",
    "      (init_metrics['test_metrics']['mae']) * 100, 2), '%')\n",
    "print_metrics(init_metrics)"
   ]
  },
  {
   "cell_type": "markdown",
   "metadata": {
    "papermill": {
     "duration": 0.103599,
     "end_time": "2021-01-09T10:28:10.571373",
     "exception": false,
     "start_time": "2021-01-09T10:28:10.467774",
     "status": "completed"
    },
    "tags": []
   },
   "source": [
    "Reasonably poor performance but no sign of overfitting"
   ]
  },
  {
   "cell_type": "markdown",
   "metadata": {
    "papermill": {
     "duration": 0.101915,
     "end_time": "2021-01-09T10:28:10.775585",
     "exception": false,
     "start_time": "2021-01-09T10:28:10.673670",
     "status": "completed"
    },
    "tags": []
   },
   "source": [
    "### Grouping states into North-East, Mid-West, South and West"
   ]
  },
  {
   "cell_type": "code",
   "execution_count": 57,
   "metadata": {
    "execution": {
     "iopub.execute_input": "2021-01-09T10:28:11.009522Z",
     "iopub.status.busy": "2021-01-09T10:28:11.008617Z",
     "iopub.status.idle": "2021-01-09T10:28:11.014744Z",
     "shell.execute_reply": "2021-01-09T10:28:11.014100Z"
    },
    "papermill": {
     "duration": 0.137529,
     "end_time": "2021-01-09T10:28:11.014860",
     "exception": false,
     "start_time": "2021-01-09T10:28:10.877331",
     "status": "completed"
    },
    "tags": []
   },
   "outputs": [
    {
     "data": {
      "text/html": [
       "<div>\n",
       "<style scoped>\n",
       "    .dataframe tbody tr th:only-of-type {\n",
       "        vertical-align: middle;\n",
       "    }\n",
       "\n",
       "    .dataframe tbody tr th {\n",
       "        vertical-align: top;\n",
       "    }\n",
       "\n",
       "    .dataframe thead th {\n",
       "        text-align: right;\n",
       "    }\n",
       "</style>\n",
       "<table border=\"1\" class=\"dataframe\">\n",
       "  <thead>\n",
       "    <tr style=\"text-align: right;\">\n",
       "      <th></th>\n",
       "      <th>price</th>\n",
       "      <th>year</th>\n",
       "      <th>manufacturer</th>\n",
       "      <th>condition</th>\n",
       "      <th>cylinders</th>\n",
       "      <th>fuel</th>\n",
       "      <th>odometer</th>\n",
       "      <th>transmission</th>\n",
       "      <th>drive</th>\n",
       "      <th>type</th>\n",
       "      <th>paint_color</th>\n",
       "      <th>car_model</th>\n",
       "      <th>region</th>\n",
       "    </tr>\n",
       "  </thead>\n",
       "  <tbody>\n",
       "    <tr>\n",
       "      <th>0</th>\n",
       "      <td>35990</td>\n",
       "      <td>2010.0</td>\n",
       "      <td>chevrolet</td>\n",
       "      <td>good</td>\n",
       "      <td>8 cylinders</td>\n",
       "      <td>gas</td>\n",
       "      <td>32742.0</td>\n",
       "      <td>other</td>\n",
       "      <td>rwd</td>\n",
       "      <td>other</td>\n",
       "      <td>unknown</td>\n",
       "      <td>chevrolet corvette</td>\n",
       "      <td>south</td>\n",
       "    </tr>\n",
       "    <tr>\n",
       "      <th>1</th>\n",
       "      <td>7500</td>\n",
       "      <td>2014.0</td>\n",
       "      <td>hyundai</td>\n",
       "      <td>excellent</td>\n",
       "      <td>4 cylinders</td>\n",
       "      <td>gas</td>\n",
       "      <td>93600.0</td>\n",
       "      <td>automatic</td>\n",
       "      <td>fwd</td>\n",
       "      <td>sedan</td>\n",
       "      <td>unknown</td>\n",
       "      <td>hyundai sonata</td>\n",
       "      <td>south</td>\n",
       "    </tr>\n",
       "    <tr>\n",
       "      <th>2</th>\n",
       "      <td>4900</td>\n",
       "      <td>2006.0</td>\n",
       "      <td>bmw</td>\n",
       "      <td>good</td>\n",
       "      <td>6 cylinders</td>\n",
       "      <td>gas</td>\n",
       "      <td>87046.0</td>\n",
       "      <td>automatic</td>\n",
       "      <td>4wd</td>\n",
       "      <td>SUV</td>\n",
       "      <td>blue</td>\n",
       "      <td>bmw x3</td>\n",
       "      <td>south</td>\n",
       "    </tr>\n",
       "    <tr>\n",
       "      <th>3</th>\n",
       "      <td>29590</td>\n",
       "      <td>2016.0</td>\n",
       "      <td>toyota</td>\n",
       "      <td>good</td>\n",
       "      <td>6 cylinders</td>\n",
       "      <td>gas</td>\n",
       "      <td>33290.0</td>\n",
       "      <td>other</td>\n",
       "      <td>4wd</td>\n",
       "      <td>pickup</td>\n",
       "      <td>red</td>\n",
       "      <td>toyota tacoma</td>\n",
       "      <td>south</td>\n",
       "    </tr>\n",
       "    <tr>\n",
       "      <th>4</th>\n",
       "      <td>39990</td>\n",
       "      <td>2012.0</td>\n",
       "      <td>ford</td>\n",
       "      <td>good</td>\n",
       "      <td>8 cylinders</td>\n",
       "      <td>gas</td>\n",
       "      <td>9692.0</td>\n",
       "      <td>other</td>\n",
       "      <td>rwd</td>\n",
       "      <td>coupe</td>\n",
       "      <td>blue</td>\n",
       "      <td>ford mustang</td>\n",
       "      <td>south</td>\n",
       "    </tr>\n",
       "    <tr>\n",
       "      <th>...</th>\n",
       "      <td>...</td>\n",
       "      <td>...</td>\n",
       "      <td>...</td>\n",
       "      <td>...</td>\n",
       "      <td>...</td>\n",
       "      <td>...</td>\n",
       "      <td>...</td>\n",
       "      <td>...</td>\n",
       "      <td>...</td>\n",
       "      <td>...</td>\n",
       "      <td>...</td>\n",
       "      <td>...</td>\n",
       "      <td>...</td>\n",
       "    </tr>\n",
       "    <tr>\n",
       "      <th>307417</th>\n",
       "      <td>19950</td>\n",
       "      <td>2017.0</td>\n",
       "      <td>audi</td>\n",
       "      <td>not specified</td>\n",
       "      <td>4 cylinders</td>\n",
       "      <td>gas</td>\n",
       "      <td>101270.0</td>\n",
       "      <td>automatic</td>\n",
       "      <td>4wd</td>\n",
       "      <td>sedan</td>\n",
       "      <td>unknown</td>\n",
       "      <td>audi a4</td>\n",
       "      <td>mid-west</td>\n",
       "    </tr>\n",
       "    <tr>\n",
       "      <th>307418</th>\n",
       "      <td>14995</td>\n",
       "      <td>2014.0</td>\n",
       "      <td>cadillac</td>\n",
       "      <td>excellent</td>\n",
       "      <td>6 cylinders</td>\n",
       "      <td>gas</td>\n",
       "      <td>83790.0</td>\n",
       "      <td>automatic</td>\n",
       "      <td>4wd</td>\n",
       "      <td>SUV</td>\n",
       "      <td>silver</td>\n",
       "      <td>cadillac srx</td>\n",
       "      <td>mid-west</td>\n",
       "    </tr>\n",
       "    <tr>\n",
       "      <th>307419</th>\n",
       "      <td>17895</td>\n",
       "      <td>2018.0</td>\n",
       "      <td>hyundai</td>\n",
       "      <td>excellent</td>\n",
       "      <td>4 cylinders</td>\n",
       "      <td>gas</td>\n",
       "      <td>31888.0</td>\n",
       "      <td>automatic</td>\n",
       "      <td>4wd</td>\n",
       "      <td>SUV</td>\n",
       "      <td>white</td>\n",
       "      <td>hyundai tucson</td>\n",
       "      <td>mid-west</td>\n",
       "    </tr>\n",
       "    <tr>\n",
       "      <th>307420</th>\n",
       "      <td>17900</td>\n",
       "      <td>2014.0</td>\n",
       "      <td>cadillac</td>\n",
       "      <td>excellent</td>\n",
       "      <td>6 cylinders</td>\n",
       "      <td>gas</td>\n",
       "      <td>53000.0</td>\n",
       "      <td>automatic</td>\n",
       "      <td>4wd</td>\n",
       "      <td>coupe</td>\n",
       "      <td>black</td>\n",
       "      <td>cadillac cts</td>\n",
       "      <td>west</td>\n",
       "    </tr>\n",
       "    <tr>\n",
       "      <th>307421</th>\n",
       "      <td>1300</td>\n",
       "      <td>2008.0</td>\n",
       "      <td>jeep</td>\n",
       "      <td>good</td>\n",
       "      <td>8 cylinders</td>\n",
       "      <td>gas</td>\n",
       "      <td>164000.0</td>\n",
       "      <td>automatic</td>\n",
       "      <td>4wd</td>\n",
       "      <td>SUV</td>\n",
       "      <td>white</td>\n",
       "      <td>jeep grand</td>\n",
       "      <td>west</td>\n",
       "    </tr>\n",
       "  </tbody>\n",
       "</table>\n",
       "<p>307422 rows × 13 columns</p>\n",
       "</div>"
      ],
      "text/plain": [
       "        price    year manufacturer      condition    cylinders fuel  odometer  \\\n",
       "0       35990  2010.0    chevrolet           good  8 cylinders  gas   32742.0   \n",
       "1        7500  2014.0      hyundai      excellent  4 cylinders  gas   93600.0   \n",
       "2        4900  2006.0          bmw           good  6 cylinders  gas   87046.0   \n",
       "3       29590  2016.0       toyota           good  6 cylinders  gas   33290.0   \n",
       "4       39990  2012.0         ford           good  8 cylinders  gas    9692.0   \n",
       "...       ...     ...          ...            ...          ...  ...       ...   \n",
       "307417  19950  2017.0         audi  not specified  4 cylinders  gas  101270.0   \n",
       "307418  14995  2014.0     cadillac      excellent  6 cylinders  gas   83790.0   \n",
       "307419  17895  2018.0      hyundai      excellent  4 cylinders  gas   31888.0   \n",
       "307420  17900  2014.0     cadillac      excellent  6 cylinders  gas   53000.0   \n",
       "307421   1300  2008.0         jeep           good  8 cylinders  gas  164000.0   \n",
       "\n",
       "       transmission drive    type paint_color           car_model    region  \n",
       "0             other   rwd   other     unknown  chevrolet corvette     south  \n",
       "1         automatic   fwd   sedan     unknown      hyundai sonata     south  \n",
       "2         automatic   4wd     SUV        blue              bmw x3     south  \n",
       "3             other   4wd  pickup         red       toyota tacoma     south  \n",
       "4             other   rwd   coupe        blue        ford mustang     south  \n",
       "...             ...   ...     ...         ...                 ...       ...  \n",
       "307417    automatic   4wd   sedan     unknown             audi a4  mid-west  \n",
       "307418    automatic   4wd     SUV      silver        cadillac srx  mid-west  \n",
       "307419    automatic   4wd     SUV       white      hyundai tucson  mid-west  \n",
       "307420    automatic   4wd   coupe       black        cadillac cts      west  \n",
       "307421    automatic   4wd     SUV       white          jeep grand      west  \n",
       "\n",
       "[307422 rows x 13 columns]"
      ]
     },
     "execution_count": 57,
     "metadata": {},
     "output_type": "execute_result"
    }
   ],
   "source": [
    "regions_dict = {\"state\": [\"al\",\"ak\",\"az\",\"ar\",\"ca\",\"co\",\"ct\",\"de\",\"dc\",\"fl\",\"ga\",\"hi\",\"id\",\"il\",\"in\",\"ia\",\"ks\",\"ky\",\"la\",\"me\",\"md\",\"ma\",\"mi\",\"mn\",\"ms\",\"mo\",\"mt\",\"ne\",\"nv\",\"nh\",\"nj\",\"nm\",\"ny\",\"nc\",\"nd\",\"oh\",\"ok\",\"or\",\"pa\",\"ri\",\"sc\",\"sd\",\"tn\",\"tx\",\"ut\",\"vt\",\"va\",\"wa\",\"wv\",\"wi\",\"wy\"], \n",
    "         \"region\": [\"south\",\"west\",\"west\",\"south\",\"west\",\"west\",\"north-east\",\"south\",\"south\",\"south\",\"south\",\"west\",\"west\",\"mid-west\",\"mid-west\",\"mid-west\",\"mid-west\",\"south\",\"south\",\"north-east\",\"south\",\"north-east\",\"mid-west\",\"mid-west\",\"south\",\"mid-west\",\"west\",\"mid-west\",\"west\",\"north-east\",\"north-east\",\"west\",\"north-east\",\"south\",\"mid-west\",\"mid-west\",\"south\",\"west\",\"north-east\",\"north-east\",\"south\",\"mid-west\",\"south\",\"south\",\"west\",\"north-east\",\"south\",\"west\",\"south\",\"mid-west\",\"west\"]}\n",
    "dfState = pd.merge(df, pd.DataFrame(regions_dict), on = 'state', how = 'left').drop('state', axis = 1)\n",
    "dfState"
   ]
  },
  {
   "cell_type": "code",
   "execution_count": 58,
   "metadata": {
    "execution": {
     "iopub.execute_input": "2021-01-09T10:28:11.267402Z",
     "iopub.status.busy": "2021-01-09T10:28:11.266221Z",
     "iopub.status.idle": "2021-01-09T10:28:11.271159Z",
     "shell.execute_reply": "2021-01-09T10:28:11.270587Z"
    },
    "papermill": {
     "duration": 0.139143,
     "end_time": "2021-01-09T10:28:11.271272",
     "exception": false,
     "start_time": "2021-01-09T10:28:11.132129",
     "status": "completed"
    },
    "tags": []
   },
   "outputs": [
    {
     "name": "stdout",
     "output_type": "stream",
     "text": [
      "test performance: {'r2': 73.77, 'mae': 4124.68, 'mse': 41658906.34, 'mape': 160.27}\n",
      "initial test performance: {'r2': 73.95, 'mae': 4128.78, 'mse': 41380776.7, 'mape': 156.12}\n",
      "\n",
      "train performance: {'r2': 73.42, 'mae': 4138.17, 'mse': 42394179.58, 'mape': 163.81}\n",
      "initial train performance: {'r2': 73.64, 'mae': 4138.43, 'mse': 42034353.94, 'mape': 159.79}\n",
      "\n",
      "change in test MAE: 0.1 %\n"
     ]
    }
   ],
   "source": [
    "#new metrics\n",
    "\n",
    "binned_states_metrics = updateModel(dfState)\n",
    "print_metrics(binned_states_metrics)"
   ]
  },
  {
   "cell_type": "markdown",
   "metadata": {
    "papermill": {
     "duration": 0.102493,
     "end_time": "2021-01-09T10:28:11.477361",
     "exception": false,
     "start_time": "2021-01-09T10:28:11.374868",
     "status": "completed"
    },
    "tags": []
   },
   "source": [
    "almost no difference => let's try just removing region & state altogether"
   ]
  },
  {
   "cell_type": "markdown",
   "metadata": {
    "papermill": {
     "duration": 0.103446,
     "end_time": "2021-01-09T10:28:11.684279",
     "exception": false,
     "start_time": "2021-01-09T10:28:11.580833",
     "status": "completed"
    },
    "tags": []
   },
   "source": [
    "### Dropping 'state' variable"
   ]
  },
  {
   "cell_type": "code",
   "execution_count": 59,
   "metadata": {
    "execution": {
     "iopub.execute_input": "2021-01-09T10:28:11.921280Z",
     "iopub.status.busy": "2021-01-09T10:28:11.920434Z",
     "iopub.status.idle": "2021-01-09T10:28:11.926537Z",
     "shell.execute_reply": "2021-01-09T10:28:11.925994Z"
    },
    "papermill": {
     "duration": 0.138147,
     "end_time": "2021-01-09T10:28:11.926680",
     "exception": false,
     "start_time": "2021-01-09T10:28:11.788533",
     "status": "completed"
    },
    "tags": []
   },
   "outputs": [
    {
     "data": {
      "text/html": [
       "<div>\n",
       "<style scoped>\n",
       "    .dataframe tbody tr th:only-of-type {\n",
       "        vertical-align: middle;\n",
       "    }\n",
       "\n",
       "    .dataframe tbody tr th {\n",
       "        vertical-align: top;\n",
       "    }\n",
       "\n",
       "    .dataframe thead th {\n",
       "        text-align: right;\n",
       "    }\n",
       "</style>\n",
       "<table border=\"1\" class=\"dataframe\">\n",
       "  <thead>\n",
       "    <tr style=\"text-align: right;\">\n",
       "      <th></th>\n",
       "      <th>price</th>\n",
       "      <th>year</th>\n",
       "      <th>manufacturer</th>\n",
       "      <th>condition</th>\n",
       "      <th>cylinders</th>\n",
       "      <th>fuel</th>\n",
       "      <th>odometer</th>\n",
       "      <th>transmission</th>\n",
       "      <th>drive</th>\n",
       "      <th>type</th>\n",
       "      <th>paint_color</th>\n",
       "      <th>car_model</th>\n",
       "    </tr>\n",
       "  </thead>\n",
       "  <tbody>\n",
       "    <tr>\n",
       "      <th>0</th>\n",
       "      <td>35990</td>\n",
       "      <td>2010.0</td>\n",
       "      <td>chevrolet</td>\n",
       "      <td>good</td>\n",
       "      <td>8 cylinders</td>\n",
       "      <td>gas</td>\n",
       "      <td>32742.0</td>\n",
       "      <td>other</td>\n",
       "      <td>rwd</td>\n",
       "      <td>other</td>\n",
       "      <td>unknown</td>\n",
       "      <td>chevrolet corvette</td>\n",
       "    </tr>\n",
       "    <tr>\n",
       "      <th>1</th>\n",
       "      <td>7500</td>\n",
       "      <td>2014.0</td>\n",
       "      <td>hyundai</td>\n",
       "      <td>excellent</td>\n",
       "      <td>4 cylinders</td>\n",
       "      <td>gas</td>\n",
       "      <td>93600.0</td>\n",
       "      <td>automatic</td>\n",
       "      <td>fwd</td>\n",
       "      <td>sedan</td>\n",
       "      <td>unknown</td>\n",
       "      <td>hyundai sonata</td>\n",
       "    </tr>\n",
       "    <tr>\n",
       "      <th>2</th>\n",
       "      <td>4900</td>\n",
       "      <td>2006.0</td>\n",
       "      <td>bmw</td>\n",
       "      <td>good</td>\n",
       "      <td>6 cylinders</td>\n",
       "      <td>gas</td>\n",
       "      <td>87046.0</td>\n",
       "      <td>automatic</td>\n",
       "      <td>4wd</td>\n",
       "      <td>SUV</td>\n",
       "      <td>blue</td>\n",
       "      <td>bmw x3</td>\n",
       "    </tr>\n",
       "    <tr>\n",
       "      <th>5</th>\n",
       "      <td>29590</td>\n",
       "      <td>2016.0</td>\n",
       "      <td>toyota</td>\n",
       "      <td>good</td>\n",
       "      <td>6 cylinders</td>\n",
       "      <td>gas</td>\n",
       "      <td>33290.0</td>\n",
       "      <td>other</td>\n",
       "      <td>4wd</td>\n",
       "      <td>pickup</td>\n",
       "      <td>red</td>\n",
       "      <td>toyota tacoma</td>\n",
       "    </tr>\n",
       "    <tr>\n",
       "      <th>6</th>\n",
       "      <td>39990</td>\n",
       "      <td>2012.0</td>\n",
       "      <td>ford</td>\n",
       "      <td>good</td>\n",
       "      <td>8 cylinders</td>\n",
       "      <td>gas</td>\n",
       "      <td>9692.0</td>\n",
       "      <td>other</td>\n",
       "      <td>rwd</td>\n",
       "      <td>coupe</td>\n",
       "      <td>blue</td>\n",
       "      <td>ford mustang</td>\n",
       "    </tr>\n",
       "    <tr>\n",
       "      <th>...</th>\n",
       "      <td>...</td>\n",
       "      <td>...</td>\n",
       "      <td>...</td>\n",
       "      <td>...</td>\n",
       "      <td>...</td>\n",
       "      <td>...</td>\n",
       "      <td>...</td>\n",
       "      <td>...</td>\n",
       "      <td>...</td>\n",
       "      <td>...</td>\n",
       "      <td>...</td>\n",
       "      <td>...</td>\n",
       "    </tr>\n",
       "    <tr>\n",
       "      <th>458207</th>\n",
       "      <td>19950</td>\n",
       "      <td>2017.0</td>\n",
       "      <td>audi</td>\n",
       "      <td>not specified</td>\n",
       "      <td>4 cylinders</td>\n",
       "      <td>gas</td>\n",
       "      <td>101270.0</td>\n",
       "      <td>automatic</td>\n",
       "      <td>4wd</td>\n",
       "      <td>sedan</td>\n",
       "      <td>unknown</td>\n",
       "      <td>audi a4</td>\n",
       "    </tr>\n",
       "    <tr>\n",
       "      <th>458208</th>\n",
       "      <td>14995</td>\n",
       "      <td>2014.0</td>\n",
       "      <td>cadillac</td>\n",
       "      <td>excellent</td>\n",
       "      <td>6 cylinders</td>\n",
       "      <td>gas</td>\n",
       "      <td>83790.0</td>\n",
       "      <td>automatic</td>\n",
       "      <td>4wd</td>\n",
       "      <td>SUV</td>\n",
       "      <td>silver</td>\n",
       "      <td>cadillac srx</td>\n",
       "    </tr>\n",
       "    <tr>\n",
       "      <th>458209</th>\n",
       "      <td>17895</td>\n",
       "      <td>2018.0</td>\n",
       "      <td>hyundai</td>\n",
       "      <td>excellent</td>\n",
       "      <td>4 cylinders</td>\n",
       "      <td>gas</td>\n",
       "      <td>31888.0</td>\n",
       "      <td>automatic</td>\n",
       "      <td>4wd</td>\n",
       "      <td>SUV</td>\n",
       "      <td>white</td>\n",
       "      <td>hyundai tucson</td>\n",
       "    </tr>\n",
       "    <tr>\n",
       "      <th>458210</th>\n",
       "      <td>17900</td>\n",
       "      <td>2014.0</td>\n",
       "      <td>cadillac</td>\n",
       "      <td>excellent</td>\n",
       "      <td>6 cylinders</td>\n",
       "      <td>gas</td>\n",
       "      <td>53000.0</td>\n",
       "      <td>automatic</td>\n",
       "      <td>4wd</td>\n",
       "      <td>coupe</td>\n",
       "      <td>black</td>\n",
       "      <td>cadillac cts</td>\n",
       "    </tr>\n",
       "    <tr>\n",
       "      <th>458211</th>\n",
       "      <td>1300</td>\n",
       "      <td>2008.0</td>\n",
       "      <td>jeep</td>\n",
       "      <td>good</td>\n",
       "      <td>8 cylinders</td>\n",
       "      <td>gas</td>\n",
       "      <td>164000.0</td>\n",
       "      <td>automatic</td>\n",
       "      <td>4wd</td>\n",
       "      <td>SUV</td>\n",
       "      <td>white</td>\n",
       "      <td>jeep grand</td>\n",
       "    </tr>\n",
       "  </tbody>\n",
       "</table>\n",
       "<p>307422 rows × 12 columns</p>\n",
       "</div>"
      ],
      "text/plain": [
       "        price    year manufacturer      condition    cylinders fuel  odometer  \\\n",
       "0       35990  2010.0    chevrolet           good  8 cylinders  gas   32742.0   \n",
       "1        7500  2014.0      hyundai      excellent  4 cylinders  gas   93600.0   \n",
       "2        4900  2006.0          bmw           good  6 cylinders  gas   87046.0   \n",
       "5       29590  2016.0       toyota           good  6 cylinders  gas   33290.0   \n",
       "6       39990  2012.0         ford           good  8 cylinders  gas    9692.0   \n",
       "...       ...     ...          ...            ...          ...  ...       ...   \n",
       "458207  19950  2017.0         audi  not specified  4 cylinders  gas  101270.0   \n",
       "458208  14995  2014.0     cadillac      excellent  6 cylinders  gas   83790.0   \n",
       "458209  17895  2018.0      hyundai      excellent  4 cylinders  gas   31888.0   \n",
       "458210  17900  2014.0     cadillac      excellent  6 cylinders  gas   53000.0   \n",
       "458211   1300  2008.0         jeep           good  8 cylinders  gas  164000.0   \n",
       "\n",
       "       transmission drive    type paint_color           car_model  \n",
       "0             other   rwd   other     unknown  chevrolet corvette  \n",
       "1         automatic   fwd   sedan     unknown      hyundai sonata  \n",
       "2         automatic   4wd     SUV        blue              bmw x3  \n",
       "5             other   4wd  pickup         red       toyota tacoma  \n",
       "6             other   rwd   coupe        blue        ford mustang  \n",
       "...             ...   ...     ...         ...                 ...  \n",
       "458207    automatic   4wd   sedan     unknown             audi a4  \n",
       "458208    automatic   4wd     SUV      silver        cadillac srx  \n",
       "458209    automatic   4wd     SUV       white      hyundai tucson  \n",
       "458210    automatic   4wd   coupe       black        cadillac cts  \n",
       "458211    automatic   4wd     SUV       white          jeep grand  \n",
       "\n",
       "[307422 rows x 12 columns]"
      ]
     },
     "execution_count": 59,
     "metadata": {},
     "output_type": "execute_result"
    }
   ],
   "source": [
    "dfDropState = df.drop('state', axis = 1)\n",
    "dfDropState"
   ]
  },
  {
   "cell_type": "code",
   "execution_count": 60,
   "metadata": {
    "execution": {
     "iopub.execute_input": "2021-01-09T10:28:12.176231Z",
     "iopub.status.busy": "2021-01-09T10:28:12.175312Z",
     "iopub.status.idle": "2021-01-09T10:28:12.196073Z",
     "shell.execute_reply": "2021-01-09T10:28:12.196664Z"
    },
    "papermill": {
     "duration": 0.15258,
     "end_time": "2021-01-09T10:28:12.196840",
     "exception": false,
     "start_time": "2021-01-09T10:28:12.044260",
     "status": "completed"
    },
    "tags": []
   },
   "outputs": [
    {
     "name": "stdout",
     "output_type": "stream",
     "text": [
      "test performance: {'r2': 73.63, 'mae': 4139.43, 'mse': 41876646.03, 'mape': 159.42}\n",
      "initial test performance: {'r2': 73.95, 'mae': 4128.78, 'mse': 41380776.7, 'mape': 156.12}\n",
      "\n",
      "train performance: {'r2': 73.3, 'mae': 4155.25, 'mse': 42590000.12, 'mape': 162.89}\n",
      "initial train performance: {'r2': 73.64, 'mae': 4138.43, 'mse': 42034353.94, 'mape': 159.79}\n",
      "\n",
      "change in test MAE: -0.26 %\n"
     ]
    }
   ],
   "source": [
    "#new metrics\n",
    "\n",
    "drop_state_metrics = updateModel(dfDropState)\n",
    "print_metrics(drop_state_metrics)"
   ]
  },
  {
   "cell_type": "markdown",
   "metadata": {
    "papermill": {
     "duration": 0.10604,
     "end_time": "2021-01-09T10:28:12.410765",
     "exception": false,
     "start_time": "2021-01-09T10:28:12.304725",
     "status": "completed"
    },
    "tags": []
   },
   "source": [
    "test MAE became (marginally) worse, so let's keep the 'state' feature"
   ]
  },
  {
   "cell_type": "markdown",
   "metadata": {
    "papermill": {
     "duration": 0.109762,
     "end_time": "2021-01-09T10:28:12.628289",
     "exception": false,
     "start_time": "2021-01-09T10:28:12.518527",
     "status": "completed"
    },
    "tags": []
   },
   "source": [
    "### Excluding car_model (many categories)"
   ]
  },
  {
   "cell_type": "code",
   "execution_count": 61,
   "metadata": {
    "execution": {
     "iopub.execute_input": "2021-01-09T10:28:12.849634Z",
     "iopub.status.busy": "2021-01-09T10:28:12.848631Z",
     "iopub.status.idle": "2021-01-09T10:28:12.864692Z",
     "shell.execute_reply": "2021-01-09T10:28:12.865189Z"
    },
    "papermill": {
     "duration": 0.128938,
     "end_time": "2021-01-09T10:28:12.865362",
     "exception": false,
     "start_time": "2021-01-09T10:28:12.736424",
     "status": "completed"
    },
    "tags": []
   },
   "outputs": [
    {
     "data": {
      "text/html": [
       "<div>\n",
       "<style scoped>\n",
       "    .dataframe tbody tr th:only-of-type {\n",
       "        vertical-align: middle;\n",
       "    }\n",
       "\n",
       "    .dataframe tbody tr th {\n",
       "        vertical-align: top;\n",
       "    }\n",
       "\n",
       "    .dataframe thead th {\n",
       "        text-align: right;\n",
       "    }\n",
       "</style>\n",
       "<table border=\"1\" class=\"dataframe\">\n",
       "  <thead>\n",
       "    <tr style=\"text-align: right;\">\n",
       "      <th></th>\n",
       "      <th>price</th>\n",
       "      <th>year</th>\n",
       "      <th>manufacturer</th>\n",
       "      <th>condition</th>\n",
       "      <th>cylinders</th>\n",
       "      <th>fuel</th>\n",
       "      <th>odometer</th>\n",
       "      <th>transmission</th>\n",
       "      <th>drive</th>\n",
       "      <th>type</th>\n",
       "      <th>paint_color</th>\n",
       "      <th>state</th>\n",
       "    </tr>\n",
       "  </thead>\n",
       "  <tbody>\n",
       "    <tr>\n",
       "      <th>0</th>\n",
       "      <td>35990</td>\n",
       "      <td>2010.0</td>\n",
       "      <td>chevrolet</td>\n",
       "      <td>good</td>\n",
       "      <td>8 cylinders</td>\n",
       "      <td>gas</td>\n",
       "      <td>32742.0</td>\n",
       "      <td>other</td>\n",
       "      <td>rwd</td>\n",
       "      <td>other</td>\n",
       "      <td>unknown</td>\n",
       "      <td>al</td>\n",
       "    </tr>\n",
       "    <tr>\n",
       "      <th>1</th>\n",
       "      <td>7500</td>\n",
       "      <td>2014.0</td>\n",
       "      <td>hyundai</td>\n",
       "      <td>excellent</td>\n",
       "      <td>4 cylinders</td>\n",
       "      <td>gas</td>\n",
       "      <td>93600.0</td>\n",
       "      <td>automatic</td>\n",
       "      <td>fwd</td>\n",
       "      <td>sedan</td>\n",
       "      <td>unknown</td>\n",
       "      <td>al</td>\n",
       "    </tr>\n",
       "    <tr>\n",
       "      <th>2</th>\n",
       "      <td>4900</td>\n",
       "      <td>2006.0</td>\n",
       "      <td>bmw</td>\n",
       "      <td>good</td>\n",
       "      <td>6 cylinders</td>\n",
       "      <td>gas</td>\n",
       "      <td>87046.0</td>\n",
       "      <td>automatic</td>\n",
       "      <td>4wd</td>\n",
       "      <td>SUV</td>\n",
       "      <td>blue</td>\n",
       "      <td>al</td>\n",
       "    </tr>\n",
       "    <tr>\n",
       "      <th>5</th>\n",
       "      <td>29590</td>\n",
       "      <td>2016.0</td>\n",
       "      <td>toyota</td>\n",
       "      <td>good</td>\n",
       "      <td>6 cylinders</td>\n",
       "      <td>gas</td>\n",
       "      <td>33290.0</td>\n",
       "      <td>other</td>\n",
       "      <td>4wd</td>\n",
       "      <td>pickup</td>\n",
       "      <td>red</td>\n",
       "      <td>al</td>\n",
       "    </tr>\n",
       "    <tr>\n",
       "      <th>6</th>\n",
       "      <td>39990</td>\n",
       "      <td>2012.0</td>\n",
       "      <td>ford</td>\n",
       "      <td>good</td>\n",
       "      <td>8 cylinders</td>\n",
       "      <td>gas</td>\n",
       "      <td>9692.0</td>\n",
       "      <td>other</td>\n",
       "      <td>rwd</td>\n",
       "      <td>coupe</td>\n",
       "      <td>blue</td>\n",
       "      <td>al</td>\n",
       "    </tr>\n",
       "    <tr>\n",
       "      <th>...</th>\n",
       "      <td>...</td>\n",
       "      <td>...</td>\n",
       "      <td>...</td>\n",
       "      <td>...</td>\n",
       "      <td>...</td>\n",
       "      <td>...</td>\n",
       "      <td>...</td>\n",
       "      <td>...</td>\n",
       "      <td>...</td>\n",
       "      <td>...</td>\n",
       "      <td>...</td>\n",
       "      <td>...</td>\n",
       "    </tr>\n",
       "    <tr>\n",
       "      <th>458207</th>\n",
       "      <td>19950</td>\n",
       "      <td>2017.0</td>\n",
       "      <td>audi</td>\n",
       "      <td>not specified</td>\n",
       "      <td>4 cylinders</td>\n",
       "      <td>gas</td>\n",
       "      <td>101270.0</td>\n",
       "      <td>automatic</td>\n",
       "      <td>4wd</td>\n",
       "      <td>sedan</td>\n",
       "      <td>unknown</td>\n",
       "      <td>wi</td>\n",
       "    </tr>\n",
       "    <tr>\n",
       "      <th>458208</th>\n",
       "      <td>14995</td>\n",
       "      <td>2014.0</td>\n",
       "      <td>cadillac</td>\n",
       "      <td>excellent</td>\n",
       "      <td>6 cylinders</td>\n",
       "      <td>gas</td>\n",
       "      <td>83790.0</td>\n",
       "      <td>automatic</td>\n",
       "      <td>4wd</td>\n",
       "      <td>SUV</td>\n",
       "      <td>silver</td>\n",
       "      <td>wi</td>\n",
       "    </tr>\n",
       "    <tr>\n",
       "      <th>458209</th>\n",
       "      <td>17895</td>\n",
       "      <td>2018.0</td>\n",
       "      <td>hyundai</td>\n",
       "      <td>excellent</td>\n",
       "      <td>4 cylinders</td>\n",
       "      <td>gas</td>\n",
       "      <td>31888.0</td>\n",
       "      <td>automatic</td>\n",
       "      <td>4wd</td>\n",
       "      <td>SUV</td>\n",
       "      <td>white</td>\n",
       "      <td>wi</td>\n",
       "    </tr>\n",
       "    <tr>\n",
       "      <th>458210</th>\n",
       "      <td>17900</td>\n",
       "      <td>2014.0</td>\n",
       "      <td>cadillac</td>\n",
       "      <td>excellent</td>\n",
       "      <td>6 cylinders</td>\n",
       "      <td>gas</td>\n",
       "      <td>53000.0</td>\n",
       "      <td>automatic</td>\n",
       "      <td>4wd</td>\n",
       "      <td>coupe</td>\n",
       "      <td>black</td>\n",
       "      <td>wy</td>\n",
       "    </tr>\n",
       "    <tr>\n",
       "      <th>458211</th>\n",
       "      <td>1300</td>\n",
       "      <td>2008.0</td>\n",
       "      <td>jeep</td>\n",
       "      <td>good</td>\n",
       "      <td>8 cylinders</td>\n",
       "      <td>gas</td>\n",
       "      <td>164000.0</td>\n",
       "      <td>automatic</td>\n",
       "      <td>4wd</td>\n",
       "      <td>SUV</td>\n",
       "      <td>white</td>\n",
       "      <td>wy</td>\n",
       "    </tr>\n",
       "  </tbody>\n",
       "</table>\n",
       "<p>307422 rows × 12 columns</p>\n",
       "</div>"
      ],
      "text/plain": [
       "        price    year manufacturer      condition    cylinders fuel  odometer  \\\n",
       "0       35990  2010.0    chevrolet           good  8 cylinders  gas   32742.0   \n",
       "1        7500  2014.0      hyundai      excellent  4 cylinders  gas   93600.0   \n",
       "2        4900  2006.0          bmw           good  6 cylinders  gas   87046.0   \n",
       "5       29590  2016.0       toyota           good  6 cylinders  gas   33290.0   \n",
       "6       39990  2012.0         ford           good  8 cylinders  gas    9692.0   \n",
       "...       ...     ...          ...            ...          ...  ...       ...   \n",
       "458207  19950  2017.0         audi  not specified  4 cylinders  gas  101270.0   \n",
       "458208  14995  2014.0     cadillac      excellent  6 cylinders  gas   83790.0   \n",
       "458209  17895  2018.0      hyundai      excellent  4 cylinders  gas   31888.0   \n",
       "458210  17900  2014.0     cadillac      excellent  6 cylinders  gas   53000.0   \n",
       "458211   1300  2008.0         jeep           good  8 cylinders  gas  164000.0   \n",
       "\n",
       "       transmission drive    type paint_color state  \n",
       "0             other   rwd   other     unknown    al  \n",
       "1         automatic   fwd   sedan     unknown    al  \n",
       "2         automatic   4wd     SUV        blue    al  \n",
       "5             other   4wd  pickup         red    al  \n",
       "6             other   rwd   coupe        blue    al  \n",
       "...             ...   ...     ...         ...   ...  \n",
       "458207    automatic   4wd   sedan     unknown    wi  \n",
       "458208    automatic   4wd     SUV      silver    wi  \n",
       "458209    automatic   4wd     SUV       white    wi  \n",
       "458210    automatic   4wd   coupe       black    wy  \n",
       "458211    automatic   4wd     SUV       white    wy  \n",
       "\n",
       "[307422 rows x 12 columns]"
      ]
     },
     "execution_count": 61,
     "metadata": {},
     "output_type": "execute_result"
    }
   ],
   "source": [
    "dfNoCarModel = df.drop('car_model', axis = 1)\n",
    "dfNoCarModel"
   ]
  },
  {
   "cell_type": "code",
   "execution_count": 62,
   "metadata": {
    "execution": {
     "iopub.execute_input": "2021-01-09T10:28:13.081693Z",
     "iopub.status.busy": "2021-01-09T10:28:13.080608Z",
     "iopub.status.idle": "2021-01-09T10:28:13.098177Z",
     "shell.execute_reply": "2021-01-09T10:28:13.097473Z"
    },
    "papermill": {
     "duration": 0.125985,
     "end_time": "2021-01-09T10:28:13.098290",
     "exception": false,
     "start_time": "2021-01-09T10:28:12.972305",
     "status": "completed"
    },
    "tags": []
   },
   "outputs": [
    {
     "name": "stdout",
     "output_type": "stream",
     "text": [
      "test performance: {'r2': 69.18, 'mae': 4675.65, 'mse': 48944515.82, 'mape': 164.77}\n",
      "initial test performance: {'r2': 73.95, 'mae': 4128.78, 'mse': 41380776.7, 'mape': 156.12}\n",
      "\n",
      "train performance: {'r2': 68.99, 'mae': 4685.52, 'mse': 49464753.59, 'mape': 167.43}\n",
      "initial train performance: {'r2': 73.64, 'mae': 4138.43, 'mse': 42034353.94, 'mape': 159.79}\n",
      "\n",
      "change in test MAE: -13.25 %\n"
     ]
    }
   ],
   "source": [
    "no_car_model_metrics = updateModel(dfNoCarModel)\n",
    "print_metrics(no_car_model_metrics)"
   ]
  },
  {
   "cell_type": "markdown",
   "metadata": {
    "papermill": {
     "duration": 0.106168,
     "end_time": "2021-01-09T10:28:13.311449",
     "exception": false,
     "start_time": "2021-01-09T10:28:13.205281",
     "status": "completed"
    },
    "tags": []
   },
   "source": [
    "even though 'car_model' has many categories, it still clearly provides useful information"
   ]
  },
  {
   "cell_type": "markdown",
   "metadata": {
    "papermill": {
     "duration": 0.105123,
     "end_time": "2021-01-09T10:28:13.522847",
     "exception": false,
     "start_time": "2021-01-09T10:28:13.417724",
     "status": "completed"
    },
    "tags": []
   },
   "source": [
    "### Binning 'year' variable"
   ]
  },
  {
   "cell_type": "code",
   "execution_count": 63,
   "metadata": {
    "execution": {
     "iopub.execute_input": "2021-01-09T10:28:13.740564Z",
     "iopub.status.busy": "2021-01-09T10:28:13.739926Z",
     "iopub.status.idle": "2021-01-09T10:28:13.756903Z",
     "shell.execute_reply": "2021-01-09T10:28:13.757524Z"
    },
    "papermill": {
     "duration": 0.126383,
     "end_time": "2021-01-09T10:28:13.757701",
     "exception": false,
     "start_time": "2021-01-09T10:28:13.631318",
     "status": "completed"
    },
    "tags": []
   },
   "outputs": [
    {
     "data": {
      "text/html": [
       "<div>\n",
       "<style scoped>\n",
       "    .dataframe tbody tr th:only-of-type {\n",
       "        vertical-align: middle;\n",
       "    }\n",
       "\n",
       "    .dataframe tbody tr th {\n",
       "        vertical-align: top;\n",
       "    }\n",
       "\n",
       "    .dataframe thead th {\n",
       "        text-align: right;\n",
       "    }\n",
       "</style>\n",
       "<table border=\"1\" class=\"dataframe\">\n",
       "  <thead>\n",
       "    <tr style=\"text-align: right;\">\n",
       "      <th></th>\n",
       "      <th>price</th>\n",
       "      <th>year</th>\n",
       "      <th>manufacturer</th>\n",
       "      <th>condition</th>\n",
       "      <th>cylinders</th>\n",
       "      <th>fuel</th>\n",
       "      <th>odometer</th>\n",
       "      <th>transmission</th>\n",
       "      <th>drive</th>\n",
       "      <th>type</th>\n",
       "      <th>paint_color</th>\n",
       "      <th>state</th>\n",
       "      <th>car_model</th>\n",
       "    </tr>\n",
       "  </thead>\n",
       "  <tbody>\n",
       "    <tr>\n",
       "      <th>0</th>\n",
       "      <td>35990</td>\n",
       "      <td>recent</td>\n",
       "      <td>chevrolet</td>\n",
       "      <td>good</td>\n",
       "      <td>8 cylinders</td>\n",
       "      <td>gas</td>\n",
       "      <td>32742.0</td>\n",
       "      <td>other</td>\n",
       "      <td>rwd</td>\n",
       "      <td>other</td>\n",
       "      <td>unknown</td>\n",
       "      <td>al</td>\n",
       "      <td>chevrolet corvette</td>\n",
       "    </tr>\n",
       "    <tr>\n",
       "      <th>1</th>\n",
       "      <td>7500</td>\n",
       "      <td>recent</td>\n",
       "      <td>hyundai</td>\n",
       "      <td>excellent</td>\n",
       "      <td>4 cylinders</td>\n",
       "      <td>gas</td>\n",
       "      <td>93600.0</td>\n",
       "      <td>automatic</td>\n",
       "      <td>fwd</td>\n",
       "      <td>sedan</td>\n",
       "      <td>unknown</td>\n",
       "      <td>al</td>\n",
       "      <td>hyundai sonata</td>\n",
       "    </tr>\n",
       "    <tr>\n",
       "      <th>2</th>\n",
       "      <td>4900</td>\n",
       "      <td>recent</td>\n",
       "      <td>bmw</td>\n",
       "      <td>good</td>\n",
       "      <td>6 cylinders</td>\n",
       "      <td>gas</td>\n",
       "      <td>87046.0</td>\n",
       "      <td>automatic</td>\n",
       "      <td>4wd</td>\n",
       "      <td>SUV</td>\n",
       "      <td>blue</td>\n",
       "      <td>al</td>\n",
       "      <td>bmw x3</td>\n",
       "    </tr>\n",
       "    <tr>\n",
       "      <th>5</th>\n",
       "      <td>29590</td>\n",
       "      <td>recent</td>\n",
       "      <td>toyota</td>\n",
       "      <td>good</td>\n",
       "      <td>6 cylinders</td>\n",
       "      <td>gas</td>\n",
       "      <td>33290.0</td>\n",
       "      <td>other</td>\n",
       "      <td>4wd</td>\n",
       "      <td>pickup</td>\n",
       "      <td>red</td>\n",
       "      <td>al</td>\n",
       "      <td>toyota tacoma</td>\n",
       "    </tr>\n",
       "    <tr>\n",
       "      <th>6</th>\n",
       "      <td>39990</td>\n",
       "      <td>recent</td>\n",
       "      <td>ford</td>\n",
       "      <td>good</td>\n",
       "      <td>8 cylinders</td>\n",
       "      <td>gas</td>\n",
       "      <td>9692.0</td>\n",
       "      <td>other</td>\n",
       "      <td>rwd</td>\n",
       "      <td>coupe</td>\n",
       "      <td>blue</td>\n",
       "      <td>al</td>\n",
       "      <td>ford mustang</td>\n",
       "    </tr>\n",
       "    <tr>\n",
       "      <th>...</th>\n",
       "      <td>...</td>\n",
       "      <td>...</td>\n",
       "      <td>...</td>\n",
       "      <td>...</td>\n",
       "      <td>...</td>\n",
       "      <td>...</td>\n",
       "      <td>...</td>\n",
       "      <td>...</td>\n",
       "      <td>...</td>\n",
       "      <td>...</td>\n",
       "      <td>...</td>\n",
       "      <td>...</td>\n",
       "      <td>...</td>\n",
       "    </tr>\n",
       "    <tr>\n",
       "      <th>458207</th>\n",
       "      <td>19950</td>\n",
       "      <td>recent</td>\n",
       "      <td>audi</td>\n",
       "      <td>not specified</td>\n",
       "      <td>4 cylinders</td>\n",
       "      <td>gas</td>\n",
       "      <td>101270.0</td>\n",
       "      <td>automatic</td>\n",
       "      <td>4wd</td>\n",
       "      <td>sedan</td>\n",
       "      <td>unknown</td>\n",
       "      <td>wi</td>\n",
       "      <td>audi a4</td>\n",
       "    </tr>\n",
       "    <tr>\n",
       "      <th>458208</th>\n",
       "      <td>14995</td>\n",
       "      <td>recent</td>\n",
       "      <td>cadillac</td>\n",
       "      <td>excellent</td>\n",
       "      <td>6 cylinders</td>\n",
       "      <td>gas</td>\n",
       "      <td>83790.0</td>\n",
       "      <td>automatic</td>\n",
       "      <td>4wd</td>\n",
       "      <td>SUV</td>\n",
       "      <td>silver</td>\n",
       "      <td>wi</td>\n",
       "      <td>cadillac srx</td>\n",
       "    </tr>\n",
       "    <tr>\n",
       "      <th>458209</th>\n",
       "      <td>17895</td>\n",
       "      <td>recent</td>\n",
       "      <td>hyundai</td>\n",
       "      <td>excellent</td>\n",
       "      <td>4 cylinders</td>\n",
       "      <td>gas</td>\n",
       "      <td>31888.0</td>\n",
       "      <td>automatic</td>\n",
       "      <td>4wd</td>\n",
       "      <td>SUV</td>\n",
       "      <td>white</td>\n",
       "      <td>wi</td>\n",
       "      <td>hyundai tucson</td>\n",
       "    </tr>\n",
       "    <tr>\n",
       "      <th>458210</th>\n",
       "      <td>17900</td>\n",
       "      <td>recent</td>\n",
       "      <td>cadillac</td>\n",
       "      <td>excellent</td>\n",
       "      <td>6 cylinders</td>\n",
       "      <td>gas</td>\n",
       "      <td>53000.0</td>\n",
       "      <td>automatic</td>\n",
       "      <td>4wd</td>\n",
       "      <td>coupe</td>\n",
       "      <td>black</td>\n",
       "      <td>wy</td>\n",
       "      <td>cadillac cts</td>\n",
       "    </tr>\n",
       "    <tr>\n",
       "      <th>458211</th>\n",
       "      <td>1300</td>\n",
       "      <td>recent</td>\n",
       "      <td>jeep</td>\n",
       "      <td>good</td>\n",
       "      <td>8 cylinders</td>\n",
       "      <td>gas</td>\n",
       "      <td>164000.0</td>\n",
       "      <td>automatic</td>\n",
       "      <td>4wd</td>\n",
       "      <td>SUV</td>\n",
       "      <td>white</td>\n",
       "      <td>wy</td>\n",
       "      <td>jeep grand</td>\n",
       "    </tr>\n",
       "  </tbody>\n",
       "</table>\n",
       "<p>307422 rows × 13 columns</p>\n",
       "</div>"
      ],
      "text/plain": [
       "        price    year manufacturer      condition    cylinders fuel  odometer  \\\n",
       "0       35990  recent    chevrolet           good  8 cylinders  gas   32742.0   \n",
       "1        7500  recent      hyundai      excellent  4 cylinders  gas   93600.0   \n",
       "2        4900  recent          bmw           good  6 cylinders  gas   87046.0   \n",
       "5       29590  recent       toyota           good  6 cylinders  gas   33290.0   \n",
       "6       39990  recent         ford           good  8 cylinders  gas    9692.0   \n",
       "...       ...     ...          ...            ...          ...  ...       ...   \n",
       "458207  19950  recent         audi  not specified  4 cylinders  gas  101270.0   \n",
       "458208  14995  recent     cadillac      excellent  6 cylinders  gas   83790.0   \n",
       "458209  17895  recent      hyundai      excellent  4 cylinders  gas   31888.0   \n",
       "458210  17900  recent     cadillac      excellent  6 cylinders  gas   53000.0   \n",
       "458211   1300  recent         jeep           good  8 cylinders  gas  164000.0   \n",
       "\n",
       "       transmission drive    type paint_color state           car_model  \n",
       "0             other   rwd   other     unknown    al  chevrolet corvette  \n",
       "1         automatic   fwd   sedan     unknown    al      hyundai sonata  \n",
       "2         automatic   4wd     SUV        blue    al              bmw x3  \n",
       "5             other   4wd  pickup         red    al       toyota tacoma  \n",
       "6             other   rwd   coupe        blue    al        ford mustang  \n",
       "...             ...   ...     ...         ...   ...                 ...  \n",
       "458207    automatic   4wd   sedan     unknown    wi             audi a4  \n",
       "458208    automatic   4wd     SUV      silver    wi        cadillac srx  \n",
       "458209    automatic   4wd     SUV       white    wi      hyundai tucson  \n",
       "458210    automatic   4wd   coupe       black    wy        cadillac cts  \n",
       "458211    automatic   4wd     SUV       white    wy          jeep grand  \n",
       "\n",
       "[307422 rows x 13 columns]"
      ]
     },
     "execution_count": 63,
     "metadata": {},
     "output_type": "execute_result"
    }
   ],
   "source": [
    "dfBinnedYear = df.copy()\n",
    "dfBinnedYear['year'] = pd.cut(df['year'], 3, labels = ['vintage', 'medium age', 'recent'])\n",
    "dfBinnedYear"
   ]
  },
  {
   "cell_type": "code",
   "execution_count": 64,
   "metadata": {
    "execution": {
     "iopub.execute_input": "2021-01-09T10:28:13.973162Z",
     "iopub.status.busy": "2021-01-09T10:28:13.972401Z",
     "iopub.status.idle": "2021-01-09T10:28:13.989929Z",
     "shell.execute_reply": "2021-01-09T10:28:13.990761Z"
    },
    "papermill": {
     "duration": 0.126569,
     "end_time": "2021-01-09T10:28:13.990925",
     "exception": false,
     "start_time": "2021-01-09T10:28:13.864356",
     "status": "completed"
    },
    "tags": []
   },
   "outputs": [
    {
     "name": "stdout",
     "output_type": "stream",
     "text": [
      "test performance: {'r2': 69.0, 'mae': 4792.63, 'mse': 49238573.58, 'mape': 159.92}\n",
      "initial test performance: {'r2': 73.95, 'mae': 4128.78, 'mse': 41380776.7, 'mape': 156.12}\n",
      "\n",
      "train performance: {'r2': 68.67, 'mae': 4813.38, 'mse': 49964687.71, 'mape': 163.86}\n",
      "initial train performance: {'r2': 73.64, 'mae': 4138.43, 'mse': 42034353.94, 'mape': 159.79}\n",
      "\n",
      "change in test MAE: -16.08 %\n"
     ]
    }
   ],
   "source": [
    "binned_year_metrics = updateModel(dfBinnedYear)\n",
    "print_metrics(binned_year_metrics)"
   ]
  },
  {
   "cell_type": "markdown",
   "metadata": {
    "papermill": {
     "duration": 0.10641,
     "end_time": "2021-01-09T10:28:14.203970",
     "exception": false,
     "start_time": "2021-01-09T10:28:14.097560",
     "status": "completed"
    },
    "tags": []
   },
   "source": [
    "performance became significantly worse"
   ]
  },
  {
   "cell_type": "markdown",
   "metadata": {
    "papermill": {
     "duration": 0.106003,
     "end_time": "2021-01-09T10:28:14.416240",
     "exception": false,
     "start_time": "2021-01-09T10:28:14.310237",
     "status": "completed"
    },
    "tags": []
   },
   "source": [
    "### Creating feature 'age'"
   ]
  },
  {
   "cell_type": "code",
   "execution_count": 65,
   "metadata": {
    "execution": {
     "iopub.execute_input": "2021-01-09T10:28:14.637104Z",
     "iopub.status.busy": "2021-01-09T10:28:14.636173Z",
     "iopub.status.idle": "2021-01-09T10:28:14.653027Z",
     "shell.execute_reply": "2021-01-09T10:28:14.652349Z"
    },
    "papermill": {
     "duration": 0.131158,
     "end_time": "2021-01-09T10:28:14.653153",
     "exception": false,
     "start_time": "2021-01-09T10:28:14.521995",
     "status": "completed"
    },
    "tags": []
   },
   "outputs": [
    {
     "data": {
      "text/html": [
       "<div>\n",
       "<style scoped>\n",
       "    .dataframe tbody tr th:only-of-type {\n",
       "        vertical-align: middle;\n",
       "    }\n",
       "\n",
       "    .dataframe tbody tr th {\n",
       "        vertical-align: top;\n",
       "    }\n",
       "\n",
       "    .dataframe thead th {\n",
       "        text-align: right;\n",
       "    }\n",
       "</style>\n",
       "<table border=\"1\" class=\"dataframe\">\n",
       "  <thead>\n",
       "    <tr style=\"text-align: right;\">\n",
       "      <th></th>\n",
       "      <th>price</th>\n",
       "      <th>manufacturer</th>\n",
       "      <th>condition</th>\n",
       "      <th>cylinders</th>\n",
       "      <th>fuel</th>\n",
       "      <th>odometer</th>\n",
       "      <th>transmission</th>\n",
       "      <th>drive</th>\n",
       "      <th>type</th>\n",
       "      <th>paint_color</th>\n",
       "      <th>state</th>\n",
       "      <th>car_model</th>\n",
       "      <th>age</th>\n",
       "    </tr>\n",
       "  </thead>\n",
       "  <tbody>\n",
       "    <tr>\n",
       "      <th>0</th>\n",
       "      <td>35990</td>\n",
       "      <td>chevrolet</td>\n",
       "      <td>good</td>\n",
       "      <td>8 cylinders</td>\n",
       "      <td>gas</td>\n",
       "      <td>32742.0</td>\n",
       "      <td>other</td>\n",
       "      <td>rwd</td>\n",
       "      <td>other</td>\n",
       "      <td>unknown</td>\n",
       "      <td>al</td>\n",
       "      <td>chevrolet corvette</td>\n",
       "      <td>11.0</td>\n",
       "    </tr>\n",
       "    <tr>\n",
       "      <th>1</th>\n",
       "      <td>7500</td>\n",
       "      <td>hyundai</td>\n",
       "      <td>excellent</td>\n",
       "      <td>4 cylinders</td>\n",
       "      <td>gas</td>\n",
       "      <td>93600.0</td>\n",
       "      <td>automatic</td>\n",
       "      <td>fwd</td>\n",
       "      <td>sedan</td>\n",
       "      <td>unknown</td>\n",
       "      <td>al</td>\n",
       "      <td>hyundai sonata</td>\n",
       "      <td>7.0</td>\n",
       "    </tr>\n",
       "    <tr>\n",
       "      <th>2</th>\n",
       "      <td>4900</td>\n",
       "      <td>bmw</td>\n",
       "      <td>good</td>\n",
       "      <td>6 cylinders</td>\n",
       "      <td>gas</td>\n",
       "      <td>87046.0</td>\n",
       "      <td>automatic</td>\n",
       "      <td>4wd</td>\n",
       "      <td>SUV</td>\n",
       "      <td>blue</td>\n",
       "      <td>al</td>\n",
       "      <td>bmw x3</td>\n",
       "      <td>15.0</td>\n",
       "    </tr>\n",
       "    <tr>\n",
       "      <th>5</th>\n",
       "      <td>29590</td>\n",
       "      <td>toyota</td>\n",
       "      <td>good</td>\n",
       "      <td>6 cylinders</td>\n",
       "      <td>gas</td>\n",
       "      <td>33290.0</td>\n",
       "      <td>other</td>\n",
       "      <td>4wd</td>\n",
       "      <td>pickup</td>\n",
       "      <td>red</td>\n",
       "      <td>al</td>\n",
       "      <td>toyota tacoma</td>\n",
       "      <td>5.0</td>\n",
       "    </tr>\n",
       "    <tr>\n",
       "      <th>6</th>\n",
       "      <td>39990</td>\n",
       "      <td>ford</td>\n",
       "      <td>good</td>\n",
       "      <td>8 cylinders</td>\n",
       "      <td>gas</td>\n",
       "      <td>9692.0</td>\n",
       "      <td>other</td>\n",
       "      <td>rwd</td>\n",
       "      <td>coupe</td>\n",
       "      <td>blue</td>\n",
       "      <td>al</td>\n",
       "      <td>ford mustang</td>\n",
       "      <td>9.0</td>\n",
       "    </tr>\n",
       "    <tr>\n",
       "      <th>...</th>\n",
       "      <td>...</td>\n",
       "      <td>...</td>\n",
       "      <td>...</td>\n",
       "      <td>...</td>\n",
       "      <td>...</td>\n",
       "      <td>...</td>\n",
       "      <td>...</td>\n",
       "      <td>...</td>\n",
       "      <td>...</td>\n",
       "      <td>...</td>\n",
       "      <td>...</td>\n",
       "      <td>...</td>\n",
       "      <td>...</td>\n",
       "    </tr>\n",
       "    <tr>\n",
       "      <th>458207</th>\n",
       "      <td>19950</td>\n",
       "      <td>audi</td>\n",
       "      <td>not specified</td>\n",
       "      <td>4 cylinders</td>\n",
       "      <td>gas</td>\n",
       "      <td>101270.0</td>\n",
       "      <td>automatic</td>\n",
       "      <td>4wd</td>\n",
       "      <td>sedan</td>\n",
       "      <td>unknown</td>\n",
       "      <td>wi</td>\n",
       "      <td>audi a4</td>\n",
       "      <td>4.0</td>\n",
       "    </tr>\n",
       "    <tr>\n",
       "      <th>458208</th>\n",
       "      <td>14995</td>\n",
       "      <td>cadillac</td>\n",
       "      <td>excellent</td>\n",
       "      <td>6 cylinders</td>\n",
       "      <td>gas</td>\n",
       "      <td>83790.0</td>\n",
       "      <td>automatic</td>\n",
       "      <td>4wd</td>\n",
       "      <td>SUV</td>\n",
       "      <td>silver</td>\n",
       "      <td>wi</td>\n",
       "      <td>cadillac srx</td>\n",
       "      <td>7.0</td>\n",
       "    </tr>\n",
       "    <tr>\n",
       "      <th>458209</th>\n",
       "      <td>17895</td>\n",
       "      <td>hyundai</td>\n",
       "      <td>excellent</td>\n",
       "      <td>4 cylinders</td>\n",
       "      <td>gas</td>\n",
       "      <td>31888.0</td>\n",
       "      <td>automatic</td>\n",
       "      <td>4wd</td>\n",
       "      <td>SUV</td>\n",
       "      <td>white</td>\n",
       "      <td>wi</td>\n",
       "      <td>hyundai tucson</td>\n",
       "      <td>3.0</td>\n",
       "    </tr>\n",
       "    <tr>\n",
       "      <th>458210</th>\n",
       "      <td>17900</td>\n",
       "      <td>cadillac</td>\n",
       "      <td>excellent</td>\n",
       "      <td>6 cylinders</td>\n",
       "      <td>gas</td>\n",
       "      <td>53000.0</td>\n",
       "      <td>automatic</td>\n",
       "      <td>4wd</td>\n",
       "      <td>coupe</td>\n",
       "      <td>black</td>\n",
       "      <td>wy</td>\n",
       "      <td>cadillac cts</td>\n",
       "      <td>7.0</td>\n",
       "    </tr>\n",
       "    <tr>\n",
       "      <th>458211</th>\n",
       "      <td>1300</td>\n",
       "      <td>jeep</td>\n",
       "      <td>good</td>\n",
       "      <td>8 cylinders</td>\n",
       "      <td>gas</td>\n",
       "      <td>164000.0</td>\n",
       "      <td>automatic</td>\n",
       "      <td>4wd</td>\n",
       "      <td>SUV</td>\n",
       "      <td>white</td>\n",
       "      <td>wy</td>\n",
       "      <td>jeep grand</td>\n",
       "      <td>13.0</td>\n",
       "    </tr>\n",
       "  </tbody>\n",
       "</table>\n",
       "<p>307422 rows × 13 columns</p>\n",
       "</div>"
      ],
      "text/plain": [
       "        price manufacturer      condition    cylinders fuel  odometer  \\\n",
       "0       35990    chevrolet           good  8 cylinders  gas   32742.0   \n",
       "1        7500      hyundai      excellent  4 cylinders  gas   93600.0   \n",
       "2        4900          bmw           good  6 cylinders  gas   87046.0   \n",
       "5       29590       toyota           good  6 cylinders  gas   33290.0   \n",
       "6       39990         ford           good  8 cylinders  gas    9692.0   \n",
       "...       ...          ...            ...          ...  ...       ...   \n",
       "458207  19950         audi  not specified  4 cylinders  gas  101270.0   \n",
       "458208  14995     cadillac      excellent  6 cylinders  gas   83790.0   \n",
       "458209  17895      hyundai      excellent  4 cylinders  gas   31888.0   \n",
       "458210  17900     cadillac      excellent  6 cylinders  gas   53000.0   \n",
       "458211   1300         jeep           good  8 cylinders  gas  164000.0   \n",
       "\n",
       "       transmission drive    type paint_color state           car_model   age  \n",
       "0             other   rwd   other     unknown    al  chevrolet corvette  11.0  \n",
       "1         automatic   fwd   sedan     unknown    al      hyundai sonata   7.0  \n",
       "2         automatic   4wd     SUV        blue    al              bmw x3  15.0  \n",
       "5             other   4wd  pickup         red    al       toyota tacoma   5.0  \n",
       "6             other   rwd   coupe        blue    al        ford mustang   9.0  \n",
       "...             ...   ...     ...         ...   ...                 ...   ...  \n",
       "458207    automatic   4wd   sedan     unknown    wi             audi a4   4.0  \n",
       "458208    automatic   4wd     SUV      silver    wi        cadillac srx   7.0  \n",
       "458209    automatic   4wd     SUV       white    wi      hyundai tucson   3.0  \n",
       "458210    automatic   4wd   coupe       black    wy        cadillac cts   7.0  \n",
       "458211    automatic   4wd     SUV       white    wy          jeep grand  13.0  \n",
       "\n",
       "[307422 rows x 13 columns]"
      ]
     },
     "execution_count": 65,
     "metadata": {},
     "output_type": "execute_result"
    }
   ],
   "source": [
    "dfAge = df.copy()\n",
    "dfAge['age'] = [2021 - x for x in df['year'].tolist()]\n",
    "dfAge.drop('year', axis=1, inplace = True)\n",
    "dfAge"
   ]
  },
  {
   "cell_type": "code",
   "execution_count": 66,
   "metadata": {
    "execution": {
     "iopub.execute_input": "2021-01-09T10:28:14.885735Z",
     "iopub.status.busy": "2021-01-09T10:28:14.884826Z",
     "iopub.status.idle": "2021-01-09T10:28:14.888730Z",
     "shell.execute_reply": "2021-01-09T10:28:14.889244Z"
    },
    "papermill": {
     "duration": 0.128209,
     "end_time": "2021-01-09T10:28:14.889406",
     "exception": false,
     "start_time": "2021-01-09T10:28:14.761197",
     "status": "completed"
    },
    "tags": []
   },
   "outputs": [
    {
     "name": "stdout",
     "output_type": "stream",
     "text": [
      "test performance: {'r2': 73.96, 'mae': 4119.72, 'mse': 41364659.98, 'mape': 156.31}\n",
      "initial test performance: {'r2': 73.95, 'mae': 4128.78, 'mse': 41380776.7, 'mape': 156.12}\n",
      "\n",
      "train performance: {'r2': 73.67, 'mae': 4128.33, 'mse': 42000537.01, 'mape': 159.88}\n",
      "initial train performance: {'r2': 73.64, 'mae': 4138.43, 'mse': 42034353.94, 'mape': 159.79}\n",
      "\n",
      "change in test MAE: 0.22 %\n"
     ]
    }
   ],
   "source": [
    "age_metrics = updateModel(dfAge)\n",
    "print_metrics(age_metrics)"
   ]
  },
  {
   "cell_type": "markdown",
   "metadata": {
    "papermill": {
     "duration": 0.109307,
     "end_time": "2021-01-09T10:28:15.106823",
     "exception": false,
     "start_time": "2021-01-09T10:28:14.997516",
     "status": "completed"
    },
    "tags": []
   },
   "source": [
    "performance became marginally worse => let's not include 'age'"
   ]
  },
  {
   "cell_type": "markdown",
   "metadata": {
    "papermill": {
     "duration": 0.108097,
     "end_time": "2021-01-09T10:28:15.322918",
     "exception": false,
     "start_time": "2021-01-09T10:28:15.214821",
     "status": "completed"
    },
    "tags": []
   },
   "source": [
    "### Creating categories for 'age'"
   ]
  },
  {
   "cell_type": "code",
   "execution_count": 67,
   "metadata": {
    "execution": {
     "iopub.execute_input": "2021-01-09T10:28:15.542323Z",
     "iopub.status.busy": "2021-01-09T10:28:15.541550Z",
     "iopub.status.idle": "2021-01-09T10:28:15.565622Z",
     "shell.execute_reply": "2021-01-09T10:28:15.566241Z"
    },
    "papermill": {
     "duration": 0.135436,
     "end_time": "2021-01-09T10:28:15.566387",
     "exception": false,
     "start_time": "2021-01-09T10:28:15.430951",
     "status": "completed"
    },
    "tags": []
   },
   "outputs": [
    {
     "data": {
      "text/plain": [
       "<matplotlib.lines.Line2D at 0x232ebd360a0>"
      ]
     },
     "execution_count": 67,
     "metadata": {},
     "output_type": "execute_result"
    },
    {
     "data": {
      "image/png": "[encoded data removed]",
      "text/plain": [
       "<Figure size 720x360 with 1 Axes>"
      ]
     },
     "metadata": {
      "needs_background": "light"
     },
     "output_type": "display_data"
    }
   ],
   "source": [
    "#we can clearly see a U-shaped pricing behavior in function of car age\n",
    "#in addition, we can identify age categories with similar pricing behavior\n",
    "\n",
    "dfAgeCat = dfAge.copy()\n",
    "thresholds = [50,40,30,15,14,13,12,11,10,9,8,7,6,5,4,3,2,1]\n",
    "groups = ['over 50','40-49','30-39','15-29','14','13','12','11','10','9','8','7','6','5','4','3','2','1']\n",
    "\n",
    "x = (dfAgeCat.groupby(['age'],as_index = False).mean())['age'].tolist()\n",
    "y = (dfAgeCat.groupby(['age'],as_index = False).mean())['price'].tolist()\n",
    "fig = plt.figure(figsize=[10,5])\n",
    "plt.ylabel('Mean price')\n",
    "plt.xlabel('Age (years)')\n",
    "plt.bar(x, y, width=1)\n",
    "for t in thresholds:\n",
    "    plt.axvline(t-0.5, color = 'red')\n",
    "\n",
    "plt.axvline(-0.5, color = 'red')\n",
    "plt.axvline(60.5, color = 'red')"
   ]
  },
  {
   "cell_type": "code",
   "execution_count": 68,
   "metadata": {
    "execution": {
     "iopub.execute_input": "2021-01-09T10:28:15.788928Z",
     "iopub.status.busy": "2021-01-09T10:28:15.788110Z",
     "iopub.status.idle": "2021-01-09T10:28:15.807615Z",
     "shell.execute_reply": "2021-01-09T10:28:15.808139Z"
    },
    "papermill": {
     "duration": 0.131638,
     "end_time": "2021-01-09T10:28:15.808296",
     "exception": false,
     "start_time": "2021-01-09T10:28:15.676658",
     "status": "completed"
    },
    "tags": []
   },
   "outputs": [
    {
     "name": "stdout",
     "output_type": "stream",
     "text": [
      "['11' '7' '15-29' '5' '9' '4' '2' '8' '1' '3' '12' '6' '10' '14' '30-39'\n",
      " '13' 'over 50' '40-49' 'new']\n"
     ]
    },
    {
     "data": {
      "text/html": [
       "<div>\n",
       "<style scoped>\n",
       "    .dataframe tbody tr th:only-of-type {\n",
       "        vertical-align: middle;\n",
       "    }\n",
       "\n",
       "    .dataframe tbody tr th {\n",
       "        vertical-align: top;\n",
       "    }\n",
       "\n",
       "    .dataframe thead th {\n",
       "        text-align: right;\n",
       "    }\n",
       "</style>\n",
       "<table border=\"1\" class=\"dataframe\">\n",
       "  <thead>\n",
       "    <tr style=\"text-align: right;\">\n",
       "      <th></th>\n",
       "      <th>price</th>\n",
       "      <th>manufacturer</th>\n",
       "      <th>condition</th>\n",
       "      <th>cylinders</th>\n",
       "      <th>fuel</th>\n",
       "      <th>odometer</th>\n",
       "      <th>transmission</th>\n",
       "      <th>drive</th>\n",
       "      <th>type</th>\n",
       "      <th>paint_color</th>\n",
       "      <th>state</th>\n",
       "      <th>car_model</th>\n",
       "      <th>age_group</th>\n",
       "    </tr>\n",
       "  </thead>\n",
       "  <tbody>\n",
       "    <tr>\n",
       "      <th>0</th>\n",
       "      <td>35990</td>\n",
       "      <td>chevrolet</td>\n",
       "      <td>good</td>\n",
       "      <td>8 cylinders</td>\n",
       "      <td>gas</td>\n",
       "      <td>32742.0</td>\n",
       "      <td>other</td>\n",
       "      <td>rwd</td>\n",
       "      <td>other</td>\n",
       "      <td>unknown</td>\n",
       "      <td>al</td>\n",
       "      <td>chevrolet corvette</td>\n",
       "      <td>11</td>\n",
       "    </tr>\n",
       "    <tr>\n",
       "      <th>1</th>\n",
       "      <td>7500</td>\n",
       "      <td>hyundai</td>\n",
       "      <td>excellent</td>\n",
       "      <td>4 cylinders</td>\n",
       "      <td>gas</td>\n",
       "      <td>93600.0</td>\n",
       "      <td>automatic</td>\n",
       "      <td>fwd</td>\n",
       "      <td>sedan</td>\n",
       "      <td>unknown</td>\n",
       "      <td>al</td>\n",
       "      <td>hyundai sonata</td>\n",
       "      <td>7</td>\n",
       "    </tr>\n",
       "    <tr>\n",
       "      <th>2</th>\n",
       "      <td>4900</td>\n",
       "      <td>bmw</td>\n",
       "      <td>good</td>\n",
       "      <td>6 cylinders</td>\n",
       "      <td>gas</td>\n",
       "      <td>87046.0</td>\n",
       "      <td>automatic</td>\n",
       "      <td>4wd</td>\n",
       "      <td>SUV</td>\n",
       "      <td>blue</td>\n",
       "      <td>al</td>\n",
       "      <td>bmw x3</td>\n",
       "      <td>15-29</td>\n",
       "    </tr>\n",
       "    <tr>\n",
       "      <th>5</th>\n",
       "      <td>29590</td>\n",
       "      <td>toyota</td>\n",
       "      <td>good</td>\n",
       "      <td>6 cylinders</td>\n",
       "      <td>gas</td>\n",
       "      <td>33290.0</td>\n",
       "      <td>other</td>\n",
       "      <td>4wd</td>\n",
       "      <td>pickup</td>\n",
       "      <td>red</td>\n",
       "      <td>al</td>\n",
       "      <td>toyota tacoma</td>\n",
       "      <td>5</td>\n",
       "    </tr>\n",
       "    <tr>\n",
       "      <th>6</th>\n",
       "      <td>39990</td>\n",
       "      <td>ford</td>\n",
       "      <td>good</td>\n",
       "      <td>8 cylinders</td>\n",
       "      <td>gas</td>\n",
       "      <td>9692.0</td>\n",
       "      <td>other</td>\n",
       "      <td>rwd</td>\n",
       "      <td>coupe</td>\n",
       "      <td>blue</td>\n",
       "      <td>al</td>\n",
       "      <td>ford mustang</td>\n",
       "      <td>9</td>\n",
       "    </tr>\n",
       "    <tr>\n",
       "      <th>...</th>\n",
       "      <td>...</td>\n",
       "      <td>...</td>\n",
       "      <td>...</td>\n",
       "      <td>...</td>\n",
       "      <td>...</td>\n",
       "      <td>...</td>\n",
       "      <td>...</td>\n",
       "      <td>...</td>\n",
       "      <td>...</td>\n",
       "      <td>...</td>\n",
       "      <td>...</td>\n",
       "      <td>...</td>\n",
       "      <td>...</td>\n",
       "    </tr>\n",
       "    <tr>\n",
       "      <th>458207</th>\n",
       "      <td>19950</td>\n",
       "      <td>audi</td>\n",
       "      <td>not specified</td>\n",
       "      <td>4 cylinders</td>\n",
       "      <td>gas</td>\n",
       "      <td>101270.0</td>\n",
       "      <td>automatic</td>\n",
       "      <td>4wd</td>\n",
       "      <td>sedan</td>\n",
       "      <td>unknown</td>\n",
       "      <td>wi</td>\n",
       "      <td>audi a4</td>\n",
       "      <td>4</td>\n",
       "    </tr>\n",
       "    <tr>\n",
       "      <th>458208</th>\n",
       "      <td>14995</td>\n",
       "      <td>cadillac</td>\n",
       "      <td>excellent</td>\n",
       "      <td>6 cylinders</td>\n",
       "      <td>gas</td>\n",
       "      <td>83790.0</td>\n",
       "      <td>automatic</td>\n",
       "      <td>4wd</td>\n",
       "      <td>SUV</td>\n",
       "      <td>silver</td>\n",
       "      <td>wi</td>\n",
       "      <td>cadillac srx</td>\n",
       "      <td>7</td>\n",
       "    </tr>\n",
       "    <tr>\n",
       "      <th>458209</th>\n",
       "      <td>17895</td>\n",
       "      <td>hyundai</td>\n",
       "      <td>excellent</td>\n",
       "      <td>4 cylinders</td>\n",
       "      <td>gas</td>\n",
       "      <td>31888.0</td>\n",
       "      <td>automatic</td>\n",
       "      <td>4wd</td>\n",
       "      <td>SUV</td>\n",
       "      <td>white</td>\n",
       "      <td>wi</td>\n",
       "      <td>hyundai tucson</td>\n",
       "      <td>3</td>\n",
       "    </tr>\n",
       "    <tr>\n",
       "      <th>458210</th>\n",
       "      <td>17900</td>\n",
       "      <td>cadillac</td>\n",
       "      <td>excellent</td>\n",
       "      <td>6 cylinders</td>\n",
       "      <td>gas</td>\n",
       "      <td>53000.0</td>\n",
       "      <td>automatic</td>\n",
       "      <td>4wd</td>\n",
       "      <td>coupe</td>\n",
       "      <td>black</td>\n",
       "      <td>wy</td>\n",
       "      <td>cadillac cts</td>\n",
       "      <td>7</td>\n",
       "    </tr>\n",
       "    <tr>\n",
       "      <th>458211</th>\n",
       "      <td>1300</td>\n",
       "      <td>jeep</td>\n",
       "      <td>good</td>\n",
       "      <td>8 cylinders</td>\n",
       "      <td>gas</td>\n",
       "      <td>164000.0</td>\n",
       "      <td>automatic</td>\n",
       "      <td>4wd</td>\n",
       "      <td>SUV</td>\n",
       "      <td>white</td>\n",
       "      <td>wy</td>\n",
       "      <td>jeep grand</td>\n",
       "      <td>13</td>\n",
       "    </tr>\n",
       "  </tbody>\n",
       "</table>\n",
       "<p>307422 rows × 13 columns</p>\n",
       "</div>"
      ],
      "text/plain": [
       "        price manufacturer      condition    cylinders fuel  odometer  \\\n",
       "0       35990    chevrolet           good  8 cylinders  gas   32742.0   \n",
       "1        7500      hyundai      excellent  4 cylinders  gas   93600.0   \n",
       "2        4900          bmw           good  6 cylinders  gas   87046.0   \n",
       "5       29590       toyota           good  6 cylinders  gas   33290.0   \n",
       "6       39990         ford           good  8 cylinders  gas    9692.0   \n",
       "...       ...          ...            ...          ...  ...       ...   \n",
       "458207  19950         audi  not specified  4 cylinders  gas  101270.0   \n",
       "458208  14995     cadillac      excellent  6 cylinders  gas   83790.0   \n",
       "458209  17895      hyundai      excellent  4 cylinders  gas   31888.0   \n",
       "458210  17900     cadillac      excellent  6 cylinders  gas   53000.0   \n",
       "458211   1300         jeep           good  8 cylinders  gas  164000.0   \n",
       "\n",
       "       transmission drive    type paint_color state           car_model  \\\n",
       "0             other   rwd   other     unknown    al  chevrolet corvette   \n",
       "1         automatic   fwd   sedan     unknown    al      hyundai sonata   \n",
       "2         automatic   4wd     SUV        blue    al              bmw x3   \n",
       "5             other   4wd  pickup         red    al       toyota tacoma   \n",
       "6             other   rwd   coupe        blue    al        ford mustang   \n",
       "...             ...   ...     ...         ...   ...                 ...   \n",
       "458207    automatic   4wd   sedan     unknown    wi             audi a4   \n",
       "458208    automatic   4wd     SUV      silver    wi        cadillac srx   \n",
       "458209    automatic   4wd     SUV       white    wi      hyundai tucson   \n",
       "458210    automatic   4wd   coupe       black    wy        cadillac cts   \n",
       "458211    automatic   4wd     SUV       white    wy          jeep grand   \n",
       "\n",
       "       age_group  \n",
       "0             11  \n",
       "1              7  \n",
       "2          15-29  \n",
       "5              5  \n",
       "6              9  \n",
       "...          ...  \n",
       "458207         4  \n",
       "458208         7  \n",
       "458209         3  \n",
       "458210         7  \n",
       "458211        13  \n",
       "\n",
       "[307422 rows x 13 columns]"
      ]
     },
     "execution_count": 68,
     "metadata": {},
     "output_type": "execute_result"
    }
   ],
   "source": [
    "arr = np.array(dfAgeCat['age'].tolist())\n",
    "for t in thresholds:\n",
    "    prevArr = arr\n",
    "    arr = np.where(prevArr >= t, -t, prevArr)\n",
    "    \n",
    "prevArr = arr\n",
    "dfAgeCat['age_group'] = np.where(prevArr >= 0, 'new', prevArr).tolist()\n",
    "\n",
    "for i in range(len(thresholds)):\n",
    "     toReplace = str(float(-thresholds[i]))\n",
    "     dfAgeCat['age_group'].replace(toReplace, groups[i], inplace =  True)\n",
    "\n",
    "dfAgeCat.drop('age', axis=1, inplace=True)    \n",
    "print(dfAgeCat['age_group'].unique())\n",
    "dfAgeCat"
   ]
  },
  {
   "cell_type": "code",
   "execution_count": 69,
   "metadata": {
    "execution": {
     "iopub.execute_input": "2021-01-09T10:28:16.045415Z",
     "iopub.status.busy": "2021-01-09T10:28:16.044732Z",
     "iopub.status.idle": "2021-01-09T10:28:16.047978Z",
     "shell.execute_reply": "2021-01-09T10:28:16.048556Z"
    },
    "papermill": {
     "duration": 0.129712,
     "end_time": "2021-01-09T10:28:16.048727",
     "exception": false,
     "start_time": "2021-01-09T10:28:15.919015",
     "status": "completed"
    },
    "tags": []
   },
   "outputs": [
    {
     "name": "stdout",
     "output_type": "stream",
     "text": [
      "test performance: {'r2': 77.29, 'mae': 3887.4, 'mse': 36067891.6, 'mape': 154.52}\n",
      "initial test performance: {'r2': 73.95, 'mae': 4128.78, 'mse': 41380776.7, 'mape': 156.12}\n",
      "\n",
      "train performance: {'r2': 77.12, 'mae': 3908.81, 'mse': 36489527.62, 'mape': 158.14}\n",
      "initial train performance: {'r2': 73.64, 'mae': 4138.43, 'mse': 42034353.94, 'mape': 159.79}\n",
      "\n",
      "change in test MAE: 5.85 %\n"
     ]
    }
   ],
   "source": [
    "age_cat_metrics = updateModel(dfAgeCat)\n",
    "print_metrics(age_cat_metrics)"
   ]
  },
  {
   "cell_type": "markdown",
   "metadata": {
    "papermill": {
     "duration": 0.109112,
     "end_time": "2021-01-09T10:28:16.268198",
     "exception": false,
     "start_time": "2021-01-09T10:28:16.159086",
     "status": "completed"
    },
    "tags": []
   },
   "source": [
    "despite the fact that including 'age' decreased performance, including age categories clearly improved performance without any sign of overfitting"
   ]
  },
  {
   "cell_type": "markdown",
   "metadata": {
    "papermill": {
     "duration": 0.109443,
     "end_time": "2021-01-09T10:28:16.486665",
     "exception": false,
     "start_time": "2021-01-09T10:28:16.377222",
     "status": "completed"
    },
    "tags": []
   },
   "source": [
    "### Price vs features analysis"
   ]
  },
  {
   "cell_type": "code",
   "execution_count": 70,
   "metadata": {
    "execution": {
     "iopub.execute_input": "2021-01-09T10:28:16.727364Z",
     "iopub.status.busy": "2021-01-09T10:28:16.724430Z",
     "iopub.status.idle": "2021-01-09T10:28:16.733095Z",
     "shell.execute_reply": "2021-01-09T10:28:16.732500Z"
    },
    "papermill": {
     "duration": 0.136294,
     "end_time": "2021-01-09T10:28:16.733221",
     "exception": false,
     "start_time": "2021-01-09T10:28:16.596927",
     "status": "completed"
    },
    "tags": []
   },
   "outputs": [
    {
     "name": "stdout",
     "output_type": "stream",
     "text": [
      "manufacturer\n"
     ]
    },
    {
     "data": {
      "image/png": "[encoded data removed]",
      "text/plain": [
       "<Figure size 720x360 with 1 Axes>"
      ]
     },
     "metadata": {
      "needs_background": "light"
     },
     "output_type": "display_data"
    },
    {
     "name": "stdout",
     "output_type": "stream",
     "text": [
      "condition\n"
     ]
    },
    {
     "data": {
      "image/png": "[encoded data removed]",
      "text/plain": [
       "<Figure size 720x360 with 1 Axes>"
      ]
     },
     "metadata": {
      "needs_background": "light"
     },
     "output_type": "display_data"
    },
    {
     "name": "stdout",
     "output_type": "stream",
     "text": [
      "cylinders\n"
     ]
    },
    {
     "data": {
      "image/png": "[encoded data removed]",
      "text/plain": [
       "<Figure size 720x360 with 1 Axes>"
      ]
     },
     "metadata": {
      "needs_background": "light"
     },
     "output_type": "display_data"
    },
    {
     "name": "stdout",
     "output_type": "stream",
     "text": [
      "fuel\n"
     ]
    },
    {
     "data": {
      "image/png": "[encoded data removed]",
      "text/plain": [
       "<Figure size 720x360 with 1 Axes>"
      ]
     },
     "metadata": {
      "needs_background": "light"
     },
     "output_type": "display_data"
    },
    {
     "name": "stdout",
     "output_type": "stream",
     "text": [
      "transmission\n"
     ]
    },
    {
     "data": {
      "image/png": "[encoded data removed]",
      "text/plain": [
       "<Figure size 720x360 with 1 Axes>"
      ]
     },
     "metadata": {
      "needs_background": "light"
     },
     "output_type": "display_data"
    },
    {
     "name": "stdout",
     "output_type": "stream",
     "text": [
      "drive\n"
     ]
    },
    {
     "data": {
      "image/png": "[encoded data removed]",
      "text/plain": [
       "<Figure size 720x360 with 1 Axes>"
      ]
     },
     "metadata": {
      "needs_background": "light"
     },
     "output_type": "display_data"
    },
    {
     "name": "stdout",
     "output_type": "stream",
     "text": [
      "type\n"
     ]
    },
    {
     "data": {
      "image/png": "[encoded data removed]",
      "text/plain": [
       "<Figure size 720x360 with 1 Axes>"
      ]
     },
     "metadata": {
      "needs_background": "light"
     },
     "output_type": "display_data"
    },
    {
     "name": "stdout",
     "output_type": "stream",
     "text": [
      "paint_color\n"
     ]
    },
    {
     "data": {
      "image/png": "[encoded data removed]",
      "text/plain": [
       "<Figure size 720x360 with 1 Axes>"
      ]
     },
     "metadata": {
      "needs_background": "light"
     },
     "output_type": "display_data"
    },
    {
     "name": "stdout",
     "output_type": "stream",
     "text": [
      "state\n"
     ]
    },
    {
     "data": {
      "image/png": "[encoded data removed]",
      "text/plain": [
       "<Figure size 720x360 with 1 Axes>"
      ]
     },
     "metadata": {
      "needs_background": "light"
     },
     "output_type": "display_data"
    }
   ],
   "source": [
    "dfPlots = dfAge.copy()\n",
    "for feat in dfAgeCat.drop(['price','odometer','car_model','age_group'], axis = 1).columns:\n",
    "    print(feat)\n",
    "    x = (dfPlots.groupby(feat, as_index = False).mean()).sort_values(by = ['price'])[feat]\n",
    "    y = (dfPlots.groupby(feat, as_index = False).mean()).sort_values(by = ['price'])['price']\n",
    "    fig = plt.figure(figsize=[10,5])\n",
    "    plt.xlabel(feat)\n",
    "    plt.ylabel('Mean price')\n",
    "    plt.xticks(rotation = 90)\n",
    "    plt.bar(x, y, width=1)\n",
    "    plt.show()"
   ]
  },
  {
   "cell_type": "markdown",
   "metadata": {
    "papermill": {
     "duration": 0.110958,
     "end_time": "2021-01-09T10:28:16.954731",
     "exception": false,
     "start_time": "2021-01-09T10:28:16.843773",
     "status": "completed"
    },
    "tags": []
   },
   "source": [
    "### Condition as a numerical feature"
   ]
  },
  {
   "cell_type": "code",
   "execution_count": 71,
   "metadata": {
    "execution": {
     "iopub.execute_input": "2021-01-09T10:28:17.195243Z",
     "iopub.status.busy": "2021-01-09T10:28:17.194339Z",
     "iopub.status.idle": "2021-01-09T10:28:17.198911Z",
     "shell.execute_reply": "2021-01-09T10:28:17.199413Z"
    },
    "papermill": {
     "duration": 0.134703,
     "end_time": "2021-01-09T10:28:17.199578",
     "exception": false,
     "start_time": "2021-01-09T10:28:17.064875",
     "status": "completed"
    },
    "tags": []
   },
   "outputs": [
    {
     "data": {
      "text/plain": [
       "array([3, 4, 5, 6, 1, 2], dtype=int64)"
      ]
     },
     "execution_count": 71,
     "metadata": {},
     "output_type": "execute_result"
    }
   ],
   "source": [
    "dfCondition = df.copy()\n",
    "\n",
    "dfCondition['condition'].replace('new', 6, inplace =  True)\n",
    "dfCondition['condition'].replace('like new', 5, inplace =  True)\n",
    "dfCondition['condition'].replace('excellent', 4, inplace =  True)\n",
    "dfCondition['condition'].replace('good', 3, inplace =  True)\n",
    "dfCondition['condition'].replace('fair', 2, inplace =  True)\n",
    "dfCondition['condition'].replace('salvage', 1, inplace =  True)\n",
    "dfCondition['condition'].replace('not specified', 3, inplace =  True)\n",
    "\n",
    "dfCondition['condition'].unique()"
   ]
  },
  {
   "cell_type": "code",
   "execution_count": 72,
   "metadata": {
    "execution": {
     "iopub.execute_input": "2021-01-09T10:28:17.427129Z",
     "iopub.status.busy": "2021-01-09T10:28:17.426113Z",
     "iopub.status.idle": "2021-01-09T10:28:17.441918Z",
     "shell.execute_reply": "2021-01-09T10:28:17.442412Z"
    },
    "papermill": {
     "duration": 0.131294,
     "end_time": "2021-01-09T10:28:17.442582",
     "exception": false,
     "start_time": "2021-01-09T10:28:17.311288",
     "status": "completed"
    },
    "tags": []
   },
   "outputs": [
    {
     "name": "stdout",
     "output_type": "stream",
     "text": [
      "test performance: {'r2': 73.82, 'mae': 4118.67, 'mse': 41580476.64, 'mape': 156.77}\n",
      "initial test performance: {'r2': 73.95, 'mae': 4128.78, 'mse': 41380776.7, 'mape': 156.12}\n",
      "\n",
      "train performance: {'r2': 73.53, 'mae': 4125.24, 'mse': 42225121.33, 'mape': 160.32}\n",
      "initial train performance: {'r2': 73.64, 'mae': 4138.43, 'mse': 42034353.94, 'mape': 159.79}\n",
      "\n",
      "change in test MAE: 0.24 %\n"
     ]
    }
   ],
   "source": [
    "condition_metrics = updateModel(dfCondition)\n",
    "print_metrics(condition_metrics)"
   ]
  },
  {
   "cell_type": "markdown",
   "metadata": {
    "papermill": {
     "duration": 0.112609,
     "end_time": "2021-01-09T10:28:17.666013",
     "exception": false,
     "start_time": "2021-01-09T10:28:17.553404",
     "status": "completed"
    },
    "tags": []
   },
   "source": [
    "no significant effect on performance"
   ]
  },
  {
   "cell_type": "markdown",
   "metadata": {
    "papermill": {
     "duration": 0.114058,
     "end_time": "2021-01-09T10:28:17.892039",
     "exception": false,
     "start_time": "2021-01-09T10:28:17.777981",
     "status": "completed"
    },
    "tags": []
   },
   "source": [
    "### Color categories"
   ]
  },
  {
   "cell_type": "code",
   "execution_count": 73,
   "metadata": {
    "execution": {
     "iopub.execute_input": "2021-01-09T10:28:18.122420Z",
     "iopub.status.busy": "2021-01-09T10:28:18.121342Z",
     "iopub.status.idle": "2021-01-09T10:28:18.139367Z",
     "shell.execute_reply": "2021-01-09T10:28:18.140012Z"
    },
    "papermill": {
     "duration": 0.136849,
     "end_time": "2021-01-09T10:28:18.140175",
     "exception": false,
     "start_time": "2021-01-09T10:28:18.003326",
     "status": "completed"
    },
    "tags": []
   },
   "outputs": [
    {
     "data": {
      "text/plain": [
       "array(['other_colors', 'red', 'black', 'white', 'orange'], dtype=object)"
      ]
     },
     "execution_count": 73,
     "metadata": {},
     "output_type": "execute_result"
    }
   ],
   "source": [
    "dfColors = df.copy()\n",
    "dfColors['paint_color'].replace(['unknown', 'blue', 'silver', 'grey', 'green', 'custom', 'yellow', 'brown', 'purple'], 'other_colors', inplace =  True)\n",
    "dfColors['paint_color'].unique()"
   ]
  },
  {
   "cell_type": "code",
   "execution_count": 74,
   "metadata": {
    "execution": {
     "iopub.execute_input": "2021-01-09T10:28:18.367296Z",
     "iopub.status.busy": "2021-01-09T10:28:18.366251Z",
     "iopub.status.idle": "2021-01-09T10:28:18.383212Z",
     "shell.execute_reply": "2021-01-09T10:28:18.382468Z"
    },
    "papermill": {
     "duration": 0.131483,
     "end_time": "2021-01-09T10:28:18.383329",
     "exception": false,
     "start_time": "2021-01-09T10:28:18.251846",
     "status": "completed"
    },
    "tags": []
   },
   "outputs": [
    {
     "name": "stdout",
     "output_type": "stream",
     "text": [
      "test performance: {'r2': 73.83, 'mae': 4108.65, 'mse': 41564290.43, 'mape': 159.28}\n",
      "initial test performance: {'r2': 73.95, 'mae': 4128.78, 'mse': 41380776.7, 'mape': 156.12}\n",
      "\n",
      "train performance: {'r2': 73.54, 'mae': 4116.97, 'mse': 42200904.37, 'mape': 162.79}\n",
      "initial train performance: {'r2': 73.64, 'mae': 4138.43, 'mse': 42034353.94, 'mape': 159.79}\n",
      "\n",
      "change in test MAE: 0.49 %\n"
     ]
    }
   ],
   "source": [
    "color_metrics = updateModel(dfColors)\n",
    "print_metrics(color_metrics)"
   ]
  },
  {
   "cell_type": "markdown",
   "metadata": {
    "papermill": {
     "duration": 0.113105,
     "end_time": "2021-01-09T10:28:18.609979",
     "exception": false,
     "start_time": "2021-01-09T10:28:18.496874",
     "status": "completed"
    },
    "tags": []
   },
   "source": [
    "no significant effect on performance"
   ]
  },
  {
   "cell_type": "markdown",
   "metadata": {
    "papermill": {
     "duration": 0.114427,
     "end_time": "2021-01-09T10:28:18.836717",
     "exception": false,
     "start_time": "2021-01-09T10:28:18.722290",
     "status": "completed"
    },
    "tags": []
   },
   "source": [
    "### Miles per year"
   ]
  },
  {
   "cell_type": "code",
   "execution_count": 75,
   "metadata": {
    "execution": {
     "iopub.execute_input": "2021-01-09T10:28:19.080357Z",
     "iopub.status.busy": "2021-01-09T10:28:19.079339Z",
     "iopub.status.idle": "2021-01-09T10:28:19.083498Z",
     "shell.execute_reply": "2021-01-09T10:28:19.084042Z"
    },
    "papermill": {
     "duration": 0.133749,
     "end_time": "2021-01-09T10:28:19.084193",
     "exception": false,
     "start_time": "2021-01-09T10:28:18.950444",
     "status": "completed"
    },
    "tags": []
   },
   "outputs": [
    {
     "data": {
      "text/html": [
       "<div>\n",
       "<style scoped>\n",
       "    .dataframe tbody tr th:only-of-type {\n",
       "        vertical-align: middle;\n",
       "    }\n",
       "\n",
       "    .dataframe tbody tr th {\n",
       "        vertical-align: top;\n",
       "    }\n",
       "\n",
       "    .dataframe thead th {\n",
       "        text-align: right;\n",
       "    }\n",
       "</style>\n",
       "<table border=\"1\" class=\"dataframe\">\n",
       "  <thead>\n",
       "    <tr style=\"text-align: right;\">\n",
       "      <th></th>\n",
       "      <th>price</th>\n",
       "      <th>manufacturer</th>\n",
       "      <th>condition</th>\n",
       "      <th>cylinders</th>\n",
       "      <th>fuel</th>\n",
       "      <th>transmission</th>\n",
       "      <th>drive</th>\n",
       "      <th>type</th>\n",
       "      <th>paint_color</th>\n",
       "      <th>state</th>\n",
       "      <th>car_model</th>\n",
       "      <th>miles_per_year</th>\n",
       "    </tr>\n",
       "  </thead>\n",
       "  <tbody>\n",
       "    <tr>\n",
       "      <th>0</th>\n",
       "      <td>35990</td>\n",
       "      <td>chevrolet</td>\n",
       "      <td>good</td>\n",
       "      <td>8 cylinders</td>\n",
       "      <td>gas</td>\n",
       "      <td>other</td>\n",
       "      <td>rwd</td>\n",
       "      <td>other</td>\n",
       "      <td>unknown</td>\n",
       "      <td>al</td>\n",
       "      <td>chevrolet corvette</td>\n",
       "      <td>2976.274884</td>\n",
       "    </tr>\n",
       "    <tr>\n",
       "      <th>1</th>\n",
       "      <td>7500</td>\n",
       "      <td>hyundai</td>\n",
       "      <td>excellent</td>\n",
       "      <td>4 cylinders</td>\n",
       "      <td>gas</td>\n",
       "      <td>automatic</td>\n",
       "      <td>fwd</td>\n",
       "      <td>sedan</td>\n",
       "      <td>unknown</td>\n",
       "      <td>al</td>\n",
       "      <td>hyundai sonata</td>\n",
       "      <td>13369.518640</td>\n",
       "    </tr>\n",
       "    <tr>\n",
       "      <th>2</th>\n",
       "      <td>4900</td>\n",
       "      <td>bmw</td>\n",
       "      <td>good</td>\n",
       "      <td>6 cylinders</td>\n",
       "      <td>gas</td>\n",
       "      <td>automatic</td>\n",
       "      <td>4wd</td>\n",
       "      <td>SUV</td>\n",
       "      <td>blue</td>\n",
       "      <td>al</td>\n",
       "      <td>bmw x3</td>\n",
       "      <td>5802.679821</td>\n",
       "    </tr>\n",
       "    <tr>\n",
       "      <th>5</th>\n",
       "      <td>29590</td>\n",
       "      <td>toyota</td>\n",
       "      <td>good</td>\n",
       "      <td>6 cylinders</td>\n",
       "      <td>gas</td>\n",
       "      <td>other</td>\n",
       "      <td>4wd</td>\n",
       "      <td>pickup</td>\n",
       "      <td>red</td>\n",
       "      <td>al</td>\n",
       "      <td>toyota tacoma</td>\n",
       "      <td>6656.668666</td>\n",
       "    </tr>\n",
       "    <tr>\n",
       "      <th>6</th>\n",
       "      <td>39990</td>\n",
       "      <td>ford</td>\n",
       "      <td>good</td>\n",
       "      <td>8 cylinders</td>\n",
       "      <td>gas</td>\n",
       "      <td>other</td>\n",
       "      <td>rwd</td>\n",
       "      <td>coupe</td>\n",
       "      <td>blue</td>\n",
       "      <td>al</td>\n",
       "      <td>ford mustang</td>\n",
       "      <td>1076.769248</td>\n",
       "    </tr>\n",
       "    <tr>\n",
       "      <th>...</th>\n",
       "      <td>...</td>\n",
       "      <td>...</td>\n",
       "      <td>...</td>\n",
       "      <td>...</td>\n",
       "      <td>...</td>\n",
       "      <td>...</td>\n",
       "      <td>...</td>\n",
       "      <td>...</td>\n",
       "      <td>...</td>\n",
       "      <td>...</td>\n",
       "      <td>...</td>\n",
       "      <td>...</td>\n",
       "    </tr>\n",
       "    <tr>\n",
       "      <th>458207</th>\n",
       "      <td>19950</td>\n",
       "      <td>audi</td>\n",
       "      <td>not specified</td>\n",
       "      <td>4 cylinders</td>\n",
       "      <td>gas</td>\n",
       "      <td>automatic</td>\n",
       "      <td>4wd</td>\n",
       "      <td>sedan</td>\n",
       "      <td>unknown</td>\n",
       "      <td>wi</td>\n",
       "      <td>audi a4</td>\n",
       "      <td>25311.172207</td>\n",
       "    </tr>\n",
       "    <tr>\n",
       "      <th>458208</th>\n",
       "      <td>14995</td>\n",
       "      <td>cadillac</td>\n",
       "      <td>excellent</td>\n",
       "      <td>6 cylinders</td>\n",
       "      <td>gas</td>\n",
       "      <td>automatic</td>\n",
       "      <td>4wd</td>\n",
       "      <td>SUV</td>\n",
       "      <td>silver</td>\n",
       "      <td>wi</td>\n",
       "      <td>cadillac srx</td>\n",
       "      <td>11968.290244</td>\n",
       "    </tr>\n",
       "    <tr>\n",
       "      <th>458209</th>\n",
       "      <td>17895</td>\n",
       "      <td>hyundai</td>\n",
       "      <td>excellent</td>\n",
       "      <td>4 cylinders</td>\n",
       "      <td>gas</td>\n",
       "      <td>automatic</td>\n",
       "      <td>4wd</td>\n",
       "      <td>SUV</td>\n",
       "      <td>white</td>\n",
       "      <td>wi</td>\n",
       "      <td>hyundai tucson</td>\n",
       "      <td>10625.791403</td>\n",
       "    </tr>\n",
       "    <tr>\n",
       "      <th>458210</th>\n",
       "      <td>17900</td>\n",
       "      <td>cadillac</td>\n",
       "      <td>excellent</td>\n",
       "      <td>6 cylinders</td>\n",
       "      <td>gas</td>\n",
       "      <td>automatic</td>\n",
       "      <td>4wd</td>\n",
       "      <td>coupe</td>\n",
       "      <td>black</td>\n",
       "      <td>wy</td>\n",
       "      <td>cadillac cts</td>\n",
       "      <td>7570.347093</td>\n",
       "    </tr>\n",
       "    <tr>\n",
       "      <th>458211</th>\n",
       "      <td>1300</td>\n",
       "      <td>jeep</td>\n",
       "      <td>good</td>\n",
       "      <td>8 cylinders</td>\n",
       "      <td>gas</td>\n",
       "      <td>automatic</td>\n",
       "      <td>4wd</td>\n",
       "      <td>SUV</td>\n",
       "      <td>white</td>\n",
       "      <td>wy</td>\n",
       "      <td>jeep grand</td>\n",
       "      <td>12614.414276</td>\n",
       "    </tr>\n",
       "  </tbody>\n",
       "</table>\n",
       "<p>307422 rows × 12 columns</p>\n",
       "</div>"
      ],
      "text/plain": [
       "        price manufacturer      condition    cylinders fuel transmission  \\\n",
       "0       35990    chevrolet           good  8 cylinders  gas        other   \n",
       "1        7500      hyundai      excellent  4 cylinders  gas    automatic   \n",
       "2        4900          bmw           good  6 cylinders  gas    automatic   \n",
       "5       29590       toyota           good  6 cylinders  gas        other   \n",
       "6       39990         ford           good  8 cylinders  gas        other   \n",
       "...       ...          ...            ...          ...  ...          ...   \n",
       "458207  19950         audi  not specified  4 cylinders  gas    automatic   \n",
       "458208  14995     cadillac      excellent  6 cylinders  gas    automatic   \n",
       "458209  17895      hyundai      excellent  4 cylinders  gas    automatic   \n",
       "458210  17900     cadillac      excellent  6 cylinders  gas    automatic   \n",
       "458211   1300         jeep           good  8 cylinders  gas    automatic   \n",
       "\n",
       "       drive    type paint_color state           car_model  miles_per_year  \n",
       "0        rwd   other     unknown    al  chevrolet corvette     2976.274884  \n",
       "1        fwd   sedan     unknown    al      hyundai sonata    13369.518640  \n",
       "2        4wd     SUV        blue    al              bmw x3     5802.679821  \n",
       "5        4wd  pickup         red    al       toyota tacoma     6656.668666  \n",
       "6        rwd   coupe        blue    al        ford mustang     1076.769248  \n",
       "...      ...     ...         ...   ...                 ...             ...  \n",
       "458207   4wd   sedan     unknown    wi             audi a4    25311.172207  \n",
       "458208   4wd     SUV      silver    wi        cadillac srx    11968.290244  \n",
       "458209   4wd     SUV       white    wi      hyundai tucson    10625.791403  \n",
       "458210   4wd   coupe       black    wy        cadillac cts     7570.347093  \n",
       "458211   4wd     SUV       white    wy          jeep grand    12614.414276  \n",
       "\n",
       "[307422 rows x 12 columns]"
      ]
     },
     "execution_count": 75,
     "metadata": {},
     "output_type": "execute_result"
    }
   ],
   "source": [
    "dfMPY = dfAge.copy()\n",
    "MPY_temp = []\n",
    "\n",
    "dfMPY['miles_per_year'] = [dfMPY['odometer'][i]/(dfMPY['age'][i]+0.001) for i in dfMPY.index.tolist()]\n",
    "dfMPY.drop(['odometer', 'age'], axis=1, inplace=True)\n",
    "dfMPY"
   ]
  },
  {
   "cell_type": "code",
   "execution_count": 76,
   "metadata": {
    "execution": {
     "iopub.execute_input": "2021-01-09T10:28:19.313953Z",
     "iopub.status.busy": "2021-01-09T10:28:19.313245Z",
     "iopub.status.idle": "2021-01-09T10:28:19.328072Z",
     "shell.execute_reply": "2021-01-09T10:28:19.328613Z"
    },
    "papermill": {
     "duration": 0.13126,
     "end_time": "2021-01-09T10:28:19.328773",
     "exception": false,
     "start_time": "2021-01-09T10:28:19.197513",
     "status": "completed"
    },
    "tags": []
   },
   "outputs": [
    {
     "name": "stdout",
     "output_type": "stream",
     "text": [
      "test performance: {'r2': 49.07, 'mae': 6619.22, 'mse': 80884869.81, 'mape': 162.82}\n",
      "initial test performance: {'r2': 73.95, 'mae': 4128.78, 'mse': 41380776.7, 'mape': 156.12}\n",
      "\n",
      "train performance: {'r2': 49.39, 'mae': 6602.23, 'mse': 80719966.43, 'mape': 166.69}\n",
      "initial train performance: {'r2': 73.64, 'mae': 4138.43, 'mse': 42034353.94, 'mape': 159.79}\n",
      "\n",
      "change in test MAE: -60.32 %\n"
     ]
    }
   ],
   "source": [
    "MPY_metrics = updateModel(dfMPY)\n",
    "print_metrics(MPY_metrics)"
   ]
  },
  {
   "cell_type": "markdown",
   "metadata": {
    "papermill": {
     "duration": 0.113087,
     "end_time": "2021-01-09T10:28:19.556119",
     "exception": false,
     "start_time": "2021-01-09T10:28:19.443032",
     "status": "completed"
    },
    "tags": []
   },
   "source": [
    "significant negative impact on performance"
   ]
  },
  {
   "cell_type": "markdown",
   "metadata": {
    "papermill": {
     "duration": 0.112667,
     "end_time": "2021-01-09T10:28:19.782941",
     "exception": false,
     "start_time": "2021-01-09T10:28:19.670274",
     "status": "completed"
    },
    "tags": []
   },
   "source": [
    "### Excluding number of cylinders"
   ]
  },
  {
   "cell_type": "code",
   "execution_count": 77,
   "metadata": {
    "execution": {
     "iopub.execute_input": "2021-01-09T10:28:20.014225Z",
     "iopub.status.busy": "2021-01-09T10:28:20.013461Z",
     "iopub.status.idle": "2021-01-09T10:28:20.028641Z",
     "shell.execute_reply": "2021-01-09T10:28:20.029141Z"
    },
    "papermill": {
     "duration": 0.131845,
     "end_time": "2021-01-09T10:28:20.029292",
     "exception": false,
     "start_time": "2021-01-09T10:28:19.897447",
     "status": "completed"
    },
    "tags": []
   },
   "outputs": [
    {
     "data": {
      "text/html": [
       "<div>\n",
       "<style scoped>\n",
       "    .dataframe tbody tr th:only-of-type {\n",
       "        vertical-align: middle;\n",
       "    }\n",
       "\n",
       "    .dataframe tbody tr th {\n",
       "        vertical-align: top;\n",
       "    }\n",
       "\n",
       "    .dataframe thead th {\n",
       "        text-align: right;\n",
       "    }\n",
       "</style>\n",
       "<table border=\"1\" class=\"dataframe\">\n",
       "  <thead>\n",
       "    <tr style=\"text-align: right;\">\n",
       "      <th></th>\n",
       "      <th>price</th>\n",
       "      <th>year</th>\n",
       "      <th>manufacturer</th>\n",
       "      <th>condition</th>\n",
       "      <th>fuel</th>\n",
       "      <th>odometer</th>\n",
       "      <th>transmission</th>\n",
       "      <th>drive</th>\n",
       "      <th>type</th>\n",
       "      <th>paint_color</th>\n",
       "      <th>state</th>\n",
       "      <th>car_model</th>\n",
       "    </tr>\n",
       "  </thead>\n",
       "  <tbody>\n",
       "    <tr>\n",
       "      <th>0</th>\n",
       "      <td>35990</td>\n",
       "      <td>2010.0</td>\n",
       "      <td>chevrolet</td>\n",
       "      <td>good</td>\n",
       "      <td>gas</td>\n",
       "      <td>32742.0</td>\n",
       "      <td>other</td>\n",
       "      <td>rwd</td>\n",
       "      <td>other</td>\n",
       "      <td>unknown</td>\n",
       "      <td>al</td>\n",
       "      <td>chevrolet corvette</td>\n",
       "    </tr>\n",
       "    <tr>\n",
       "      <th>1</th>\n",
       "      <td>7500</td>\n",
       "      <td>2014.0</td>\n",
       "      <td>hyundai</td>\n",
       "      <td>excellent</td>\n",
       "      <td>gas</td>\n",
       "      <td>93600.0</td>\n",
       "      <td>automatic</td>\n",
       "      <td>fwd</td>\n",
       "      <td>sedan</td>\n",
       "      <td>unknown</td>\n",
       "      <td>al</td>\n",
       "      <td>hyundai sonata</td>\n",
       "    </tr>\n",
       "    <tr>\n",
       "      <th>2</th>\n",
       "      <td>4900</td>\n",
       "      <td>2006.0</td>\n",
       "      <td>bmw</td>\n",
       "      <td>good</td>\n",
       "      <td>gas</td>\n",
       "      <td>87046.0</td>\n",
       "      <td>automatic</td>\n",
       "      <td>4wd</td>\n",
       "      <td>SUV</td>\n",
       "      <td>blue</td>\n",
       "      <td>al</td>\n",
       "      <td>bmw x3</td>\n",
       "    </tr>\n",
       "    <tr>\n",
       "      <th>5</th>\n",
       "      <td>29590</td>\n",
       "      <td>2016.0</td>\n",
       "      <td>toyota</td>\n",
       "      <td>good</td>\n",
       "      <td>gas</td>\n",
       "      <td>33290.0</td>\n",
       "      <td>other</td>\n",
       "      <td>4wd</td>\n",
       "      <td>pickup</td>\n",
       "      <td>red</td>\n",
       "      <td>al</td>\n",
       "      <td>toyota tacoma</td>\n",
       "    </tr>\n",
       "    <tr>\n",
       "      <th>6</th>\n",
       "      <td>39990</td>\n",
       "      <td>2012.0</td>\n",
       "      <td>ford</td>\n",
       "      <td>good</td>\n",
       "      <td>gas</td>\n",
       "      <td>9692.0</td>\n",
       "      <td>other</td>\n",
       "      <td>rwd</td>\n",
       "      <td>coupe</td>\n",
       "      <td>blue</td>\n",
       "      <td>al</td>\n",
       "      <td>ford mustang</td>\n",
       "    </tr>\n",
       "    <tr>\n",
       "      <th>...</th>\n",
       "      <td>...</td>\n",
       "      <td>...</td>\n",
       "      <td>...</td>\n",
       "      <td>...</td>\n",
       "      <td>...</td>\n",
       "      <td>...</td>\n",
       "      <td>...</td>\n",
       "      <td>...</td>\n",
       "      <td>...</td>\n",
       "      <td>...</td>\n",
       "      <td>...</td>\n",
       "      <td>...</td>\n",
       "    </tr>\n",
       "    <tr>\n",
       "      <th>458207</th>\n",
       "      <td>19950</td>\n",
       "      <td>2017.0</td>\n",
       "      <td>audi</td>\n",
       "      <td>not specified</td>\n",
       "      <td>gas</td>\n",
       "      <td>101270.0</td>\n",
       "      <td>automatic</td>\n",
       "      <td>4wd</td>\n",
       "      <td>sedan</td>\n",
       "      <td>unknown</td>\n",
       "      <td>wi</td>\n",
       "      <td>audi a4</td>\n",
       "    </tr>\n",
       "    <tr>\n",
       "      <th>458208</th>\n",
       "      <td>14995</td>\n",
       "      <td>2014.0</td>\n",
       "      <td>cadillac</td>\n",
       "      <td>excellent</td>\n",
       "      <td>gas</td>\n",
       "      <td>83790.0</td>\n",
       "      <td>automatic</td>\n",
       "      <td>4wd</td>\n",
       "      <td>SUV</td>\n",
       "      <td>silver</td>\n",
       "      <td>wi</td>\n",
       "      <td>cadillac srx</td>\n",
       "    </tr>\n",
       "    <tr>\n",
       "      <th>458209</th>\n",
       "      <td>17895</td>\n",
       "      <td>2018.0</td>\n",
       "      <td>hyundai</td>\n",
       "      <td>excellent</td>\n",
       "      <td>gas</td>\n",
       "      <td>31888.0</td>\n",
       "      <td>automatic</td>\n",
       "      <td>4wd</td>\n",
       "      <td>SUV</td>\n",
       "      <td>white</td>\n",
       "      <td>wi</td>\n",
       "      <td>hyundai tucson</td>\n",
       "    </tr>\n",
       "    <tr>\n",
       "      <th>458210</th>\n",
       "      <td>17900</td>\n",
       "      <td>2014.0</td>\n",
       "      <td>cadillac</td>\n",
       "      <td>excellent</td>\n",
       "      <td>gas</td>\n",
       "      <td>53000.0</td>\n",
       "      <td>automatic</td>\n",
       "      <td>4wd</td>\n",
       "      <td>coupe</td>\n",
       "      <td>black</td>\n",
       "      <td>wy</td>\n",
       "      <td>cadillac cts</td>\n",
       "    </tr>\n",
       "    <tr>\n",
       "      <th>458211</th>\n",
       "      <td>1300</td>\n",
       "      <td>2008.0</td>\n",
       "      <td>jeep</td>\n",
       "      <td>good</td>\n",
       "      <td>gas</td>\n",
       "      <td>164000.0</td>\n",
       "      <td>automatic</td>\n",
       "      <td>4wd</td>\n",
       "      <td>SUV</td>\n",
       "      <td>white</td>\n",
       "      <td>wy</td>\n",
       "      <td>jeep grand</td>\n",
       "    </tr>\n",
       "  </tbody>\n",
       "</table>\n",
       "<p>307422 rows × 12 columns</p>\n",
       "</div>"
      ],
      "text/plain": [
       "        price    year manufacturer      condition fuel  odometer transmission  \\\n",
       "0       35990  2010.0    chevrolet           good  gas   32742.0        other   \n",
       "1        7500  2014.0      hyundai      excellent  gas   93600.0    automatic   \n",
       "2        4900  2006.0          bmw           good  gas   87046.0    automatic   \n",
       "5       29590  2016.0       toyota           good  gas   33290.0        other   \n",
       "6       39990  2012.0         ford           good  gas    9692.0        other   \n",
       "...       ...     ...          ...            ...  ...       ...          ...   \n",
       "458207  19950  2017.0         audi  not specified  gas  101270.0    automatic   \n",
       "458208  14995  2014.0     cadillac      excellent  gas   83790.0    automatic   \n",
       "458209  17895  2018.0      hyundai      excellent  gas   31888.0    automatic   \n",
       "458210  17900  2014.0     cadillac      excellent  gas   53000.0    automatic   \n",
       "458211   1300  2008.0         jeep           good  gas  164000.0    automatic   \n",
       "\n",
       "       drive    type paint_color state           car_model  \n",
       "0        rwd   other     unknown    al  chevrolet corvette  \n",
       "1        fwd   sedan     unknown    al      hyundai sonata  \n",
       "2        4wd     SUV        blue    al              bmw x3  \n",
       "5        4wd  pickup         red    al       toyota tacoma  \n",
       "6        rwd   coupe        blue    al        ford mustang  \n",
       "...      ...     ...         ...   ...                 ...  \n",
       "458207   4wd   sedan     unknown    wi             audi a4  \n",
       "458208   4wd     SUV      silver    wi        cadillac srx  \n",
       "458209   4wd     SUV       white    wi      hyundai tucson  \n",
       "458210   4wd   coupe       black    wy        cadillac cts  \n",
       "458211   4wd     SUV       white    wy          jeep grand  \n",
       "\n",
       "[307422 rows x 12 columns]"
      ]
     },
     "execution_count": 77,
     "metadata": {},
     "output_type": "execute_result"
    }
   ],
   "source": [
    "dfNoCyl = df.drop('cylinders', axis = 1)\n",
    "dfNoCyl"
   ]
  },
  {
   "cell_type": "code",
   "execution_count": 78,
   "metadata": {
    "execution": {
     "iopub.execute_input": "2021-01-09T10:28:20.271132Z",
     "iopub.status.busy": "2021-01-09T10:28:20.270104Z",
     "iopub.status.idle": "2021-01-09T10:28:20.273997Z",
     "shell.execute_reply": "2021-01-09T10:28:20.274508Z"
    },
    "papermill": {
     "duration": 0.132203,
     "end_time": "2021-01-09T10:28:20.274674",
     "exception": false,
     "start_time": "2021-01-09T10:28:20.142471",
     "status": "completed"
    },
    "tags": []
   },
   "outputs": [
    {
     "name": "stdout",
     "output_type": "stream",
     "text": [
      "test performance: {'r2': 73.64, 'mae': 4147.29, 'mse': 41866124.33, 'mape': 157.07}\n",
      "initial test performance: {'r2': 73.95, 'mae': 4128.78, 'mse': 41380776.7, 'mape': 156.12}\n",
      "\n",
      "train performance: {'r2': 73.42, 'mae': 4148.3, 'mse': 42396701.33, 'mape': 160.41}\n",
      "initial train performance: {'r2': 73.64, 'mae': 4138.43, 'mse': 42034353.94, 'mape': 159.79}\n",
      "\n",
      "change in test MAE: -0.45 %\n"
     ]
    }
   ],
   "source": [
    "no_cyl_metrics = updateModel(dfNoCyl)\n",
    "print_metrics(no_cyl_metrics)"
   ]
  },
  {
   "cell_type": "markdown",
   "metadata": {
    "papermill": {
     "duration": 0.113877,
     "end_time": "2021-01-09T10:28:20.502681",
     "exception": false,
     "start_time": "2021-01-09T10:28:20.388804",
     "status": "completed"
    },
    "tags": []
   },
   "source": [
    "marginal negative impact on performance"
   ]
  },
  {
   "cell_type": "markdown",
   "metadata": {
    "papermill": {
     "duration": 0.113978,
     "end_time": "2021-01-09T10:28:20.731548",
     "exception": false,
     "start_time": "2021-01-09T10:28:20.617570",
     "status": "completed"
    },
    "tags": []
   },
   "source": [
    "### Excluding 'type'"
   ]
  },
  {
   "cell_type": "code",
   "execution_count": 79,
   "metadata": {
    "execution": {
     "iopub.execute_input": "2021-01-09T10:28:20.964176Z",
     "iopub.status.busy": "2021-01-09T10:28:20.963158Z",
     "iopub.status.idle": "2021-01-09T10:28:20.978296Z",
     "shell.execute_reply": "2021-01-09T10:28:20.978801Z"
    },
    "papermill": {
     "duration": 0.132957,
     "end_time": "2021-01-09T10:28:20.978950",
     "exception": false,
     "start_time": "2021-01-09T10:28:20.845993",
     "status": "completed"
    },
    "tags": []
   },
   "outputs": [
    {
     "data": {
      "text/html": [
       "<div>\n",
       "<style scoped>\n",
       "    .dataframe tbody tr th:only-of-type {\n",
       "        vertical-align: middle;\n",
       "    }\n",
       "\n",
       "    .dataframe tbody tr th {\n",
       "        vertical-align: top;\n",
       "    }\n",
       "\n",
       "    .dataframe thead th {\n",
       "        text-align: right;\n",
       "    }\n",
       "</style>\n",
       "<table border=\"1\" class=\"dataframe\">\n",
       "  <thead>\n",
       "    <tr style=\"text-align: right;\">\n",
       "      <th></th>\n",
       "      <th>price</th>\n",
       "      <th>year</th>\n",
       "      <th>manufacturer</th>\n",
       "      <th>condition</th>\n",
       "      <th>cylinders</th>\n",
       "      <th>fuel</th>\n",
       "      <th>odometer</th>\n",
       "      <th>transmission</th>\n",
       "      <th>drive</th>\n",
       "      <th>paint_color</th>\n",
       "      <th>state</th>\n",
       "      <th>car_model</th>\n",
       "    </tr>\n",
       "  </thead>\n",
       "  <tbody>\n",
       "    <tr>\n",
       "      <th>0</th>\n",
       "      <td>35990</td>\n",
       "      <td>2010.0</td>\n",
       "      <td>chevrolet</td>\n",
       "      <td>good</td>\n",
       "      <td>8 cylinders</td>\n",
       "      <td>gas</td>\n",
       "      <td>32742.0</td>\n",
       "      <td>other</td>\n",
       "      <td>rwd</td>\n",
       "      <td>unknown</td>\n",
       "      <td>al</td>\n",
       "      <td>chevrolet corvette</td>\n",
       "    </tr>\n",
       "    <tr>\n",
       "      <th>1</th>\n",
       "      <td>7500</td>\n",
       "      <td>2014.0</td>\n",
       "      <td>hyundai</td>\n",
       "      <td>excellent</td>\n",
       "      <td>4 cylinders</td>\n",
       "      <td>gas</td>\n",
       "      <td>93600.0</td>\n",
       "      <td>automatic</td>\n",
       "      <td>fwd</td>\n",
       "      <td>unknown</td>\n",
       "      <td>al</td>\n",
       "      <td>hyundai sonata</td>\n",
       "    </tr>\n",
       "    <tr>\n",
       "      <th>2</th>\n",
       "      <td>4900</td>\n",
       "      <td>2006.0</td>\n",
       "      <td>bmw</td>\n",
       "      <td>good</td>\n",
       "      <td>6 cylinders</td>\n",
       "      <td>gas</td>\n",
       "      <td>87046.0</td>\n",
       "      <td>automatic</td>\n",
       "      <td>4wd</td>\n",
       "      <td>blue</td>\n",
       "      <td>al</td>\n",
       "      <td>bmw x3</td>\n",
       "    </tr>\n",
       "    <tr>\n",
       "      <th>5</th>\n",
       "      <td>29590</td>\n",
       "      <td>2016.0</td>\n",
       "      <td>toyota</td>\n",
       "      <td>good</td>\n",
       "      <td>6 cylinders</td>\n",
       "      <td>gas</td>\n",
       "      <td>33290.0</td>\n",
       "      <td>other</td>\n",
       "      <td>4wd</td>\n",
       "      <td>red</td>\n",
       "      <td>al</td>\n",
       "      <td>toyota tacoma</td>\n",
       "    </tr>\n",
       "    <tr>\n",
       "      <th>6</th>\n",
       "      <td>39990</td>\n",
       "      <td>2012.0</td>\n",
       "      <td>ford</td>\n",
       "      <td>good</td>\n",
       "      <td>8 cylinders</td>\n",
       "      <td>gas</td>\n",
       "      <td>9692.0</td>\n",
       "      <td>other</td>\n",
       "      <td>rwd</td>\n",
       "      <td>blue</td>\n",
       "      <td>al</td>\n",
       "      <td>ford mustang</td>\n",
       "    </tr>\n",
       "    <tr>\n",
       "      <th>...</th>\n",
       "      <td>...</td>\n",
       "      <td>...</td>\n",
       "      <td>...</td>\n",
       "      <td>...</td>\n",
       "      <td>...</td>\n",
       "      <td>...</td>\n",
       "      <td>...</td>\n",
       "      <td>...</td>\n",
       "      <td>...</td>\n",
       "      <td>...</td>\n",
       "      <td>...</td>\n",
       "      <td>...</td>\n",
       "    </tr>\n",
       "    <tr>\n",
       "      <th>458207</th>\n",
       "      <td>19950</td>\n",
       "      <td>2017.0</td>\n",
       "      <td>audi</td>\n",
       "      <td>not specified</td>\n",
       "      <td>4 cylinders</td>\n",
       "      <td>gas</td>\n",
       "      <td>101270.0</td>\n",
       "      <td>automatic</td>\n",
       "      <td>4wd</td>\n",
       "      <td>unknown</td>\n",
       "      <td>wi</td>\n",
       "      <td>audi a4</td>\n",
       "    </tr>\n",
       "    <tr>\n",
       "      <th>458208</th>\n",
       "      <td>14995</td>\n",
       "      <td>2014.0</td>\n",
       "      <td>cadillac</td>\n",
       "      <td>excellent</td>\n",
       "      <td>6 cylinders</td>\n",
       "      <td>gas</td>\n",
       "      <td>83790.0</td>\n",
       "      <td>automatic</td>\n",
       "      <td>4wd</td>\n",
       "      <td>silver</td>\n",
       "      <td>wi</td>\n",
       "      <td>cadillac srx</td>\n",
       "    </tr>\n",
       "    <tr>\n",
       "      <th>458209</th>\n",
       "      <td>17895</td>\n",
       "      <td>2018.0</td>\n",
       "      <td>hyundai</td>\n",
       "      <td>excellent</td>\n",
       "      <td>4 cylinders</td>\n",
       "      <td>gas</td>\n",
       "      <td>31888.0</td>\n",
       "      <td>automatic</td>\n",
       "      <td>4wd</td>\n",
       "      <td>white</td>\n",
       "      <td>wi</td>\n",
       "      <td>hyundai tucson</td>\n",
       "    </tr>\n",
       "    <tr>\n",
       "      <th>458210</th>\n",
       "      <td>17900</td>\n",
       "      <td>2014.0</td>\n",
       "      <td>cadillac</td>\n",
       "      <td>excellent</td>\n",
       "      <td>6 cylinders</td>\n",
       "      <td>gas</td>\n",
       "      <td>53000.0</td>\n",
       "      <td>automatic</td>\n",
       "      <td>4wd</td>\n",
       "      <td>black</td>\n",
       "      <td>wy</td>\n",
       "      <td>cadillac cts</td>\n",
       "    </tr>\n",
       "    <tr>\n",
       "      <th>458211</th>\n",
       "      <td>1300</td>\n",
       "      <td>2008.0</td>\n",
       "      <td>jeep</td>\n",
       "      <td>good</td>\n",
       "      <td>8 cylinders</td>\n",
       "      <td>gas</td>\n",
       "      <td>164000.0</td>\n",
       "      <td>automatic</td>\n",
       "      <td>4wd</td>\n",
       "      <td>white</td>\n",
       "      <td>wy</td>\n",
       "      <td>jeep grand</td>\n",
       "    </tr>\n",
       "  </tbody>\n",
       "</table>\n",
       "<p>307422 rows × 12 columns</p>\n",
       "</div>"
      ],
      "text/plain": [
       "        price    year manufacturer      condition    cylinders fuel  odometer  \\\n",
       "0       35990  2010.0    chevrolet           good  8 cylinders  gas   32742.0   \n",
       "1        7500  2014.0      hyundai      excellent  4 cylinders  gas   93600.0   \n",
       "2        4900  2006.0          bmw           good  6 cylinders  gas   87046.0   \n",
       "5       29590  2016.0       toyota           good  6 cylinders  gas   33290.0   \n",
       "6       39990  2012.0         ford           good  8 cylinders  gas    9692.0   \n",
       "...       ...     ...          ...            ...          ...  ...       ...   \n",
       "458207  19950  2017.0         audi  not specified  4 cylinders  gas  101270.0   \n",
       "458208  14995  2014.0     cadillac      excellent  6 cylinders  gas   83790.0   \n",
       "458209  17895  2018.0      hyundai      excellent  4 cylinders  gas   31888.0   \n",
       "458210  17900  2014.0     cadillac      excellent  6 cylinders  gas   53000.0   \n",
       "458211   1300  2008.0         jeep           good  8 cylinders  gas  164000.0   \n",
       "\n",
       "       transmission drive paint_color state           car_model  \n",
       "0             other   rwd     unknown    al  chevrolet corvette  \n",
       "1         automatic   fwd     unknown    al      hyundai sonata  \n",
       "2         automatic   4wd        blue    al              bmw x3  \n",
       "5             other   4wd         red    al       toyota tacoma  \n",
       "6             other   rwd        blue    al        ford mustang  \n",
       "...             ...   ...         ...   ...                 ...  \n",
       "458207    automatic   4wd     unknown    wi             audi a4  \n",
       "458208    automatic   4wd      silver    wi        cadillac srx  \n",
       "458209    automatic   4wd       white    wi      hyundai tucson  \n",
       "458210    automatic   4wd       black    wy        cadillac cts  \n",
       "458211    automatic   4wd       white    wy          jeep grand  \n",
       "\n",
       "[307422 rows x 12 columns]"
      ]
     },
     "execution_count": 79,
     "metadata": {},
     "output_type": "execute_result"
    }
   ],
   "source": [
    "dfNoType = df.drop('type', axis = 1)\n",
    "dfNoType"
   ]
  },
  {
   "cell_type": "code",
   "execution_count": 80,
   "metadata": {
    "execution": {
     "iopub.execute_input": "2021-01-09T10:28:21.214980Z",
     "iopub.status.busy": "2021-01-09T10:28:21.213985Z",
     "iopub.status.idle": "2021-01-09T10:28:21.228976Z",
     "shell.execute_reply": "2021-01-09T10:28:21.229465Z"
    },
    "papermill": {
     "duration": 0.132775,
     "end_time": "2021-01-09T10:28:21.229632",
     "exception": false,
     "start_time": "2021-01-09T10:28:21.096857",
     "status": "completed"
    },
    "tags": []
   },
   "outputs": [
    {
     "name": "stdout",
     "output_type": "stream",
     "text": [
      "test performance: {'r2': 73.84, 'mae': 4123.65, 'mse': 41553778.36, 'mape': 156.8}\n",
      "initial test performance: {'r2': 73.95, 'mae': 4128.78, 'mse': 41380776.7, 'mape': 156.12}\n",
      "\n",
      "train performance: {'r2': 73.54, 'mae': 4133.7, 'mse': 42194745.56, 'mape': 160.43}\n",
      "initial train performance: {'r2': 73.64, 'mae': 4138.43, 'mse': 42034353.94, 'mape': 159.79}\n",
      "\n",
      "change in test MAE: 0.12 %\n"
     ]
    }
   ],
   "source": [
    "no_type_metrics = updateModel(dfNoType)\n",
    "print_metrics(no_type_metrics)"
   ]
  },
  {
   "cell_type": "markdown",
   "metadata": {
    "papermill": {
     "duration": 0.114646,
     "end_time": "2021-01-09T10:28:21.458561",
     "exception": false,
     "start_time": "2021-01-09T10:28:21.343915",
     "status": "completed"
    },
    "tags": []
   },
   "source": [
    "no significant effect on performance"
   ]
  },
  {
   "cell_type": "markdown",
   "metadata": {
    "papermill": {
     "duration": 0.115277,
     "end_time": "2021-01-09T10:28:21.688072",
     "exception": false,
     "start_time": "2021-01-09T10:28:21.572795",
     "status": "completed"
    },
    "tags": []
   },
   "source": [
    "### Committing feature engineering changes to df"
   ]
  },
  {
   "cell_type": "code",
   "execution_count": 81,
   "metadata": {
    "execution": {
     "iopub.execute_input": "2021-01-09T10:28:21.923904Z",
     "iopub.status.busy": "2021-01-09T10:28:21.923156Z",
     "iopub.status.idle": "2021-01-09T10:28:21.939539Z",
     "shell.execute_reply": "2021-01-09T10:28:21.940148Z"
    },
    "papermill": {
     "duration": 0.136546,
     "end_time": "2021-01-09T10:28:21.940295",
     "exception": false,
     "start_time": "2021-01-09T10:28:21.803749",
     "status": "completed"
    },
    "tags": []
   },
   "outputs": [
    {
     "data": {
      "text/html": [
       "<div>\n",
       "<style scoped>\n",
       "    .dataframe tbody tr th:only-of-type {\n",
       "        vertical-align: middle;\n",
       "    }\n",
       "\n",
       "    .dataframe tbody tr th {\n",
       "        vertical-align: top;\n",
       "    }\n",
       "\n",
       "    .dataframe thead th {\n",
       "        text-align: right;\n",
       "    }\n",
       "</style>\n",
       "<table border=\"1\" class=\"dataframe\">\n",
       "  <thead>\n",
       "    <tr style=\"text-align: right;\">\n",
       "      <th></th>\n",
       "      <th>price</th>\n",
       "      <th>manufacturer</th>\n",
       "      <th>condition</th>\n",
       "      <th>cylinders</th>\n",
       "      <th>fuel</th>\n",
       "      <th>odometer</th>\n",
       "      <th>transmission</th>\n",
       "      <th>drive</th>\n",
       "      <th>paint_color</th>\n",
       "      <th>car_model</th>\n",
       "      <th>age_group</th>\n",
       "      <th>region</th>\n",
       "    </tr>\n",
       "  </thead>\n",
       "  <tbody>\n",
       "    <tr>\n",
       "      <th>0</th>\n",
       "      <td>35990</td>\n",
       "      <td>chevrolet</td>\n",
       "      <td>good</td>\n",
       "      <td>8 cylinders</td>\n",
       "      <td>gas</td>\n",
       "      <td>32742.0</td>\n",
       "      <td>other</td>\n",
       "      <td>rwd</td>\n",
       "      <td>unknown</td>\n",
       "      <td>chevrolet corvette</td>\n",
       "      <td>11</td>\n",
       "      <td>south</td>\n",
       "    </tr>\n",
       "    <tr>\n",
       "      <th>1</th>\n",
       "      <td>7500</td>\n",
       "      <td>hyundai</td>\n",
       "      <td>excellent</td>\n",
       "      <td>4 cylinders</td>\n",
       "      <td>gas</td>\n",
       "      <td>93600.0</td>\n",
       "      <td>automatic</td>\n",
       "      <td>fwd</td>\n",
       "      <td>unknown</td>\n",
       "      <td>hyundai sonata</td>\n",
       "      <td>7</td>\n",
       "      <td>south</td>\n",
       "    </tr>\n",
       "    <tr>\n",
       "      <th>2</th>\n",
       "      <td>4900</td>\n",
       "      <td>bmw</td>\n",
       "      <td>good</td>\n",
       "      <td>6 cylinders</td>\n",
       "      <td>gas</td>\n",
       "      <td>87046.0</td>\n",
       "      <td>automatic</td>\n",
       "      <td>4wd</td>\n",
       "      <td>blue</td>\n",
       "      <td>bmw x3</td>\n",
       "      <td>15-29</td>\n",
       "      <td>south</td>\n",
       "    </tr>\n",
       "    <tr>\n",
       "      <th>3</th>\n",
       "      <td>29590</td>\n",
       "      <td>toyota</td>\n",
       "      <td>good</td>\n",
       "      <td>6 cylinders</td>\n",
       "      <td>gas</td>\n",
       "      <td>33290.0</td>\n",
       "      <td>other</td>\n",
       "      <td>4wd</td>\n",
       "      <td>red</td>\n",
       "      <td>toyota tacoma</td>\n",
       "      <td>5</td>\n",
       "      <td>south</td>\n",
       "    </tr>\n",
       "    <tr>\n",
       "      <th>4</th>\n",
       "      <td>39990</td>\n",
       "      <td>ford</td>\n",
       "      <td>good</td>\n",
       "      <td>8 cylinders</td>\n",
       "      <td>gas</td>\n",
       "      <td>9692.0</td>\n",
       "      <td>other</td>\n",
       "      <td>rwd</td>\n",
       "      <td>blue</td>\n",
       "      <td>ford mustang</td>\n",
       "      <td>9</td>\n",
       "      <td>south</td>\n",
       "    </tr>\n",
       "    <tr>\n",
       "      <th>...</th>\n",
       "      <td>...</td>\n",
       "      <td>...</td>\n",
       "      <td>...</td>\n",
       "      <td>...</td>\n",
       "      <td>...</td>\n",
       "      <td>...</td>\n",
       "      <td>...</td>\n",
       "      <td>...</td>\n",
       "      <td>...</td>\n",
       "      <td>...</td>\n",
       "      <td>...</td>\n",
       "      <td>...</td>\n",
       "    </tr>\n",
       "    <tr>\n",
       "      <th>307417</th>\n",
       "      <td>19950</td>\n",
       "      <td>audi</td>\n",
       "      <td>not specified</td>\n",
       "      <td>4 cylinders</td>\n",
       "      <td>gas</td>\n",
       "      <td>101270.0</td>\n",
       "      <td>automatic</td>\n",
       "      <td>4wd</td>\n",
       "      <td>unknown</td>\n",
       "      <td>audi a4</td>\n",
       "      <td>4</td>\n",
       "      <td>mid-west</td>\n",
       "    </tr>\n",
       "    <tr>\n",
       "      <th>307418</th>\n",
       "      <td>14995</td>\n",
       "      <td>cadillac</td>\n",
       "      <td>excellent</td>\n",
       "      <td>6 cylinders</td>\n",
       "      <td>gas</td>\n",
       "      <td>83790.0</td>\n",
       "      <td>automatic</td>\n",
       "      <td>4wd</td>\n",
       "      <td>silver</td>\n",
       "      <td>cadillac srx</td>\n",
       "      <td>7</td>\n",
       "      <td>mid-west</td>\n",
       "    </tr>\n",
       "    <tr>\n",
       "      <th>307419</th>\n",
       "      <td>17895</td>\n",
       "      <td>hyundai</td>\n",
       "      <td>excellent</td>\n",
       "      <td>4 cylinders</td>\n",
       "      <td>gas</td>\n",
       "      <td>31888.0</td>\n",
       "      <td>automatic</td>\n",
       "      <td>4wd</td>\n",
       "      <td>white</td>\n",
       "      <td>hyundai tucson</td>\n",
       "      <td>3</td>\n",
       "      <td>mid-west</td>\n",
       "    </tr>\n",
       "    <tr>\n",
       "      <th>307420</th>\n",
       "      <td>17900</td>\n",
       "      <td>cadillac</td>\n",
       "      <td>excellent</td>\n",
       "      <td>6 cylinders</td>\n",
       "      <td>gas</td>\n",
       "      <td>53000.0</td>\n",
       "      <td>automatic</td>\n",
       "      <td>4wd</td>\n",
       "      <td>black</td>\n",
       "      <td>cadillac cts</td>\n",
       "      <td>7</td>\n",
       "      <td>west</td>\n",
       "    </tr>\n",
       "    <tr>\n",
       "      <th>307421</th>\n",
       "      <td>1300</td>\n",
       "      <td>jeep</td>\n",
       "      <td>good</td>\n",
       "      <td>8 cylinders</td>\n",
       "      <td>gas</td>\n",
       "      <td>164000.0</td>\n",
       "      <td>automatic</td>\n",
       "      <td>4wd</td>\n",
       "      <td>white</td>\n",
       "      <td>jeep grand</td>\n",
       "      <td>13</td>\n",
       "      <td>west</td>\n",
       "    </tr>\n",
       "  </tbody>\n",
       "</table>\n",
       "<p>307422 rows × 12 columns</p>\n",
       "</div>"
      ],
      "text/plain": [
       "        price manufacturer      condition    cylinders fuel  odometer  \\\n",
       "0       35990    chevrolet           good  8 cylinders  gas   32742.0   \n",
       "1        7500      hyundai      excellent  4 cylinders  gas   93600.0   \n",
       "2        4900          bmw           good  6 cylinders  gas   87046.0   \n",
       "3       29590       toyota           good  6 cylinders  gas   33290.0   \n",
       "4       39990         ford           good  8 cylinders  gas    9692.0   \n",
       "...       ...          ...            ...          ...  ...       ...   \n",
       "307417  19950         audi  not specified  4 cylinders  gas  101270.0   \n",
       "307418  14995     cadillac      excellent  6 cylinders  gas   83790.0   \n",
       "307419  17895      hyundai      excellent  4 cylinders  gas   31888.0   \n",
       "307420  17900     cadillac      excellent  6 cylinders  gas   53000.0   \n",
       "307421   1300         jeep           good  8 cylinders  gas  164000.0   \n",
       "\n",
       "       transmission drive paint_color           car_model age_group    region  \n",
       "0             other   rwd     unknown  chevrolet corvette        11     south  \n",
       "1         automatic   fwd     unknown      hyundai sonata         7     south  \n",
       "2         automatic   4wd        blue              bmw x3     15-29     south  \n",
       "3             other   4wd         red       toyota tacoma         5     south  \n",
       "4             other   rwd        blue        ford mustang         9     south  \n",
       "...             ...   ...         ...                 ...       ...       ...  \n",
       "307417    automatic   4wd     unknown             audi a4         4  mid-west  \n",
       "307418    automatic   4wd      silver        cadillac srx         7  mid-west  \n",
       "307419    automatic   4wd       white      hyundai tucson         3  mid-west  \n",
       "307420    automatic   4wd       black        cadillac cts         7      west  \n",
       "307421    automatic   4wd       white          jeep grand        13      west  \n",
       "\n",
       "[307422 rows x 12 columns]"
      ]
     },
     "execution_count": 81,
     "metadata": {},
     "output_type": "execute_result"
    }
   ],
   "source": [
    "#only creating age_groups had a positive impact on performance\n",
    "#dropping 'type' and binning 'state' into regions had no real impact on performance but made the model more interpretable\n",
    "\n",
    "df = dfAgeCat\n",
    "df = pd.merge(df, pd.DataFrame(regions_dict), on = 'state', how = 'left').drop('state', axis = 1)\n",
    "df.drop('type', axis = 1, inplace = True)\n",
    "df"
   ]
  },
  {
   "cell_type": "markdown",
   "metadata": {
    "papermill": {
     "duration": 0.137126,
     "end_time": "2021-01-09T10:28:22.193370",
     "exception": false,
     "start_time": "2021-01-09T10:28:22.056244",
     "status": "completed"
    },
    "tags": []
   },
   "source": [
    "## Model Creation"
   ]
  },
  {
   "cell_type": "markdown",
   "metadata": {
    "papermill": {
     "duration": 0.114645,
     "end_time": "2021-01-09T10:28:22.429957",
     "exception": false,
     "start_time": "2021-01-09T10:28:22.315312",
     "status": "completed"
    },
    "tags": []
   },
   "source": [
    "### Linear Regression"
   ]
  },
  {
   "cell_type": "code",
   "execution_count": 82,
   "metadata": {
    "execution": {
     "iopub.execute_input": "2021-01-09T10:28:22.664336Z",
     "iopub.status.busy": "2021-01-09T10:28:22.663451Z",
     "iopub.status.idle": "2021-01-09T10:28:22.668398Z",
     "shell.execute_reply": "2021-01-09T10:28:22.667737Z"
    },
    "papermill": {
     "duration": 0.123766,
     "end_time": "2021-01-09T10:28:22.668509",
     "exception": false,
     "start_time": "2021-01-09T10:28:22.544743",
     "status": "completed"
    },
    "tags": []
   },
   "outputs": [],
   "source": [
    "reg = LinearRegression()"
   ]
  },
  {
   "cell_type": "code",
   "execution_count": 83,
   "metadata": {
    "execution": {
     "iopub.execute_input": "2021-01-09T10:28:22.905011Z",
     "iopub.status.busy": "2021-01-09T10:28:22.904279Z",
     "iopub.status.idle": "2021-01-09T10:28:22.918131Z",
     "shell.execute_reply": "2021-01-09T10:28:22.918686Z"
    },
    "papermill": {
     "duration": 0.134133,
     "end_time": "2021-01-09T10:28:22.918851",
     "exception": false,
     "start_time": "2021-01-09T10:28:22.784718",
     "status": "completed"
    },
    "tags": []
   },
   "outputs": [
    {
     "name": "stdout",
     "output_type": "stream",
     "text": [
      "test performance: {'r2': 77.04, 'mae': 3904.67, 'mse': 36464425.34, 'mape': 158.7}\n",
      "initial test performance: {'r2': 73.95, 'mae': 4128.78, 'mse': 41380776.7, 'mape': 156.12}\n",
      "\n",
      "train performance: {'r2': 76.84, 'mae': 3926.71, 'mse': 36937814.88, 'mape': 162.29}\n",
      "initial train performance: {'r2': 73.64, 'mae': 4138.43, 'mse': 42034353.94, 'mape': 159.79}\n",
      "\n",
      "change in test MAE: 5.43 %\n"
     ]
    }
   ],
   "source": [
    "#linear regression model on the feature engineered df\n",
    "\n",
    "initLR = updateModel(df)\n",
    "print_metrics(initLR)"
   ]
  },
  {
   "cell_type": "markdown",
   "metadata": {
    "papermill": {
     "duration": 0.173761,
     "end_time": "2021-01-09T10:28:23.210042",
     "exception": false,
     "start_time": "2021-01-09T10:28:23.036281",
     "status": "completed"
    },
    "tags": []
   },
   "source": [
    "Feature engineering had a clear positive impact on performance without a sign of overfitting"
   ]
  },
  {
   "cell_type": "markdown",
   "metadata": {
    "papermill": {
     "duration": 0.117573,
     "end_time": "2021-01-09T10:28:23.445322",
     "exception": false,
     "start_time": "2021-01-09T10:28:23.327749",
     "status": "completed"
    },
    "tags": []
   },
   "source": [
    "### Feature Importance"
   ]
  },
  {
   "cell_type": "code",
   "execution_count": 84,
   "metadata": {
    "execution": {
     "iopub.execute_input": "2021-01-09T10:28:23.684264Z",
     "iopub.status.busy": "2021-01-09T10:28:23.683525Z",
     "iopub.status.idle": "2021-01-09T10:28:23.698532Z",
     "shell.execute_reply": "2021-01-09T10:28:23.699111Z"
    },
    "papermill": {
     "duration": 0.136483,
     "end_time": "2021-01-09T10:28:23.699268",
     "exception": false,
     "start_time": "2021-01-09T10:28:23.562785",
     "status": "completed"
    },
    "tags": []
   },
   "outputs": [],
   "source": [
    "cols = pd.get_dummies(df, drop_first = True).columns"
   ]
  },
  {
   "cell_type": "code",
   "execution_count": 85,
   "metadata": {
    "execution": {
     "iopub.execute_input": "2021-01-09T10:28:23.942120Z",
     "iopub.status.busy": "2021-01-09T10:28:23.941359Z",
     "iopub.status.idle": "2021-01-09T10:28:23.957337Z",
     "shell.execute_reply": "2021-01-09T10:28:23.956659Z"
    },
    "papermill": {
     "duration": 0.140338,
     "end_time": "2021-01-09T10:28:23.957448",
     "exception": false,
     "start_time": "2021-01-09T10:28:23.817110",
     "status": "completed"
    },
    "tags": []
   },
   "outputs": [
    {
     "name": "stderr",
     "output_type": "stream",
     "text": [
      "<ipython-input-85-49b02853c5f0>:7: SettingWithCopyWarning: \n",
      "A value is trying to be set on a copy of a slice from a DataFrame.\n",
      "Try using .loc[row_indexer,col_indexer] = value instead\n",
      "\n",
      "See the caveats in the documentation: https://pandas.pydata.org/pandas-docs/stable/user_guide/indexing.html#returning-a-view-versus-a-copy\n",
      "  best10['feat'] = cols[best10['feat n°']]\n",
      "<ipython-input-85-49b02853c5f0>:8: SettingWithCopyWarning: \n",
      "A value is trying to be set on a copy of a slice from a DataFrame.\n",
      "Try using .loc[row_indexer,col_indexer] = value instead\n",
      "\n",
      "See the caveats in the documentation: https://pandas.pydata.org/pandas-docs/stable/user_guide/indexing.html#returning-a-view-versus-a-copy\n",
      "  worst10['feat'] = cols[worst10['feat n°']]\n"
     ]
    }
   ],
   "source": [
    "importance = reg.coef_\n",
    "\n",
    "temp = pd.DataFrame({'feat n°': [x for x in range(len(importance))],'importance': importance})\n",
    "temp = temp.sort_values('importance')\n",
    "worst10 = temp[:10]\n",
    "best10 = temp[-10:]\n",
    "best10['feat'] = cols[best10['feat n°']]\n",
    "worst10['feat'] = cols[worst10['feat n°']]"
   ]
  },
  {
   "cell_type": "code",
   "execution_count": 86,
   "metadata": {
    "execution": {
     "iopub.execute_input": "2021-01-09T10:28:24.210613Z",
     "iopub.status.busy": "2021-01-09T10:28:24.209938Z",
     "iopub.status.idle": "2021-01-09T10:28:24.456290Z",
     "shell.execute_reply": "2021-01-09T10:28:24.457176Z"
    },
    "papermill": {
     "duration": 0.378861,
     "end_time": "2021-01-09T10:28:24.457390",
     "exception": false,
     "start_time": "2021-01-09T10:28:24.078529",
     "status": "completed"
    },
    "tags": []
   },
   "outputs": [
    {
     "data": {
      "text/plain": [
       "<BarContainer object of 10 artists>"
      ]
     },
     "execution_count": 86,
     "metadata": {},
     "output_type": "execute_result"
    },
    {
     "data": {
      "image/png": "[encoded data removed]",
      "text/plain": [
       "<Figure size 432x288 with 1 Axes>"
      ]
     },
     "metadata": {
      "needs_background": "light"
     },
     "output_type": "display_data"
    }
   ],
   "source": [
    "plt.xticks(rotation = 90)\n",
    "plt.bar(best10['feat'], best10['importance'])"
   ]
  },
  {
   "cell_type": "code",
   "execution_count": 87,
   "metadata": {
    "execution": {
     "iopub.execute_input": "2021-01-09T10:28:24.722505Z",
     "iopub.status.busy": "2021-01-09T10:28:24.720931Z",
     "iopub.status.idle": "2021-01-09T10:28:24.881356Z",
     "shell.execute_reply": "2021-01-09T10:28:24.880661Z"
    },
    "papermill": {
     "duration": 0.295528,
     "end_time": "2021-01-09T10:28:24.881488",
     "exception": false,
     "start_time": "2021-01-09T10:28:24.585960",
     "status": "completed"
    },
    "tags": []
   },
   "outputs": [
    {
     "data": {
      "text/plain": [
       "<BarContainer object of 10 artists>"
      ]
     },
     "execution_count": 87,
     "metadata": {},
     "output_type": "execute_result"
    },
    {
     "data": {
      "image/png": "[encoded data removed]",
      "text/plain": [
       "<Figure size 432x288 with 1 Axes>"
      ]
     },
     "metadata": {
      "needs_background": "light"
     },
     "output_type": "display_data"
    }
   ],
   "source": [
    "plt.xticks(rotation = 90)\n",
    "plt.bar(worst10['feat'], worst10['importance'])"
   ]
  },
  {
   "cell_type": "markdown",
   "metadata": {
    "papermill": {
     "duration": 0.121772,
     "end_time": "2021-01-09T10:28:25.124687",
     "exception": false,
     "start_time": "2021-01-09T10:28:25.002915",
     "status": "completed"
    },
    "tags": []
   },
   "source": [
    "### Random Forest Regressor"
   ]
  },
  {
   "cell_type": "code",
   "execution_count": 88,
   "metadata": {
    "execution": {
     "iopub.execute_input": "2021-01-09T10:28:25.374279Z",
     "iopub.status.busy": "2021-01-09T10:28:25.373251Z",
     "iopub.status.idle": "2021-01-09T10:28:25.376141Z",
     "shell.execute_reply": "2021-01-09T10:28:25.376631Z"
    },
    "papermill": {
     "duration": 0.129571,
     "end_time": "2021-01-09T10:28:25.376803",
     "exception": false,
     "start_time": "2021-01-09T10:28:25.247232",
     "status": "completed"
    },
    "tags": []
   },
   "outputs": [],
   "source": [
    "#20-tree RF\n",
    "\n",
    "reg = RandomForestRegressor(n_estimators = 20, random_state = 7)"
   ]
  },
  {
   "cell_type": "code",
   "execution_count": 89,
   "metadata": {
    "execution": {
     "iopub.execute_input": "2021-01-09T10:28:25.636934Z",
     "iopub.status.busy": "2021-01-09T10:28:25.636005Z",
     "iopub.status.idle": "2021-01-09T10:28:25.639725Z",
     "shell.execute_reply": "2021-01-09T10:28:25.640288Z"
    },
    "papermill": {
     "duration": 0.142296,
     "end_time": "2021-01-09T10:28:25.640449",
     "exception": false,
     "start_time": "2021-01-09T10:28:25.498153",
     "status": "completed"
    },
    "tags": []
   },
   "outputs": [
    {
     "name": "stdout",
     "output_type": "stream",
     "text": [
      "test performance: {'r2': 91.06, 'mae': 1690.99, 'mse': 14200739.7, 'mape': 73.87}\n",
      "initial test performance: {'r2': 73.95, 'mae': 4128.78, 'mse': 41380776.7, 'mape': 156.12}\n",
      "\n",
      "train performance: {'r2': 98.12, 'mae': 690.12, 'mse': 2999876.55, 'mape': 30.71}\n",
      "initial train performance: {'r2': 73.64, 'mae': 4138.43, 'mse': 42034353.94, 'mape': 159.79}\n",
      "\n",
      "change in test MAE: 59.04 %\n"
     ]
    }
   ],
   "source": [
    "initRF = updateModel(df)\n",
    "print_metrics(initRF)"
   ]
  },
  {
   "cell_type": "code",
   "execution_count": 90,
   "metadata": {
    "execution": {
     "iopub.execute_input": "2021-01-09T10:28:25.909522Z",
     "iopub.status.busy": "2021-01-09T10:28:25.908867Z",
     "iopub.status.idle": "2021-01-09T10:28:25.923955Z",
     "shell.execute_reply": "2021-01-09T10:28:25.924551Z"
    },
    "papermill": {
     "duration": 0.151752,
     "end_time": "2021-01-09T10:28:25.924727",
     "exception": false,
     "start_time": "2021-01-09T10:28:25.772975",
     "status": "completed"
    },
    "tags": []
   },
   "outputs": [
    {
     "data": {
      "text/plain": [
       "array([2606.41436838, 2274.70038815, 2038.59093853, 2329.32652851,\n",
       "       2444.175114  ])"
      ]
     },
     "execution_count": 90,
     "metadata": {},
     "output_type": "execute_result"
    }
   ],
   "source": [
    "kcv = get_kCVscores(df)\n",
    "kcv"
   ]
  },
  {
   "cell_type": "code",
   "execution_count": 75,
   "metadata": {
    "execution": {
     "iopub.execute_input": "2021-01-09T10:28:26.187808Z",
     "iopub.status.busy": "2021-01-09T10:28:26.187071Z",
     "iopub.status.idle": "2021-01-09T10:28:26.202995Z",
     "shell.execute_reply": "2021-01-09T10:28:26.203548Z"
    },
    "papermill": {
     "duration": 0.154738,
     "end_time": "2021-01-09T10:28:26.203733",
     "exception": false,
     "start_time": "2021-01-09T10:28:26.048995",
     "status": "completed"
    },
    "tags": []
   },
   "outputs": [
    {
     "ename": "NameError",
     "evalue": "name 'kcv' is not defined",
     "output_type": "error",
     "traceback": [
      "\u001b[0;31m---------------------------------------------------------------------------\u001b[0m",
      "\u001b[0;31mNameError\u001b[0m                                 Traceback (most recent call last)",
      "\u001b[0;32m<ipython-input-75-f8b99537e2bc>\u001b[0m in \u001b[0;36m<module>\u001b[0;34m\u001b[0m\n\u001b[0;32m----> 1\u001b[0;31m \u001b[0mprint\u001b[0m\u001b[0;34m(\u001b[0m\u001b[0;34m'Cross validated MAE mean:'\u001b[0m\u001b[0;34m,\u001b[0m \u001b[0mkcv\u001b[0m\u001b[0;34m.\u001b[0m\u001b[0mmean\u001b[0m\u001b[0;34m(\u001b[0m\u001b[0;34m)\u001b[0m\u001b[0;34m)\u001b[0m\u001b[0;34m\u001b[0m\u001b[0;34m\u001b[0m\u001b[0m\n\u001b[0m\u001b[1;32m      2\u001b[0m \u001b[0mprint\u001b[0m\u001b[0;34m(\u001b[0m\u001b[0;34m'Cross validated MAE standard deviation:'\u001b[0m\u001b[0;34m,\u001b[0m \u001b[0mkcv\u001b[0m\u001b[0;34m.\u001b[0m\u001b[0mstd\u001b[0m\u001b[0;34m(\u001b[0m\u001b[0;34m)\u001b[0m\u001b[0;34m)\u001b[0m\u001b[0;34m\u001b[0m\u001b[0;34m\u001b[0m\u001b[0m\n",
      "\u001b[0;31mNameError\u001b[0m: name 'kcv' is not defined"
     ]
    }
   ],
   "source": [
    "print('Cross validated MAE mean:', kcv.mean())\n",
    "print('Cross validated MAE standard deviation:', kcv.std())"
   ]
  },
  {
   "cell_type": "code",
   "execution_count": 76,
   "metadata": {
    "execution": {
     "iopub.execute_input": "2021-01-09T10:28:26.456076Z",
     "iopub.status.busy": "2021-01-09T10:28:26.455326Z",
     "iopub.status.idle": "2021-01-09T10:28:26.460569Z",
     "shell.execute_reply": "2021-01-09T10:28:26.459925Z"
    },
    "papermill": {
     "duration": 0.132336,
     "end_time": "2021-01-09T10:28:26.460727",
     "exception": false,
     "start_time": "2021-01-09T10:28:26.328391",
     "status": "completed"
    },
    "tags": []
   },
   "outputs": [],
   "source": [
    "#100-tree RF\n",
    "\n",
    "reg = RandomForestRegressor(n_estimators = 100, random_state = 7)"
   ]
  },
  {
   "cell_type": "code",
   "execution_count": 77,
   "metadata": {
    "execution": {
     "iopub.execute_input": "2021-01-09T10:28:26.721100Z",
     "iopub.status.busy": "2021-01-09T10:28:26.715356Z",
     "iopub.status.idle": "2021-01-09T10:28:26.724546Z",
     "shell.execute_reply": "2021-01-09T10:28:26.725156Z"
    },
    "papermill": {
     "duration": 0.142334,
     "end_time": "2021-01-09T10:28:26.725305",
     "exception": false,
     "start_time": "2021-01-09T10:28:26.582971",
     "status": "completed"
    },
    "tags": []
   },
   "outputs": [
    {
     "ename": "NameError",
     "evalue": "name 'df' is not defined",
     "output_type": "error",
     "traceback": [
      "\u001b[0;31m---------------------------------------------------------------------------\u001b[0m",
      "\u001b[0;31mNameError\u001b[0m                                 Traceback (most recent call last)",
      "\u001b[0;32m<ipython-input-77-009bb8e76841>\u001b[0m in \u001b[0;36m<module>\u001b[0;34m\u001b[0m\n\u001b[0;32m----> 1\u001b[0;31m \u001b[0minit100RF\u001b[0m \u001b[0;34m=\u001b[0m \u001b[0mupdateModel\u001b[0m\u001b[0;34m(\u001b[0m\u001b[0mdf\u001b[0m\u001b[0;34m)\u001b[0m\u001b[0;34m\u001b[0m\u001b[0;34m\u001b[0m\u001b[0m\n\u001b[0m\u001b[1;32m      2\u001b[0m \u001b[0mprint_metrics\u001b[0m\u001b[0;34m(\u001b[0m\u001b[0minit100RF\u001b[0m\u001b[0;34m)\u001b[0m\u001b[0;34m\u001b[0m\u001b[0;34m\u001b[0m\u001b[0m\n",
      "\u001b[0;31mNameError\u001b[0m: name 'df' is not defined"
     ]
    }
   ],
   "source": [
    "init100RF = updateModel(df)\n",
    "print_metrics(init100RF)"
   ]
  },
  {
   "cell_type": "markdown",
   "metadata": {
    "papermill": {
     "duration": 0.123906,
     "end_time": "2021-01-09T10:28:26.976086",
     "exception": false,
     "start_time": "2021-01-09T10:28:26.852180",
     "status": "completed"
    },
    "tags": []
   },
   "source": [
    "the 20-tree random forest drastically outperforms the linear regression"
   ]
  },
  {
   "cell_type": "markdown",
   "metadata": {
    "papermill": {
     "duration": 0.125834,
     "end_time": "2021-01-09T10:28:27.226185",
     "exception": false,
     "start_time": "2021-01-09T10:28:27.100351",
     "status": "completed"
    },
    "tags": []
   },
   "source": [
    "however, cross validation clearly signals an overfitting problem"
   ]
  },
  {
   "cell_type": "markdown",
   "metadata": {
    "papermill": {
     "duration": 0.126247,
     "end_time": "2021-01-09T10:28:27.478867",
     "exception": false,
     "start_time": "2021-01-09T10:28:27.352620",
     "status": "completed"
    },
    "tags": []
   },
   "source": [
    "### Boosted Tree Regressor"
   ]
  },
  {
   "cell_type": "code",
   "execution_count": 78,
   "metadata": {
    "execution": {
     "iopub.execute_input": "2021-01-09T10:28:27.738674Z",
     "iopub.status.busy": "2021-01-09T10:28:27.737923Z",
     "iopub.status.idle": "2021-01-09T10:28:27.744221Z",
     "shell.execute_reply": "2021-01-09T10:28:27.743641Z"
    },
    "papermill": {
     "duration": 0.136257,
     "end_time": "2021-01-09T10:28:27.744347",
     "exception": false,
     "start_time": "2021-01-09T10:28:27.608090",
     "status": "completed"
    },
    "tags": []
   },
   "outputs": [],
   "source": [
    "reg = GradientBoostingRegressor(n_estimators = 50, learning_rate = 0.1, max_depth = 1, random_state = 7, loss = 'ls')"
   ]
  },
  {
   "cell_type": "code",
   "execution_count": 79,
   "metadata": {
    "execution": {
     "iopub.execute_input": "2021-01-09T10:28:28.011433Z",
     "iopub.status.busy": "2021-01-09T10:28:28.009647Z",
     "iopub.status.idle": "2021-01-09T10:28:28.015066Z",
     "shell.execute_reply": "2021-01-09T10:28:28.015558Z"
    },
    "papermill": {
     "duration": 0.145054,
     "end_time": "2021-01-09T10:28:28.015728",
     "exception": false,
     "start_time": "2021-01-09T10:28:27.870674",
     "status": "completed"
    },
    "tags": []
   },
   "outputs": [
    {
     "ename": "NameError",
     "evalue": "name 'df' is not defined",
     "output_type": "error",
     "traceback": [
      "\u001b[0;31m---------------------------------------------------------------------------\u001b[0m",
      "\u001b[0;31mNameError\u001b[0m                                 Traceback (most recent call last)",
      "\u001b[0;32m<ipython-input-79-7e1fb2a8fb23>\u001b[0m in \u001b[0;36m<module>\u001b[0;34m\u001b[0m\n\u001b[0;32m----> 1\u001b[0;31m \u001b[0minitBoost\u001b[0m \u001b[0;34m=\u001b[0m \u001b[0mupdateModel\u001b[0m\u001b[0;34m(\u001b[0m\u001b[0mdf\u001b[0m\u001b[0;34m)\u001b[0m\u001b[0;34m\u001b[0m\u001b[0;34m\u001b[0m\u001b[0m\n\u001b[0m\u001b[1;32m      2\u001b[0m \u001b[0mprint_metrics\u001b[0m\u001b[0;34m(\u001b[0m\u001b[0minitBoost\u001b[0m\u001b[0;34m)\u001b[0m\u001b[0;34m\u001b[0m\u001b[0;34m\u001b[0m\u001b[0m\n",
      "\u001b[0;31mNameError\u001b[0m: name 'df' is not defined"
     ]
    }
   ],
   "source": [
    "initBoost = updateModel(df)\n",
    "print_metrics(initBoost)"
   ]
  },
  {
   "cell_type": "markdown",
   "metadata": {
    "papermill": {
     "duration": 0.124406,
     "end_time": "2021-01-09T10:28:28.272075",
     "exception": false,
     "start_time": "2021-01-09T10:28:28.147669",
     "status": "completed"
    },
    "tags": []
   },
   "source": [
    "Boosted Tree performs significantly worse than linear regression"
   ]
  },
  {
   "cell_type": "markdown",
   "metadata": {
    "papermill": {
     "duration": 0.12399,
     "end_time": "2021-01-09T10:28:28.521700",
     "exception": false,
     "start_time": "2021-01-09T10:28:28.397710",
     "status": "completed"
    },
    "tags": []
   },
   "source": [
    "### Neural Network"
   ]
  },
  {
   "cell_type": "code",
   "execution_count": 80,
   "metadata": {
    "execution": {
     "iopub.execute_input": "2021-01-09T10:28:28.786467Z",
     "iopub.status.busy": "2021-01-09T10:28:28.785357Z",
     "iopub.status.idle": "2021-01-09T10:28:28.790159Z",
     "shell.execute_reply": "2021-01-09T10:28:28.790747Z"
    },
    "papermill": {
     "duration": 0.138687,
     "end_time": "2021-01-09T10:28:28.790930",
     "exception": false,
     "start_time": "2021-01-09T10:28:28.652243",
     "status": "completed"
    },
    "tags": []
   },
   "outputs": [],
   "source": [
    "reg = MLPRegressor()"
   ]
  },
  {
   "cell_type": "code",
   "execution_count": 81,
   "metadata": {
    "execution": {
     "iopub.execute_input": "2021-01-09T10:28:29.042784Z",
     "iopub.status.busy": "2021-01-09T10:28:29.041715Z",
     "iopub.status.idle": "2021-01-09T10:28:29.057954Z",
     "shell.execute_reply": "2021-01-09T10:28:29.058465Z"
    },
    "papermill": {
     "duration": 0.143688,
     "end_time": "2021-01-09T10:28:29.058648",
     "exception": false,
     "start_time": "2021-01-09T10:28:28.914960",
     "status": "completed"
    },
    "tags": []
   },
   "outputs": [
    {
     "ename": "NameError",
     "evalue": "name 'df' is not defined",
     "output_type": "error",
     "traceback": [
      "\u001b[0;31m---------------------------------------------------------------------------\u001b[0m",
      "\u001b[0;31mNameError\u001b[0m                                 Traceback (most recent call last)",
      "\u001b[0;32m<ipython-input-81-d4eb0dcfbad1>\u001b[0m in \u001b[0;36m<module>\u001b[0;34m\u001b[0m\n\u001b[0;32m----> 1\u001b[0;31m \u001b[0minitNN\u001b[0m \u001b[0;34m=\u001b[0m \u001b[0mupdateModel\u001b[0m\u001b[0;34m(\u001b[0m\u001b[0mdf\u001b[0m\u001b[0;34m)\u001b[0m\u001b[0;34m\u001b[0m\u001b[0;34m\u001b[0m\u001b[0m\n\u001b[0m\u001b[1;32m      2\u001b[0m \u001b[0mprint_metrics\u001b[0m\u001b[0;34m(\u001b[0m\u001b[0minitNN\u001b[0m\u001b[0;34m)\u001b[0m\u001b[0;34m\u001b[0m\u001b[0;34m\u001b[0m\u001b[0m\n",
      "\u001b[0;31mNameError\u001b[0m: name 'df' is not defined"
     ]
    }
   ],
   "source": [
    "initNN = updateModel(df)\n",
    "print_metrics(initNN)"
   ]
  },
  {
   "cell_type": "markdown",
   "metadata": {
    "papermill": {
     "duration": 0.12538,
     "end_time": "2021-01-09T10:28:29.310498",
     "exception": false,
     "start_time": "2021-01-09T10:28:29.185118",
     "status": "completed"
    },
    "tags": []
   },
   "source": [
    "Better than LR but not better than RF"
   ]
  },
  {
   "cell_type": "markdown",
   "metadata": {
    "papermill": {
     "duration": 0.123704,
     "end_time": "2021-01-09T10:28:29.558869",
     "exception": false,
     "start_time": "2021-01-09T10:28:29.435165",
     "status": "completed"
    },
    "tags": []
   },
   "source": [
    "### Clustering"
   ]
  },
  {
   "cell_type": "code",
   "execution_count": 82,
   "metadata": {
    "execution": {
     "iopub.execute_input": "2021-01-09T10:28:29.822267Z",
     "iopub.status.busy": "2021-01-09T10:28:29.821581Z",
     "iopub.status.idle": "2021-01-09T10:28:29.847252Z",
     "shell.execute_reply": "2021-01-09T10:28:29.846569Z"
    },
    "papermill": {
     "duration": 0.164201,
     "end_time": "2021-01-09T10:28:29.847367",
     "exception": false,
     "start_time": "2021-01-09T10:28:29.683166",
     "status": "completed"
    },
    "tags": []
   },
   "outputs": [
    {
     "ename": "NameError",
     "evalue": "name 'df' is not defined",
     "output_type": "error",
     "traceback": [
      "\u001b[0;31m---------------------------------------------------------------------------\u001b[0m",
      "\u001b[0;31mNameError\u001b[0m                                 Traceback (most recent call last)",
      "\u001b[0;32m<ipython-input-82-c333fb2d7cd4>\u001b[0m in \u001b[0;36m<module>\u001b[0;34m\u001b[0m\n\u001b[1;32m      1\u001b[0m \u001b[0;31m#Elbow plot values\u001b[0m\u001b[0;34m\u001b[0m\u001b[0;34m\u001b[0m\u001b[0;34m\u001b[0m\u001b[0m\n\u001b[1;32m      2\u001b[0m \u001b[0mdistortions\u001b[0m \u001b[0;34m=\u001b[0m \u001b[0;34m[\u001b[0m\u001b[0;34m]\u001b[0m\u001b[0;34m\u001b[0m\u001b[0;34m\u001b[0m\u001b[0m\n\u001b[0;32m----> 3\u001b[0;31m \u001b[0mdf_with_dummies\u001b[0m \u001b[0;34m=\u001b[0m \u001b[0mpd\u001b[0m\u001b[0;34m.\u001b[0m\u001b[0mget_dummies\u001b[0m\u001b[0;34m(\u001b[0m\u001b[0mdf\u001b[0m\u001b[0;34m.\u001b[0m\u001b[0mcopy\u001b[0m\u001b[0;34m(\u001b[0m\u001b[0;34m)\u001b[0m\u001b[0;34m,\u001b[0m \u001b[0mdrop_first\u001b[0m \u001b[0;34m=\u001b[0m \u001b[0;32mTrue\u001b[0m\u001b[0;34m)\u001b[0m\u001b[0;34m\u001b[0m\u001b[0;34m\u001b[0m\u001b[0m\n\u001b[0m\u001b[1;32m      4\u001b[0m \u001b[0;34m\u001b[0m\u001b[0m\n\u001b[1;32m      5\u001b[0m \u001b[0mK\u001b[0m \u001b[0;34m=\u001b[0m \u001b[0mrange\u001b[0m\u001b[0;34m(\u001b[0m\u001b[0;36m1\u001b[0m\u001b[0;34m,\u001b[0m\u001b[0;36m10\u001b[0m\u001b[0;34m)\u001b[0m\u001b[0;34m\u001b[0m\u001b[0;34m\u001b[0m\u001b[0m\n",
      "\u001b[0;31mNameError\u001b[0m: name 'df' is not defined"
     ]
    }
   ],
   "source": [
    "#Elbow plot values\n",
    "distortions = []\n",
    "df_with_dummies = pd.get_dummies(df.copy(), drop_first = True)\n",
    "\n",
    "K = range(1,10)\n",
    "for k in K:\n",
    "    km = KMeans(n_clusters=k)\n",
    "    km.fit(df_with_dummies)\n",
    "    distortions.append(km.inertia_)\n",
    "\n",
    "#Plotting\n",
    "plt.figure(figsize=(16,8))\n",
    "plt.plot(K, distortions, 'bx-')\n",
    "plt.xlabel('k')\n",
    "plt.ylabel('Distortion')\n",
    "plt.title('Elbow Method to determine the optimal k value')\n",
    "plt.show()"
   ]
  },
  {
   "cell_type": "code",
   "execution_count": 91,
   "metadata": {
    "execution": {
     "iopub.execute_input": "2021-01-09T10:28:30.156522Z",
     "iopub.status.busy": "2021-01-09T10:28:30.146178Z",
     "iopub.status.idle": "2021-01-09T10:28:30.164091Z",
     "shell.execute_reply": "2021-01-09T10:28:30.163437Z"
    },
    "papermill": {
     "duration": 0.188855,
     "end_time": "2021-01-09T10:28:30.164210",
     "exception": false,
     "start_time": "2021-01-09T10:28:29.975355",
     "status": "completed"
    },
    "tags": []
   },
   "outputs": [
    {
     "data": {
      "text/html": [
       "<div>\n",
       "<style scoped>\n",
       "    .dataframe tbody tr th:only-of-type {\n",
       "        vertical-align: middle;\n",
       "    }\n",
       "\n",
       "    .dataframe tbody tr th {\n",
       "        vertical-align: top;\n",
       "    }\n",
       "\n",
       "    .dataframe thead th {\n",
       "        text-align: right;\n",
       "    }\n",
       "</style>\n",
       "<table border=\"1\" class=\"dataframe\">\n",
       "  <thead>\n",
       "    <tr style=\"text-align: right;\">\n",
       "      <th></th>\n",
       "      <th>price</th>\n",
       "      <th>manufacturer</th>\n",
       "      <th>condition</th>\n",
       "      <th>cylinders</th>\n",
       "      <th>fuel</th>\n",
       "      <th>odometer</th>\n",
       "      <th>transmission</th>\n",
       "      <th>drive</th>\n",
       "      <th>paint_color</th>\n",
       "      <th>car_model</th>\n",
       "      <th>age_group</th>\n",
       "      <th>region</th>\n",
       "      <th>cluster</th>\n",
       "    </tr>\n",
       "  </thead>\n",
       "  <tbody>\n",
       "    <tr>\n",
       "      <th>0</th>\n",
       "      <td>35990</td>\n",
       "      <td>chevrolet</td>\n",
       "      <td>good</td>\n",
       "      <td>8 cylinders</td>\n",
       "      <td>gas</td>\n",
       "      <td>32742.0</td>\n",
       "      <td>other</td>\n",
       "      <td>rwd</td>\n",
       "      <td>unknown</td>\n",
       "      <td>chevrolet corvette</td>\n",
       "      <td>11</td>\n",
       "      <td>south</td>\n",
       "      <td>0</td>\n",
       "    </tr>\n",
       "    <tr>\n",
       "      <th>1</th>\n",
       "      <td>7500</td>\n",
       "      <td>hyundai</td>\n",
       "      <td>excellent</td>\n",
       "      <td>4 cylinders</td>\n",
       "      <td>gas</td>\n",
       "      <td>93600.0</td>\n",
       "      <td>automatic</td>\n",
       "      <td>fwd</td>\n",
       "      <td>unknown</td>\n",
       "      <td>hyundai sonata</td>\n",
       "      <td>7</td>\n",
       "      <td>south</td>\n",
       "      <td>0</td>\n",
       "    </tr>\n",
       "    <tr>\n",
       "      <th>2</th>\n",
       "      <td>4900</td>\n",
       "      <td>bmw</td>\n",
       "      <td>good</td>\n",
       "      <td>6 cylinders</td>\n",
       "      <td>gas</td>\n",
       "      <td>87046.0</td>\n",
       "      <td>automatic</td>\n",
       "      <td>4wd</td>\n",
       "      <td>blue</td>\n",
       "      <td>bmw x3</td>\n",
       "      <td>15-29</td>\n",
       "      <td>south</td>\n",
       "      <td>0</td>\n",
       "    </tr>\n",
       "    <tr>\n",
       "      <th>3</th>\n",
       "      <td>29590</td>\n",
       "      <td>toyota</td>\n",
       "      <td>good</td>\n",
       "      <td>6 cylinders</td>\n",
       "      <td>gas</td>\n",
       "      <td>33290.0</td>\n",
       "      <td>other</td>\n",
       "      <td>4wd</td>\n",
       "      <td>red</td>\n",
       "      <td>toyota tacoma</td>\n",
       "      <td>5</td>\n",
       "      <td>south</td>\n",
       "      <td>0</td>\n",
       "    </tr>\n",
       "    <tr>\n",
       "      <th>4</th>\n",
       "      <td>39990</td>\n",
       "      <td>ford</td>\n",
       "      <td>good</td>\n",
       "      <td>8 cylinders</td>\n",
       "      <td>gas</td>\n",
       "      <td>9692.0</td>\n",
       "      <td>other</td>\n",
       "      <td>rwd</td>\n",
       "      <td>blue</td>\n",
       "      <td>ford mustang</td>\n",
       "      <td>9</td>\n",
       "      <td>south</td>\n",
       "      <td>0</td>\n",
       "    </tr>\n",
       "    <tr>\n",
       "      <th>...</th>\n",
       "      <td>...</td>\n",
       "      <td>...</td>\n",
       "      <td>...</td>\n",
       "      <td>...</td>\n",
       "      <td>...</td>\n",
       "      <td>...</td>\n",
       "      <td>...</td>\n",
       "      <td>...</td>\n",
       "      <td>...</td>\n",
       "      <td>...</td>\n",
       "      <td>...</td>\n",
       "      <td>...</td>\n",
       "      <td>...</td>\n",
       "    </tr>\n",
       "    <tr>\n",
       "      <th>307417</th>\n",
       "      <td>19950</td>\n",
       "      <td>audi</td>\n",
       "      <td>not specified</td>\n",
       "      <td>4 cylinders</td>\n",
       "      <td>gas</td>\n",
       "      <td>101270.0</td>\n",
       "      <td>automatic</td>\n",
       "      <td>4wd</td>\n",
       "      <td>unknown</td>\n",
       "      <td>audi a4</td>\n",
       "      <td>4</td>\n",
       "      <td>mid-west</td>\n",
       "      <td>1</td>\n",
       "    </tr>\n",
       "    <tr>\n",
       "      <th>307418</th>\n",
       "      <td>14995</td>\n",
       "      <td>cadillac</td>\n",
       "      <td>excellent</td>\n",
       "      <td>6 cylinders</td>\n",
       "      <td>gas</td>\n",
       "      <td>83790.0</td>\n",
       "      <td>automatic</td>\n",
       "      <td>4wd</td>\n",
       "      <td>silver</td>\n",
       "      <td>cadillac srx</td>\n",
       "      <td>7</td>\n",
       "      <td>mid-west</td>\n",
       "      <td>0</td>\n",
       "    </tr>\n",
       "    <tr>\n",
       "      <th>307419</th>\n",
       "      <td>17895</td>\n",
       "      <td>hyundai</td>\n",
       "      <td>excellent</td>\n",
       "      <td>4 cylinders</td>\n",
       "      <td>gas</td>\n",
       "      <td>31888.0</td>\n",
       "      <td>automatic</td>\n",
       "      <td>4wd</td>\n",
       "      <td>white</td>\n",
       "      <td>hyundai tucson</td>\n",
       "      <td>3</td>\n",
       "      <td>mid-west</td>\n",
       "      <td>0</td>\n",
       "    </tr>\n",
       "    <tr>\n",
       "      <th>307420</th>\n",
       "      <td>17900</td>\n",
       "      <td>cadillac</td>\n",
       "      <td>excellent</td>\n",
       "      <td>6 cylinders</td>\n",
       "      <td>gas</td>\n",
       "      <td>53000.0</td>\n",
       "      <td>automatic</td>\n",
       "      <td>4wd</td>\n",
       "      <td>black</td>\n",
       "      <td>cadillac cts</td>\n",
       "      <td>7</td>\n",
       "      <td>west</td>\n",
       "      <td>0</td>\n",
       "    </tr>\n",
       "    <tr>\n",
       "      <th>307421</th>\n",
       "      <td>1300</td>\n",
       "      <td>jeep</td>\n",
       "      <td>good</td>\n",
       "      <td>8 cylinders</td>\n",
       "      <td>gas</td>\n",
       "      <td>164000.0</td>\n",
       "      <td>automatic</td>\n",
       "      <td>4wd</td>\n",
       "      <td>white</td>\n",
       "      <td>jeep grand</td>\n",
       "      <td>13</td>\n",
       "      <td>west</td>\n",
       "      <td>1</td>\n",
       "    </tr>\n",
       "  </tbody>\n",
       "</table>\n",
       "<p>307422 rows × 13 columns</p>\n",
       "</div>"
      ],
      "text/plain": [
       "        price manufacturer      condition    cylinders fuel  odometer  \\\n",
       "0       35990    chevrolet           good  8 cylinders  gas   32742.0   \n",
       "1        7500      hyundai      excellent  4 cylinders  gas   93600.0   \n",
       "2        4900          bmw           good  6 cylinders  gas   87046.0   \n",
       "3       29590       toyota           good  6 cylinders  gas   33290.0   \n",
       "4       39990         ford           good  8 cylinders  gas    9692.0   \n",
       "...       ...          ...            ...          ...  ...       ...   \n",
       "307417  19950         audi  not specified  4 cylinders  gas  101270.0   \n",
       "307418  14995     cadillac      excellent  6 cylinders  gas   83790.0   \n",
       "307419  17895      hyundai      excellent  4 cylinders  gas   31888.0   \n",
       "307420  17900     cadillac      excellent  6 cylinders  gas   53000.0   \n",
       "307421   1300         jeep           good  8 cylinders  gas  164000.0   \n",
       "\n",
       "       transmission drive paint_color           car_model age_group    region  \\\n",
       "0             other   rwd     unknown  chevrolet corvette        11     south   \n",
       "1         automatic   fwd     unknown      hyundai sonata         7     south   \n",
       "2         automatic   4wd        blue              bmw x3     15-29     south   \n",
       "3             other   4wd         red       toyota tacoma         5     south   \n",
       "4             other   rwd        blue        ford mustang         9     south   \n",
       "...             ...   ...         ...                 ...       ...       ...   \n",
       "307417    automatic   4wd     unknown             audi a4         4  mid-west   \n",
       "307418    automatic   4wd      silver        cadillac srx         7  mid-west   \n",
       "307419    automatic   4wd       white      hyundai tucson         3  mid-west   \n",
       "307420    automatic   4wd       black        cadillac cts         7      west   \n",
       "307421    automatic   4wd       white          jeep grand        13      west   \n",
       "\n",
       "        cluster  \n",
       "0             0  \n",
       "1             0  \n",
       "2             0  \n",
       "3             0  \n",
       "4             0  \n",
       "...         ...  \n",
       "307417        1  \n",
       "307418        0  \n",
       "307419        0  \n",
       "307420        0  \n",
       "307421        1  \n",
       "\n",
       "[307422 rows x 13 columns]"
      ]
     },
     "execution_count": 91,
     "metadata": {},
     "output_type": "execute_result"
    }
   ],
   "source": [
    "df_clustering_k2 = k_means_clustering(df, 2)\n",
    "df_clustering_k2"
   ]
  },
  {
   "cell_type": "code",
   "execution_count": 84,
   "metadata": {
    "execution": {
     "iopub.execute_input": "2021-01-09T10:28:30.418511Z",
     "iopub.status.busy": "2021-01-09T10:28:30.417827Z",
     "iopub.status.idle": "2021-01-09T10:28:30.433510Z",
     "shell.execute_reply": "2021-01-09T10:28:30.434069Z"
    },
    "papermill": {
     "duration": 0.144212,
     "end_time": "2021-01-09T10:28:30.434247",
     "exception": false,
     "start_time": "2021-01-09T10:28:30.290035",
     "status": "completed"
    },
    "tags": []
   },
   "outputs": [
    {
     "ename": "NameError",
     "evalue": "name 'df' is not defined",
     "output_type": "error",
     "traceback": [
      "\u001b[0;31m---------------------------------------------------------------------------\u001b[0m",
      "\u001b[0;31mNameError\u001b[0m                                 Traceback (most recent call last)",
      "\u001b[0;32m<ipython-input-84-44567e1cf2d0>\u001b[0m in \u001b[0;36m<module>\u001b[0;34m\u001b[0m\n\u001b[0;32m----> 1\u001b[0;31m \u001b[0mdf_clustering_k3\u001b[0m \u001b[0;34m=\u001b[0m \u001b[0mk_means_clustering\u001b[0m\u001b[0;34m(\u001b[0m\u001b[0mdf\u001b[0m\u001b[0;34m,\u001b[0m \u001b[0;36m3\u001b[0m\u001b[0;34m)\u001b[0m\u001b[0;34m\u001b[0m\u001b[0;34m\u001b[0m\u001b[0m\n\u001b[0m\u001b[1;32m      2\u001b[0m \u001b[0mdf_clustering_k3\u001b[0m\u001b[0;34m\u001b[0m\u001b[0;34m\u001b[0m\u001b[0m\n",
      "\u001b[0;31mNameError\u001b[0m: name 'df' is not defined"
     ]
    }
   ],
   "source": [
    "df_clustering_k3 = k_means_clustering(df, 3)\n",
    "df_clustering_k3"
   ]
  },
  {
   "cell_type": "code",
   "execution_count": 85,
   "metadata": {
    "execution": {
     "iopub.execute_input": "2021-01-09T10:28:30.695172Z",
     "iopub.status.busy": "2021-01-09T10:28:30.694387Z",
     "iopub.status.idle": "2021-01-09T10:28:30.709940Z",
     "shell.execute_reply": "2021-01-09T10:28:30.710437Z"
    },
    "papermill": {
     "duration": 0.147912,
     "end_time": "2021-01-09T10:28:30.710615",
     "exception": false,
     "start_time": "2021-01-09T10:28:30.562703",
     "status": "completed"
    },
    "tags": []
   },
   "outputs": [
    {
     "ename": "NameError",
     "evalue": "name 'df_clustering_k2' is not defined",
     "output_type": "error",
     "traceback": [
      "\u001b[0;31m---------------------------------------------------------------------------\u001b[0m",
      "\u001b[0;31mNameError\u001b[0m                                 Traceback (most recent call last)",
      "\u001b[0;32m<ipython-input-85-340a51c37b49>\u001b[0m in \u001b[0;36m<module>\u001b[0;34m\u001b[0m\n\u001b[0;32m----> 1\u001b[0;31m \u001b[0mpd\u001b[0m\u001b[0;34m.\u001b[0m\u001b[0mget_dummies\u001b[0m\u001b[0;34m(\u001b[0m\u001b[0mdf_clustering_k2\u001b[0m\u001b[0;34m,\u001b[0m \u001b[0mdrop_first\u001b[0m \u001b[0;34m=\u001b[0m \u001b[0;32mTrue\u001b[0m\u001b[0;34m)\u001b[0m\u001b[0;34m.\u001b[0m\u001b[0mgroupby\u001b[0m\u001b[0;34m(\u001b[0m\u001b[0;34m[\u001b[0m\u001b[0;34m'cluster'\u001b[0m\u001b[0;34m]\u001b[0m\u001b[0;34m)\u001b[0m\u001b[0;34m.\u001b[0m\u001b[0mmedian\u001b[0m\u001b[0;34m(\u001b[0m\u001b[0;34m)\u001b[0m\u001b[0;34m\u001b[0m\u001b[0;34m\u001b[0m\u001b[0m\n\u001b[0m",
      "\u001b[0;31mNameError\u001b[0m: name 'df_clustering_k2' is not defined"
     ]
    }
   ],
   "source": [
    "pd.get_dummies(df_clustering_k2, drop_first = True).groupby(['cluster']).median()"
   ]
  },
  {
   "cell_type": "markdown",
   "metadata": {
    "papermill": {
     "duration": 0.135892,
     "end_time": "2021-01-09T10:28:30.974829",
     "exception": false,
     "start_time": "2021-01-09T10:28:30.838937",
     "status": "completed"
    },
    "tags": []
   },
   "source": [
    "interpretation: cluster 0 are more expensive cars with low mileage while cluster 1 are cheap cars with a lot of mileage"
   ]
  },
  {
   "cell_type": "code",
   "execution_count": 86,
   "metadata": {
    "execution": {
     "iopub.execute_input": "2021-01-09T10:28:31.235916Z",
     "iopub.status.busy": "2021-01-09T10:28:31.235151Z",
     "iopub.status.idle": "2021-01-09T10:28:31.250719Z",
     "shell.execute_reply": "2021-01-09T10:28:31.251233Z"
    },
    "papermill": {
     "duration": 0.147835,
     "end_time": "2021-01-09T10:28:31.251393",
     "exception": false,
     "start_time": "2021-01-09T10:28:31.103558",
     "status": "completed"
    },
    "tags": []
   },
   "outputs": [
    {
     "ename": "NameError",
     "evalue": "name 'df_clustering_k3' is not defined",
     "output_type": "error",
     "traceback": [
      "\u001b[0;31m---------------------------------------------------------------------------\u001b[0m",
      "\u001b[0;31mNameError\u001b[0m                                 Traceback (most recent call last)",
      "\u001b[0;32m<ipython-input-86-3d17856f359b>\u001b[0m in \u001b[0;36m<module>\u001b[0;34m\u001b[0m\n\u001b[0;32m----> 1\u001b[0;31m \u001b[0mpd\u001b[0m\u001b[0;34m.\u001b[0m\u001b[0mget_dummies\u001b[0m\u001b[0;34m(\u001b[0m\u001b[0mdf_clustering_k3\u001b[0m\u001b[0;34m,\u001b[0m \u001b[0mdrop_first\u001b[0m \u001b[0;34m=\u001b[0m \u001b[0;32mTrue\u001b[0m\u001b[0;34m)\u001b[0m\u001b[0;34m.\u001b[0m\u001b[0mgroupby\u001b[0m\u001b[0;34m(\u001b[0m\u001b[0;34m[\u001b[0m\u001b[0;34m'cluster'\u001b[0m\u001b[0;34m]\u001b[0m\u001b[0;34m)\u001b[0m\u001b[0;34m.\u001b[0m\u001b[0mmedian\u001b[0m\u001b[0;34m(\u001b[0m\u001b[0;34m)\u001b[0m\u001b[0;34m\u001b[0m\u001b[0;34m\u001b[0m\u001b[0m\n\u001b[0m",
      "\u001b[0;31mNameError\u001b[0m: name 'df_clustering_k3' is not defined"
     ]
    }
   ],
   "source": [
    "pd.get_dummies(df_clustering_k3, drop_first = True).groupby(['cluster']).median()"
   ]
  },
  {
   "cell_type": "markdown",
   "metadata": {
    "papermill": {
     "duration": 0.126592,
     "end_time": "2021-01-09T10:28:31.506271",
     "exception": false,
     "start_time": "2021-01-09T10:28:31.379679",
     "status": "completed"
    },
    "tags": []
   },
   "source": [
    "interpretation: analogous but with an extra 'medium priced' category"
   ]
  },
  {
   "cell_type": "code",
   "execution_count": 87,
   "metadata": {
    "execution": {
     "iopub.execute_input": "2021-01-09T10:28:31.766816Z",
     "iopub.status.busy": "2021-01-09T10:28:31.766080Z",
     "iopub.status.idle": "2021-01-09T10:28:31.769809Z",
     "shell.execute_reply": "2021-01-09T10:28:31.770286Z"
    },
    "papermill": {
     "duration": 0.137479,
     "end_time": "2021-01-09T10:28:31.770440",
     "exception": false,
     "start_time": "2021-01-09T10:28:31.632961",
     "status": "completed"
    },
    "tags": []
   },
   "outputs": [],
   "source": [
    "reg = LinearRegression()"
   ]
  },
  {
   "cell_type": "code",
   "execution_count": 88,
   "metadata": {
    "execution": {
     "iopub.execute_input": "2021-01-09T10:28:32.032225Z",
     "iopub.status.busy": "2021-01-09T10:28:32.031432Z",
     "iopub.status.idle": "2021-01-09T10:28:32.049213Z",
     "shell.execute_reply": "2021-01-09T10:28:32.049775Z"
    },
    "papermill": {
     "duration": 0.149796,
     "end_time": "2021-01-09T10:28:32.049934",
     "exception": false,
     "start_time": "2021-01-09T10:28:31.900138",
     "status": "completed"
    },
    "tags": []
   },
   "outputs": [
    {
     "ename": "NameError",
     "evalue": "name 'df_clustering_k2' is not defined",
     "output_type": "error",
     "traceback": [
      "\u001b[0;31m---------------------------------------------------------------------------\u001b[0m",
      "\u001b[0;31mNameError\u001b[0m                                 Traceback (most recent call last)",
      "\u001b[0;32m<ipython-input-88-e3053310201a>\u001b[0m in \u001b[0;36m<module>\u001b[0;34m\u001b[0m\n\u001b[0;32m----> 1\u001b[0;31m \u001b[0mdf_to_use\u001b[0m \u001b[0;34m=\u001b[0m \u001b[0mpd\u001b[0m\u001b[0;34m.\u001b[0m\u001b[0mget_dummies\u001b[0m\u001b[0;34m(\u001b[0m\u001b[0mdf_clustering_k2\u001b[0m\u001b[0;34m,\u001b[0m \u001b[0mdrop_first\u001b[0m \u001b[0;34m=\u001b[0m \u001b[0;32mTrue\u001b[0m\u001b[0;34m)\u001b[0m\u001b[0;34m\u001b[0m\u001b[0;34m\u001b[0m\u001b[0m\n\u001b[0m\u001b[1;32m      2\u001b[0m \u001b[0mk\u001b[0m \u001b[0;34m=\u001b[0m \u001b[0;36m2\u001b[0m\u001b[0;34m\u001b[0m\u001b[0;34m\u001b[0m\u001b[0m\n\u001b[1;32m      3\u001b[0m \u001b[0mprint\u001b[0m\u001b[0;34m(\u001b[0m\u001b[0;34m'For k = '\u001b[0m\u001b[0;34m,\u001b[0m \u001b[0mk\u001b[0m\u001b[0;34m)\u001b[0m\u001b[0;34m\u001b[0m\u001b[0;34m\u001b[0m\u001b[0m\n\u001b[1;32m      4\u001b[0m \u001b[0;34m\u001b[0m\u001b[0m\n\u001b[1;32m      5\u001b[0m \u001b[0mlist_of_results\u001b[0m \u001b[0;34m=\u001b[0m \u001b[0;34m[\u001b[0m\u001b[0;34m]\u001b[0m\u001b[0;34m\u001b[0m\u001b[0;34m\u001b[0m\u001b[0m\n",
      "\u001b[0;31mNameError\u001b[0m: name 'df_clustering_k2' is not defined"
     ]
    }
   ],
   "source": [
    "df_to_use = pd.get_dummies(df_clustering_k2, drop_first = True)\n",
    "k = 2\n",
    "print('For k = ', k)\n",
    "\n",
    "list_of_results = []\n",
    "for i in range(k):\n",
    "    cluster_df = (df_to_use[df_to_use['cluster']==i]).copy()\n",
    "    res = updateModel(cluster_df)\n",
    "    print_metrics(res)\n",
    "    list_of_results.append(res)\n",
    "\n",
    "clust_k2_LR_results = list_of_results"
   ]
  },
  {
   "cell_type": "code",
   "execution_count": 89,
   "metadata": {
    "execution": {
     "iopub.execute_input": "2021-01-09T10:28:32.330113Z",
     "iopub.status.busy": "2021-01-09T10:28:32.329223Z",
     "iopub.status.idle": "2021-01-09T10:28:32.349359Z",
     "shell.execute_reply": "2021-01-09T10:28:32.349897Z"
    },
    "papermill": {
     "duration": 0.156242,
     "end_time": "2021-01-09T10:28:32.350057",
     "exception": false,
     "start_time": "2021-01-09T10:28:32.193815",
     "status": "completed"
    },
    "tags": []
   },
   "outputs": [
    {
     "ename": "NameError",
     "evalue": "name 'df_clustering_k3' is not defined",
     "output_type": "error",
     "traceback": [
      "\u001b[0;31m---------------------------------------------------------------------------\u001b[0m",
      "\u001b[0;31mNameError\u001b[0m                                 Traceback (most recent call last)",
      "\u001b[0;32m<ipython-input-89-54afdeb59561>\u001b[0m in \u001b[0;36m<module>\u001b[0;34m\u001b[0m\n\u001b[0;32m----> 1\u001b[0;31m \u001b[0mdf_to_use\u001b[0m \u001b[0;34m=\u001b[0m \u001b[0mpd\u001b[0m\u001b[0;34m.\u001b[0m\u001b[0mget_dummies\u001b[0m\u001b[0;34m(\u001b[0m\u001b[0mdf_clustering_k3\u001b[0m\u001b[0;34m,\u001b[0m \u001b[0mdrop_first\u001b[0m \u001b[0;34m=\u001b[0m \u001b[0;32mTrue\u001b[0m\u001b[0;34m)\u001b[0m\u001b[0;34m\u001b[0m\u001b[0;34m\u001b[0m\u001b[0m\n\u001b[0m\u001b[1;32m      2\u001b[0m \u001b[0mk\u001b[0m \u001b[0;34m=\u001b[0m \u001b[0;36m3\u001b[0m\u001b[0;34m\u001b[0m\u001b[0;34m\u001b[0m\u001b[0m\n\u001b[1;32m      3\u001b[0m \u001b[0mprint\u001b[0m\u001b[0;34m(\u001b[0m\u001b[0;34m'For k = '\u001b[0m\u001b[0;34m,\u001b[0m \u001b[0mk\u001b[0m\u001b[0;34m)\u001b[0m\u001b[0;34m\u001b[0m\u001b[0;34m\u001b[0m\u001b[0m\n\u001b[1;32m      4\u001b[0m \u001b[0;34m\u001b[0m\u001b[0m\n\u001b[1;32m      5\u001b[0m \u001b[0mlist_of_results\u001b[0m \u001b[0;34m=\u001b[0m \u001b[0;34m[\u001b[0m\u001b[0;34m]\u001b[0m\u001b[0;34m\u001b[0m\u001b[0;34m\u001b[0m\u001b[0m\n",
      "\u001b[0;31mNameError\u001b[0m: name 'df_clustering_k3' is not defined"
     ]
    }
   ],
   "source": [
    "df_to_use = pd.get_dummies(df_clustering_k3, drop_first = True)\n",
    "k = 3\n",
    "print('For k = ', k)\n",
    "\n",
    "list_of_results = []\n",
    "for i in range(k):\n",
    "    cluster_df = (df_to_use[df_to_use['cluster']==i]).copy()\n",
    "    res = updateModel(cluster_df)\n",
    "    print_metrics(res)\n",
    "    list_of_results.append(res)\n",
    "\n",
    "clust_k3_LR_results = list_of_results"
   ]
  },
  {
   "cell_type": "markdown",
   "metadata": {
    "papermill": {
     "duration": 0.127693,
     "end_time": "2021-01-09T10:28:32.608540",
     "exception": false,
     "start_time": "2021-01-09T10:28:32.480847",
     "status": "completed"
    },
    "tags": []
   },
   "source": [
    "K=2 seems to improve performance the most and the clusters are also more interpretable"
   ]
  },
  {
   "cell_type": "code",
   "execution_count": 94,
   "metadata": {
    "execution": {
     "iopub.execute_input": "2021-01-09T10:28:32.870498Z",
     "iopub.status.busy": "2021-01-09T10:28:32.869826Z",
     "iopub.status.idle": "2021-01-09T10:28:32.875282Z",
     "shell.execute_reply": "2021-01-09T10:28:32.874652Z"
    },
    "papermill": {
     "duration": 0.1366,
     "end_time": "2021-01-09T10:28:32.875394",
     "exception": false,
     "start_time": "2021-01-09T10:28:32.738794",
     "status": "completed"
    },
    "tags": []
   },
   "outputs": [],
   "source": [
    "reg = RandomForestRegressor(n_estimators = 20, random_state = 7)"
   ]
  },
  {
   "cell_type": "code",
   "execution_count": 95,
   "metadata": {
    "execution": {
     "iopub.execute_input": "2021-01-09T10:28:33.154012Z",
     "iopub.status.busy": "2021-01-09T10:28:33.151082Z",
     "iopub.status.idle": "2021-01-09T10:28:33.160781Z",
     "shell.execute_reply": "2021-01-09T10:28:33.161331Z"
    },
    "papermill": {
     "duration": 0.156278,
     "end_time": "2021-01-09T10:28:33.161558",
     "exception": false,
     "start_time": "2021-01-09T10:28:33.005280",
     "status": "completed"
    },
    "tags": []
   },
   "outputs": [
    {
     "name": "stdout",
     "output_type": "stream",
     "text": [
      "For k =  2\n",
      "test performance: {'r2': 87.52, 'mae': 2032.83, 'mse': 21208153.68, 'mape': 104.53}\n",
      "initial test performance: {'r2': 73.95, 'mae': 4128.78, 'mse': 41380776.7, 'mape': 156.12}\n",
      "\n",
      "train performance: {'r2': 97.41, 'mae': 830.22, 'mse': 4413907.39, 'mape': 40.07}\n",
      "initial train performance: {'r2': 73.64, 'mae': 4138.43, 'mse': 42034353.94, 'mape': 159.79}\n",
      "\n",
      "change in test MAE: 50.76 %\n",
      "test performance: {'r2': 89.84, 'mae': 1306.41, 'mse': 6379895.79, 'mape': 46.43}\n",
      "initial test performance: {'r2': 73.95, 'mae': 4128.78, 'mse': 41380776.7, 'mape': 156.12}\n",
      "\n",
      "train performance: {'r2': 97.86, 'mae': 525.53, 'mse': 1327007.07, 'mape': 19.41}\n",
      "initial train performance: {'r2': 73.64, 'mae': 4138.43, 'mse': 42034353.94, 'mape': 159.79}\n",
      "\n",
      "change in test MAE: 68.36 %\n"
     ]
    }
   ],
   "source": [
    "df_to_use = pd.get_dummies(df_clustering_k2, drop_first = True)\n",
    "k = 2\n",
    "print('For k = ', k)\n",
    "\n",
    "list_of_results = []\n",
    "for i in range(k):\n",
    "    cluster_df = (df_to_use[df_to_use['cluster']==i]).copy()\n",
    "    res = updateModel(cluster_df)\n",
    "    print_metrics(res)\n",
    "    list_of_results.append(res)\n",
    "\n",
    "clust_k2_RF_results = list_of_results"
   ]
  },
  {
   "cell_type": "code",
   "execution_count": 92,
   "metadata": {
    "execution": {
     "iopub.execute_input": "2021-01-09T10:28:33.468078Z",
     "iopub.status.busy": "2021-01-09T10:28:33.467128Z",
     "iopub.status.idle": "2021-01-09T10:28:33.473059Z",
     "shell.execute_reply": "2021-01-09T10:28:33.472516Z"
    },
    "papermill": {
     "duration": 0.148882,
     "end_time": "2021-01-09T10:28:33.473178",
     "exception": false,
     "start_time": "2021-01-09T10:28:33.324296",
     "status": "completed"
    },
    "tags": []
   },
   "outputs": [
    {
     "ename": "NameError",
     "evalue": "name 'print_metrics' is not defined",
     "output_type": "error",
     "traceback": [
      "\u001b[0;31m---------------------------------------------------------------------------\u001b[0m",
      "\u001b[0;31mNameError\u001b[0m                                 Traceback (most recent call last)",
      "\u001b[0;32m<ipython-input-92-2c9f74ff2b25>\u001b[0m in \u001b[0;36m<module>\u001b[0;34m\u001b[0m\n\u001b[0;32m----> 1\u001b[0;31m \u001b[0mprint_metrics\u001b[0m\u001b[0;34m(\u001b[0m\u001b[0minitRF\u001b[0m\u001b[0;34m)\u001b[0m\u001b[0;34m\u001b[0m\u001b[0;34m\u001b[0m\u001b[0m\n\u001b[0m",
      "\u001b[0;31mNameError\u001b[0m: name 'print_metrics' is not defined"
     ]
    }
   ],
   "source": [
    "print_metrics(initRF)"
   ]
  },
  {
   "cell_type": "markdown",
   "metadata": {
    "papermill": {
     "duration": 0.132242,
     "end_time": "2021-01-09T10:28:33.736367",
     "exception": false,
     "start_time": "2021-01-09T10:28:33.604125",
     "status": "completed"
    },
    "tags": []
   },
   "source": [
    "### Final Model"
   ]
  },
  {
   "cell_type": "code",
   "execution_count": 92,
   "metadata": {
    "execution": {
     "iopub.execute_input": "2021-01-09T10:28:34.010749Z",
     "iopub.status.busy": "2021-01-09T10:28:34.009893Z",
     "iopub.status.idle": "2021-01-09T10:28:34.014682Z",
     "shell.execute_reply": "2021-01-09T10:28:34.014018Z"
    },
    "papermill": {
     "duration": 0.148453,
     "end_time": "2021-01-09T10:28:34.014792",
     "exception": false,
     "start_time": "2021-01-09T10:28:33.866339",
     "status": "completed"
    },
    "tags": []
   },
   "outputs": [
    {
     "data": {
      "text/html": [
       "<div>\n",
       "<style scoped>\n",
       "    .dataframe tbody tr th:only-of-type {\n",
       "        vertical-align: middle;\n",
       "    }\n",
       "\n",
       "    .dataframe tbody tr th {\n",
       "        vertical-align: top;\n",
       "    }\n",
       "\n",
       "    .dataframe thead th {\n",
       "        text-align: right;\n",
       "    }\n",
       "</style>\n",
       "<table border=\"1\" class=\"dataframe\">\n",
       "  <thead>\n",
       "    <tr style=\"text-align: right;\">\n",
       "      <th></th>\n",
       "      <th>price</th>\n",
       "      <th>manufacturer</th>\n",
       "      <th>condition</th>\n",
       "      <th>cylinders</th>\n",
       "      <th>fuel</th>\n",
       "      <th>odometer</th>\n",
       "      <th>transmission</th>\n",
       "      <th>drive</th>\n",
       "      <th>paint_color</th>\n",
       "      <th>car_model</th>\n",
       "      <th>age_group</th>\n",
       "      <th>region</th>\n",
       "      <th>cluster</th>\n",
       "    </tr>\n",
       "  </thead>\n",
       "  <tbody>\n",
       "    <tr>\n",
       "      <th>0</th>\n",
       "      <td>35990</td>\n",
       "      <td>chevrolet</td>\n",
       "      <td>good</td>\n",
       "      <td>8 cylinders</td>\n",
       "      <td>gas</td>\n",
       "      <td>32742.0</td>\n",
       "      <td>other</td>\n",
       "      <td>rwd</td>\n",
       "      <td>unknown</td>\n",
       "      <td>chevrolet corvette</td>\n",
       "      <td>11</td>\n",
       "      <td>south</td>\n",
       "      <td>0</td>\n",
       "    </tr>\n",
       "    <tr>\n",
       "      <th>1</th>\n",
       "      <td>7500</td>\n",
       "      <td>hyundai</td>\n",
       "      <td>excellent</td>\n",
       "      <td>4 cylinders</td>\n",
       "      <td>gas</td>\n",
       "      <td>93600.0</td>\n",
       "      <td>automatic</td>\n",
       "      <td>fwd</td>\n",
       "      <td>unknown</td>\n",
       "      <td>hyundai sonata</td>\n",
       "      <td>7</td>\n",
       "      <td>south</td>\n",
       "      <td>0</td>\n",
       "    </tr>\n",
       "    <tr>\n",
       "      <th>2</th>\n",
       "      <td>4900</td>\n",
       "      <td>bmw</td>\n",
       "      <td>good</td>\n",
       "      <td>6 cylinders</td>\n",
       "      <td>gas</td>\n",
       "      <td>87046.0</td>\n",
       "      <td>automatic</td>\n",
       "      <td>4wd</td>\n",
       "      <td>blue</td>\n",
       "      <td>bmw x3</td>\n",
       "      <td>15-29</td>\n",
       "      <td>south</td>\n",
       "      <td>0</td>\n",
       "    </tr>\n",
       "    <tr>\n",
       "      <th>3</th>\n",
       "      <td>29590</td>\n",
       "      <td>toyota</td>\n",
       "      <td>good</td>\n",
       "      <td>6 cylinders</td>\n",
       "      <td>gas</td>\n",
       "      <td>33290.0</td>\n",
       "      <td>other</td>\n",
       "      <td>4wd</td>\n",
       "      <td>red</td>\n",
       "      <td>toyota tacoma</td>\n",
       "      <td>5</td>\n",
       "      <td>south</td>\n",
       "      <td>0</td>\n",
       "    </tr>\n",
       "    <tr>\n",
       "      <th>4</th>\n",
       "      <td>39990</td>\n",
       "      <td>ford</td>\n",
       "      <td>good</td>\n",
       "      <td>8 cylinders</td>\n",
       "      <td>gas</td>\n",
       "      <td>9692.0</td>\n",
       "      <td>other</td>\n",
       "      <td>rwd</td>\n",
       "      <td>blue</td>\n",
       "      <td>ford mustang</td>\n",
       "      <td>9</td>\n",
       "      <td>south</td>\n",
       "      <td>0</td>\n",
       "    </tr>\n",
       "    <tr>\n",
       "      <th>...</th>\n",
       "      <td>...</td>\n",
       "      <td>...</td>\n",
       "      <td>...</td>\n",
       "      <td>...</td>\n",
       "      <td>...</td>\n",
       "      <td>...</td>\n",
       "      <td>...</td>\n",
       "      <td>...</td>\n",
       "      <td>...</td>\n",
       "      <td>...</td>\n",
       "      <td>...</td>\n",
       "      <td>...</td>\n",
       "      <td>...</td>\n",
       "    </tr>\n",
       "    <tr>\n",
       "      <th>307417</th>\n",
       "      <td>19950</td>\n",
       "      <td>audi</td>\n",
       "      <td>not specified</td>\n",
       "      <td>4 cylinders</td>\n",
       "      <td>gas</td>\n",
       "      <td>101270.0</td>\n",
       "      <td>automatic</td>\n",
       "      <td>4wd</td>\n",
       "      <td>unknown</td>\n",
       "      <td>audi a4</td>\n",
       "      <td>4</td>\n",
       "      <td>mid-west</td>\n",
       "      <td>1</td>\n",
       "    </tr>\n",
       "    <tr>\n",
       "      <th>307418</th>\n",
       "      <td>14995</td>\n",
       "      <td>cadillac</td>\n",
       "      <td>excellent</td>\n",
       "      <td>6 cylinders</td>\n",
       "      <td>gas</td>\n",
       "      <td>83790.0</td>\n",
       "      <td>automatic</td>\n",
       "      <td>4wd</td>\n",
       "      <td>silver</td>\n",
       "      <td>cadillac srx</td>\n",
       "      <td>7</td>\n",
       "      <td>mid-west</td>\n",
       "      <td>0</td>\n",
       "    </tr>\n",
       "    <tr>\n",
       "      <th>307419</th>\n",
       "      <td>17895</td>\n",
       "      <td>hyundai</td>\n",
       "      <td>excellent</td>\n",
       "      <td>4 cylinders</td>\n",
       "      <td>gas</td>\n",
       "      <td>31888.0</td>\n",
       "      <td>automatic</td>\n",
       "      <td>4wd</td>\n",
       "      <td>white</td>\n",
       "      <td>hyundai tucson</td>\n",
       "      <td>3</td>\n",
       "      <td>mid-west</td>\n",
       "      <td>0</td>\n",
       "    </tr>\n",
       "    <tr>\n",
       "      <th>307420</th>\n",
       "      <td>17900</td>\n",
       "      <td>cadillac</td>\n",
       "      <td>excellent</td>\n",
       "      <td>6 cylinders</td>\n",
       "      <td>gas</td>\n",
       "      <td>53000.0</td>\n",
       "      <td>automatic</td>\n",
       "      <td>4wd</td>\n",
       "      <td>black</td>\n",
       "      <td>cadillac cts</td>\n",
       "      <td>7</td>\n",
       "      <td>west</td>\n",
       "      <td>0</td>\n",
       "    </tr>\n",
       "    <tr>\n",
       "      <th>307421</th>\n",
       "      <td>1300</td>\n",
       "      <td>jeep</td>\n",
       "      <td>good</td>\n",
       "      <td>8 cylinders</td>\n",
       "      <td>gas</td>\n",
       "      <td>164000.0</td>\n",
       "      <td>automatic</td>\n",
       "      <td>4wd</td>\n",
       "      <td>white</td>\n",
       "      <td>jeep grand</td>\n",
       "      <td>13</td>\n",
       "      <td>west</td>\n",
       "      <td>1</td>\n",
       "    </tr>\n",
       "  </tbody>\n",
       "</table>\n",
       "<p>307422 rows × 13 columns</p>\n",
       "</div>"
      ],
      "text/plain": [
       "        price manufacturer      condition    cylinders fuel  odometer  \\\n",
       "0       35990    chevrolet           good  8 cylinders  gas   32742.0   \n",
       "1        7500      hyundai      excellent  4 cylinders  gas   93600.0   \n",
       "2        4900          bmw           good  6 cylinders  gas   87046.0   \n",
       "3       29590       toyota           good  6 cylinders  gas   33290.0   \n",
       "4       39990         ford           good  8 cylinders  gas    9692.0   \n",
       "...       ...          ...            ...          ...  ...       ...   \n",
       "307417  19950         audi  not specified  4 cylinders  gas  101270.0   \n",
       "307418  14995     cadillac      excellent  6 cylinders  gas   83790.0   \n",
       "307419  17895      hyundai      excellent  4 cylinders  gas   31888.0   \n",
       "307420  17900     cadillac      excellent  6 cylinders  gas   53000.0   \n",
       "307421   1300         jeep           good  8 cylinders  gas  164000.0   \n",
       "\n",
       "       transmission drive paint_color           car_model age_group    region  \\\n",
       "0             other   rwd     unknown  chevrolet corvette        11     south   \n",
       "1         automatic   fwd     unknown      hyundai sonata         7     south   \n",
       "2         automatic   4wd        blue              bmw x3     15-29     south   \n",
       "3             other   4wd         red       toyota tacoma         5     south   \n",
       "4             other   rwd        blue        ford mustang         9     south   \n",
       "...             ...   ...         ...                 ...       ...       ...   \n",
       "307417    automatic   4wd     unknown             audi a4         4  mid-west   \n",
       "307418    automatic   4wd      silver        cadillac srx         7  mid-west   \n",
       "307419    automatic   4wd       white      hyundai tucson         3  mid-west   \n",
       "307420    automatic   4wd       black        cadillac cts         7      west   \n",
       "307421    automatic   4wd       white          jeep grand        13      west   \n",
       "\n",
       "        cluster  \n",
       "0             0  \n",
       "1             0  \n",
       "2             0  \n",
       "3             0  \n",
       "4             0  \n",
       "...         ...  \n",
       "307417        1  \n",
       "307418        0  \n",
       "307419        0  \n",
       "307420        0  \n",
       "307421        1  \n",
       "\n",
       "[307422 rows x 13 columns]"
      ]
     },
     "execution_count": 92,
     "metadata": {},
     "output_type": "execute_result"
    }
   ],
   "source": [
    "dfFinal = df_clustering_k2.copy()\n",
    "dfFinal"
   ]
  },
  {
   "cell_type": "code",
   "execution_count": 96,
   "metadata": {
    "execution": {
     "iopub.execute_input": "2021-01-09T10:28:34.293929Z",
     "iopub.status.busy": "2021-01-09T10:28:34.283272Z",
     "iopub.status.idle": "2021-01-09T10:28:34.298747Z",
     "shell.execute_reply": "2021-01-09T10:28:34.298142Z"
    },
    "papermill": {
     "duration": 0.153123,
     "end_time": "2021-01-09T10:28:34.298860",
     "exception": false,
     "start_time": "2021-01-09T10:28:34.145737",
     "status": "completed"
    },
    "tags": []
   },
   "outputs": [
    {
     "name": "stdout",
     "output_type": "stream",
     "text": [
      "Cluster 1:\n",
      "test performance: {'r2': 87.52, 'mae': 2032.83, 'mse': 21208153.68, 'mape': 104.53}\n",
      "initial test performance: {'r2': 73.95, 'mae': 4128.78, 'mse': 41380776.7, 'mape': 156.12}\n",
      "\n",
      "train performance: {'r2': 97.41, 'mae': 830.22, 'mse': 4413907.39, 'mape': 40.07}\n",
      "initial train performance: {'r2': 73.64, 'mae': 4138.43, 'mse': 42034353.94, 'mape': 159.79}\n",
      "\n",
      "change in test MAE: 50.76 %\n",
      "\n",
      "Cluster 2:\n",
      "test performance: {'r2': 89.84, 'mae': 1306.41, 'mse': 6379895.79, 'mape': 46.43}\n",
      "initial test performance: {'r2': 73.95, 'mae': 4128.78, 'mse': 41380776.7, 'mape': 156.12}\n",
      "\n",
      "train performance: {'r2': 97.86, 'mae': 525.53, 'mse': 1327007.07, 'mape': 19.41}\n",
      "initial train performance: {'r2': 73.64, 'mae': 4138.43, 'mse': 42034353.94, 'mape': 159.79}\n",
      "\n",
      "change in test MAE: 68.36 %\n"
     ]
    }
   ],
   "source": [
    "finalPerformance = clust_k2_RF_results\n",
    "print('Cluster 1:')\n",
    "print_metrics(finalPerformance[0])\n",
    "print()\n",
    "print('Cluster 2:')\n",
    "print_metrics(finalPerformance[1])"
   ]
  },
  {
   "cell_type": "code",
   "execution_count": 108,
   "metadata": {},
   "outputs": [
    {
     "name": "stdout",
     "output_type": "stream",
     "text": [
      "        odometer  cluster  manufacturer_alfa-romeo  manufacturer_audi  \\\n",
      "231046  165200.0        1                        0                  0   \n",
      "291112  175410.0        1                        0                  0   \n",
      "51108   142092.0        1                        0                  0   \n",
      "141737  114296.0        1                        0                  0   \n",
      "44812   129130.0        1                        0                  0   \n",
      "...          ...      ...                      ...                ...   \n",
      "241163  100025.0        1                        0                  0   \n",
      "263135  165000.0        1                        0                  0   \n",
      "227761  161500.0        1                        0                  0   \n",
      "289413  138387.0        1                        0                  0   \n",
      "267388  178000.0        1                        0                  0   \n",
      "\n",
      "        manufacturer_bmw  manufacturer_buick  manufacturer_cadillac  \\\n",
      "231046                 0                   0                      0   \n",
      "291112                 0                   0                      0   \n",
      "51108                  0                   0                      0   \n",
      "141737                 0                   0                      0   \n",
      "44812                  0                   0                      0   \n",
      "...                  ...                 ...                    ...   \n",
      "241163                 0                   0                      0   \n",
      "263135                 0                   0                      0   \n",
      "227761                 0                   0                      0   \n",
      "289413                 0                   0                      0   \n",
      "267388                 0                   0                      0   \n",
      "\n",
      "        manufacturer_chevrolet  manufacturer_chrysler  manufacturer_dodge  \\\n",
      "231046                       0                      0                   0   \n",
      "291112                       0                      0                   0   \n",
      "51108                        0                      0                   0   \n",
      "141737                       0                      1                   0   \n",
      "44812                        0                      0                   0   \n",
      "...                        ...                    ...                 ...   \n",
      "241163                       1                      0                   0   \n",
      "263135                       0                      1                   0   \n",
      "227761                       1                      0                   0   \n",
      "289413                       0                      0                   0   \n",
      "267388                       0                      0                   0   \n",
      "\n",
      "        ...  age_group_5  age_group_6  age_group_7  age_group_8  age_group_9  \\\n",
      "231046  ...            0            0            0            0            0   \n",
      "291112  ...            0            0            0            0            0   \n",
      "51108   ...            0            0            0            0            0   \n",
      "141737  ...            0            0            0            0            1   \n",
      "44812   ...            1            0            0            0            0   \n",
      "...     ...          ...          ...          ...          ...          ...   \n",
      "241163  ...            0            0            0            0            0   \n",
      "263135  ...            0            0            0            0            0   \n",
      "227761  ...            0            0            0            0            0   \n",
      "289413  ...            0            0            0            0            0   \n",
      "267388  ...            0            0            0            0            0   \n",
      "\n",
      "        age_group_new  age_group_over 50  region_north-east  region_south  \\\n",
      "231046              0                  0                  1             0   \n",
      "291112              0                  0                  0             0   \n",
      "51108               0                  0                  0             0   \n",
      "141737              0                  0                  0             0   \n",
      "44812               0                  0                  0             0   \n",
      "...               ...                ...                ...           ...   \n",
      "241163              0                  0                  0             1   \n",
      "263135              0                  0                  0             0   \n",
      "227761              0                  0                  1             0   \n",
      "289413              0                  0                  0             0   \n",
      "267388              0                  0                  0             1   \n",
      "\n",
      "        region_west  \n",
      "231046            0  \n",
      "291112            0  \n",
      "51108             1  \n",
      "141737            0  \n",
      "44812             1  \n",
      "...             ...  \n",
      "241163            0  \n",
      "263135            1  \n",
      "227761            0  \n",
      "289413            0  \n",
      "267388            0  \n",
      "\n",
      "[97974 rows x 381 columns]\n"
     ]
    }
   ],
   "source": [
    "X = cluster_df.drop('price', axis = 1)\n",
    "y = cluster_df['price']\n",
    "\n",
    "X_train, X_test, y_train, y_test = train_test_split(X, y, test_size = 0.3, random_state = 42)\n",
    "X_train = pd.get_dummies(X_train, drop_first = True)\n",
    "X_test = pd.get_dummies(X_test, drop_first = True) \n",
    "\n",
    "print(X_train)"
   ]
  },
  {
   "cell_type": "code",
   "execution_count": 98,
   "metadata": {
    "execution": {
     "iopub.execute_input": "2021-01-09T10:28:34.567071Z",
     "iopub.status.busy": "2021-01-09T10:28:34.566096Z",
     "iopub.status.idle": "2021-01-09T10:28:34.573121Z",
     "shell.execute_reply": "2021-01-09T10:28:34.573693Z"
    },
    "papermill": {
     "duration": 0.144107,
     "end_time": "2021-01-09T10:28:34.573859",
     "exception": false,
     "start_time": "2021-01-09T10:28:34.429752",
     "status": "completed"
    },
    "tags": []
   },
   "outputs": [
    {
     "data": {
      "text/plain": [
       "RandomForestRegressor(n_estimators=20, random_state=7)"
      ]
     },
     "execution_count": 98,
     "metadata": {},
     "output_type": "execute_result"
    }
   ],
   "source": [
    "finalModel = reg\n",
    "reg"
   ]
  },
  {
   "cell_type": "code",
   "execution_count": 99,
   "metadata": {
    "execution": {
     "iopub.execute_input": "2021-01-09T10:28:34.856567Z",
     "iopub.status.busy": "2021-01-09T10:28:34.854567Z",
     "iopub.status.idle": "2021-01-09T10:28:34.862225Z",
     "shell.execute_reply": "2021-01-09T10:28:34.861469Z"
    },
    "papermill": {
     "duration": 0.156368,
     "end_time": "2021-01-09T10:28:34.862341",
     "exception": false,
     "start_time": "2021-01-09T10:28:34.705973",
     "status": "completed"
    },
    "tags": []
   },
   "outputs": [
    {
     "data": {
      "text/html": [
       "<div>\n",
       "<style scoped>\n",
       "    .dataframe tbody tr th:only-of-type {\n",
       "        vertical-align: middle;\n",
       "    }\n",
       "\n",
       "    .dataframe tbody tr th {\n",
       "        vertical-align: top;\n",
       "    }\n",
       "\n",
       "    .dataframe thead th {\n",
       "        text-align: right;\n",
       "    }\n",
       "</style>\n",
       "<table border=\"1\" class=\"dataframe\">\n",
       "  <thead>\n",
       "    <tr style=\"text-align: right;\">\n",
       "      <th></th>\n",
       "      <th>price</th>\n",
       "      <th>odometer</th>\n",
       "      <th>manufacturer_alfa-romeo</th>\n",
       "      <th>manufacturer_audi</th>\n",
       "      <th>manufacturer_bmw</th>\n",
       "      <th>manufacturer_buick</th>\n",
       "      <th>manufacturer_cadillac</th>\n",
       "      <th>manufacturer_chevrolet</th>\n",
       "      <th>manufacturer_chrysler</th>\n",
       "      <th>manufacturer_dodge</th>\n",
       "      <th>...</th>\n",
       "      <th>age_group_5</th>\n",
       "      <th>age_group_6</th>\n",
       "      <th>age_group_7</th>\n",
       "      <th>age_group_8</th>\n",
       "      <th>age_group_9</th>\n",
       "      <th>age_group_new</th>\n",
       "      <th>age_group_over 50</th>\n",
       "      <th>region_north-east</th>\n",
       "      <th>region_south</th>\n",
       "      <th>region_west</th>\n",
       "    </tr>\n",
       "    <tr>\n",
       "      <th>cluster</th>\n",
       "      <th></th>\n",
       "      <th></th>\n",
       "      <th></th>\n",
       "      <th></th>\n",
       "      <th></th>\n",
       "      <th></th>\n",
       "      <th></th>\n",
       "      <th></th>\n",
       "      <th></th>\n",
       "      <th></th>\n",
       "      <th></th>\n",
       "      <th></th>\n",
       "      <th></th>\n",
       "      <th></th>\n",
       "      <th></th>\n",
       "      <th></th>\n",
       "      <th></th>\n",
       "      <th></th>\n",
       "      <th></th>\n",
       "      <th></th>\n",
       "      <th></th>\n",
       "    </tr>\n",
       "  </thead>\n",
       "  <tbody>\n",
       "    <tr>\n",
       "      <th>0</th>\n",
       "      <td>19990</td>\n",
       "      <td>46186.0</td>\n",
       "      <td>0</td>\n",
       "      <td>0</td>\n",
       "      <td>0</td>\n",
       "      <td>0</td>\n",
       "      <td>0</td>\n",
       "      <td>0</td>\n",
       "      <td>0</td>\n",
       "      <td>0</td>\n",
       "      <td>...</td>\n",
       "      <td>0</td>\n",
       "      <td>0</td>\n",
       "      <td>0</td>\n",
       "      <td>0</td>\n",
       "      <td>0</td>\n",
       "      <td>0</td>\n",
       "      <td>0</td>\n",
       "      <td>0</td>\n",
       "      <td>0</td>\n",
       "      <td>0</td>\n",
       "    </tr>\n",
       "    <tr>\n",
       "      <th>1</th>\n",
       "      <td>7495</td>\n",
       "      <td>140000.0</td>\n",
       "      <td>0</td>\n",
       "      <td>0</td>\n",
       "      <td>0</td>\n",
       "      <td>0</td>\n",
       "      <td>0</td>\n",
       "      <td>0</td>\n",
       "      <td>0</td>\n",
       "      <td>0</td>\n",
       "      <td>...</td>\n",
       "      <td>0</td>\n",
       "      <td>0</td>\n",
       "      <td>0</td>\n",
       "      <td>0</td>\n",
       "      <td>0</td>\n",
       "      <td>0</td>\n",
       "      <td>0</td>\n",
       "      <td>0</td>\n",
       "      <td>0</td>\n",
       "      <td>0</td>\n",
       "    </tr>\n",
       "  </tbody>\n",
       "</table>\n",
       "<p>2 rows × 381 columns</p>\n",
       "</div>"
      ],
      "text/plain": [
       "         price  odometer  manufacturer_alfa-romeo  manufacturer_audi  \\\n",
       "cluster                                                                \n",
       "0        19990   46186.0                        0                  0   \n",
       "1         7495  140000.0                        0                  0   \n",
       "\n",
       "         manufacturer_bmw  manufacturer_buick  manufacturer_cadillac  \\\n",
       "cluster                                                                \n",
       "0                       0                   0                      0   \n",
       "1                       0                   0                      0   \n",
       "\n",
       "         manufacturer_chevrolet  manufacturer_chrysler  manufacturer_dodge  \\\n",
       "cluster                                                                      \n",
       "0                             0                      0                   0   \n",
       "1                             0                      0                   0   \n",
       "\n",
       "         ...  age_group_5  age_group_6  age_group_7  age_group_8  age_group_9  \\\n",
       "cluster  ...                                                                    \n",
       "0        ...            0            0            0            0            0   \n",
       "1        ...            0            0            0            0            0   \n",
       "\n",
       "         age_group_new  age_group_over 50  region_north-east  region_south  \\\n",
       "cluster                                                                      \n",
       "0                    0                  0                  0             0   \n",
       "1                    0                  0                  0             0   \n",
       "\n",
       "         region_west  \n",
       "cluster               \n",
       "0                  0  \n",
       "1                  0  \n",
       "\n",
       "[2 rows x 381 columns]"
      ]
     },
     "execution_count": 99,
     "metadata": {},
     "output_type": "execute_result"
    }
   ],
   "source": [
    "finalClusters = df_clustering_k2.copy()\n",
    "pd.get_dummies(finalClusters, drop_first = True).groupby(['cluster']).median()"
   ]
  },
  {
   "cell_type": "code",
   "execution_count": 102,
   "metadata": {
    "execution": {
     "iopub.execute_input": "2021-01-09T10:28:35.149438Z",
     "iopub.status.busy": "2021-01-09T10:28:35.148697Z",
     "iopub.status.idle": "2021-01-09T10:28:35.152447Z",
     "shell.execute_reply": "2021-01-09T10:28:35.153042Z"
    },
    "papermill": {
     "duration": 0.152431,
     "end_time": "2021-01-09T10:28:35.153198",
     "exception": false,
     "start_time": "2021-01-09T10:28:35.000767",
     "status": "completed"
    },
    "tags": []
   },
   "outputs": [],
   "source": [
    "dfFinal.to_csv('final.csv')"
   ]
  },
  {
   "cell_type": "code",
   "execution_count": null,
   "metadata": {},
   "outputs": [],
   "source": []
  }
 ],
 "metadata": {
  "kernelspec": {
   "display_name": "Python 3",
   "language": "python",
   "name": "python3"
  },
  "language_info": {
   "codemirror_mode": {
    "name": "ipython",
    "version": 3
   },
   "file_extension": ".py",
   "mimetype": "text/x-python",
   "name": "python",
   "nbconvert_exporter": "python",
   "pygments_lexer": "ipython3",
   "version": "3.8.3"
  },
  "papermill": {
   "duration": 44.13586,
   "end_time": "2021-01-09T10:28:35.393038",
   "environment_variables": {},
   "exception": null,
   "input_path": "__notebook__.ipynb",
   "output_path": "__notebook__.ipynb",
   "parameters": {},
   "start_time": "2021-01-09T10:27:51.257178",
   "version": "2.1.0"
  }
 },
 "nbformat": 4,
 "nbformat_minor": 4
}
