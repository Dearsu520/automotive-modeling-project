{
  "nbformat": 4,
  "nbformat_minor": 0,
  "metadata": {
    "colab": {
      "name": "Vehicle-Transformation.ipynb",
      "provenance": [],
      "collapsed_sections": []
    },
    "kernelspec": {
      "name": "python3",
      "display_name": "Python 3"
    },
    "language_info": {
      "name": "python"
    }
  },
  "cells": [
    {
      "cell_type": "code",
      "metadata": {
        "id": "EYj3jLCpK49i",
        "colab": {
          "base_uri": "https://localhost:8080/",
          "height": 0
        },
        "outputId": "c03b03b9-be4d-480e-de64-35922cea635c"
      },
      "source": [
        "from google.colab import drive\n",
        "drive.mount('/content/drive')"
      ],
      "execution_count": 1,
      "outputs": [
        {
          "output_type": "stream",
          "text": [
            "Mounted at /content/drive\n"
          ],
          "name": "stdout"
        }
      ]
    },
    {
      "cell_type": "code",
      "metadata": {
        "id": "YM2DYKyYLDNW"
      },
      "source": [
        "import pandas as pd\n",
        "path = \"/content/drive/MyDrive/Data Bootcamp Final Project/vehicle.zip\"\n",
        "df = pd.read_csv(path, index_col=0, parse_dates=[\"posting_date\"])"
      ],
      "execution_count": 2,
      "outputs": []
    },
    {
      "cell_type": "code",
      "metadata": {
        "id": "C-1qyXsgLJEp"
      },
      "source": [
        "# Import Dependencies\n",
        "import numpy as np\n",
        "import string\n",
        "import matplotlib.pyplot as plt\n",
        "import matplotlib.gridspec as gridspec\n",
        "import seaborn as sns"
      ],
      "execution_count": 3,
      "outputs": []
    },
    {
      "cell_type": "code",
      "metadata": {
        "colab": {
          "base_uri": "https://localhost:8080/",
          "height": 524
        },
        "id": "e057FxlqMIX_",
        "outputId": "5ef69106-df90-4695-a78c-bf5be6459c1b"
      },
      "source": [
        "df.head()"
      ],
      "execution_count": 4,
      "outputs": [
        {
          "output_type": "execute_result",
          "data": {
            "text/html": [
              "<div>\n",
              "<style scoped>\n",
              "    .dataframe tbody tr th:only-of-type {\n",
              "        vertical-align: middle;\n",
              "    }\n",
              "\n",
              "    .dataframe tbody tr th {\n",
              "        vertical-align: top;\n",
              "    }\n",
              "\n",
              "    .dataframe thead th {\n",
              "        text-align: right;\n",
              "    }\n",
              "</style>\n",
              "<table border=\"1\" class=\"dataframe\">\n",
              "  <thead>\n",
              "    <tr style=\"text-align: right;\">\n",
              "      <th></th>\n",
              "      <th>id</th>\n",
              "      <th>url</th>\n",
              "      <th>region</th>\n",
              "      <th>region_url</th>\n",
              "      <th>price</th>\n",
              "      <th>year</th>\n",
              "      <th>manufacturer</th>\n",
              "      <th>model</th>\n",
              "      <th>condition</th>\n",
              "      <th>cylinders</th>\n",
              "      <th>fuel</th>\n",
              "      <th>odometer</th>\n",
              "      <th>title_status</th>\n",
              "      <th>transmission</th>\n",
              "      <th>VIN</th>\n",
              "      <th>drive</th>\n",
              "      <th>size</th>\n",
              "      <th>type</th>\n",
              "      <th>paint_color</th>\n",
              "      <th>image_url</th>\n",
              "      <th>description</th>\n",
              "      <th>state</th>\n",
              "      <th>lat</th>\n",
              "      <th>long</th>\n",
              "      <th>posting_date</th>\n",
              "    </tr>\n",
              "  </thead>\n",
              "  <tbody>\n",
              "    <tr>\n",
              "      <th>0</th>\n",
              "      <td>7240372487</td>\n",
              "      <td>https://auburn.craigslist.org/ctd/d/auburn-uni...</td>\n",
              "      <td>auburn</td>\n",
              "      <td>https://auburn.craigslist.org</td>\n",
              "      <td>35990</td>\n",
              "      <td>2010.0</td>\n",
              "      <td>chevrolet</td>\n",
              "      <td>corvette grand sport</td>\n",
              "      <td>good</td>\n",
              "      <td>8 cylinders</td>\n",
              "      <td>gas</td>\n",
              "      <td>32742.0</td>\n",
              "      <td>clean</td>\n",
              "      <td>other</td>\n",
              "      <td>1G1YU3DW1A5106980</td>\n",
              "      <td>rwd</td>\n",
              "      <td>NaN</td>\n",
              "      <td>other</td>\n",
              "      <td>NaN</td>\n",
              "      <td>https://images.craigslist.org/00N0N_ipkbHVZYf4...</td>\n",
              "      <td>Carvana is the safer way to buy a car During t...</td>\n",
              "      <td>al</td>\n",
              "      <td>32.590000</td>\n",
              "      <td>-85.480000</td>\n",
              "      <td>2020-12-02 08:11:30-06:00</td>\n",
              "    </tr>\n",
              "    <tr>\n",
              "      <th>1</th>\n",
              "      <td>7240309422</td>\n",
              "      <td>https://auburn.craigslist.org/cto/d/auburn-201...</td>\n",
              "      <td>auburn</td>\n",
              "      <td>https://auburn.craigslist.org</td>\n",
              "      <td>7500</td>\n",
              "      <td>2014.0</td>\n",
              "      <td>hyundai</td>\n",
              "      <td>sonata</td>\n",
              "      <td>excellent</td>\n",
              "      <td>4 cylinders</td>\n",
              "      <td>gas</td>\n",
              "      <td>93600.0</td>\n",
              "      <td>clean</td>\n",
              "      <td>automatic</td>\n",
              "      <td>5NPEC4AB0EH813529</td>\n",
              "      <td>fwd</td>\n",
              "      <td>NaN</td>\n",
              "      <td>sedan</td>\n",
              "      <td>NaN</td>\n",
              "      <td>https://images.craigslist.org/00s0s_gBHYmJ5o7y...</td>\n",
              "      <td>I'll move to another city and try to sell my c...</td>\n",
              "      <td>al</td>\n",
              "      <td>32.547500</td>\n",
              "      <td>-85.468200</td>\n",
              "      <td>2020-12-02 02:11:50-06:00</td>\n",
              "    </tr>\n",
              "    <tr>\n",
              "      <th>2</th>\n",
              "      <td>7240224296</td>\n",
              "      <td>https://auburn.craigslist.org/cto/d/auburn-200...</td>\n",
              "      <td>auburn</td>\n",
              "      <td>https://auburn.craigslist.org</td>\n",
              "      <td>4900</td>\n",
              "      <td>2006.0</td>\n",
              "      <td>bmw</td>\n",
              "      <td>x3 3.0i</td>\n",
              "      <td>good</td>\n",
              "      <td>6 cylinders</td>\n",
              "      <td>gas</td>\n",
              "      <td>87046.0</td>\n",
              "      <td>clean</td>\n",
              "      <td>automatic</td>\n",
              "      <td>NaN</td>\n",
              "      <td>NaN</td>\n",
              "      <td>NaN</td>\n",
              "      <td>SUV</td>\n",
              "      <td>blue</td>\n",
              "      <td>https://images.craigslist.org/00B0B_5zgEGWPOrt...</td>\n",
              "      <td>Clean 2006 BMW X3 3.0I.  Beautiful and rare Bl...</td>\n",
              "      <td>al</td>\n",
              "      <td>32.616807</td>\n",
              "      <td>-85.464149</td>\n",
              "      <td>2020-12-01 19:50:41-06:00</td>\n",
              "    </tr>\n",
              "    <tr>\n",
              "      <th>3</th>\n",
              "      <td>7240103965</td>\n",
              "      <td>https://auburn.craigslist.org/cto/d/lanett-tru...</td>\n",
              "      <td>auburn</td>\n",
              "      <td>https://auburn.craigslist.org</td>\n",
              "      <td>2000</td>\n",
              "      <td>1974.0</td>\n",
              "      <td>chevrolet</td>\n",
              "      <td>c-10</td>\n",
              "      <td>good</td>\n",
              "      <td>4 cylinders</td>\n",
              "      <td>gas</td>\n",
              "      <td>190000.0</td>\n",
              "      <td>clean</td>\n",
              "      <td>automatic</td>\n",
              "      <td>NaN</td>\n",
              "      <td>rwd</td>\n",
              "      <td>full-size</td>\n",
              "      <td>pickup</td>\n",
              "      <td>blue</td>\n",
              "      <td>https://images.craigslist.org/00M0M_6o7KcDpArw...</td>\n",
              "      <td>1974 chev. truck (LONG BED) NEW starter front ...</td>\n",
              "      <td>al</td>\n",
              "      <td>32.861600</td>\n",
              "      <td>-85.216100</td>\n",
              "      <td>2020-12-01 15:54:45-06:00</td>\n",
              "    </tr>\n",
              "    <tr>\n",
              "      <th>4</th>\n",
              "      <td>7239983776</td>\n",
              "      <td>https://auburn.craigslist.org/cto/d/auburn-200...</td>\n",
              "      <td>auburn</td>\n",
              "      <td>https://auburn.craigslist.org</td>\n",
              "      <td>19500</td>\n",
              "      <td>2005.0</td>\n",
              "      <td>ford</td>\n",
              "      <td>f350 lariat</td>\n",
              "      <td>excellent</td>\n",
              "      <td>8 cylinders</td>\n",
              "      <td>diesel</td>\n",
              "      <td>116000.0</td>\n",
              "      <td>lien</td>\n",
              "      <td>automatic</td>\n",
              "      <td>NaN</td>\n",
              "      <td>4wd</td>\n",
              "      <td>full-size</td>\n",
              "      <td>pickup</td>\n",
              "      <td>blue</td>\n",
              "      <td>https://images.craigslist.org/00p0p_b95l1EgUfl...</td>\n",
              "      <td>2005 Ford F350 Lariat (Bullet Proofed). This t...</td>\n",
              "      <td>al</td>\n",
              "      <td>32.547500</td>\n",
              "      <td>-85.468200</td>\n",
              "      <td>2020-12-01 12:53:56-06:00</td>\n",
              "    </tr>\n",
              "  </tbody>\n",
              "</table>\n",
              "</div>"
            ],
            "text/plain": [
              "           id  ...               posting_date\n",
              "0  7240372487  ...  2020-12-02 08:11:30-06:00\n",
              "1  7240309422  ...  2020-12-02 02:11:50-06:00\n",
              "2  7240224296  ...  2020-12-01 19:50:41-06:00\n",
              "3  7240103965  ...  2020-12-01 15:54:45-06:00\n",
              "4  7239983776  ...  2020-12-01 12:53:56-06:00\n",
              "\n",
              "[5 rows x 25 columns]"
            ]
          },
          "metadata": {
            "tags": []
          },
          "execution_count": 4
        }
      ]
    },
    {
      "cell_type": "code",
      "metadata": {
        "colab": {
          "base_uri": "https://localhost:8080/",
          "height": 286
        },
        "id": "R6pEQaiJTZnC",
        "outputId": "0f54c29c-64f8-40b1-dc51-350a9bea0f55"
      },
      "source": [
        "df.describe()"
      ],
      "execution_count": 5,
      "outputs": [
        {
          "output_type": "execute_result",
          "data": {
            "text/html": [
              "<div>\n",
              "<style scoped>\n",
              "    .dataframe tbody tr th:only-of-type {\n",
              "        vertical-align: middle;\n",
              "    }\n",
              "\n",
              "    .dataframe tbody tr th {\n",
              "        vertical-align: top;\n",
              "    }\n",
              "\n",
              "    .dataframe thead th {\n",
              "        text-align: right;\n",
              "    }\n",
              "</style>\n",
              "<table border=\"1\" class=\"dataframe\">\n",
              "  <thead>\n",
              "    <tr style=\"text-align: right;\">\n",
              "      <th></th>\n",
              "      <th>id</th>\n",
              "      <th>price</th>\n",
              "      <th>year</th>\n",
              "      <th>odometer</th>\n",
              "      <th>lat</th>\n",
              "      <th>long</th>\n",
              "    </tr>\n",
              "  </thead>\n",
              "  <tbody>\n",
              "    <tr>\n",
              "      <th>count</th>\n",
              "      <td>4.582130e+05</td>\n",
              "      <td>4.582130e+05</td>\n",
              "      <td>457163.000000</td>\n",
              "      <td>4.029100e+05</td>\n",
              "      <td>450765.000000</td>\n",
              "      <td>450765.000000</td>\n",
              "    </tr>\n",
              "    <tr>\n",
              "      <th>mean</th>\n",
              "      <td>7.235233e+09</td>\n",
              "      <td>4.042093e+04</td>\n",
              "      <td>2010.746067</td>\n",
              "      <td>1.016698e+05</td>\n",
              "      <td>38.531925</td>\n",
              "      <td>-94.375824</td>\n",
              "    </tr>\n",
              "    <tr>\n",
              "      <th>std</th>\n",
              "      <td>4.594362e+06</td>\n",
              "      <td>8.194599e+06</td>\n",
              "      <td>8.868136</td>\n",
              "      <td>3.228623e+06</td>\n",
              "      <td>5.857378</td>\n",
              "      <td>18.076225</td>\n",
              "    </tr>\n",
              "    <tr>\n",
              "      <th>min</th>\n",
              "      <td>7.208550e+09</td>\n",
              "      <td>0.000000e+00</td>\n",
              "      <td>1900.000000</td>\n",
              "      <td>0.000000e+00</td>\n",
              "      <td>-82.607549</td>\n",
              "      <td>-164.091797</td>\n",
              "    </tr>\n",
              "    <tr>\n",
              "      <th>25%</th>\n",
              "      <td>7.231953e+09</td>\n",
              "      <td>4.900000e+03</td>\n",
              "      <td>2008.000000</td>\n",
              "      <td>4.087700e+04</td>\n",
              "      <td>34.600000</td>\n",
              "      <td>-110.890427</td>\n",
              "    </tr>\n",
              "    <tr>\n",
              "      <th>50%</th>\n",
              "      <td>7.236409e+09</td>\n",
              "      <td>1.099500e+04</td>\n",
              "      <td>2013.000000</td>\n",
              "      <td>8.764100e+04</td>\n",
              "      <td>39.244500</td>\n",
              "      <td>-88.314889</td>\n",
              "    </tr>\n",
              "    <tr>\n",
              "      <th>75%</th>\n",
              "      <td>7.239321e+09</td>\n",
              "      <td>2.149500e+04</td>\n",
              "      <td>2016.000000</td>\n",
              "      <td>1.340000e+05</td>\n",
              "      <td>42.484503</td>\n",
              "      <td>-81.015022</td>\n",
              "    </tr>\n",
              "    <tr>\n",
              "      <th>max</th>\n",
              "      <td>7.241019e+09</td>\n",
              "      <td>3.615215e+09</td>\n",
              "      <td>2021.000000</td>\n",
              "      <td>2.043756e+09</td>\n",
              "      <td>82.049255</td>\n",
              "      <td>150.898969</td>\n",
              "    </tr>\n",
              "  </tbody>\n",
              "</table>\n",
              "</div>"
            ],
            "text/plain": [
              "                 id         price  ...            lat           long\n",
              "count  4.582130e+05  4.582130e+05  ...  450765.000000  450765.000000\n",
              "mean   7.235233e+09  4.042093e+04  ...      38.531925     -94.375824\n",
              "std    4.594362e+06  8.194599e+06  ...       5.857378      18.076225\n",
              "min    7.208550e+09  0.000000e+00  ...     -82.607549    -164.091797\n",
              "25%    7.231953e+09  4.900000e+03  ...      34.600000    -110.890427\n",
              "50%    7.236409e+09  1.099500e+04  ...      39.244500     -88.314889\n",
              "75%    7.239321e+09  2.149500e+04  ...      42.484503     -81.015022\n",
              "max    7.241019e+09  3.615215e+09  ...      82.049255     150.898969\n",
              "\n",
              "[8 rows x 6 columns]"
            ]
          },
          "metadata": {
            "tags": []
          },
          "execution_count": 5
        }
      ]
    },
    {
      "cell_type": "code",
      "metadata": {
        "id": "1ALNppEXbEZx",
        "colab": {
          "base_uri": "https://localhost:8080/"
        },
        "outputId": "932a85c6-c477-4169-dc74-8d39be7a08d7"
      },
      "source": [
        "df.dtypes"
      ],
      "execution_count": null,
      "outputs": [
        {
          "output_type": "execute_result",
          "data": {
            "text/plain": [
              "id                int64\n",
              "url              object\n",
              "region           object\n",
              "region_url       object\n",
              "price             int64\n",
              "year            float64\n",
              "manufacturer     object\n",
              "model            object\n",
              "condition        object\n",
              "cylinders        object\n",
              "fuel             object\n",
              "odometer        float64\n",
              "title_status     object\n",
              "transmission     object\n",
              "VIN              object\n",
              "drive            object\n",
              "size             object\n",
              "type             object\n",
              "paint_color      object\n",
              "image_url        object\n",
              "description      object\n",
              "state            object\n",
              "lat             float64\n",
              "long            float64\n",
              "posting_date     object\n",
              "dtype: object"
            ]
          },
          "metadata": {
            "tags": []
          },
          "execution_count": 6
        }
      ]
    },
    {
      "cell_type": "code",
      "metadata": {
        "colab": {
          "base_uri": "https://localhost:8080/"
        },
        "id": "XjxPUW0zjwHH",
        "outputId": "c9060607-5c0c-486c-c14b-9cc3e2994d00"
      },
      "source": [
        "df.isnull().sum()"
      ],
      "execution_count": null,
      "outputs": [
        {
          "output_type": "execute_result",
          "data": {
            "text/plain": [
              "id                   0\n",
              "url                  0\n",
              "region               0\n",
              "region_url           0\n",
              "price                0\n",
              "year              1050\n",
              "manufacturer     18220\n",
              "model             4846\n",
              "condition       192940\n",
              "cylinders       171140\n",
              "fuel              3237\n",
              "odometer         55303\n",
              "title_status      2577\n",
              "transmission      2442\n",
              "VIN             187549\n",
              "drive           134188\n",
              "size            321348\n",
              "type            112738\n",
              "paint_color     140843\n",
              "image_url           28\n",
              "description         70\n",
              "state                0\n",
              "lat               7448\n",
              "long              7448\n",
              "posting_date        28\n",
              "dtype: int64"
            ]
          },
          "metadata": {
            "tags": []
          },
          "execution_count": 7
        }
      ]
    },
    {
      "cell_type": "code",
      "metadata": {
        "colab": {
          "base_uri": "https://localhost:8080/",
          "height": 388
        },
        "id": "KUHqGGbyjygw",
        "outputId": "f7ced882-416a-43f0-d8da-7ee557b170e7"
      },
      "source": [
        "# Affect price: posting_date, price, region, state, lat, lon, year, title_status, manufactrer, model, condition, cylinders, fuel, odometer, transmission, drive, size, type, paint_color, \n",
        "\n",
        "# To remove: id, url, region_url, VIN, image_url, description. These columns do not have an impact on our model\n",
        "\n",
        "df_drop = df.drop(columns=['id', 'url', 'region_url', 'VIN', 'image_url','description'])\n",
        "df_drop.head()"
      ],
      "execution_count": 8,
      "outputs": [
        {
          "output_type": "execute_result",
          "data": {
            "text/html": [
              "<div>\n",
              "<style scoped>\n",
              "    .dataframe tbody tr th:only-of-type {\n",
              "        vertical-align: middle;\n",
              "    }\n",
              "\n",
              "    .dataframe tbody tr th {\n",
              "        vertical-align: top;\n",
              "    }\n",
              "\n",
              "    .dataframe thead th {\n",
              "        text-align: right;\n",
              "    }\n",
              "</style>\n",
              "<table border=\"1\" class=\"dataframe\">\n",
              "  <thead>\n",
              "    <tr style=\"text-align: right;\">\n",
              "      <th></th>\n",
              "      <th>region</th>\n",
              "      <th>price</th>\n",
              "      <th>year</th>\n",
              "      <th>manufacturer</th>\n",
              "      <th>model</th>\n",
              "      <th>condition</th>\n",
              "      <th>cylinders</th>\n",
              "      <th>fuel</th>\n",
              "      <th>odometer</th>\n",
              "      <th>title_status</th>\n",
              "      <th>transmission</th>\n",
              "      <th>drive</th>\n",
              "      <th>size</th>\n",
              "      <th>type</th>\n",
              "      <th>paint_color</th>\n",
              "      <th>state</th>\n",
              "      <th>lat</th>\n",
              "      <th>long</th>\n",
              "      <th>posting_date</th>\n",
              "    </tr>\n",
              "  </thead>\n",
              "  <tbody>\n",
              "    <tr>\n",
              "      <th>0</th>\n",
              "      <td>auburn</td>\n",
              "      <td>35990</td>\n",
              "      <td>2010.0</td>\n",
              "      <td>chevrolet</td>\n",
              "      <td>corvette grand sport</td>\n",
              "      <td>good</td>\n",
              "      <td>8 cylinders</td>\n",
              "      <td>gas</td>\n",
              "      <td>32742.0</td>\n",
              "      <td>clean</td>\n",
              "      <td>other</td>\n",
              "      <td>rwd</td>\n",
              "      <td>NaN</td>\n",
              "      <td>other</td>\n",
              "      <td>NaN</td>\n",
              "      <td>al</td>\n",
              "      <td>32.590000</td>\n",
              "      <td>-85.480000</td>\n",
              "      <td>2020-12-02 08:11:30-06:00</td>\n",
              "    </tr>\n",
              "    <tr>\n",
              "      <th>1</th>\n",
              "      <td>auburn</td>\n",
              "      <td>7500</td>\n",
              "      <td>2014.0</td>\n",
              "      <td>hyundai</td>\n",
              "      <td>sonata</td>\n",
              "      <td>excellent</td>\n",
              "      <td>4 cylinders</td>\n",
              "      <td>gas</td>\n",
              "      <td>93600.0</td>\n",
              "      <td>clean</td>\n",
              "      <td>automatic</td>\n",
              "      <td>fwd</td>\n",
              "      <td>NaN</td>\n",
              "      <td>sedan</td>\n",
              "      <td>NaN</td>\n",
              "      <td>al</td>\n",
              "      <td>32.547500</td>\n",
              "      <td>-85.468200</td>\n",
              "      <td>2020-12-02 02:11:50-06:00</td>\n",
              "    </tr>\n",
              "    <tr>\n",
              "      <th>2</th>\n",
              "      <td>auburn</td>\n",
              "      <td>4900</td>\n",
              "      <td>2006.0</td>\n",
              "      <td>bmw</td>\n",
              "      <td>x3 3.0i</td>\n",
              "      <td>good</td>\n",
              "      <td>6 cylinders</td>\n",
              "      <td>gas</td>\n",
              "      <td>87046.0</td>\n",
              "      <td>clean</td>\n",
              "      <td>automatic</td>\n",
              "      <td>NaN</td>\n",
              "      <td>NaN</td>\n",
              "      <td>SUV</td>\n",
              "      <td>blue</td>\n",
              "      <td>al</td>\n",
              "      <td>32.616807</td>\n",
              "      <td>-85.464149</td>\n",
              "      <td>2020-12-01 19:50:41-06:00</td>\n",
              "    </tr>\n",
              "    <tr>\n",
              "      <th>3</th>\n",
              "      <td>auburn</td>\n",
              "      <td>2000</td>\n",
              "      <td>1974.0</td>\n",
              "      <td>chevrolet</td>\n",
              "      <td>c-10</td>\n",
              "      <td>good</td>\n",
              "      <td>4 cylinders</td>\n",
              "      <td>gas</td>\n",
              "      <td>190000.0</td>\n",
              "      <td>clean</td>\n",
              "      <td>automatic</td>\n",
              "      <td>rwd</td>\n",
              "      <td>full-size</td>\n",
              "      <td>pickup</td>\n",
              "      <td>blue</td>\n",
              "      <td>al</td>\n",
              "      <td>32.861600</td>\n",
              "      <td>-85.216100</td>\n",
              "      <td>2020-12-01 15:54:45-06:00</td>\n",
              "    </tr>\n",
              "    <tr>\n",
              "      <th>4</th>\n",
              "      <td>auburn</td>\n",
              "      <td>19500</td>\n",
              "      <td>2005.0</td>\n",
              "      <td>ford</td>\n",
              "      <td>f350 lariat</td>\n",
              "      <td>excellent</td>\n",
              "      <td>8 cylinders</td>\n",
              "      <td>diesel</td>\n",
              "      <td>116000.0</td>\n",
              "      <td>lien</td>\n",
              "      <td>automatic</td>\n",
              "      <td>4wd</td>\n",
              "      <td>full-size</td>\n",
              "      <td>pickup</td>\n",
              "      <td>blue</td>\n",
              "      <td>al</td>\n",
              "      <td>32.547500</td>\n",
              "      <td>-85.468200</td>\n",
              "      <td>2020-12-01 12:53:56-06:00</td>\n",
              "    </tr>\n",
              "  </tbody>\n",
              "</table>\n",
              "</div>"
            ],
            "text/plain": [
              "   region  price    year  ...        lat       long               posting_date\n",
              "0  auburn  35990  2010.0  ...  32.590000 -85.480000  2020-12-02 08:11:30-06:00\n",
              "1  auburn   7500  2014.0  ...  32.547500 -85.468200  2020-12-02 02:11:50-06:00\n",
              "2  auburn   4900  2006.0  ...  32.616807 -85.464149  2020-12-01 19:50:41-06:00\n",
              "3  auburn   2000  1974.0  ...  32.861600 -85.216100  2020-12-01 15:54:45-06:00\n",
              "4  auburn  19500  2005.0  ...  32.547500 -85.468200  2020-12-01 12:53:56-06:00\n",
              "\n",
              "[5 rows x 19 columns]"
            ]
          },
          "metadata": {
            "tags": []
          },
          "execution_count": 8
        }
      ]
    },
    {
      "cell_type": "code",
      "metadata": {
        "id": "9yqFObTHj10r"
      },
      "source": [
        "# Reorganize columns order\n",
        "df_order = df_drop[['posting_date', 'price', 'region', 'state', 'lat', 'long', 'year', 'title_status', 'manufacturer', 'model', 'condition', 'cylinders', 'fuel', 'odometer', 'transmission', 'drive', 'size', 'type', 'paint_color' ]]"
      ],
      "execution_count": 9,
      "outputs": []
    },
    {
      "cell_type": "code",
      "metadata": {
        "colab": {
          "base_uri": "https://localhost:8080/",
          "height": 388
        },
        "id": "y4v3BtcxmyfZ",
        "outputId": "50faabca-436e-4b6b-9807-c85fba9854c7"
      },
      "source": [
        "df_order.head()"
      ],
      "execution_count": 10,
      "outputs": [
        {
          "output_type": "execute_result",
          "data": {
            "text/html": [
              "<div>\n",
              "<style scoped>\n",
              "    .dataframe tbody tr th:only-of-type {\n",
              "        vertical-align: middle;\n",
              "    }\n",
              "\n",
              "    .dataframe tbody tr th {\n",
              "        vertical-align: top;\n",
              "    }\n",
              "\n",
              "    .dataframe thead th {\n",
              "        text-align: right;\n",
              "    }\n",
              "</style>\n",
              "<table border=\"1\" class=\"dataframe\">\n",
              "  <thead>\n",
              "    <tr style=\"text-align: right;\">\n",
              "      <th></th>\n",
              "      <th>posting_date</th>\n",
              "      <th>price</th>\n",
              "      <th>region</th>\n",
              "      <th>state</th>\n",
              "      <th>lat</th>\n",
              "      <th>long</th>\n",
              "      <th>year</th>\n",
              "      <th>title_status</th>\n",
              "      <th>manufacturer</th>\n",
              "      <th>model</th>\n",
              "      <th>condition</th>\n",
              "      <th>cylinders</th>\n",
              "      <th>fuel</th>\n",
              "      <th>odometer</th>\n",
              "      <th>transmission</th>\n",
              "      <th>drive</th>\n",
              "      <th>size</th>\n",
              "      <th>type</th>\n",
              "      <th>paint_color</th>\n",
              "    </tr>\n",
              "  </thead>\n",
              "  <tbody>\n",
              "    <tr>\n",
              "      <th>0</th>\n",
              "      <td>2020-12-02 08:11:30-06:00</td>\n",
              "      <td>35990</td>\n",
              "      <td>auburn</td>\n",
              "      <td>al</td>\n",
              "      <td>32.590000</td>\n",
              "      <td>-85.480000</td>\n",
              "      <td>2010.0</td>\n",
              "      <td>clean</td>\n",
              "      <td>chevrolet</td>\n",
              "      <td>corvette grand sport</td>\n",
              "      <td>good</td>\n",
              "      <td>8 cylinders</td>\n",
              "      <td>gas</td>\n",
              "      <td>32742.0</td>\n",
              "      <td>other</td>\n",
              "      <td>rwd</td>\n",
              "      <td>NaN</td>\n",
              "      <td>other</td>\n",
              "      <td>NaN</td>\n",
              "    </tr>\n",
              "    <tr>\n",
              "      <th>1</th>\n",
              "      <td>2020-12-02 02:11:50-06:00</td>\n",
              "      <td>7500</td>\n",
              "      <td>auburn</td>\n",
              "      <td>al</td>\n",
              "      <td>32.547500</td>\n",
              "      <td>-85.468200</td>\n",
              "      <td>2014.0</td>\n",
              "      <td>clean</td>\n",
              "      <td>hyundai</td>\n",
              "      <td>sonata</td>\n",
              "      <td>excellent</td>\n",
              "      <td>4 cylinders</td>\n",
              "      <td>gas</td>\n",
              "      <td>93600.0</td>\n",
              "      <td>automatic</td>\n",
              "      <td>fwd</td>\n",
              "      <td>NaN</td>\n",
              "      <td>sedan</td>\n",
              "      <td>NaN</td>\n",
              "    </tr>\n",
              "    <tr>\n",
              "      <th>2</th>\n",
              "      <td>2020-12-01 19:50:41-06:00</td>\n",
              "      <td>4900</td>\n",
              "      <td>auburn</td>\n",
              "      <td>al</td>\n",
              "      <td>32.616807</td>\n",
              "      <td>-85.464149</td>\n",
              "      <td>2006.0</td>\n",
              "      <td>clean</td>\n",
              "      <td>bmw</td>\n",
              "      <td>x3 3.0i</td>\n",
              "      <td>good</td>\n",
              "      <td>6 cylinders</td>\n",
              "      <td>gas</td>\n",
              "      <td>87046.0</td>\n",
              "      <td>automatic</td>\n",
              "      <td>NaN</td>\n",
              "      <td>NaN</td>\n",
              "      <td>SUV</td>\n",
              "      <td>blue</td>\n",
              "    </tr>\n",
              "    <tr>\n",
              "      <th>3</th>\n",
              "      <td>2020-12-01 15:54:45-06:00</td>\n",
              "      <td>2000</td>\n",
              "      <td>auburn</td>\n",
              "      <td>al</td>\n",
              "      <td>32.861600</td>\n",
              "      <td>-85.216100</td>\n",
              "      <td>1974.0</td>\n",
              "      <td>clean</td>\n",
              "      <td>chevrolet</td>\n",
              "      <td>c-10</td>\n",
              "      <td>good</td>\n",
              "      <td>4 cylinders</td>\n",
              "      <td>gas</td>\n",
              "      <td>190000.0</td>\n",
              "      <td>automatic</td>\n",
              "      <td>rwd</td>\n",
              "      <td>full-size</td>\n",
              "      <td>pickup</td>\n",
              "      <td>blue</td>\n",
              "    </tr>\n",
              "    <tr>\n",
              "      <th>4</th>\n",
              "      <td>2020-12-01 12:53:56-06:00</td>\n",
              "      <td>19500</td>\n",
              "      <td>auburn</td>\n",
              "      <td>al</td>\n",
              "      <td>32.547500</td>\n",
              "      <td>-85.468200</td>\n",
              "      <td>2005.0</td>\n",
              "      <td>lien</td>\n",
              "      <td>ford</td>\n",
              "      <td>f350 lariat</td>\n",
              "      <td>excellent</td>\n",
              "      <td>8 cylinders</td>\n",
              "      <td>diesel</td>\n",
              "      <td>116000.0</td>\n",
              "      <td>automatic</td>\n",
              "      <td>4wd</td>\n",
              "      <td>full-size</td>\n",
              "      <td>pickup</td>\n",
              "      <td>blue</td>\n",
              "    </tr>\n",
              "  </tbody>\n",
              "</table>\n",
              "</div>"
            ],
            "text/plain": [
              "                posting_date  price  region  ...       size    type  paint_color\n",
              "0  2020-12-02 08:11:30-06:00  35990  auburn  ...        NaN   other          NaN\n",
              "1  2020-12-02 02:11:50-06:00   7500  auburn  ...        NaN   sedan          NaN\n",
              "2  2020-12-01 19:50:41-06:00   4900  auburn  ...        NaN     SUV         blue\n",
              "3  2020-12-01 15:54:45-06:00   2000  auburn  ...  full-size  pickup         blue\n",
              "4  2020-12-01 12:53:56-06:00  19500  auburn  ...  full-size  pickup         blue\n",
              "\n",
              "[5 rows x 19 columns]"
            ]
          },
          "metadata": {
            "tags": []
          },
          "execution_count": 10
        }
      ]
    },
    {
      "cell_type": "code",
      "metadata": {
        "colab": {
          "base_uri": "https://localhost:8080/",
          "height": 0
        },
        "id": "kaD25QvmzNiT",
        "outputId": "56fbbc46-bca4-465f-a8be-b332458d66f1"
      },
      "source": [
        "# Convert posting_date into datetime\n",
        "df_order['date'] = pd.to_datetime(df_order['posting_date'], utc=True)"
      ],
      "execution_count": 11,
      "outputs": [
        {
          "output_type": "stream",
          "text": [
            "/usr/local/lib/python3.7/dist-packages/ipykernel_launcher.py:2: SettingWithCopyWarning: \n",
            "A value is trying to be set on a copy of a slice from a DataFrame.\n",
            "Try using .loc[row_indexer,col_indexer] = value instead\n",
            "\n",
            "See the caveats in the documentation: https://pandas.pydata.org/pandas-docs/stable/user_guide/indexing.html#returning-a-view-versus-a-copy\n",
            "  \n"
          ],
          "name": "stderr"
        }
      ]
    },
    {
      "cell_type": "code",
      "metadata": {
        "colab": {
          "base_uri": "https://localhost:8080/",
          "height": 0
        },
        "id": "5DxSWRVy1HHh",
        "outputId": "5de18670-c00b-466d-b583-36e4d6169738"
      },
      "source": [
        "df_order.isnull().sum()"
      ],
      "execution_count": 12,
      "outputs": [
        {
          "output_type": "execute_result",
          "data": {
            "text/plain": [
              "posting_date        28\n",
              "price                0\n",
              "region               0\n",
              "state                0\n",
              "lat               7448\n",
              "long              7448\n",
              "year              1050\n",
              "title_status      2577\n",
              "manufacturer     18220\n",
              "model             4846\n",
              "condition       192940\n",
              "cylinders       171140\n",
              "fuel              3237\n",
              "odometer         55303\n",
              "transmission      2442\n",
              "drive           134188\n",
              "size            321348\n",
              "type            112738\n",
              "paint_color     140843\n",
              "date                28\n",
              "dtype: int64"
            ]
          },
          "metadata": {
            "tags": []
          },
          "execution_count": 12
        }
      ]
    },
    {
      "cell_type": "code",
      "metadata": {
        "colab": {
          "base_uri": "https://localhost:8080/",
          "height": 0
        },
        "id": "mf0xrOQj5h1v",
        "outputId": "9fee8736-8779-4965-bd4a-00f1bf85da7c"
      },
      "source": [
        "# Need to check each column\n",
        "\n",
        "for c, column in enumerate(df_order.columns[:-1]):\n",
        "  print(f'{column} : {df_order[column].nunique()}')"
      ],
      "execution_count": 13,
      "outputs": [
        {
          "output_type": "stream",
          "text": [
            "posting_date : 373175\n",
            "price : 16924\n",
            "region : 405\n",
            "state : 51\n",
            "lat : 61179\n",
            "long : 61559\n",
            "year : 110\n",
            "title_status : 6\n",
            "manufacturer : 43\n",
            "model : 31520\n",
            "condition : 6\n",
            "cylinders : 8\n",
            "fuel : 5\n",
            "odometer : 108135\n",
            "transmission : 3\n",
            "drive : 3\n",
            "size : 4\n",
            "type : 13\n",
            "paint_color : 12\n"
          ],
          "name": "stdout"
        }
      ]
    },
    {
      "cell_type": "code",
      "metadata": {
        "colab": {
          "base_uri": "https://localhost:8080/",
          "height": 0
        },
        "id": "Iojw1qprQ1ru",
        "outputId": "6bfa3c99-e2ee-4107-d6dd-816401295e2d"
      },
      "source": [
        "min_price = df_order['price'].min()\n",
        "max_price = round(df_order['price'].max()/1000000000,1)\n",
        "print(f'Min price: {min_price}')\n",
        "print(f'Max price: $ {max_price} Billions')"
      ],
      "execution_count": 14,
      "outputs": [
        {
          "output_type": "stream",
          "text": [
            "Min price: 0\n",
            "Max price: $ 3.6 Billions\n"
          ],
          "name": "stdout"
        }
      ]
    },
    {
      "cell_type": "code",
      "metadata": {
        "colab": {
          "base_uri": "https://localhost:8080/",
          "height": 0
        },
        "id": "fq4aisR2UI3S",
        "outputId": "3bbc0ce5-aa79-492a-c888-137ba7724976"
      },
      "source": [
        "min_year = df_order['year'].min()\n",
        "max_year = df_order['year'].max()\n",
        "print(f'Min year: {min_year}')\n",
        "print(f'Max year: {max_year}')"
      ],
      "execution_count": 15,
      "outputs": [
        {
          "output_type": "stream",
          "text": [
            "Min year: 1900.0\n",
            "Max year: 2021.0\n"
          ],
          "name": "stdout"
        }
      ]
    },
    {
      "cell_type": "code",
      "metadata": {
        "colab": {
          "base_uri": "https://localhost:8080/",
          "height": 0
        },
        "id": "S-IYTcz-WLO-",
        "outputId": "f7658017-34b9-423e-f784-b81c0596a2bc"
      },
      "source": [
        "df_order['paint_color'].unique()"
      ],
      "execution_count": 16,
      "outputs": [
        {
          "output_type": "execute_result",
          "data": {
            "text/plain": [
              "array([nan, 'blue', 'red', 'silver', 'black', 'white', 'grey', 'orange',\n",
              "       'green', 'yellow', 'custom', 'brown', 'purple'], dtype=object)"
            ]
          },
          "metadata": {
            "tags": []
          },
          "execution_count": 16
        }
      ]
    },
    {
      "cell_type": "code",
      "metadata": {
        "colab": {
          "base_uri": "https://localhost:8080/",
          "height": 0
        },
        "id": "wBmsXLA05Et8",
        "outputId": "5d852580-6c4a-4cdc-c7fb-939cf1936474"
      },
      "source": [
        "# Fill NA values with not specified\n",
        "\n",
        "df_order.fillna({'condition' : 'not specified',\n",
        "                 'paint_color' : 'not specified',\n",
        "                 'cylinders' : 'not specified',\n",
        "                 'transmission' : 'other',\n",
        "                 'drive' : 'not specified',\n",
        "                 'type' : \"other\",\n",
        "                 'fuel' : \"other\"\n",
        "                 }, inplace = True)\n"
      ],
      "execution_count": 17,
      "outputs": [
        {
          "output_type": "stream",
          "text": [
            "/usr/local/lib/python3.7/dist-packages/pandas/core/series.py:4536: SettingWithCopyWarning: \n",
            "A value is trying to be set on a copy of a slice from a DataFrame\n",
            "\n",
            "See the caveats in the documentation: https://pandas.pydata.org/pandas-docs/stable/user_guide/indexing.html#returning-a-view-versus-a-copy\n",
            "  downcast=downcast,\n"
          ],
          "name": "stderr"
        }
      ]
    },
    {
      "cell_type": "code",
      "metadata": {
        "colab": {
          "base_uri": "https://localhost:8080/",
          "height": 0
        },
        "id": "wHAymcsB9RoQ",
        "outputId": "f6be65c3-0b34-4f4b-e64c-f8320a58a2fa"
      },
      "source": [
        "# Col 'size' has a strong correlation with 'model', and this col has many missing values, so drop this col\n",
        "df_order.drop(['posting_date', 'size'], axis=1, inplace=True)"
      ],
      "execution_count": 18,
      "outputs": [
        {
          "output_type": "stream",
          "text": [
            "/usr/local/lib/python3.7/dist-packages/pandas/core/frame.py:4174: SettingWithCopyWarning: \n",
            "A value is trying to be set on a copy of a slice from a DataFrame\n",
            "\n",
            "See the caveats in the documentation: https://pandas.pydata.org/pandas-docs/stable/user_guide/indexing.html#returning-a-view-versus-a-copy\n",
            "  errors=errors,\n"
          ],
          "name": "stderr"
        }
      ]
    },
    {
      "cell_type": "code",
      "metadata": {
        "id": "ODCS-xYG2pp9"
      },
      "source": [
        "# Drop entire rows for the features with low number of null values\n",
        "columns_to_drop = ['odometer', 'manufacturer', 'model' ]\n",
        "df_clean = df_order.dropna(subset=columns_to_drop)"
      ],
      "execution_count": 19,
      "outputs": []
    },
    {
      "cell_type": "code",
      "metadata": {
        "colab": {
          "base_uri": "https://localhost:8080/",
          "height": 319
        },
        "id": "OJ6ASJ_t0s8H",
        "outputId": "cdc2560f-5f5b-40ad-e4e0-67f4fd58ec77"
      },
      "source": [
        "df_clean.head()"
      ],
      "execution_count": 20,
      "outputs": [
        {
          "output_type": "execute_result",
          "data": {
            "text/html": [
              "<div>\n",
              "<style scoped>\n",
              "    .dataframe tbody tr th:only-of-type {\n",
              "        vertical-align: middle;\n",
              "    }\n",
              "\n",
              "    .dataframe tbody tr th {\n",
              "        vertical-align: top;\n",
              "    }\n",
              "\n",
              "    .dataframe thead th {\n",
              "        text-align: right;\n",
              "    }\n",
              "</style>\n",
              "<table border=\"1\" class=\"dataframe\">\n",
              "  <thead>\n",
              "    <tr style=\"text-align: right;\">\n",
              "      <th></th>\n",
              "      <th>price</th>\n",
              "      <th>region</th>\n",
              "      <th>state</th>\n",
              "      <th>lat</th>\n",
              "      <th>long</th>\n",
              "      <th>year</th>\n",
              "      <th>title_status</th>\n",
              "      <th>manufacturer</th>\n",
              "      <th>model</th>\n",
              "      <th>condition</th>\n",
              "      <th>cylinders</th>\n",
              "      <th>fuel</th>\n",
              "      <th>odometer</th>\n",
              "      <th>transmission</th>\n",
              "      <th>drive</th>\n",
              "      <th>type</th>\n",
              "      <th>paint_color</th>\n",
              "      <th>date</th>\n",
              "    </tr>\n",
              "  </thead>\n",
              "  <tbody>\n",
              "    <tr>\n",
              "      <th>0</th>\n",
              "      <td>35990</td>\n",
              "      <td>auburn</td>\n",
              "      <td>al</td>\n",
              "      <td>32.590000</td>\n",
              "      <td>-85.480000</td>\n",
              "      <td>2010.0</td>\n",
              "      <td>clean</td>\n",
              "      <td>chevrolet</td>\n",
              "      <td>corvette grand sport</td>\n",
              "      <td>good</td>\n",
              "      <td>8 cylinders</td>\n",
              "      <td>gas</td>\n",
              "      <td>32742.0</td>\n",
              "      <td>other</td>\n",
              "      <td>rwd</td>\n",
              "      <td>other</td>\n",
              "      <td>not specified</td>\n",
              "      <td>2020-12-02 14:11:30+00:00</td>\n",
              "    </tr>\n",
              "    <tr>\n",
              "      <th>1</th>\n",
              "      <td>7500</td>\n",
              "      <td>auburn</td>\n",
              "      <td>al</td>\n",
              "      <td>32.547500</td>\n",
              "      <td>-85.468200</td>\n",
              "      <td>2014.0</td>\n",
              "      <td>clean</td>\n",
              "      <td>hyundai</td>\n",
              "      <td>sonata</td>\n",
              "      <td>excellent</td>\n",
              "      <td>4 cylinders</td>\n",
              "      <td>gas</td>\n",
              "      <td>93600.0</td>\n",
              "      <td>automatic</td>\n",
              "      <td>fwd</td>\n",
              "      <td>sedan</td>\n",
              "      <td>not specified</td>\n",
              "      <td>2020-12-02 08:11:50+00:00</td>\n",
              "    </tr>\n",
              "    <tr>\n",
              "      <th>2</th>\n",
              "      <td>4900</td>\n",
              "      <td>auburn</td>\n",
              "      <td>al</td>\n",
              "      <td>32.616807</td>\n",
              "      <td>-85.464149</td>\n",
              "      <td>2006.0</td>\n",
              "      <td>clean</td>\n",
              "      <td>bmw</td>\n",
              "      <td>x3 3.0i</td>\n",
              "      <td>good</td>\n",
              "      <td>6 cylinders</td>\n",
              "      <td>gas</td>\n",
              "      <td>87046.0</td>\n",
              "      <td>automatic</td>\n",
              "      <td>not specified</td>\n",
              "      <td>SUV</td>\n",
              "      <td>blue</td>\n",
              "      <td>2020-12-02 01:50:41+00:00</td>\n",
              "    </tr>\n",
              "    <tr>\n",
              "      <th>3</th>\n",
              "      <td>2000</td>\n",
              "      <td>auburn</td>\n",
              "      <td>al</td>\n",
              "      <td>32.861600</td>\n",
              "      <td>-85.216100</td>\n",
              "      <td>1974.0</td>\n",
              "      <td>clean</td>\n",
              "      <td>chevrolet</td>\n",
              "      <td>c-10</td>\n",
              "      <td>good</td>\n",
              "      <td>4 cylinders</td>\n",
              "      <td>gas</td>\n",
              "      <td>190000.0</td>\n",
              "      <td>automatic</td>\n",
              "      <td>rwd</td>\n",
              "      <td>pickup</td>\n",
              "      <td>blue</td>\n",
              "      <td>2020-12-01 21:54:45+00:00</td>\n",
              "    </tr>\n",
              "    <tr>\n",
              "      <th>4</th>\n",
              "      <td>19500</td>\n",
              "      <td>auburn</td>\n",
              "      <td>al</td>\n",
              "      <td>32.547500</td>\n",
              "      <td>-85.468200</td>\n",
              "      <td>2005.0</td>\n",
              "      <td>lien</td>\n",
              "      <td>ford</td>\n",
              "      <td>f350 lariat</td>\n",
              "      <td>excellent</td>\n",
              "      <td>8 cylinders</td>\n",
              "      <td>diesel</td>\n",
              "      <td>116000.0</td>\n",
              "      <td>automatic</td>\n",
              "      <td>4wd</td>\n",
              "      <td>pickup</td>\n",
              "      <td>blue</td>\n",
              "      <td>2020-12-01 18:53:56+00:00</td>\n",
              "    </tr>\n",
              "  </tbody>\n",
              "</table>\n",
              "</div>"
            ],
            "text/plain": [
              "   price  region state  ...    type    paint_color                      date\n",
              "0  35990  auburn    al  ...   other  not specified 2020-12-02 14:11:30+00:00\n",
              "1   7500  auburn    al  ...   sedan  not specified 2020-12-02 08:11:50+00:00\n",
              "2   4900  auburn    al  ...     SUV           blue 2020-12-02 01:50:41+00:00\n",
              "3   2000  auburn    al  ...  pickup           blue 2020-12-01 21:54:45+00:00\n",
              "4  19500  auburn    al  ...  pickup           blue 2020-12-01 18:53:56+00:00\n",
              "\n",
              "[5 rows x 18 columns]"
            ]
          },
          "metadata": {
            "tags": []
          },
          "execution_count": 20
        }
      ]
    },
    {
      "cell_type": "code",
      "metadata": {
        "colab": {
          "base_uri": "https://localhost:8080/",
          "height": 0
        },
        "id": "qy1PP65ytmXF",
        "outputId": "0ebf1f37-7094-49c6-bedb-a9e555ec0873"
      },
      "source": [
        "df_clean.isnull().sum()"
      ],
      "execution_count": 21,
      "outputs": [
        {
          "output_type": "execute_result",
          "data": {
            "text/plain": [
              "price              0\n",
              "region             0\n",
              "state              0\n",
              "lat             6774\n",
              "long            6774\n",
              "year               3\n",
              "title_status    1589\n",
              "manufacturer       0\n",
              "model              0\n",
              "condition          0\n",
              "cylinders          0\n",
              "fuel               0\n",
              "odometer           0\n",
              "transmission       0\n",
              "drive              0\n",
              "type               0\n",
              "paint_color        0\n",
              "date               0\n",
              "dtype: int64"
            ]
          },
          "metadata": {
            "tags": []
          },
          "execution_count": 21
        }
      ]
    },
    {
      "cell_type": "code",
      "metadata": {
        "colab": {
          "base_uri": "https://localhost:8080/",
          "height": 0
        },
        "id": "sY9-1AjVLeUC",
        "outputId": "8e7dd238-da28-4fe9-d630-7505ff88be49"
      },
      "source": [
        "len(df_clean)"
      ],
      "execution_count": 22,
      "outputs": [
        {
          "output_type": "execute_result",
          "data": {
            "text/plain": [
              "386472"
            ]
          },
          "metadata": {
            "tags": []
          },
          "execution_count": 22
        }
      ]
    },
    {
      "cell_type": "code",
      "metadata": {
        "id": "IOZ6geRzogmI"
      },
      "source": [
        "# Filter out rows with title_status 'nan' or 'clean' only. Other values 'lien', 'missing', 'salvage', 'rebuilt', 'parts only' will be dropped\n",
        "df_final =  df_clean[((df_clean['title_status'].isnull()) | (df_clean['title_status'] == 'clean'))]"
      ],
      "execution_count": 23,
      "outputs": []
    },
    {
      "cell_type": "code",
      "metadata": {
        "colab": {
          "base_uri": "https://localhost:8080/",
          "height": 0
        },
        "id": "JCodRU5pLuwv",
        "outputId": "fdd3b9e4-cb77-48da-fab7-f870d1805b71"
      },
      "source": [
        "len(df_final)"
      ],
      "execution_count": 24,
      "outputs": [
        {
          "output_type": "execute_result",
          "data": {
            "text/plain": [
              "373924"
            ]
          },
          "metadata": {
            "tags": []
          },
          "execution_count": 24
        }
      ]
    },
    {
      "cell_type": "code",
      "metadata": {
        "colab": {
          "base_uri": "https://localhost:8080/",
          "height": 336
        },
        "id": "zev-BAw6nyq1",
        "outputId": "20a86500-4c9c-4322-9011-655e4d2e602a"
      },
      "source": [
        "df_final.head()"
      ],
      "execution_count": 25,
      "outputs": [
        {
          "output_type": "execute_result",
          "data": {
            "text/html": [
              "<div>\n",
              "<style scoped>\n",
              "    .dataframe tbody tr th:only-of-type {\n",
              "        vertical-align: middle;\n",
              "    }\n",
              "\n",
              "    .dataframe tbody tr th {\n",
              "        vertical-align: top;\n",
              "    }\n",
              "\n",
              "    .dataframe thead th {\n",
              "        text-align: right;\n",
              "    }\n",
              "</style>\n",
              "<table border=\"1\" class=\"dataframe\">\n",
              "  <thead>\n",
              "    <tr style=\"text-align: right;\">\n",
              "      <th></th>\n",
              "      <th>price</th>\n",
              "      <th>region</th>\n",
              "      <th>state</th>\n",
              "      <th>lat</th>\n",
              "      <th>long</th>\n",
              "      <th>year</th>\n",
              "      <th>title_status</th>\n",
              "      <th>manufacturer</th>\n",
              "      <th>model</th>\n",
              "      <th>condition</th>\n",
              "      <th>cylinders</th>\n",
              "      <th>fuel</th>\n",
              "      <th>odometer</th>\n",
              "      <th>transmission</th>\n",
              "      <th>drive</th>\n",
              "      <th>type</th>\n",
              "      <th>paint_color</th>\n",
              "      <th>date</th>\n",
              "    </tr>\n",
              "  </thead>\n",
              "  <tbody>\n",
              "    <tr>\n",
              "      <th>0</th>\n",
              "      <td>35990</td>\n",
              "      <td>auburn</td>\n",
              "      <td>al</td>\n",
              "      <td>32.590000</td>\n",
              "      <td>-85.480000</td>\n",
              "      <td>2010.0</td>\n",
              "      <td>clean</td>\n",
              "      <td>chevrolet</td>\n",
              "      <td>corvette grand sport</td>\n",
              "      <td>good</td>\n",
              "      <td>8 cylinders</td>\n",
              "      <td>gas</td>\n",
              "      <td>32742.0</td>\n",
              "      <td>other</td>\n",
              "      <td>rwd</td>\n",
              "      <td>other</td>\n",
              "      <td>not specified</td>\n",
              "      <td>2020-12-02 14:11:30+00:00</td>\n",
              "    </tr>\n",
              "    <tr>\n",
              "      <th>1</th>\n",
              "      <td>7500</td>\n",
              "      <td>auburn</td>\n",
              "      <td>al</td>\n",
              "      <td>32.547500</td>\n",
              "      <td>-85.468200</td>\n",
              "      <td>2014.0</td>\n",
              "      <td>clean</td>\n",
              "      <td>hyundai</td>\n",
              "      <td>sonata</td>\n",
              "      <td>excellent</td>\n",
              "      <td>4 cylinders</td>\n",
              "      <td>gas</td>\n",
              "      <td>93600.0</td>\n",
              "      <td>automatic</td>\n",
              "      <td>fwd</td>\n",
              "      <td>sedan</td>\n",
              "      <td>not specified</td>\n",
              "      <td>2020-12-02 08:11:50+00:00</td>\n",
              "    </tr>\n",
              "    <tr>\n",
              "      <th>2</th>\n",
              "      <td>4900</td>\n",
              "      <td>auburn</td>\n",
              "      <td>al</td>\n",
              "      <td>32.616807</td>\n",
              "      <td>-85.464149</td>\n",
              "      <td>2006.0</td>\n",
              "      <td>clean</td>\n",
              "      <td>bmw</td>\n",
              "      <td>x3 3.0i</td>\n",
              "      <td>good</td>\n",
              "      <td>6 cylinders</td>\n",
              "      <td>gas</td>\n",
              "      <td>87046.0</td>\n",
              "      <td>automatic</td>\n",
              "      <td>not specified</td>\n",
              "      <td>SUV</td>\n",
              "      <td>blue</td>\n",
              "      <td>2020-12-02 01:50:41+00:00</td>\n",
              "    </tr>\n",
              "    <tr>\n",
              "      <th>3</th>\n",
              "      <td>2000</td>\n",
              "      <td>auburn</td>\n",
              "      <td>al</td>\n",
              "      <td>32.861600</td>\n",
              "      <td>-85.216100</td>\n",
              "      <td>1974.0</td>\n",
              "      <td>clean</td>\n",
              "      <td>chevrolet</td>\n",
              "      <td>c-10</td>\n",
              "      <td>good</td>\n",
              "      <td>4 cylinders</td>\n",
              "      <td>gas</td>\n",
              "      <td>190000.0</td>\n",
              "      <td>automatic</td>\n",
              "      <td>rwd</td>\n",
              "      <td>pickup</td>\n",
              "      <td>blue</td>\n",
              "      <td>2020-12-01 21:54:45+00:00</td>\n",
              "    </tr>\n",
              "    <tr>\n",
              "      <th>5</th>\n",
              "      <td>29590</td>\n",
              "      <td>auburn</td>\n",
              "      <td>al</td>\n",
              "      <td>32.590000</td>\n",
              "      <td>-85.480000</td>\n",
              "      <td>2016.0</td>\n",
              "      <td>clean</td>\n",
              "      <td>toyota</td>\n",
              "      <td>tacoma double cab sr5</td>\n",
              "      <td>good</td>\n",
              "      <td>6 cylinders</td>\n",
              "      <td>gas</td>\n",
              "      <td>33290.0</td>\n",
              "      <td>other</td>\n",
              "      <td>not specified</td>\n",
              "      <td>pickup</td>\n",
              "      <td>red</td>\n",
              "      <td>2020-12-01 13:27:25+00:00</td>\n",
              "    </tr>\n",
              "  </tbody>\n",
              "</table>\n",
              "</div>"
            ],
            "text/plain": [
              "   price  region state  ...    type    paint_color                      date\n",
              "0  35990  auburn    al  ...   other  not specified 2020-12-02 14:11:30+00:00\n",
              "1   7500  auburn    al  ...   sedan  not specified 2020-12-02 08:11:50+00:00\n",
              "2   4900  auburn    al  ...     SUV           blue 2020-12-02 01:50:41+00:00\n",
              "3   2000  auburn    al  ...  pickup           blue 2020-12-01 21:54:45+00:00\n",
              "5  29590  auburn    al  ...  pickup            red 2020-12-01 13:27:25+00:00\n",
              "\n",
              "[5 rows x 18 columns]"
            ]
          },
          "metadata": {
            "tags": []
          },
          "execution_count": 25
        }
      ]
    },
    {
      "cell_type": "code",
      "metadata": {
        "id": "tdnTJjFUoa_c",
        "colab": {
          "base_uri": "https://localhost:8080/",
          "height": 0
        },
        "outputId": "8700b349-9a2a-48c9-ce5a-e8e4d0ad91b0"
      },
      "source": [
        "# Start clearning the model column. Only take the first word of the model input to feed into the model\n",
        "df_final['car_model'] = df_final['model'].str.lower().str.strip()"
      ],
      "execution_count": 26,
      "outputs": [
        {
          "output_type": "stream",
          "text": [
            "/usr/local/lib/python3.7/dist-packages/ipykernel_launcher.py:2: SettingWithCopyWarning: \n",
            "A value is trying to be set on a copy of a slice from a DataFrame.\n",
            "Try using .loc[row_indexer,col_indexer] = value instead\n",
            "\n",
            "See the caveats in the documentation: https://pandas.pydata.org/pandas-docs/stable/user_guide/indexing.html#returning-a-view-versus-a-copy\n",
            "  \n"
          ],
          "name": "stderr"
        }
      ]
    },
    {
      "cell_type": "code",
      "metadata": {
        "colab": {
          "base_uri": "https://localhost:8080/",
          "height": 0
        },
        "id": "bSflu6GbOvHw",
        "outputId": "be1199f7-3d9a-4dff-a253-530f8a0ca81b"
      },
      "source": [
        "df_final['car_model'] = df_final['model'].str.split(n=1, expand=True)"
      ],
      "execution_count": 27,
      "outputs": [
        {
          "output_type": "stream",
          "text": [
            "/usr/local/lib/python3.7/dist-packages/ipykernel_launcher.py:1: SettingWithCopyWarning: \n",
            "A value is trying to be set on a copy of a slice from a DataFrame.\n",
            "Try using .loc[row_indexer,col_indexer] = value instead\n",
            "\n",
            "See the caveats in the documentation: https://pandas.pydata.org/pandas-docs/stable/user_guide/indexing.html#returning-a-view-versus-a-copy\n",
            "  \"\"\"Entry point for launching an IPython kernel.\n"
          ],
          "name": "stderr"
        }
      ]
    },
    {
      "cell_type": "code",
      "metadata": {
        "colab": {
          "base_uri": "https://localhost:8080/",
          "height": 0
        },
        "id": "bwDor904OHBW",
        "outputId": "6a817c27-4efd-4a4e-8f1d-abb8b33afd09"
      },
      "source": [
        "df_final['car_model'] = df_final['car_model'].str.replace('[{}]'.format(string.punctuation), '')"
      ],
      "execution_count": 28,
      "outputs": [
        {
          "output_type": "stream",
          "text": [
            "/usr/local/lib/python3.7/dist-packages/ipykernel_launcher.py:1: SettingWithCopyWarning: \n",
            "A value is trying to be set on a copy of a slice from a DataFrame.\n",
            "Try using .loc[row_indexer,col_indexer] = value instead\n",
            "\n",
            "See the caveats in the documentation: https://pandas.pydata.org/pandas-docs/stable/user_guide/indexing.html#returning-a-view-versus-a-copy\n",
            "  \"\"\"Entry point for launching an IPython kernel.\n"
          ],
          "name": "stderr"
        }
      ]
    },
    {
      "cell_type": "code",
      "metadata": {
        "colab": {
          "base_uri": "https://localhost:8080/",
          "height": 336
        },
        "id": "cw-t_i51OPBv",
        "outputId": "8ebc64cb-4d6c-4c44-824d-1ea69a004822"
      },
      "source": [
        "df_final.head()"
      ],
      "execution_count": 29,
      "outputs": [
        {
          "output_type": "execute_result",
          "data": {
            "text/html": [
              "<div>\n",
              "<style scoped>\n",
              "    .dataframe tbody tr th:only-of-type {\n",
              "        vertical-align: middle;\n",
              "    }\n",
              "\n",
              "    .dataframe tbody tr th {\n",
              "        vertical-align: top;\n",
              "    }\n",
              "\n",
              "    .dataframe thead th {\n",
              "        text-align: right;\n",
              "    }\n",
              "</style>\n",
              "<table border=\"1\" class=\"dataframe\">\n",
              "  <thead>\n",
              "    <tr style=\"text-align: right;\">\n",
              "      <th></th>\n",
              "      <th>price</th>\n",
              "      <th>region</th>\n",
              "      <th>state</th>\n",
              "      <th>lat</th>\n",
              "      <th>long</th>\n",
              "      <th>year</th>\n",
              "      <th>title_status</th>\n",
              "      <th>manufacturer</th>\n",
              "      <th>model</th>\n",
              "      <th>condition</th>\n",
              "      <th>cylinders</th>\n",
              "      <th>fuel</th>\n",
              "      <th>odometer</th>\n",
              "      <th>transmission</th>\n",
              "      <th>drive</th>\n",
              "      <th>type</th>\n",
              "      <th>paint_color</th>\n",
              "      <th>date</th>\n",
              "      <th>car_model</th>\n",
              "    </tr>\n",
              "  </thead>\n",
              "  <tbody>\n",
              "    <tr>\n",
              "      <th>0</th>\n",
              "      <td>35990</td>\n",
              "      <td>auburn</td>\n",
              "      <td>al</td>\n",
              "      <td>32.590000</td>\n",
              "      <td>-85.480000</td>\n",
              "      <td>2010.0</td>\n",
              "      <td>clean</td>\n",
              "      <td>chevrolet</td>\n",
              "      <td>corvette grand sport</td>\n",
              "      <td>good</td>\n",
              "      <td>8 cylinders</td>\n",
              "      <td>gas</td>\n",
              "      <td>32742.0</td>\n",
              "      <td>other</td>\n",
              "      <td>rwd</td>\n",
              "      <td>other</td>\n",
              "      <td>not specified</td>\n",
              "      <td>2020-12-02 14:11:30+00:00</td>\n",
              "      <td>corvette</td>\n",
              "    </tr>\n",
              "    <tr>\n",
              "      <th>1</th>\n",
              "      <td>7500</td>\n",
              "      <td>auburn</td>\n",
              "      <td>al</td>\n",
              "      <td>32.547500</td>\n",
              "      <td>-85.468200</td>\n",
              "      <td>2014.0</td>\n",
              "      <td>clean</td>\n",
              "      <td>hyundai</td>\n",
              "      <td>sonata</td>\n",
              "      <td>excellent</td>\n",
              "      <td>4 cylinders</td>\n",
              "      <td>gas</td>\n",
              "      <td>93600.0</td>\n",
              "      <td>automatic</td>\n",
              "      <td>fwd</td>\n",
              "      <td>sedan</td>\n",
              "      <td>not specified</td>\n",
              "      <td>2020-12-02 08:11:50+00:00</td>\n",
              "      <td>sonata</td>\n",
              "    </tr>\n",
              "    <tr>\n",
              "      <th>2</th>\n",
              "      <td>4900</td>\n",
              "      <td>auburn</td>\n",
              "      <td>al</td>\n",
              "      <td>32.616807</td>\n",
              "      <td>-85.464149</td>\n",
              "      <td>2006.0</td>\n",
              "      <td>clean</td>\n",
              "      <td>bmw</td>\n",
              "      <td>x3 3.0i</td>\n",
              "      <td>good</td>\n",
              "      <td>6 cylinders</td>\n",
              "      <td>gas</td>\n",
              "      <td>87046.0</td>\n",
              "      <td>automatic</td>\n",
              "      <td>not specified</td>\n",
              "      <td>SUV</td>\n",
              "      <td>blue</td>\n",
              "      <td>2020-12-02 01:50:41+00:00</td>\n",
              "      <td>x3</td>\n",
              "    </tr>\n",
              "    <tr>\n",
              "      <th>3</th>\n",
              "      <td>2000</td>\n",
              "      <td>auburn</td>\n",
              "      <td>al</td>\n",
              "      <td>32.861600</td>\n",
              "      <td>-85.216100</td>\n",
              "      <td>1974.0</td>\n",
              "      <td>clean</td>\n",
              "      <td>chevrolet</td>\n",
              "      <td>c-10</td>\n",
              "      <td>good</td>\n",
              "      <td>4 cylinders</td>\n",
              "      <td>gas</td>\n",
              "      <td>190000.0</td>\n",
              "      <td>automatic</td>\n",
              "      <td>rwd</td>\n",
              "      <td>pickup</td>\n",
              "      <td>blue</td>\n",
              "      <td>2020-12-01 21:54:45+00:00</td>\n",
              "      <td>c10</td>\n",
              "    </tr>\n",
              "    <tr>\n",
              "      <th>5</th>\n",
              "      <td>29590</td>\n",
              "      <td>auburn</td>\n",
              "      <td>al</td>\n",
              "      <td>32.590000</td>\n",
              "      <td>-85.480000</td>\n",
              "      <td>2016.0</td>\n",
              "      <td>clean</td>\n",
              "      <td>toyota</td>\n",
              "      <td>tacoma double cab sr5</td>\n",
              "      <td>good</td>\n",
              "      <td>6 cylinders</td>\n",
              "      <td>gas</td>\n",
              "      <td>33290.0</td>\n",
              "      <td>other</td>\n",
              "      <td>not specified</td>\n",
              "      <td>pickup</td>\n",
              "      <td>red</td>\n",
              "      <td>2020-12-01 13:27:25+00:00</td>\n",
              "      <td>tacoma</td>\n",
              "    </tr>\n",
              "  </tbody>\n",
              "</table>\n",
              "</div>"
            ],
            "text/plain": [
              "   price  region state  ...    paint_color                      date  car_model\n",
              "0  35990  auburn    al  ...  not specified 2020-12-02 14:11:30+00:00   corvette\n",
              "1   7500  auburn    al  ...  not specified 2020-12-02 08:11:50+00:00     sonata\n",
              "2   4900  auburn    al  ...           blue 2020-12-02 01:50:41+00:00         x3\n",
              "3   2000  auburn    al  ...           blue 2020-12-01 21:54:45+00:00        c10\n",
              "5  29590  auburn    al  ...            red 2020-12-01 13:27:25+00:00     tacoma\n",
              "\n",
              "[5 rows x 19 columns]"
            ]
          },
          "metadata": {
            "tags": []
          },
          "execution_count": 29
        }
      ]
    },
    {
      "cell_type": "code",
      "metadata": {
        "colab": {
          "base_uri": "https://localhost:8080/",
          "height": 0
        },
        "id": "b3L9tj5xgn6s",
        "outputId": "fecc7a1c-d176-4bf8-83fb-960527967798"
      },
      "source": [
        "df_final['car_model'].nunique()"
      ],
      "execution_count": 30,
      "outputs": [
        {
          "output_type": "execute_result",
          "data": {
            "text/plain": [
              "2530"
            ]
          },
          "metadata": {
            "tags": []
          },
          "execution_count": 30
        }
      ]
    },
    {
      "cell_type": "code",
      "metadata": {
        "colab": {
          "base_uri": "https://localhost:8080/",
          "height": 0
        },
        "id": "F2GMdi2fPo9r",
        "outputId": "e5eebf28-7a6b-49fe-f2e3-da6d2ea4a2ed"
      },
      "source": [
        "len(df_final)"
      ],
      "execution_count": 31,
      "outputs": [
        {
          "output_type": "execute_result",
          "data": {
            "text/plain": [
              "373924"
            ]
          },
          "metadata": {
            "tags": []
          },
          "execution_count": 31
        }
      ]
    },
    {
      "cell_type": "code",
      "metadata": {
        "id": "9j17o9mHhbn8"
      },
      "source": [
        "df_bymodel = df_final.groupby('car_model').count()"
      ],
      "execution_count": 32,
      "outputs": []
    },
    {
      "cell_type": "code",
      "metadata": {
        "colab": {
          "base_uri": "https://localhost:8080/",
          "height": 435
        },
        "id": "UGIwis6YkTYm",
        "outputId": "1efcf4ee-2403-4104-c225-8167fe9a8a59"
      },
      "source": [
        "test = pd.DataFrame(data=df_bymodel['price'])\n",
        "test_sort = test.sort_values('price', ascending=True)\n",
        "test_sort[test_sort['price'] < 10]"
      ],
      "execution_count": 33,
      "outputs": [
        {
          "output_type": "execute_result",
          "data": {
            "text/html": [
              "<div>\n",
              "<style scoped>\n",
              "    .dataframe tbody tr th:only-of-type {\n",
              "        vertical-align: middle;\n",
              "    }\n",
              "\n",
              "    .dataframe tbody tr th {\n",
              "        vertical-align: top;\n",
              "    }\n",
              "\n",
              "    .dataframe thead th {\n",
              "        text-align: right;\n",
              "    }\n",
              "</style>\n",
              "<table border=\"1\" class=\"dataframe\">\n",
              "  <thead>\n",
              "    <tr style=\"text-align: right;\">\n",
              "      <th></th>\n",
              "      <th>price</th>\n",
              "    </tr>\n",
              "    <tr>\n",
              "      <th>car_model</th>\n",
              "      <th></th>\n",
              "    </tr>\n",
              "  </thead>\n",
              "  <tbody>\n",
              "    <tr>\n",
              "      <th>‘04</th>\n",
              "      <td>1</td>\n",
              "    </tr>\n",
              "    <tr>\n",
              "      <th>endeaver</th>\n",
              "      <td>1</td>\n",
              "    </tr>\n",
              "    <tr>\n",
              "      <th>siana</th>\n",
              "      <td>1</td>\n",
              "    </tr>\n",
              "    <tr>\n",
              "      <th>sidekick</th>\n",
              "      <td>1</td>\n",
              "    </tr>\n",
              "    <tr>\n",
              "      <th>enclav</th>\n",
              "      <td>1</td>\n",
              "    </tr>\n",
              "    <tr>\n",
              "      <th>...</th>\n",
              "      <td>...</td>\n",
              "    </tr>\n",
              "    <tr>\n",
              "      <th>240sx</th>\n",
              "      <td>9</td>\n",
              "    </tr>\n",
              "    <tr>\n",
              "      <th>reatta</th>\n",
              "      <td>9</td>\n",
              "    </tr>\n",
              "    <tr>\n",
              "      <th>550</th>\n",
              "      <td>9</td>\n",
              "    </tr>\n",
              "    <tr>\n",
              "      <th>protege5</th>\n",
              "      <td>9</td>\n",
              "    </tr>\n",
              "    <tr>\n",
              "      <th>gx460</th>\n",
              "      <td>9</td>\n",
              "    </tr>\n",
              "  </tbody>\n",
              "</table>\n",
              "<p>1672 rows × 1 columns</p>\n",
              "</div>"
            ],
            "text/plain": [
              "           price\n",
              "car_model       \n",
              "‘04            1\n",
              "endeaver       1\n",
              "siana          1\n",
              "sidekick       1\n",
              "enclav         1\n",
              "...          ...\n",
              "240sx          9\n",
              "reatta         9\n",
              "550            9\n",
              "protege5       9\n",
              "gx460          9\n",
              "\n",
              "[1672 rows x 1 columns]"
            ]
          },
          "metadata": {
            "tags": []
          },
          "execution_count": 33
        }
      ]
    },
    {
      "cell_type": "code",
      "metadata": {
        "id": "GnET3AhSIwTK"
      },
      "source": [
        "# Filter car models with more than 10 inputs\n",
        "df_final_filter = df_final.groupby('car_model').filter(lambda x: len(x) > 100)"
      ],
      "execution_count": 34,
      "outputs": []
    },
    {
      "cell_type": "code",
      "metadata": {
        "colab": {
          "base_uri": "https://localhost:8080/",
          "height": 0
        },
        "id": "vuthsNfRQeFY",
        "outputId": "9f0f1399-1ba6-4501-efe1-d2a181bd932d"
      },
      "source": [
        "len(df_final_filter)"
      ],
      "execution_count": 35,
      "outputs": [
        {
          "output_type": "execute_result",
          "data": {
            "text/plain": [
              "352431"
            ]
          },
          "metadata": {
            "tags": []
          },
          "execution_count": 35
        }
      ]
    },
    {
      "cell_type": "code",
      "metadata": {
        "colab": {
          "base_uri": "https://localhost:8080/",
          "height": 0
        },
        "id": "wiu2lMcQQfny",
        "outputId": "d92ba494-8e1e-477d-fcd9-1f58f295161b"
      },
      "source": [
        "# Number of inputs removed\n",
        "removed = len(df_final) - len(df_final_filter)\n",
        "removed_perc = round(removed / len(df_final) *100,2)\n",
        "\n",
        "print(removed)\n",
        "print(f'% removed {removed_perc}%')"
      ],
      "execution_count": 36,
      "outputs": [
        {
          "output_type": "stream",
          "text": [
            "21493\n",
            "% removed 5.75%\n"
          ],
          "name": "stdout"
        }
      ]
    },
    {
      "cell_type": "code",
      "metadata": {
        "colab": {
          "base_uri": "https://localhost:8080/",
          "height": 0
        },
        "id": "wNkmkhpJQmN7",
        "outputId": "20afcdd9-de5f-49c5-e177-3411c029d7f3"
      },
      "source": [
        "# Remove lower frequency car_model input values\n",
        "print('Original car model unique inputs:', len(df['model'].value_counts()))\n",
        "print('-------------------------------------------------------------------------')\n",
        "print('Final car model unique inputs:', len(df_final['car_model'].value_counts()))\n",
        "print('-------------------------------------------------------------------------')\n",
        "print('Final car model unique inputs after filter:', len(df_final_filter['car_model'].value_counts()))"
      ],
      "execution_count": 37,
      "outputs": [
        {
          "output_type": "stream",
          "text": [
            "Original car model unique inputs: 31520\n",
            "-------------------------------------------------------------------------\n",
            "Final car model unique inputs: 2530\n",
            "-------------------------------------------------------------------------\n",
            "Final car model unique inputs after filter: 351\n"
          ],
          "name": "stdout"
        }
      ]
    },
    {
      "cell_type": "code",
      "metadata": {
        "id": "1aNh9lfybm0Q"
      },
      "source": [
        "# Filter car price range from 0 - $500,000\n",
        "df_final_filter = df_final[((df_final['price'] > 100) & (df_final['price'] <= 200000)) & ((df_final['odometer'] > 10 ) & (df_final['odometer'] <= 200000))]"
      ],
      "execution_count": 38,
      "outputs": []
    },
    {
      "cell_type": "code",
      "metadata": {
        "colab": {
          "base_uri": "https://localhost:8080/",
          "height": 0
        },
        "id": "Om2J4jp7b0Te",
        "outputId": "750cd71d-38ff-4b60-9399-55f5a71ef0cc"
      },
      "source": [
        "# Remove lower frequency car_model input values\n",
        "print('Original car model unique inputs:', len(df_final['price'].value_counts()))\n",
        "\n",
        "print('-------------------------------------------------------------------------')\n",
        "print('Final car model unique inputs after filter:', len(df_final_filter['price'].value_counts()))"
      ],
      "execution_count": 39,
      "outputs": [
        {
          "output_type": "stream",
          "text": [
            "Original car model unique inputs: 15981\n",
            "-------------------------------------------------------------------------\n",
            "Final car model unique inputs after filter: 15489\n"
          ],
          "name": "stdout"
        }
      ]
    },
    {
      "cell_type": "code",
      "metadata": {
        "colab": {
          "base_uri": "https://localhost:8080/",
          "height": 536
        },
        "id": "62_O9JR-ayYp",
        "outputId": "1aea59ff-369e-4485-edca-f92b7a916c52"
      },
      "source": [
        "# Plot car price to identify outliers\n",
        "plt.figure(figsize=(25,10))\n",
        "sns.boxplot(x='manufacturer'  , y='price'  , data=df_final_filter)\n",
        "plt.xticks(rotation=90)"
      ],
      "execution_count": 40,
      "outputs": [
        {
          "output_type": "execute_result",
          "data": {
            "text/plain": [
              "(array([ 0,  1,  2,  3,  4,  5,  6,  7,  8,  9, 10, 11, 12, 13, 14, 15, 16,\n",
              "        17, 18, 19, 20, 21, 22, 23, 24, 25, 26, 27, 28, 29, 30, 31, 32, 33,\n",
              "        34, 35, 36, 37, 38, 39, 40, 41]),\n",
              " <a list of 42 Text major ticklabel objects>)"
            ]
          },
          "metadata": {
            "tags": []
          },
          "execution_count": 40
        },
        {
          "output_type": "display_data",
          "data": {
            "image/png": "[encoded data removed]",
            "text/plain": [
              "<Figure size 1800x720 with 1 Axes>"
            ]
          },
          "metadata": {
            "tags": [],
            "needs_background": "light"
          }
        }
      ]
    },
    {
      "cell_type": "code",
      "metadata": {
        "colab": {
          "base_uri": "https://localhost:8080/",
          "height": 536
        },
        "id": "uQ4E4y0jUBGP",
        "outputId": "2250924a-4593-4c1c-91aa-5caa4c91fbd6"
      },
      "source": [
        "plt.figure(figsize=(25,10))\n",
        "sns.boxplot(x='manufacturer'  , y='odometer'  , data=df_final_filter)\n",
        "plt.xticks(rotation=90)"
      ],
      "execution_count": 41,
      "outputs": [
        {
          "output_type": "execute_result",
          "data": {
            "text/plain": [
              "(array([ 0,  1,  2,  3,  4,  5,  6,  7,  8,  9, 10, 11, 12, 13, 14, 15, 16,\n",
              "        17, 18, 19, 20, 21, 22, 23, 24, 25, 26, 27, 28, 29, 30, 31, 32, 33,\n",
              "        34, 35, 36, 37, 38, 39, 40, 41]),\n",
              " <a list of 42 Text major ticklabel objects>)"
            ]
          },
          "metadata": {
            "tags": []
          },
          "execution_count": 41
        },
        {
          "output_type": "display_data",
          "data": {
            "image/png": "[encoded data removed]",
            "text/plain": [
              "<Figure size 1800x720 with 1 Axes>"
            ]
          },
          "metadata": {
            "tags": [],
            "needs_background": "light"
          }
        }
      ]
    },
    {
      "cell_type": "code",
      "metadata": {
        "colab": {
          "base_uri": "https://localhost:8080/",
          "height": 332
        },
        "id": "sbzC__eKiEme",
        "outputId": "a61f1eca-315c-44e8-d535-87c0333db94a"
      },
      "source": [
        "resample_day = df_final_filter.set_index('date')\n",
        "df_day = resample_day.resample('D').count()\n",
        "df_day.plot(y='price')"
      ],
      "execution_count": 42,
      "outputs": [
        {
          "output_type": "execute_result",
          "data": {
            "text/plain": [
              "<matplotlib.axes._subplots.AxesSubplot at 0x7fb9e31eed90>"
            ]
          },
          "metadata": {
            "tags": []
          },
          "execution_count": 42
        },
        {
          "output_type": "display_data",
          "data": {
            "image/png": "[encoded data removed]",
            "text/plain": [
              "<Figure size 432x288 with 1 Axes>"
            ]
          },
          "metadata": {
            "tags": [],
            "needs_background": "light"
          }
        }
      ]
    },
    {
      "cell_type": "code",
      "metadata": {
        "colab": {
          "base_uri": "https://localhost:8080/",
          "height": 541
        },
        "id": "X2iKSAxVxm87",
        "outputId": "53f2ebe4-c574-4d01-f627-7f3ed7a02a2d"
      },
      "source": [
        "# Finally, convert 'cylinder' column from categorical to numerical by stripping out just the 1st character\n",
        "df_final_filter['cylinders'] = df_final_filter['cylinders'].str.strip()\n",
        "df_final_filter['cylinders'] = df_final_filter['cylinders'].str.split(n=1, expand=True)\n",
        "df_final_filter.head()"
      ],
      "execution_count": 43,
      "outputs": [
        {
          "output_type": "stream",
          "text": [
            "/usr/local/lib/python3.7/dist-packages/ipykernel_launcher.py:2: SettingWithCopyWarning: \n",
            "A value is trying to be set on a copy of a slice from a DataFrame.\n",
            "Try using .loc[row_indexer,col_indexer] = value instead\n",
            "\n",
            "See the caveats in the documentation: https://pandas.pydata.org/pandas-docs/stable/user_guide/indexing.html#returning-a-view-versus-a-copy\n",
            "  \n",
            "/usr/local/lib/python3.7/dist-packages/ipykernel_launcher.py:3: SettingWithCopyWarning: \n",
            "A value is trying to be set on a copy of a slice from a DataFrame.\n",
            "Try using .loc[row_indexer,col_indexer] = value instead\n",
            "\n",
            "See the caveats in the documentation: https://pandas.pydata.org/pandas-docs/stable/user_guide/indexing.html#returning-a-view-versus-a-copy\n",
            "  This is separate from the ipykernel package so we can avoid doing imports until\n"
          ],
          "name": "stderr"
        },
        {
          "output_type": "execute_result",
          "data": {
            "text/html": [
              "<div>\n",
              "<style scoped>\n",
              "    .dataframe tbody tr th:only-of-type {\n",
              "        vertical-align: middle;\n",
              "    }\n",
              "\n",
              "    .dataframe tbody tr th {\n",
              "        vertical-align: top;\n",
              "    }\n",
              "\n",
              "    .dataframe thead th {\n",
              "        text-align: right;\n",
              "    }\n",
              "</style>\n",
              "<table border=\"1\" class=\"dataframe\">\n",
              "  <thead>\n",
              "    <tr style=\"text-align: right;\">\n",
              "      <th></th>\n",
              "      <th>price</th>\n",
              "      <th>region</th>\n",
              "      <th>state</th>\n",
              "      <th>lat</th>\n",
              "      <th>long</th>\n",
              "      <th>year</th>\n",
              "      <th>title_status</th>\n",
              "      <th>manufacturer</th>\n",
              "      <th>model</th>\n",
              "      <th>condition</th>\n",
              "      <th>cylinders</th>\n",
              "      <th>fuel</th>\n",
              "      <th>odometer</th>\n",
              "      <th>transmission</th>\n",
              "      <th>drive</th>\n",
              "      <th>type</th>\n",
              "      <th>paint_color</th>\n",
              "      <th>date</th>\n",
              "      <th>car_model</th>\n",
              "    </tr>\n",
              "  </thead>\n",
              "  <tbody>\n",
              "    <tr>\n",
              "      <th>0</th>\n",
              "      <td>35990</td>\n",
              "      <td>auburn</td>\n",
              "      <td>al</td>\n",
              "      <td>32.590000</td>\n",
              "      <td>-85.480000</td>\n",
              "      <td>2010.0</td>\n",
              "      <td>clean</td>\n",
              "      <td>chevrolet</td>\n",
              "      <td>corvette grand sport</td>\n",
              "      <td>good</td>\n",
              "      <td>8</td>\n",
              "      <td>gas</td>\n",
              "      <td>32742.0</td>\n",
              "      <td>other</td>\n",
              "      <td>rwd</td>\n",
              "      <td>other</td>\n",
              "      <td>not specified</td>\n",
              "      <td>2020-12-02 14:11:30+00:00</td>\n",
              "      <td>corvette</td>\n",
              "    </tr>\n",
              "    <tr>\n",
              "      <th>1</th>\n",
              "      <td>7500</td>\n",
              "      <td>auburn</td>\n",
              "      <td>al</td>\n",
              "      <td>32.547500</td>\n",
              "      <td>-85.468200</td>\n",
              "      <td>2014.0</td>\n",
              "      <td>clean</td>\n",
              "      <td>hyundai</td>\n",
              "      <td>sonata</td>\n",
              "      <td>excellent</td>\n",
              "      <td>4</td>\n",
              "      <td>gas</td>\n",
              "      <td>93600.0</td>\n",
              "      <td>automatic</td>\n",
              "      <td>fwd</td>\n",
              "      <td>sedan</td>\n",
              "      <td>not specified</td>\n",
              "      <td>2020-12-02 08:11:50+00:00</td>\n",
              "      <td>sonata</td>\n",
              "    </tr>\n",
              "    <tr>\n",
              "      <th>2</th>\n",
              "      <td>4900</td>\n",
              "      <td>auburn</td>\n",
              "      <td>al</td>\n",
              "      <td>32.616807</td>\n",
              "      <td>-85.464149</td>\n",
              "      <td>2006.0</td>\n",
              "      <td>clean</td>\n",
              "      <td>bmw</td>\n",
              "      <td>x3 3.0i</td>\n",
              "      <td>good</td>\n",
              "      <td>6</td>\n",
              "      <td>gas</td>\n",
              "      <td>87046.0</td>\n",
              "      <td>automatic</td>\n",
              "      <td>not specified</td>\n",
              "      <td>SUV</td>\n",
              "      <td>blue</td>\n",
              "      <td>2020-12-02 01:50:41+00:00</td>\n",
              "      <td>x3</td>\n",
              "    </tr>\n",
              "    <tr>\n",
              "      <th>3</th>\n",
              "      <td>2000</td>\n",
              "      <td>auburn</td>\n",
              "      <td>al</td>\n",
              "      <td>32.861600</td>\n",
              "      <td>-85.216100</td>\n",
              "      <td>1974.0</td>\n",
              "      <td>clean</td>\n",
              "      <td>chevrolet</td>\n",
              "      <td>c-10</td>\n",
              "      <td>good</td>\n",
              "      <td>4</td>\n",
              "      <td>gas</td>\n",
              "      <td>190000.0</td>\n",
              "      <td>automatic</td>\n",
              "      <td>rwd</td>\n",
              "      <td>pickup</td>\n",
              "      <td>blue</td>\n",
              "      <td>2020-12-01 21:54:45+00:00</td>\n",
              "      <td>c10</td>\n",
              "    </tr>\n",
              "    <tr>\n",
              "      <th>5</th>\n",
              "      <td>29590</td>\n",
              "      <td>auburn</td>\n",
              "      <td>al</td>\n",
              "      <td>32.590000</td>\n",
              "      <td>-85.480000</td>\n",
              "      <td>2016.0</td>\n",
              "      <td>clean</td>\n",
              "      <td>toyota</td>\n",
              "      <td>tacoma double cab sr5</td>\n",
              "      <td>good</td>\n",
              "      <td>6</td>\n",
              "      <td>gas</td>\n",
              "      <td>33290.0</td>\n",
              "      <td>other</td>\n",
              "      <td>not specified</td>\n",
              "      <td>pickup</td>\n",
              "      <td>red</td>\n",
              "      <td>2020-12-01 13:27:25+00:00</td>\n",
              "      <td>tacoma</td>\n",
              "    </tr>\n",
              "  </tbody>\n",
              "</table>\n",
              "</div>"
            ],
            "text/plain": [
              "   price  region state  ...    paint_color                      date  car_model\n",
              "0  35990  auburn    al  ...  not specified 2020-12-02 14:11:30+00:00   corvette\n",
              "1   7500  auburn    al  ...  not specified 2020-12-02 08:11:50+00:00     sonata\n",
              "2   4900  auburn    al  ...           blue 2020-12-02 01:50:41+00:00         x3\n",
              "3   2000  auburn    al  ...           blue 2020-12-01 21:54:45+00:00        c10\n",
              "5  29590  auburn    al  ...            red 2020-12-01 13:27:25+00:00     tacoma\n",
              "\n",
              "[5 rows x 19 columns]"
            ]
          },
          "metadata": {
            "tags": []
          },
          "execution_count": 43
        }
      ]
    },
    {
      "cell_type": "code",
      "metadata": {
        "colab": {
          "base_uri": "https://localhost:8080/",
          "height": 0
        },
        "id": "xes10hp501xU",
        "outputId": "955186c2-55e3-4082-e26c-2596c660d7f4"
      },
      "source": [
        "df_final_filter.cylinders = pd.to_numeric(df_final_filter.cylinders, errors='coerce').astype('Int64')"
      ],
      "execution_count": 44,
      "outputs": [
        {
          "output_type": "stream",
          "text": [
            "/usr/local/lib/python3.7/dist-packages/pandas/core/generic.py:5170: SettingWithCopyWarning: \n",
            "A value is trying to be set on a copy of a slice from a DataFrame.\n",
            "Try using .loc[row_indexer,col_indexer] = value instead\n",
            "\n",
            "See the caveats in the documentation: https://pandas.pydata.org/pandas-docs/stable/user_guide/indexing.html#returning-a-view-versus-a-copy\n",
            "  self[name] = value\n"
          ],
          "name": "stderr"
        }
      ]
    },
    {
      "cell_type": "code",
      "metadata": {
        "colab": {
          "base_uri": "https://localhost:8080/",
          "height": 0
        },
        "id": "qxg0Vq1Uyiwt",
        "outputId": "25c2e799-5a82-4a6f-a476-1c87576868d4"
      },
      "source": [
        "df_final_filter.dtypes"
      ],
      "execution_count": 45,
      "outputs": [
        {
          "output_type": "execute_result",
          "data": {
            "text/plain": [
              "price                         int64\n",
              "region                       object\n",
              "state                        object\n",
              "lat                         float64\n",
              "long                        float64\n",
              "year                        float64\n",
              "title_status                 object\n",
              "manufacturer                 object\n",
              "model                        object\n",
              "condition                    object\n",
              "cylinders                     Int64\n",
              "fuel                         object\n",
              "odometer                    float64\n",
              "transmission                 object\n",
              "drive                        object\n",
              "type                         object\n",
              "paint_color                  object\n",
              "date            datetime64[ns, UTC]\n",
              "car_model                    object\n",
              "dtype: object"
            ]
          },
          "metadata": {
            "tags": []
          },
          "execution_count": 45
        }
      ]
    },
    {
      "cell_type": "code",
      "metadata": {
        "id": "kLRN2REVVq15",
        "colab": {
          "base_uri": "https://localhost:8080/",
          "height": 625
        },
        "outputId": "2905cb12-6b7b-4fc7-dcc9-67273305c50f"
      },
      "source": [
        "model_df = df_final_filter[['date', 'price', 'manufacturer','car_model', 'year', 'title_status',  'condition', 'cylinders', 'fuel', 'odometer', 'transmission', 'drive', 'type', 'paint_color', 'region', 'state', 'lat', 'long' ]]\n",
        "model_df.set_index('date', inplace=True)\n",
        "\n",
        "model_df"
      ],
      "execution_count": 46,
      "outputs": [
        {
          "output_type": "execute_result",
          "data": {
            "text/html": [
              "<div>\n",
              "<style scoped>\n",
              "    .dataframe tbody tr th:only-of-type {\n",
              "        vertical-align: middle;\n",
              "    }\n",
              "\n",
              "    .dataframe tbody tr th {\n",
              "        vertical-align: top;\n",
              "    }\n",
              "\n",
              "    .dataframe thead th {\n",
              "        text-align: right;\n",
              "    }\n",
              "</style>\n",
              "<table border=\"1\" class=\"dataframe\">\n",
              "  <thead>\n",
              "    <tr style=\"text-align: right;\">\n",
              "      <th></th>\n",
              "      <th>price</th>\n",
              "      <th>manufacturer</th>\n",
              "      <th>car_model</th>\n",
              "      <th>year</th>\n",
              "      <th>title_status</th>\n",
              "      <th>condition</th>\n",
              "      <th>cylinders</th>\n",
              "      <th>fuel</th>\n",
              "      <th>odometer</th>\n",
              "      <th>transmission</th>\n",
              "      <th>drive</th>\n",
              "      <th>type</th>\n",
              "      <th>paint_color</th>\n",
              "      <th>region</th>\n",
              "      <th>state</th>\n",
              "      <th>lat</th>\n",
              "      <th>long</th>\n",
              "    </tr>\n",
              "    <tr>\n",
              "      <th>date</th>\n",
              "      <th></th>\n",
              "      <th></th>\n",
              "      <th></th>\n",
              "      <th></th>\n",
              "      <th></th>\n",
              "      <th></th>\n",
              "      <th></th>\n",
              "      <th></th>\n",
              "      <th></th>\n",
              "      <th></th>\n",
              "      <th></th>\n",
              "      <th></th>\n",
              "      <th></th>\n",
              "      <th></th>\n",
              "      <th></th>\n",
              "      <th></th>\n",
              "      <th></th>\n",
              "    </tr>\n",
              "  </thead>\n",
              "  <tbody>\n",
              "    <tr>\n",
              "      <th>2020-12-02 14:11:30+00:00</th>\n",
              "      <td>35990</td>\n",
              "      <td>chevrolet</td>\n",
              "      <td>corvette</td>\n",
              "      <td>2010.0</td>\n",
              "      <td>clean</td>\n",
              "      <td>good</td>\n",
              "      <td>8</td>\n",
              "      <td>gas</td>\n",
              "      <td>32742.0</td>\n",
              "      <td>other</td>\n",
              "      <td>rwd</td>\n",
              "      <td>other</td>\n",
              "      <td>not specified</td>\n",
              "      <td>auburn</td>\n",
              "      <td>al</td>\n",
              "      <td>32.590000</td>\n",
              "      <td>-85.480000</td>\n",
              "    </tr>\n",
              "    <tr>\n",
              "      <th>2020-12-02 08:11:50+00:00</th>\n",
              "      <td>7500</td>\n",
              "      <td>hyundai</td>\n",
              "      <td>sonata</td>\n",
              "      <td>2014.0</td>\n",
              "      <td>clean</td>\n",
              "      <td>excellent</td>\n",
              "      <td>4</td>\n",
              "      <td>gas</td>\n",
              "      <td>93600.0</td>\n",
              "      <td>automatic</td>\n",
              "      <td>fwd</td>\n",
              "      <td>sedan</td>\n",
              "      <td>not specified</td>\n",
              "      <td>auburn</td>\n",
              "      <td>al</td>\n",
              "      <td>32.547500</td>\n",
              "      <td>-85.468200</td>\n",
              "    </tr>\n",
              "    <tr>\n",
              "      <th>2020-12-02 01:50:41+00:00</th>\n",
              "      <td>4900</td>\n",
              "      <td>bmw</td>\n",
              "      <td>x3</td>\n",
              "      <td>2006.0</td>\n",
              "      <td>clean</td>\n",
              "      <td>good</td>\n",
              "      <td>6</td>\n",
              "      <td>gas</td>\n",
              "      <td>87046.0</td>\n",
              "      <td>automatic</td>\n",
              "      <td>not specified</td>\n",
              "      <td>SUV</td>\n",
              "      <td>blue</td>\n",
              "      <td>auburn</td>\n",
              "      <td>al</td>\n",
              "      <td>32.616807</td>\n",
              "      <td>-85.464149</td>\n",
              "    </tr>\n",
              "    <tr>\n",
              "      <th>2020-12-01 21:54:45+00:00</th>\n",
              "      <td>2000</td>\n",
              "      <td>chevrolet</td>\n",
              "      <td>c10</td>\n",
              "      <td>1974.0</td>\n",
              "      <td>clean</td>\n",
              "      <td>good</td>\n",
              "      <td>4</td>\n",
              "      <td>gas</td>\n",
              "      <td>190000.0</td>\n",
              "      <td>automatic</td>\n",
              "      <td>rwd</td>\n",
              "      <td>pickup</td>\n",
              "      <td>blue</td>\n",
              "      <td>auburn</td>\n",
              "      <td>al</td>\n",
              "      <td>32.861600</td>\n",
              "      <td>-85.216100</td>\n",
              "    </tr>\n",
              "    <tr>\n",
              "      <th>2020-12-01 13:27:25+00:00</th>\n",
              "      <td>29590</td>\n",
              "      <td>toyota</td>\n",
              "      <td>tacoma</td>\n",
              "      <td>2016.0</td>\n",
              "      <td>clean</td>\n",
              "      <td>good</td>\n",
              "      <td>6</td>\n",
              "      <td>gas</td>\n",
              "      <td>33290.0</td>\n",
              "      <td>other</td>\n",
              "      <td>not specified</td>\n",
              "      <td>pickup</td>\n",
              "      <td>red</td>\n",
              "      <td>auburn</td>\n",
              "      <td>al</td>\n",
              "      <td>32.590000</td>\n",
              "      <td>-85.480000</td>\n",
              "    </tr>\n",
              "    <tr>\n",
              "      <th>...</th>\n",
              "      <td>...</td>\n",
              "      <td>...</td>\n",
              "      <td>...</td>\n",
              "      <td>...</td>\n",
              "      <td>...</td>\n",
              "      <td>...</td>\n",
              "      <td>...</td>\n",
              "      <td>...</td>\n",
              "      <td>...</td>\n",
              "      <td>...</td>\n",
              "      <td>...</td>\n",
              "      <td>...</td>\n",
              "      <td>...</td>\n",
              "      <td>...</td>\n",
              "      <td>...</td>\n",
              "      <td>...</td>\n",
              "      <td>...</td>\n",
              "    </tr>\n",
              "    <tr>\n",
              "      <th>2020-12-03 15:06:21+00:00</th>\n",
              "      <td>19950</td>\n",
              "      <td>audi</td>\n",
              "      <td>a4</td>\n",
              "      <td>2017.0</td>\n",
              "      <td>clean</td>\n",
              "      <td>not specified</td>\n",
              "      <td>&lt;NA&gt;</td>\n",
              "      <td>gas</td>\n",
              "      <td>101270.0</td>\n",
              "      <td>automatic</td>\n",
              "      <td>not specified</td>\n",
              "      <td>other</td>\n",
              "      <td>not specified</td>\n",
              "      <td>wausau</td>\n",
              "      <td>wi</td>\n",
              "      <td>44.843195</td>\n",
              "      <td>-91.550371</td>\n",
              "    </tr>\n",
              "    <tr>\n",
              "      <th>2020-12-03 14:56:29+00:00</th>\n",
              "      <td>14995</td>\n",
              "      <td>cadillac</td>\n",
              "      <td>srx</td>\n",
              "      <td>2014.0</td>\n",
              "      <td>clean</td>\n",
              "      <td>excellent</td>\n",
              "      <td>6</td>\n",
              "      <td>gas</td>\n",
              "      <td>83790.0</td>\n",
              "      <td>automatic</td>\n",
              "      <td>4wd</td>\n",
              "      <td>SUV</td>\n",
              "      <td>silver</td>\n",
              "      <td>wausau</td>\n",
              "      <td>wi</td>\n",
              "      <td>44.408867</td>\n",
              "      <td>-89.881210</td>\n",
              "    </tr>\n",
              "    <tr>\n",
              "      <th>2020-12-03 14:48:08+00:00</th>\n",
              "      <td>17895</td>\n",
              "      <td>hyundai</td>\n",
              "      <td>tucson</td>\n",
              "      <td>2018.0</td>\n",
              "      <td>clean</td>\n",
              "      <td>excellent</td>\n",
              "      <td>4</td>\n",
              "      <td>gas</td>\n",
              "      <td>31888.0</td>\n",
              "      <td>automatic</td>\n",
              "      <td>4wd</td>\n",
              "      <td>SUV</td>\n",
              "      <td>white</td>\n",
              "      <td>wausau</td>\n",
              "      <td>wi</td>\n",
              "      <td>44.408867</td>\n",
              "      <td>-89.882240</td>\n",
              "    </tr>\n",
              "    <tr>\n",
              "      <th>2020-12-02 21:09:45+00:00</th>\n",
              "      <td>17900</td>\n",
              "      <td>cadillac</td>\n",
              "      <td>cts</td>\n",
              "      <td>2014.0</td>\n",
              "      <td>clean</td>\n",
              "      <td>excellent</td>\n",
              "      <td>6</td>\n",
              "      <td>gas</td>\n",
              "      <td>53000.0</td>\n",
              "      <td>automatic</td>\n",
              "      <td>4wd</td>\n",
              "      <td>coupe</td>\n",
              "      <td>black</td>\n",
              "      <td>wyoming</td>\n",
              "      <td>wy</td>\n",
              "      <td>44.784900</td>\n",
              "      <td>-106.964800</td>\n",
              "    </tr>\n",
              "    <tr>\n",
              "      <th>2020-12-02 20:01:04+00:00</th>\n",
              "      <td>1300</td>\n",
              "      <td>jeep</td>\n",
              "      <td>grand</td>\n",
              "      <td>2008.0</td>\n",
              "      <td>clean</td>\n",
              "      <td>good</td>\n",
              "      <td>8</td>\n",
              "      <td>gas</td>\n",
              "      <td>164000.0</td>\n",
              "      <td>automatic</td>\n",
              "      <td>4wd</td>\n",
              "      <td>SUV</td>\n",
              "      <td>white</td>\n",
              "      <td>wyoming</td>\n",
              "      <td>wy</td>\n",
              "      <td>44.773500</td>\n",
              "      <td>-106.939600</td>\n",
              "    </tr>\n",
              "  </tbody>\n",
              "</table>\n",
              "<p>324626 rows × 17 columns</p>\n",
              "</div>"
            ],
            "text/plain": [
              "                           price manufacturer  ...        lat        long\n",
              "date                                           ...                       \n",
              "2020-12-02 14:11:30+00:00  35990    chevrolet  ...  32.590000  -85.480000\n",
              "2020-12-02 08:11:50+00:00   7500      hyundai  ...  32.547500  -85.468200\n",
              "2020-12-02 01:50:41+00:00   4900          bmw  ...  32.616807  -85.464149\n",
              "2020-12-01 21:54:45+00:00   2000    chevrolet  ...  32.861600  -85.216100\n",
              "2020-12-01 13:27:25+00:00  29590       toyota  ...  32.590000  -85.480000\n",
              "...                          ...          ...  ...        ...         ...\n",
              "2020-12-03 15:06:21+00:00  19950         audi  ...  44.843195  -91.550371\n",
              "2020-12-03 14:56:29+00:00  14995     cadillac  ...  44.408867  -89.881210\n",
              "2020-12-03 14:48:08+00:00  17895      hyundai  ...  44.408867  -89.882240\n",
              "2020-12-02 21:09:45+00:00  17900     cadillac  ...  44.784900 -106.964800\n",
              "2020-12-02 20:01:04+00:00   1300         jeep  ...  44.773500 -106.939600\n",
              "\n",
              "[324626 rows x 17 columns]"
            ]
          },
          "metadata": {
            "tags": []
          },
          "execution_count": 46
        }
      ]
    },
    {
      "cell_type": "code",
      "metadata": {
        "colab": {
          "base_uri": "https://localhost:8080/",
          "height": 349
        },
        "id": "6Du2rexqPVzl",
        "outputId": "3d2ac530-82ad-4603-c2ac-7c7f17777f7e"
      },
      "source": [
        "sns.distplot(df['price'])\n",
        "plt.title(' Original Price Distibution')\n",
        "plt.show()"
      ],
      "execution_count": 54,
      "outputs": [
        {
          "output_type": "stream",
          "text": [
            "/usr/local/lib/python3.7/dist-packages/seaborn/distributions.py:2557: FutureWarning: `distplot` is a deprecated function and will be removed in a future version. Please adapt your code to use either `displot` (a figure-level function with similar flexibility) or `histplot` (an axes-level function for histograms).\n",
            "  warnings.warn(msg, FutureWarning)\n"
          ],
          "name": "stderr"
        },
        {
          "output_type": "display_data",
          "data": {
            "image/png": "[encoded data removed]",
            "text/plain": [
              "<Figure size 432x288 with 1 Axes>"
            ]
          },
          "metadata": {
            "tags": [],
            "needs_background": "light"
          }
        }
      ]
    },
    {
      "cell_type": "code",
      "metadata": {
        "colab": {
          "base_uri": "https://localhost:8080/",
          "height": 349
        },
        "id": "YOs_DAoyPYKM",
        "outputId": "e09308e8-2082-403d-96e2-51b4dce15e67"
      },
      "source": [
        "sns.distplot(df['odometer'])\n",
        "plt.title(' Original Odometer Distibution')\n",
        "plt.show()"
      ],
      "execution_count": 55,
      "outputs": [
        {
          "output_type": "stream",
          "text": [
            "/usr/local/lib/python3.7/dist-packages/seaborn/distributions.py:2557: FutureWarning: `distplot` is a deprecated function and will be removed in a future version. Please adapt your code to use either `displot` (a figure-level function with similar flexibility) or `histplot` (an axes-level function for histograms).\n",
            "  warnings.warn(msg, FutureWarning)\n"
          ],
          "name": "stderr"
        },
        {
          "output_type": "display_data",
          "data": {
            "image/png": "[encoded data removed]",
            "text/plain": [
              "<Figure size 432x288 with 1 Axes>"
            ]
          },
          "metadata": {
            "tags": [],
            "needs_background": "light"
          }
        }
      ]
    },
    {
      "cell_type": "code",
      "metadata": {
        "colab": {
          "base_uri": "https://localhost:8080/",
          "height": 349
        },
        "id": "yK_b49DyLfmp",
        "outputId": "fef25956-3a49-454e-bc34-6baa76d4cd39"
      },
      "source": [
        "sns.distplot(model_df['price'])\n",
        "plt.title('Transformed Price Distibution')\n",
        "plt.show()"
      ],
      "execution_count": 56,
      "outputs": [
        {
          "output_type": "stream",
          "text": [
            "/usr/local/lib/python3.7/dist-packages/seaborn/distributions.py:2557: FutureWarning: `distplot` is a deprecated function and will be removed in a future version. Please adapt your code to use either `displot` (a figure-level function with similar flexibility) or `histplot` (an axes-level function for histograms).\n",
            "  warnings.warn(msg, FutureWarning)\n"
          ],
          "name": "stderr"
        },
        {
          "output_type": "display_data",
          "data": {
            "image/png": "[encoded data removed]",
            "text/plain": [
              "<Figure size 432x288 with 1 Axes>"
            ]
          },
          "metadata": {
            "tags": [],
            "needs_background": "light"
          }
        }
      ]
    },
    {
      "cell_type": "code",
      "metadata": {
        "colab": {
          "base_uri": "https://localhost:8080/",
          "height": 349
        },
        "id": "L7vQqQAbLcBa",
        "outputId": "5c3567c6-ddeb-461f-e396-975b3348dc85"
      },
      "source": [
        "sns.distplot(model_df['odometer'])\n",
        "plt.title('Transformed Odometer Distibution')\n",
        "plt.show()"
      ],
      "execution_count": 57,
      "outputs": [
        {
          "output_type": "stream",
          "text": [
            "/usr/local/lib/python3.7/dist-packages/seaborn/distributions.py:2557: FutureWarning: `distplot` is a deprecated function and will be removed in a future version. Please adapt your code to use either `displot` (a figure-level function with similar flexibility) or `histplot` (an axes-level function for histograms).\n",
            "  warnings.warn(msg, FutureWarning)\n"
          ],
          "name": "stderr"
        },
        {
          "output_type": "display_data",
          "data": {
            "image/png": "[encoded data removed]",
            "text/plain": [
              "<Figure size 432x288 with 1 Axes>"
            ]
          },
          "metadata": {
            "tags": [],
            "needs_background": "light"
          }
        }
      ]
    },
    {
      "cell_type": "code",
      "metadata": {
        "colab": {
          "base_uri": "https://localhost:8080/"
        },
        "id": "tacu8fAOtY2P",
        "outputId": "b794fa81-f3c1-4f6b-c203-eaba5e11438e"
      },
      "source": [
        "model_df.isnull().sum()"
      ],
      "execution_count": null,
      "outputs": [
        {
          "output_type": "execute_result",
          "data": {
            "text/plain": [
              "price                0\n",
              "manufacturer         0\n",
              "car_model            0\n",
              "year                 3\n",
              "title_status      1302\n",
              "condition            0\n",
              "cylinders       108726\n",
              "fuel                 0\n",
              "odometer             0\n",
              "transmission         0\n",
              "drive                0\n",
              "type                 0\n",
              "paint_color          0\n",
              "region               0\n",
              "state                0\n",
              "lat               2309\n",
              "long              2309\n",
              "dtype: int64"
            ]
          },
          "metadata": {
            "tags": []
          },
          "execution_count": 47
        }
      ]
    },
    {
      "cell_type": "code",
      "metadata": {
        "colab": {
          "base_uri": "https://localhost:8080/",
          "height": 0
        },
        "id": "sqDeeZEmU_SV",
        "outputId": "41beeb4f-bdb7-466c-b4d3-1015492734b0"
      },
      "source": [
        "model_df.dtypes"
      ],
      "execution_count": 67,
      "outputs": [
        {
          "output_type": "execute_result",
          "data": {
            "text/plain": [
              "price             int64\n",
              "manufacturer     object\n",
              "car_model        object\n",
              "year            float64\n",
              "title_status     object\n",
              "condition        object\n",
              "cylinders         Int64\n",
              "fuel             object\n",
              "odometer        float64\n",
              "transmission     object\n",
              "drive            object\n",
              "type             object\n",
              "paint_color      object\n",
              "region           object\n",
              "state            object\n",
              "lat             float64\n",
              "long            float64\n",
              "dtype: object"
            ]
          },
          "metadata": {
            "tags": []
          },
          "execution_count": 67
        }
      ]
    },
    {
      "cell_type": "code",
      "metadata": {
        "colab": {
          "base_uri": "https://localhost:8080/",
          "height": 423
        },
        "id": "lX0RMZseQmoo",
        "outputId": "b445414f-7fde-4b45-bf5d-689145ca51de"
      },
      "source": [
        "# target variable: price of car\n",
        "\n",
        "fig, ax= plt.subplots(1,2,figsize=(15,5))\n",
        "\n",
        "sns.distplot(df['price'], norm_hist=False, kde=False, ax=ax[0], color='blue')\n",
        "ax[0].set_xlabel('Car Price')\n",
        "ax[0].set_ylabel('Count of cars',size=12)\n",
        "ax[0].set_title('Count Of Cars By Price',size=15,weight=\"bold\")\n",
        "\n",
        "\n",
        "sns.distplot(df['price'], kde=True, ax=ax[1], color='green')\n",
        "ax[1].set_xlabel('Car Price')\n",
        "ax[1].set_ylabel('Relative Frequency of cars',size=12)\n",
        "ax[1].set_title('Density or Relative Frequency Of Cars By Pricea',size=15,weight=\"bold\")\n"
      ],
      "execution_count": 65,
      "outputs": [
        {
          "output_type": "stream",
          "text": [
            "/usr/local/lib/python3.7/dist-packages/seaborn/distributions.py:2557: FutureWarning: `distplot` is a deprecated function and will be removed in a future version. Please adapt your code to use either `displot` (a figure-level function with similar flexibility) or `histplot` (an axes-level function for histograms).\n",
            "  warnings.warn(msg, FutureWarning)\n"
          ],
          "name": "stderr"
        },
        {
          "output_type": "execute_result",
          "data": {
            "text/plain": [
              "Text(0.5, 1.0, 'Density or Relative Frequency Of Cars By Pricea')"
            ]
          },
          "metadata": {
            "tags": []
          },
          "execution_count": 65
        },
        {
          "output_type": "display_data",
          "data": {
            "image/png": "[encoded data removed]",
            "text/plain": [
              "<Figure size 1080x360 with 2 Axes>"
            ]
          },
          "metadata": {
            "tags": [],
            "needs_background": "light"
          }
        }
      ]
    },
    {
      "cell_type": "code",
      "metadata": {
        "colab": {
          "base_uri": "https://localhost:8080/",
          "height": 423
        },
        "id": "Tlonn6Z8Q203",
        "outputId": "e10303f2-375c-42f1-ae50-e64e294ffb30"
      },
      "source": [
        "# target variable: price of car\n",
        "\n",
        "fig, ax= plt.subplots(1,2,figsize=(15,5))\n",
        "\n",
        "sns.distplot(model_df['price'], norm_hist=False, kde=False, ax=ax[0], color='blue')\n",
        "ax[0].set_xlabel('Car Price')\n",
        "ax[0].set_ylabel('Count of cars',size=12)\n",
        "ax[0].set_title('Count Of Cars By Price',size=15,weight=\"bold\")\n",
        "ax[0].set_xlim([0, 80000])\n",
        "\n",
        "sns.distplot(model_df['price'], kde=True, ax=ax[1], color='green')\n",
        "ax[1].set_xlabel('Car Price')\n",
        "ax[1].set_ylabel('Relative Frequency of cars',size=12)\n",
        "ax[1].set_title('Density or Relative Frequency Of Cars By Price',size=15,weight=\"bold\")\n",
        "ax[1].set_xlim([0, 80000])\n"
      ],
      "execution_count": 66,
      "outputs": [
        {
          "output_type": "stream",
          "text": [
            "/usr/local/lib/python3.7/dist-packages/seaborn/distributions.py:2557: FutureWarning: `distplot` is a deprecated function and will be removed in a future version. Please adapt your code to use either `displot` (a figure-level function with similar flexibility) or `histplot` (an axes-level function for histograms).\n",
            "  warnings.warn(msg, FutureWarning)\n"
          ],
          "name": "stderr"
        },
        {
          "output_type": "execute_result",
          "data": {
            "text/plain": [
              "(0.0, 80000.0)"
            ]
          },
          "metadata": {
            "tags": []
          },
          "execution_count": 66
        },
        {
          "output_type": "display_data",
          "data": {
            "image/png": "[encoded data removed]",
            "text/plain": [
              "<Figure size 1080x360 with 2 Axes>"
            ]
          },
          "metadata": {
            "tags": [],
            "needs_background": "light"
          }
        }
      ]
    },
    {
      "cell_type": "code",
      "metadata": {
        "colab": {
          "base_uri": "https://localhost:8080/",
          "height": 227
        },
        "id": "HXndCZbnVdeU",
        "outputId": "fccd4695-0ccf-4883-990b-6e225fb82310"
      },
      "source": [
        "cars_numeric=model_df.select_dtypes(include=['float64','int64'])\n",
        "cars_numeric_ = cars_numeric.drop(['lat', 'long'], axis=1)\n",
        "cars_numeric_.head()"
      ],
      "execution_count": 70,
      "outputs": [
        {
          "output_type": "execute_result",
          "data": {
            "text/html": [
              "<div>\n",
              "<style scoped>\n",
              "    .dataframe tbody tr th:only-of-type {\n",
              "        vertical-align: middle;\n",
              "    }\n",
              "\n",
              "    .dataframe tbody tr th {\n",
              "        vertical-align: top;\n",
              "    }\n",
              "\n",
              "    .dataframe thead th {\n",
              "        text-align: right;\n",
              "    }\n",
              "</style>\n",
              "<table border=\"1\" class=\"dataframe\">\n",
              "  <thead>\n",
              "    <tr style=\"text-align: right;\">\n",
              "      <th></th>\n",
              "      <th>price</th>\n",
              "      <th>year</th>\n",
              "      <th>cylinders</th>\n",
              "      <th>odometer</th>\n",
              "    </tr>\n",
              "    <tr>\n",
              "      <th>date</th>\n",
              "      <th></th>\n",
              "      <th></th>\n",
              "      <th></th>\n",
              "      <th></th>\n",
              "    </tr>\n",
              "  </thead>\n",
              "  <tbody>\n",
              "    <tr>\n",
              "      <th>2020-12-02 14:11:30+00:00</th>\n",
              "      <td>35990</td>\n",
              "      <td>2010.0</td>\n",
              "      <td>8</td>\n",
              "      <td>32742.0</td>\n",
              "    </tr>\n",
              "    <tr>\n",
              "      <th>2020-12-02 08:11:50+00:00</th>\n",
              "      <td>7500</td>\n",
              "      <td>2014.0</td>\n",
              "      <td>4</td>\n",
              "      <td>93600.0</td>\n",
              "    </tr>\n",
              "    <tr>\n",
              "      <th>2020-12-02 01:50:41+00:00</th>\n",
              "      <td>4900</td>\n",
              "      <td>2006.0</td>\n",
              "      <td>6</td>\n",
              "      <td>87046.0</td>\n",
              "    </tr>\n",
              "    <tr>\n",
              "      <th>2020-12-01 21:54:45+00:00</th>\n",
              "      <td>2000</td>\n",
              "      <td>1974.0</td>\n",
              "      <td>4</td>\n",
              "      <td>190000.0</td>\n",
              "    </tr>\n",
              "    <tr>\n",
              "      <th>2020-12-01 13:27:25+00:00</th>\n",
              "      <td>29590</td>\n",
              "      <td>2016.0</td>\n",
              "      <td>6</td>\n",
              "      <td>33290.0</td>\n",
              "    </tr>\n",
              "  </tbody>\n",
              "</table>\n",
              "</div>"
            ],
            "text/plain": [
              "                           price    year  cylinders  odometer\n",
              "date                                                         \n",
              "2020-12-02 14:11:30+00:00  35990  2010.0          8   32742.0\n",
              "2020-12-02 08:11:50+00:00   7500  2014.0          4   93600.0\n",
              "2020-12-02 01:50:41+00:00   4900  2006.0          6   87046.0\n",
              "2020-12-01 21:54:45+00:00   2000  1974.0          4  190000.0\n",
              "2020-12-01 13:27:25+00:00  29590  2016.0          6   33290.0"
            ]
          },
          "metadata": {
            "tags": []
          },
          "execution_count": 70
        }
      ]
    },
    {
      "cell_type": "code",
      "metadata": {
        "colab": {
          "base_uri": "https://localhost:8080/",
          "height": 0
        },
        "id": "2LUpraFWaokd",
        "outputId": "64bf406d-6077-4dc2-d283-4f62eea480ff"
      },
      "source": [
        "cars_numeric_.columns[1:]"
      ],
      "execution_count": 80,
      "outputs": [
        {
          "output_type": "execute_result",
          "data": {
            "text/plain": [
              "Index(['year', 'cylinders', 'odometer'], dtype='object')"
            ]
          },
          "metadata": {
            "tags": []
          },
          "execution_count": 80
        }
      ]
    },
    {
      "cell_type": "code",
      "metadata": {
        "colab": {
          "base_uri": "https://localhost:8080/",
          "height": 892
        },
        "id": "YW-3lHi8U00N",
        "outputId": "96d7a58f-c527-4d14-c33e-4922b60b49db"
      },
      "source": [
        "plt.figure(figsize=(8,10))\n",
        "for i, col in enumerate (cars_numeric_.columns[1:]):\n",
        "  plt.subplot(3, 1, i+1)\n",
        "  sns.scatterplot(x=cars_numeric_[col],y=cars_numeric_['price'])\n",
        "  title = 'price vs.' + str(col)\n",
        "  plt.title(title)"
      ],
      "execution_count": 96,
      "outputs": [
        {
          "output_type": "display_data",
          "data": {
            "image/png": "[encoded data removed]",
            "text/plain": [
              "<Figure size 576x1080 with 3 Axes>"
            ]
          },
          "metadata": {
            "tags": [],
            "needs_background": "light"
          }
        }
      ]
    },
    {
      "cell_type": "code",
      "metadata": {
        "colab": {
          "base_uri": "https://localhost:8080/",
          "height": 504
        },
        "id": "IY_c5JlxeOnY",
        "outputId": "5882daed-ea94-47d5-829c-ade306fe8146"
      },
      "source": [
        "corr=cars_numeric.corr()\n",
        "\n",
        "plt.figure(figsize=(15,8))\n",
        "sns.heatmap(corr,annot=True,cmap=\"YlGnBu\")"
      ],
      "execution_count": 97,
      "outputs": [
        {
          "output_type": "execute_result",
          "data": {
            "text/plain": [
              "<matplotlib.axes._subplots.AxesSubplot at 0x7fb9e0f0db50>"
            ]
          },
          "metadata": {
            "tags": []
          },
          "execution_count": 97
        },
        {
          "output_type": "display_data",
          "data": {
            "image/png": "[encoded data removed]",
            "text/plain": [
              "<Figure size 1080x576 with 2 Axes>"
            ]
          },
          "metadata": {
            "tags": [],
            "needs_background": "light"
          }
        }
      ]
    },
    {
      "cell_type": "markdown",
      "metadata": {
        "id": "A2l1vTyVeslb"
      },
      "source": [
        "- From heat map, we can see that Price is strongly correlated with Year and Cylinders (higher year and higher cylinders are priced at higher price)\n",
        "\n",
        "- Odometer has negative correlation with price, meaning cars with higher odometer are priced at lower price."
      ]
    },
    {
      "cell_type": "code",
      "metadata": {
        "colab": {
          "base_uri": "https://localhost:8080/",
          "height": 357
        },
        "id": "aomza_hCtWcQ",
        "outputId": "86bb302b-c0eb-414f-bba6-ba0262e59053"
      },
      "source": [
        "path = \"/content/drive/MyDrive/Data Bootcamp Final Project/model_df.zip\"\n",
        "model_df.to_csv(path, compression='zip')"
      ],
      "execution_count": null,
      "outputs": [
        {
          "output_type": "error",
          "ename": "TypeError",
          "evalue": "ignored",
          "traceback": [
            "\u001b[0;31m---------------------------------------------------------------------------\u001b[0m",
            "\u001b[0;31mTypeError\u001b[0m                                 Traceback (most recent call last)",
            "\u001b[0;32m<ipython-input-49-878fec7e23c6>\u001b[0m in \u001b[0;36m<module>\u001b[0;34m()\u001b[0m\n\u001b[1;32m      1\u001b[0m compression_opts = dict(method='gzip',\n\u001b[1;32m      2\u001b[0m                         archive_name='model_df.csv')  \n\u001b[0;32m----> 3\u001b[0;31m \u001b[0mdf\u001b[0m\u001b[0;34m.\u001b[0m\u001b[0mto_csv\u001b[0m\u001b[0;34m(\u001b[0m\u001b[0;34m'/content/drive/MyDrive/Data Bootcamp Final Project/model_df.gz'\u001b[0m\u001b[0;34m,\u001b[0m \u001b[0mcompression\u001b[0m\u001b[0;34m=\u001b[0m\u001b[0mcompression_opts\u001b[0m\u001b[0;34m)\u001b[0m\u001b[0;34m\u001b[0m\u001b[0;34m\u001b[0m\u001b[0m\n\u001b[0m",
            "\u001b[0;32m/usr/local/lib/python3.7/dist-packages/pandas/core/generic.py\u001b[0m in \u001b[0;36mto_csv\u001b[0;34m(self, path_or_buf, sep, na_rep, float_format, columns, header, index, index_label, mode, encoding, compression, quoting, quotechar, line_terminator, chunksize, date_format, doublequote, escapechar, decimal, errors)\u001b[0m\n\u001b[1;32m   3168\u001b[0m             \u001b[0mdecimal\u001b[0m\u001b[0;34m=\u001b[0m\u001b[0mdecimal\u001b[0m\u001b[0;34m,\u001b[0m\u001b[0;34m\u001b[0m\u001b[0;34m\u001b[0m\u001b[0m\n\u001b[1;32m   3169\u001b[0m         )\n\u001b[0;32m-> 3170\u001b[0;31m         \u001b[0mformatter\u001b[0m\u001b[0;34m.\u001b[0m\u001b[0msave\u001b[0m\u001b[0;34m(\u001b[0m\u001b[0;34m)\u001b[0m\u001b[0;34m\u001b[0m\u001b[0;34m\u001b[0m\u001b[0m\n\u001b[0m\u001b[1;32m   3171\u001b[0m \u001b[0;34m\u001b[0m\u001b[0m\n\u001b[1;32m   3172\u001b[0m         \u001b[0;32mif\u001b[0m \u001b[0mpath_or_buf\u001b[0m \u001b[0;32mis\u001b[0m \u001b[0;32mNone\u001b[0m\u001b[0;34m:\u001b[0m\u001b[0;34m\u001b[0m\u001b[0;34m\u001b[0m\u001b[0m\n",
            "\u001b[0;32m/usr/local/lib/python3.7/dist-packages/pandas/io/formats/csvs.py\u001b[0m in \u001b[0;36msave\u001b[0;34m(self)\u001b[0m\n\u001b[1;32m    188\u001b[0m                 \u001b[0mencoding\u001b[0m\u001b[0;34m=\u001b[0m\u001b[0mself\u001b[0m\u001b[0;34m.\u001b[0m\u001b[0mencoding\u001b[0m\u001b[0;34m,\u001b[0m\u001b[0;34m\u001b[0m\u001b[0;34m\u001b[0m\u001b[0m\n\u001b[1;32m    189\u001b[0m                 \u001b[0merrors\u001b[0m\u001b[0;34m=\u001b[0m\u001b[0mself\u001b[0m\u001b[0;34m.\u001b[0m\u001b[0merrors\u001b[0m\u001b[0;34m,\u001b[0m\u001b[0;34m\u001b[0m\u001b[0;34m\u001b[0m\u001b[0m\n\u001b[0;32m--> 190\u001b[0;31m                 \u001b[0mcompression\u001b[0m\u001b[0;34m=\u001b[0m\u001b[0mdict\u001b[0m\u001b[0;34m(\u001b[0m\u001b[0mself\u001b[0m\u001b[0;34m.\u001b[0m\u001b[0mcompression_args\u001b[0m\u001b[0;34m,\u001b[0m \u001b[0mmethod\u001b[0m\u001b[0;34m=\u001b[0m\u001b[0mself\u001b[0m\u001b[0;34m.\u001b[0m\u001b[0mcompression\u001b[0m\u001b[0;34m)\u001b[0m\u001b[0;34m,\u001b[0m\u001b[0;34m\u001b[0m\u001b[0;34m\u001b[0m\u001b[0m\n\u001b[0m\u001b[1;32m    191\u001b[0m             )\n\u001b[1;32m    192\u001b[0m             \u001b[0mclose\u001b[0m \u001b[0;34m=\u001b[0m \u001b[0;32mTrue\u001b[0m\u001b[0;34m\u001b[0m\u001b[0;34m\u001b[0m\u001b[0m\n",
            "\u001b[0;32m/usr/local/lib/python3.7/dist-packages/pandas/io/common.py\u001b[0m in \u001b[0;36mget_handle\u001b[0;34m(path_or_buf, mode, encoding, compression, memory_map, is_text, errors)\u001b[0m\n\u001b[1;32m    442\u001b[0m             \u001b[0;32mif\u001b[0m \u001b[0mis_path\u001b[0m\u001b[0;34m:\u001b[0m\u001b[0;34m\u001b[0m\u001b[0;34m\u001b[0m\u001b[0m\n\u001b[1;32m    443\u001b[0m                 f = gzip.open(\n\u001b[0;32m--> 444\u001b[0;31m                     \u001b[0mpath_or_buf\u001b[0m\u001b[0;34m,\u001b[0m \u001b[0mmode\u001b[0m\u001b[0;34m,\u001b[0m \u001b[0;34m**\u001b[0m\u001b[0mcompression_args\u001b[0m  \u001b[0;31m# type: ignore\u001b[0m\u001b[0;34m\u001b[0m\u001b[0;34m\u001b[0m\u001b[0m\n\u001b[0m\u001b[1;32m    445\u001b[0m                 )\n\u001b[1;32m    446\u001b[0m             \u001b[0;32melse\u001b[0m\u001b[0;34m:\u001b[0m\u001b[0;34m\u001b[0m\u001b[0;34m\u001b[0m\u001b[0m\n",
            "\u001b[0;31mTypeError\u001b[0m: open() got an unexpected keyword argument 'archive_name'"
          ]
        }
      ]
    },
    {
      "cell_type": "markdown",
      "metadata": {
        "id": "iXCp8YoYn7Pu"
      },
      "source": [
        "# Limitations"
      ]
    },
    {
      "cell_type": "markdown",
      "metadata": {
        "id": "iLc0UnbSn9Ae"
      },
      "source": [
        "- Data only includes data for 1.5 months between Nov and Dec 2020.\n",
        "- String NaN values are replaced by 'not specified'\n",
        "- Long and Lat values include locations outside of land and into the ocean.\n",
        "- Price range was limited to reasonable range between \\$ 100 - $ 300,000.\n",
        "- Odometer range was limited to 10 - 200,000 km."
      ]
    }
  ]
}