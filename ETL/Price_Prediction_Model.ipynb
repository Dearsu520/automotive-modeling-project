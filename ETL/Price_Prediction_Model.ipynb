{
  "nbformat": 4,
  "nbformat_minor": 0,
  "metadata": {
    "colab": {
      "name": "Price-Prediction-Model.ipynb",
      "provenance": []
    },
    "kernelspec": {
      "name": "python3",
      "display_name": "Python 3"
    },
    "language_info": {
      "name": "python"
    }
  },
  "cells": [
    {
      "cell_type": "code",
      "metadata": {
        "colab": {
          "base_uri": "https://localhost:8080/"
        },
        "id": "KspO6ZUgqbFH",
        "outputId": "1b2101d5-82df-4d29-805e-062d7337734c"
      },
      "source": [
        "from google.colab import drive\n",
        "drive.mount('/content/drive')"
      ],
      "execution_count": 1,
      "outputs": [
        {
          "output_type": "stream",
          "text": [
            "Drive already mounted at /content/drive; to attempt to forcibly remount, call drive.mount(\"/content/drive\", force_remount=True).\n"
          ],
          "name": "stdout"
        }
      ]
    },
    {
      "cell_type": "code",
      "metadata": {
        "id": "5m6V0BG4qhgu"
      },
      "source": [
        "import pandas as pd\n",
        "path = \"/content/drive/MyDrive/Data Bootcamp Final Project/model_df.zip\"\n",
        "df = pd.read_csv(path, index_col=0)"
      ],
      "execution_count": 2,
      "outputs": []
    },
    {
      "cell_type": "code",
      "metadata": {
        "id": "pslzDO17qpoD"
      },
      "source": [
        "# Import Dependencies\n",
        "import numpy as np\n",
        "import string\n",
        "import matplotlib.pyplot as plt\n",
        "import matplotlib.gridspec as gridspec\n",
        "from sklearn.preprocessing import StandardScaler\n",
        "from sklearn.model_selection import train_test_split"
      ],
      "execution_count": 3,
      "outputs": []
    },
    {
      "cell_type": "code",
      "metadata": {
        "colab": {
          "base_uri": "https://localhost:8080/",
          "height": 435
        },
        "id": "4L_I_sVcqv1l",
        "outputId": "6195f737-7a18-49a9-b355-bb50a484105f"
      },
      "source": [
        "df"
      ],
      "execution_count": 4,
      "outputs": [
        {
          "output_type": "execute_result",
          "data": {
            "text/html": [
              "<div>\n",
              "<style scoped>\n",
              "    .dataframe tbody tr th:only-of-type {\n",
              "        vertical-align: middle;\n",
              "    }\n",
              "\n",
              "    .dataframe tbody tr th {\n",
              "        vertical-align: top;\n",
              "    }\n",
              "\n",
              "    .dataframe thead th {\n",
              "        text-align: right;\n",
              "    }\n",
              "</style>\n",
              "<table border=\"1\" class=\"dataframe\">\n",
              "  <thead>\n",
              "    <tr style=\"text-align: right;\">\n",
              "      <th></th>\n",
              "      <th>price</th>\n",
              "      <th>manufacturer</th>\n",
              "      <th>car_model</th>\n",
              "      <th>year</th>\n",
              "      <th>title_status</th>\n",
              "      <th>condition</th>\n",
              "      <th>cylinders</th>\n",
              "      <th>fuel</th>\n",
              "      <th>odometer</th>\n",
              "      <th>transmission</th>\n",
              "      <th>drive</th>\n",
              "      <th>type</th>\n",
              "      <th>paint_color</th>\n",
              "      <th>region</th>\n",
              "      <th>state</th>\n",
              "      <th>lat</th>\n",
              "      <th>long</th>\n",
              "    </tr>\n",
              "    <tr>\n",
              "      <th>date</th>\n",
              "      <th></th>\n",
              "      <th></th>\n",
              "      <th></th>\n",
              "      <th></th>\n",
              "      <th></th>\n",
              "      <th></th>\n",
              "      <th></th>\n",
              "      <th></th>\n",
              "      <th></th>\n",
              "      <th></th>\n",
              "      <th></th>\n",
              "      <th></th>\n",
              "      <th></th>\n",
              "      <th></th>\n",
              "      <th></th>\n",
              "      <th></th>\n",
              "      <th></th>\n",
              "    </tr>\n",
              "  </thead>\n",
              "  <tbody>\n",
              "    <tr>\n",
              "      <th>2020-12-02 14:11:30+00:00</th>\n",
              "      <td>35990</td>\n",
              "      <td>chevrolet</td>\n",
              "      <td>corvette</td>\n",
              "      <td>2010.0</td>\n",
              "      <td>clean</td>\n",
              "      <td>good</td>\n",
              "      <td>8 cylinders</td>\n",
              "      <td>gas</td>\n",
              "      <td>32742.0</td>\n",
              "      <td>other</td>\n",
              "      <td>rwd</td>\n",
              "      <td>other</td>\n",
              "      <td>not specified</td>\n",
              "      <td>auburn</td>\n",
              "      <td>al</td>\n",
              "      <td>32.590000</td>\n",
              "      <td>-85.480000</td>\n",
              "    </tr>\n",
              "    <tr>\n",
              "      <th>2020-12-02 08:11:50+00:00</th>\n",
              "      <td>7500</td>\n",
              "      <td>hyundai</td>\n",
              "      <td>sonata</td>\n",
              "      <td>2014.0</td>\n",
              "      <td>clean</td>\n",
              "      <td>excellent</td>\n",
              "      <td>4 cylinders</td>\n",
              "      <td>gas</td>\n",
              "      <td>93600.0</td>\n",
              "      <td>automatic</td>\n",
              "      <td>fwd</td>\n",
              "      <td>sedan</td>\n",
              "      <td>not specified</td>\n",
              "      <td>auburn</td>\n",
              "      <td>al</td>\n",
              "      <td>32.547500</td>\n",
              "      <td>-85.468200</td>\n",
              "    </tr>\n",
              "    <tr>\n",
              "      <th>2020-12-02 01:50:41+00:00</th>\n",
              "      <td>4900</td>\n",
              "      <td>bmw</td>\n",
              "      <td>x3</td>\n",
              "      <td>2006.0</td>\n",
              "      <td>clean</td>\n",
              "      <td>good</td>\n",
              "      <td>6 cylinders</td>\n",
              "      <td>gas</td>\n",
              "      <td>87046.0</td>\n",
              "      <td>automatic</td>\n",
              "      <td>not specified</td>\n",
              "      <td>SUV</td>\n",
              "      <td>blue</td>\n",
              "      <td>auburn</td>\n",
              "      <td>al</td>\n",
              "      <td>32.616807</td>\n",
              "      <td>-85.464149</td>\n",
              "    </tr>\n",
              "    <tr>\n",
              "      <th>2020-12-01 21:54:45+00:00</th>\n",
              "      <td>2000</td>\n",
              "      <td>chevrolet</td>\n",
              "      <td>c10</td>\n",
              "      <td>1974.0</td>\n",
              "      <td>clean</td>\n",
              "      <td>good</td>\n",
              "      <td>4 cylinders</td>\n",
              "      <td>gas</td>\n",
              "      <td>190000.0</td>\n",
              "      <td>automatic</td>\n",
              "      <td>rwd</td>\n",
              "      <td>pickup</td>\n",
              "      <td>blue</td>\n",
              "      <td>auburn</td>\n",
              "      <td>al</td>\n",
              "      <td>32.861600</td>\n",
              "      <td>-85.216100</td>\n",
              "    </tr>\n",
              "    <tr>\n",
              "      <th>2020-12-01 13:27:25+00:00</th>\n",
              "      <td>29590</td>\n",
              "      <td>toyota</td>\n",
              "      <td>tacoma</td>\n",
              "      <td>2016.0</td>\n",
              "      <td>clean</td>\n",
              "      <td>good</td>\n",
              "      <td>6 cylinders</td>\n",
              "      <td>gas</td>\n",
              "      <td>33290.0</td>\n",
              "      <td>other</td>\n",
              "      <td>not specified</td>\n",
              "      <td>pickup</td>\n",
              "      <td>red</td>\n",
              "      <td>auburn</td>\n",
              "      <td>al</td>\n",
              "      <td>32.590000</td>\n",
              "      <td>-85.480000</td>\n",
              "    </tr>\n",
              "    <tr>\n",
              "      <th>...</th>\n",
              "      <td>...</td>\n",
              "      <td>...</td>\n",
              "      <td>...</td>\n",
              "      <td>...</td>\n",
              "      <td>...</td>\n",
              "      <td>...</td>\n",
              "      <td>...</td>\n",
              "      <td>...</td>\n",
              "      <td>...</td>\n",
              "      <td>...</td>\n",
              "      <td>...</td>\n",
              "      <td>...</td>\n",
              "      <td>...</td>\n",
              "      <td>...</td>\n",
              "      <td>...</td>\n",
              "      <td>...</td>\n",
              "      <td>...</td>\n",
              "    </tr>\n",
              "    <tr>\n",
              "      <th>2020-12-03 15:06:21+00:00</th>\n",
              "      <td>19950</td>\n",
              "      <td>audi</td>\n",
              "      <td>a4</td>\n",
              "      <td>2017.0</td>\n",
              "      <td>clean</td>\n",
              "      <td>not specified</td>\n",
              "      <td>not specified</td>\n",
              "      <td>gas</td>\n",
              "      <td>101270.0</td>\n",
              "      <td>automatic</td>\n",
              "      <td>not specified</td>\n",
              "      <td>other</td>\n",
              "      <td>not specified</td>\n",
              "      <td>wausau</td>\n",
              "      <td>wi</td>\n",
              "      <td>44.843195</td>\n",
              "      <td>-91.550371</td>\n",
              "    </tr>\n",
              "    <tr>\n",
              "      <th>2020-12-03 14:56:29+00:00</th>\n",
              "      <td>14995</td>\n",
              "      <td>cadillac</td>\n",
              "      <td>srx</td>\n",
              "      <td>2014.0</td>\n",
              "      <td>clean</td>\n",
              "      <td>excellent</td>\n",
              "      <td>6 cylinders</td>\n",
              "      <td>gas</td>\n",
              "      <td>83790.0</td>\n",
              "      <td>automatic</td>\n",
              "      <td>4wd</td>\n",
              "      <td>SUV</td>\n",
              "      <td>silver</td>\n",
              "      <td>wausau</td>\n",
              "      <td>wi</td>\n",
              "      <td>44.408867</td>\n",
              "      <td>-89.881210</td>\n",
              "    </tr>\n",
              "    <tr>\n",
              "      <th>2020-12-03 14:48:08+00:00</th>\n",
              "      <td>17895</td>\n",
              "      <td>hyundai</td>\n",
              "      <td>tucson</td>\n",
              "      <td>2018.0</td>\n",
              "      <td>clean</td>\n",
              "      <td>excellent</td>\n",
              "      <td>4 cylinders</td>\n",
              "      <td>gas</td>\n",
              "      <td>31888.0</td>\n",
              "      <td>automatic</td>\n",
              "      <td>4wd</td>\n",
              "      <td>SUV</td>\n",
              "      <td>white</td>\n",
              "      <td>wausau</td>\n",
              "      <td>wi</td>\n",
              "      <td>44.408867</td>\n",
              "      <td>-89.882240</td>\n",
              "    </tr>\n",
              "    <tr>\n",
              "      <th>2020-12-02 21:09:45+00:00</th>\n",
              "      <td>17900</td>\n",
              "      <td>cadillac</td>\n",
              "      <td>cts</td>\n",
              "      <td>2014.0</td>\n",
              "      <td>clean</td>\n",
              "      <td>excellent</td>\n",
              "      <td>6 cylinders</td>\n",
              "      <td>gas</td>\n",
              "      <td>53000.0</td>\n",
              "      <td>automatic</td>\n",
              "      <td>4wd</td>\n",
              "      <td>coupe</td>\n",
              "      <td>black</td>\n",
              "      <td>wyoming</td>\n",
              "      <td>wy</td>\n",
              "      <td>44.784900</td>\n",
              "      <td>-106.964800</td>\n",
              "    </tr>\n",
              "    <tr>\n",
              "      <th>2020-12-02 20:01:04+00:00</th>\n",
              "      <td>1300</td>\n",
              "      <td>jeep</td>\n",
              "      <td>grand</td>\n",
              "      <td>2008.0</td>\n",
              "      <td>clean</td>\n",
              "      <td>good</td>\n",
              "      <td>8 cylinders</td>\n",
              "      <td>gas</td>\n",
              "      <td>164000.0</td>\n",
              "      <td>automatic</td>\n",
              "      <td>4wd</td>\n",
              "      <td>SUV</td>\n",
              "      <td>white</td>\n",
              "      <td>wyoming</td>\n",
              "      <td>wy</td>\n",
              "      <td>44.773500</td>\n",
              "      <td>-106.939600</td>\n",
              "    </tr>\n",
              "  </tbody>\n",
              "</table>\n",
              "<p>324626 rows × 17 columns</p>\n",
              "</div>"
            ],
            "text/plain": [
              "                           price manufacturer  ...        lat        long\n",
              "date                                           ...                       \n",
              "2020-12-02 14:11:30+00:00  35990    chevrolet  ...  32.590000  -85.480000\n",
              "2020-12-02 08:11:50+00:00   7500      hyundai  ...  32.547500  -85.468200\n",
              "2020-12-02 01:50:41+00:00   4900          bmw  ...  32.616807  -85.464149\n",
              "2020-12-01 21:54:45+00:00   2000    chevrolet  ...  32.861600  -85.216100\n",
              "2020-12-01 13:27:25+00:00  29590       toyota  ...  32.590000  -85.480000\n",
              "...                          ...          ...  ...        ...         ...\n",
              "2020-12-03 15:06:21+00:00  19950         audi  ...  44.843195  -91.550371\n",
              "2020-12-03 14:56:29+00:00  14995     cadillac  ...  44.408867  -89.881210\n",
              "2020-12-03 14:48:08+00:00  17895      hyundai  ...  44.408867  -89.882240\n",
              "2020-12-02 21:09:45+00:00  17900     cadillac  ...  44.784900 -106.964800\n",
              "2020-12-02 20:01:04+00:00   1300         jeep  ...  44.773500 -106.939600\n",
              "\n",
              "[324626 rows x 17 columns]"
            ]
          },
          "metadata": {
            "tags": []
          },
          "execution_count": 4
        }
      ]
    },
    {
      "cell_type": "code",
      "metadata": {
        "colab": {
          "base_uri": "https://localhost:8080/"
        },
        "id": "nGSRl2RJ1nLC",
        "outputId": "dcae5db1-c354-483a-f188-27841677745f"
      },
      "source": [
        "df['paint_color'].nunique()"
      ],
      "execution_count": 16,
      "outputs": [
        {
          "output_type": "execute_result",
          "data": {
            "text/plain": [
              "13"
            ]
          },
          "metadata": {
            "tags": []
          },
          "execution_count": 16
        }
      ]
    },
    {
      "cell_type": "markdown",
      "metadata": {
        "id": "6RuzRPZcrGGu"
      },
      "source": [
        "# Data Standardization"
      ]
    },
    {
      "cell_type": "code",
      "metadata": {
        "id": "hvQ519hbrJiV"
      },
      "source": [
        "# X = df.drop([\"price\"], axis=1)\n",
        "# y = df[\"price\"]"
      ],
      "execution_count": 5,
      "outputs": []
    },
    {
      "cell_type": "markdown",
      "metadata": {
        "id": "ViF7-IPev35X"
      },
      "source": [
        "# Get dummies"
      ]
    },
    {
      "cell_type": "markdown",
      "metadata": {
        "id": "Nco98SRHunGy"
      },
      "source": [
        "# Split train-test data"
      ]
    },
    {
      "cell_type": "code",
      "metadata": {
        "id": "zCIVPyiNxXb3"
      },
      "source": [
        "data = df.values\n",
        "X_train, X_test,y_train,y_test = train_test_split(data[:, 1:], data[:, 0],test_size=0.2, random_state=0)"
      ],
      "execution_count": 5,
      "outputs": []
    },
    {
      "cell_type": "code",
      "metadata": {
        "colab": {
          "base_uri": "https://localhost:8080/"
        },
        "id": "gIO4M21SxXkM",
        "outputId": "7f3d3133-78cb-416b-8842-3f7f40bf0db3"
      },
      "source": [
        "X_train.shape, X_test.shape, y_train.shape,  y_test.shape"
      ],
      "execution_count": 6,
      "outputs": [
        {
          "output_type": "execute_result",
          "data": {
            "text/plain": [
              "((259700, 16), (64926, 16), (259700,), (64926,))"
            ]
          },
          "metadata": {
            "tags": []
          },
          "execution_count": 6
        }
      ]
    },
    {
      "cell_type": "code",
      "metadata": {
        "id": "JWLqw-yfzjj-"
      },
      "source": [
        "X_train_df = pd.DataFrame(data=X_train)\n",
        "X_train = pd.get_dummies(X_train_df, drop_first=True)\n",
        "X_train_df"
      ],
      "execution_count": null,
      "outputs": []
    },
    {
      "cell_type": "code",
      "metadata": {
        "id": "1VuOKNOlrJd3"
      },
      "source": [
        "scaler = StandardScaler()\n",
        "X_scaler = StandardScaler().fit(X_train)\n",
        "y_scaler = StandardScaler().fit(y_train)\n",
        "X_train_scaled = X_scaler.transform(X_train)\n",
        "X_test_scaled = X_scaler.transform(X_test)\n",
        "y_train_scaled = y_scaler.transform(y_train)\n",
        "y_test_scaled = y_scaler.transform(y_test)\n",
        "X_train\n",
        "X_train_scaled"
      ],
      "execution_count": null,
      "outputs": []
    },
    {
      "cell_type": "code",
      "metadata": {
        "id": "GsdHKe7_rJbg"
      },
      "source": [
        ""
      ],
      "execution_count": null,
      "outputs": []
    },
    {
      "cell_type": "markdown",
      "metadata": {
        "id": "i4BTc7RttkPH"
      },
      "source": [
        ""
      ]
    },
    {
      "cell_type": "code",
      "metadata": {
        "id": "tiGOOeDSuqxf"
      },
      "source": [
        ""
      ],
      "execution_count": null,
      "outputs": []
    },
    {
      "cell_type": "code",
      "metadata": {
        "id": "iU2v4Kjbuqtp"
      },
      "source": [
        ""
      ],
      "execution_count": null,
      "outputs": []
    },
    {
      "cell_type": "code",
      "metadata": {
        "id": "okxeckGTuqqs"
      },
      "source": [
        ""
      ],
      "execution_count": null,
      "outputs": []
    },
    {
      "cell_type": "markdown",
      "metadata": {
        "id": "RQZhcqoYqzcE"
      },
      "source": [
        "# Feature Engineering : Recursive Feature Elimination (RFE)"
      ]
    },
    {
      "cell_type": "code",
      "metadata": {
        "id": "lMrpWAlQqw3y"
      },
      "source": [
        ""
      ],
      "execution_count": 5,
      "outputs": []
    },
    {
      "cell_type": "code",
      "metadata": {
        "id": "A8C7f0o0rBwN"
      },
      "source": [
        ""
      ],
      "execution_count": 5,
      "outputs": []
    },
    {
      "cell_type": "code",
      "metadata": {
        "id": "TyAsRhmcrByw"
      },
      "source": [
        ""
      ],
      "execution_count": 5,
      "outputs": []
    },
    {
      "cell_type": "code",
      "metadata": {
        "id": "pA3YlzVsrB1X"
      },
      "source": [
        ""
      ],
      "execution_count": null,
      "outputs": []
    },
    {
      "cell_type": "markdown",
      "metadata": {
        "id": "mbnAy-1RrCcb"
      },
      "source": [
        "# Test Model 1: Multilinear Regression"
      ]
    },
    {
      "cell_type": "code",
      "metadata": {
        "id": "DXRDrd2LrWns"
      },
      "source": [
        ""
      ],
      "execution_count": 5,
      "outputs": []
    },
    {
      "cell_type": "code",
      "metadata": {
        "id": "hCg7MAHArW5y"
      },
      "source": [
        ""
      ],
      "execution_count": 5,
      "outputs": []
    },
    {
      "cell_type": "code",
      "metadata": {
        "id": "91owx8lXrW8h"
      },
      "source": [
        ""
      ],
      "execution_count": 5,
      "outputs": []
    },
    {
      "cell_type": "code",
      "metadata": {
        "id": "pQ4JyhZ9rXCd"
      },
      "source": [
        ""
      ],
      "execution_count": null,
      "outputs": []
    },
    {
      "cell_type": "markdown",
      "metadata": {
        "id": "8qfMoCp-rXzh"
      },
      "source": [
        "# Test Model 2: Radom Forest Regressor"
      ]
    },
    {
      "cell_type": "code",
      "metadata": {
        "id": "XhAWdZQdrb-2"
      },
      "source": [
        ""
      ],
      "execution_count": 5,
      "outputs": []
    },
    {
      "cell_type": "code",
      "metadata": {
        "id": "xBw4_y6yrcQC"
      },
      "source": [
        ""
      ],
      "execution_count": 5,
      "outputs": []
    },
    {
      "cell_type": "code",
      "metadata": {
        "id": "mmltGEDNrcSk"
      },
      "source": [
        ""
      ],
      "execution_count": null,
      "outputs": []
    },
    {
      "cell_type": "markdown",
      "metadata": {
        "id": "PONHLQ_Frc7z"
      },
      "source": [
        "# Compare 2 Models and Choose the Best Final Model"
      ]
    },
    {
      "cell_type": "code",
      "metadata": {
        "id": "zHgKI3Yerkoj"
      },
      "source": [
        ""
      ],
      "execution_count": 5,
      "outputs": []
    },
    {
      "cell_type": "code",
      "metadata": {
        "id": "snML9DwSrlOw"
      },
      "source": [
        ""
      ],
      "execution_count": 5,
      "outputs": []
    },
    {
      "cell_type": "code",
      "metadata": {
        "id": "_SDsVuYgrlRE"
      },
      "source": [
        ""
      ],
      "execution_count": null,
      "outputs": []
    }
  ]
}